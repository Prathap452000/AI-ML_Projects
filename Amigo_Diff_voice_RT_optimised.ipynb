{
 "cells": [
  {
   "cell_type": "code",
   "execution_count": 3,
   "id": "e565944f-b2a1-447f-af34-409a58f1e50d",
   "metadata": {},
   "outputs": [],
   "source": [
    "import warnings\n",
    "import pygame\n",
    "from gtts import gTTS\n",
    "import os\n",
    "import torch\n",
    "import datetime\n",
    "import requests\n",
    "import speech_recognition as sr\n",
    "import tempfile\n",
    "\n",
    "# Suppress FutureWarning for tokenization spaces\n",
    "warnings.filterwarnings(\"ignore\", category=FutureWarning, module=\"transformers.tokenization_utils_base\")"
   ]
  },
  {
   "cell_type": "code",
   "execution_count": 14,
   "id": "7e086de9-43da-4728-a6c9-d530eb7fa835",
   "metadata": {},
   "outputs": [],
   "source": [
    "# Load the model and tokenizer globally\n",
    "model_name = \"facebook/blenderbot-400M-distill\"\n",
    "tokenizer = BlenderbotTokenizer.from_pretrained(model_name)\n",
    "model = BlenderbotForConditionalGeneration.from_pretrained(model_name)"
   ]
  },
  {
   "cell_type": "code",
   "execution_count": 23,
   "id": "05b4113d-64f6-4f5c-9345-ec43dfc31c5a",
   "metadata": {},
   "outputs": [],
   "source": [
    "# Select the microphone\n",
    "def select_microphone(index):\n",
    "    try:\n",
    "        mic = sr.Microphone(device_index=index)\n",
    "        return mic\n",
    "    except Exception as e:\n",
    "        print(f\"Error selecting microphone: {e}\")\n",
    "        return None\n"
   ]
  },
  {
   "cell_type": "code",
   "execution_count": 24,
   "id": "797a27d8-c98f-48d4-8c4b-cb8d838918c9",
   "metadata": {},
   "outputs": [],
   "source": [
    "# Initialize the pygame mixer for TTS\n",
    "pygame.mixer.init()\n",
    "\n",
    "# OpenWeatherMap API key\n",
    "WEATHER_API_KEY = '6375f15162952d140f9908db1d7ffb99'  # Your API key\n"
   ]
  },
  {
   "cell_type": "code",
   "execution_count": 25,
   "id": "8d3274d2-08ef-456e-8515-1891b2ba0d2d",
   "metadata": {},
   "outputs": [],
   "source": [
    "# Capture speech quickly\n",
    "def capture_speech(mic):\n",
    "    recognizer = sr.Recognizer()\n",
    "    recognizer.energy_threshold = 300  # Faster detection\n",
    "\n",
    "    with mic as source:\n",
    "        recognizer.adjust_for_ambient_noise(source, duration=0.3)\n",
    "        try:\n",
    "            audio = recognizer.listen(source, timeout=2, phrase_time_limit=3)\n",
    "            return recognizer.recognize_google(audio).lower()\n",
    "        except (sr.WaitTimeoutError, sr.UnknownValueError, sr.RequestError):\n",
    "            return None\n"
   ]
  },
  {
   "cell_type": "code",
   "execution_count": 26,
   "id": "ccac757e-8d28-414f-993f-687e0f000264",
   "metadata": {},
   "outputs": [],
   "source": [
    "# Listen for wake word\n",
    "def listen_for_wake_word(mic):\n",
    "    recognizer = sr.Recognizer()\n",
    "\n",
    "    while True:\n",
    "        with mic as source:\n",
    "            recognizer.adjust_for_ambient_noise(source, duration=0.2)  # Increased duration for better tuning\n",
    "            print(\"Waiting for wake word...\")\n",
    "            audio = recognizer.listen(source)\n",
    "\n",
    "        try:\n",
    "            user_input = recognizer.recognize_google(audio).lower()\n",
    "            if \"hey amigo\" in user_input:\n",
    "                print(\"Wake word detected!\")  # Only print once\n",
    "                return True  # Break the loop on wake word detection\n",
    "        except sr.UnknownValueError:\n",
    "            continue\n",
    "        except sr.RequestError:\n",
    "            continue\n"
   ]
  },
  {
   "cell_type": "code",
   "execution_count": 27,
   "id": "275eef47-61dd-4aad-bde3-3a3c3f2c0748",
   "metadata": {},
   "outputs": [],
   "source": [
    "# Handle time, date, location, and weather queries\n",
    "def handle_time_date_queries(user_input):\n",
    "    if \"time\" in user_input:\n",
    "        current_time = datetime.datetime.now().strftime(\"%I:%M %p\")\n",
    "        return f\"The current time is {current_time}.\"\n",
    "    elif \"date\" in user_input or \"today\" in user_input:\n",
    "        current_date = datetime.datetime.now().strftime(\"%A, %B %d, %Y\")\n",
    "        return f\"Today is {current_date}.\"\n",
    "    elif \"location\" in user_input:\n",
    "        return get_current_location()\n",
    "    elif \"weather\" in user_input:\n",
    "        return get_current_weather()\n",
    "    else:\n",
    "        return None\n",
    "\n",
    "# Get current location\n",
    "def get_current_location():\n",
    "    try:\n",
    "        response = requests.get(\"http://ip-api.com/json\")\n",
    "        data = response.json()\n",
    "        if data['status'] == 'success':\n",
    "            city = data.get('city', 'unknown city')\n",
    "            region = data.get('regionName', 'unknown region')\n",
    "            country = data.get('country', 'unknown country')\n",
    "            return f\"You are in {city}, {region}, {country}.\"\n",
    "        else:\n",
    "            return \"I couldn't determine your location.\"\n",
    "    except Exception:\n",
    "        return \"Error fetching location.\"\n",
    "\n",
    "# Get current weather\n",
    "def get_current_weather():\n",
    "    location = get_current_location()\n",
    "    if \"in\" in location:\n",
    "        city = location.split(\"in \")[1].split(\",\")[0]\n",
    "        try:\n",
    "            weather_url = f\"http://api.openweathermap.org/data/2.5/weather?q={city}&appid={WEATHER_API_KEY}&units=metric\"\n",
    "            response = requests.get(weather_url)\n",
    "            data = response.json()\n",
    "            if data['cod'] == 200:\n",
    "                weather_description = data['weather'][0]['description']\n",
    "                temperature = data['main']['temp']\n",
    "                return f\"The current weather in {city} is {weather_description} with a temperature of {temperature}°C.\"\n",
    "            else:\n",
    "                return \"Sorry, I couldn't get the weather information.\"\n",
    "        except Exception:\n",
    "            return \"Error fetching weather.\"\n",
    "    else:\n",
    "        return \"I couldn't determine the location for weather.\"\n"
   ]
  },
  {
   "cell_type": "code",
   "execution_count": 28,
   "id": "11ac463e-64ff-4b28-ac09-4a5d9ebe7959",
   "metadata": {},
   "outputs": [],
   "source": [
    "# Generate response\n",
    "def generate_response(user_input):\n",
    "    if \"what is your name\" in user_input:\n",
    "        return \"I am Amigo, your all-weather conversational companion.\"\n",
    "\n",
    "    time_date_response = handle_time_date_queries(user_input)\n",
    "    if time_date_response:\n",
    "        return time_date_response\n",
    "\n",
    "    if any(keyword in user_input for keyword in [\"who is\", \"when is\", \"where is\", \"current\", \"today\", \"news\"]):\n",
    "        return \"Thank you for your query, but that's out of my scope of training.\"\n",
    "\n",
    "    inputs = tokenizer(user_input, return_tensors=\"pt\", truncation=True, max_length=50)\n",
    "    reply_ids = model.generate(inputs['input_ids'], max_length=50, pad_token_id=tokenizer.eos_token_id)\n",
    "    return tokenizer.decode(reply_ids[0], skip_special_tokens=True, clean_up_tokenization_spaces=True)\n"
   ]
  },
  {
   "cell_type": "code",
   "execution_count": 29,
   "id": "870d40af-73bc-465d-ad40-c1c861045456",
   "metadata": {},
   "outputs": [],
   "source": [
    "# Speak response using gTTS and pygame\n",
    "def speak_response(text):\n",
    "    tts = gTTS(text=text, lang='en')\n",
    "    with tempfile.NamedTemporaryFile(delete=False, suffix=\".mp3\") as temp_audio_file:\n",
    "        temp_file_path = temp_audio_file.name\n",
    "        tts.save(temp_file_path)\n",
    "\n",
    "    # Play the audio using pygame\n",
    "    pygame.mixer.music.load(temp_file_path)\n",
    "    pygame.mixer.music.play()\n",
    "\n",
    "    # Wait until the audio is done playing\n",
    "    while pygame.mixer.music.get_busy():\n",
    "        pygame.time.Clock().tick(10)  # Adding a delay to avoid busy-waiting\n",
    "\n",
    "    # Clean up: stop music and remove the file only after playback is done\n",
    "    pygame.mixer.music.stop()  # Ensure music is stopped before quitting\n",
    "    if os.path.exists(temp_file_path):\n",
    "        os.remove(temp_file_path)\n"
   ]
  },
  {
   "cell_type": "code",
   "execution_count": 30,
   "id": "e2895507-49fa-40e3-95f9-ad066eefdaf3",
   "metadata": {},
   "outputs": [],
   "source": [
    "# Main function\n",
    "def amigo_conversational_companion():\n",
    "    mic_index = 2  # Automatically set to microphone index 2\n",
    "\n",
    "    # Select the microphone\n",
    "    mic = select_microphone(mic_index)\n",
    "    if mic is None:\n",
    "        print(\"Failed to select microphone. Exiting...\")\n",
    "        return\n",
    "\n",
    "    # Waiting for the wake word\n",
    "    if listen_for_wake_word(mic):\n",
    "        print(\"Wake word detected! Starting conversation.\")\n",
    "        greeting = \"Hi, Hello, Namaskara, how can I assist you today?\"\n",
    "        print(f\"Amigo: {greeting}\")\n",
    "\n",
    "        # Speak greeting\n",
    "        speak_response(greeting)\n",
    "\n",
    "        # Listening for user queries\n",
    "        while True:\n",
    "            user_input = capture_speech(mic)\n",
    "            \n",
    "            if user_input:\n",
    "                print(f\"You: {user_input}\")  # Display user query\n",
    "                bot_response = generate_response(user_input)\n",
    "                print(f\"Amigo: {bot_response}\")  # Display Amigo response\n",
    "                speak_response(bot_response)  # Speak Amigo response\n",
    "\n",
    "            if \"exit\" in user_input or \"goodbye\" in user_input:\n",
    "                farewell = \"Goodbye, have a nice day!\"\n",
    "                print(f\"Amigo: {farewell}\")\n",
    "                speak_response(farewell)\n",
    "                break\n"
   ]
  },
  {
   "cell_type": "code",
   "execution_count": 31,
   "id": "7ed1722e-6529-4673-bb06-cff7d9e0a4a6",
   "metadata": {},
   "outputs": [
    {
     "name": "stdout",
     "output_type": "stream",
     "text": [
      "Waiting for wake word...\n",
      "Wake word detected!\n",
      "Wake word detected! Starting conversation.\n",
      "Amigo: Hi, Hello, Namaskara, how can I assist you today?\n"
     ]
    },
    {
     "ename": "PermissionError",
     "evalue": "[WinError 32] The process cannot access the file because it is being used by another process: 'C:\\\\Users\\\\prathap\\\\AppData\\\\Local\\\\Temp\\\\tmp1ujv8ql1.mp3'",
     "output_type": "error",
     "traceback": [
      "\u001b[1;31m---------------------------------------------------------------------------\u001b[0m",
      "\u001b[1;31mPermissionError\u001b[0m                           Traceback (most recent call last)",
      "Cell \u001b[1;32mIn[31], line 2\u001b[0m\n\u001b[0;32m      1\u001b[0m \u001b[38;5;28;01mif\u001b[39;00m \u001b[38;5;18m__name__\u001b[39m \u001b[38;5;241m==\u001b[39m \u001b[38;5;124m\"\u001b[39m\u001b[38;5;124m__main__\u001b[39m\u001b[38;5;124m\"\u001b[39m:\n\u001b[1;32m----> 2\u001b[0m     \u001b[43mamigo_conversational_companion\u001b[49m\u001b[43m(\u001b[49m\u001b[43m)\u001b[49m\n",
      "Cell \u001b[1;32mIn[30], line 18\u001b[0m, in \u001b[0;36mamigo_conversational_companion\u001b[1;34m()\u001b[0m\n\u001b[0;32m     15\u001b[0m \u001b[38;5;28mprint\u001b[39m(\u001b[38;5;124mf\u001b[39m\u001b[38;5;124m\"\u001b[39m\u001b[38;5;124mAmigo: \u001b[39m\u001b[38;5;132;01m{\u001b[39;00mgreeting\u001b[38;5;132;01m}\u001b[39;00m\u001b[38;5;124m\"\u001b[39m)\n\u001b[0;32m     17\u001b[0m \u001b[38;5;66;03m# Speak greeting\u001b[39;00m\n\u001b[1;32m---> 18\u001b[0m \u001b[43mspeak_response\u001b[49m\u001b[43m(\u001b[49m\u001b[43mgreeting\u001b[49m\u001b[43m)\u001b[49m\n\u001b[0;32m     20\u001b[0m \u001b[38;5;66;03m# Listening for user queries\u001b[39;00m\n\u001b[0;32m     21\u001b[0m \u001b[38;5;28;01mwhile\u001b[39;00m \u001b[38;5;28;01mTrue\u001b[39;00m:\n",
      "Cell \u001b[1;32mIn[29], line 19\u001b[0m, in \u001b[0;36mspeak_response\u001b[1;34m(text)\u001b[0m\n\u001b[0;32m     17\u001b[0m pygame\u001b[38;5;241m.\u001b[39mmixer\u001b[38;5;241m.\u001b[39mmusic\u001b[38;5;241m.\u001b[39mstop()  \u001b[38;5;66;03m# Ensure music is stopped before quitting\u001b[39;00m\n\u001b[0;32m     18\u001b[0m \u001b[38;5;28;01mif\u001b[39;00m os\u001b[38;5;241m.\u001b[39mpath\u001b[38;5;241m.\u001b[39mexists(temp_file_path):\n\u001b[1;32m---> 19\u001b[0m     \u001b[43mos\u001b[49m\u001b[38;5;241;43m.\u001b[39;49m\u001b[43mremove\u001b[49m\u001b[43m(\u001b[49m\u001b[43mtemp_file_path\u001b[49m\u001b[43m)\u001b[49m\n",
      "\u001b[1;31mPermissionError\u001b[0m: [WinError 32] The process cannot access the file because it is being used by another process: 'C:\\\\Users\\\\prathap\\\\AppData\\\\Local\\\\Temp\\\\tmp1ujv8ql1.mp3'"
     ]
    }
   ],
   "source": [
    "if __name__ == \"__main__\":\n",
    "    amigo_conversational_companion()"
   ]
  },
  {
   "cell_type": "code",
   "execution_count": null,
   "id": "786aa18a-2417-4b69-ba91-691922f1c556",
   "metadata": {},
   "outputs": [],
   "source": []
  },
  {
   "cell_type": "code",
   "execution_count": null,
   "id": "597c7728-b908-42a1-ab6d-7ef75e26361c",
   "metadata": {},
   "outputs": [],
   "source": []
  },
  {
   "cell_type": "code",
   "execution_count": null,
   "id": "0f8ad342-d7f7-489e-bae8-af7d572f9eff",
   "metadata": {},
   "outputs": [],
   "source": []
  }
 ],
 "metadata": {
  "kernelspec": {
   "display_name": "Python 3 (ipykernel)",
   "language": "python",
   "name": "python3"
  },
  "language_info": {
   "codemirror_mode": {
    "name": "ipython",
    "version": 3
   },
   "file_extension": ".py",
   "mimetype": "text/x-python",
   "name": "python",
   "nbconvert_exporter": "python",
   "pygments_lexer": "ipython3",
   "version": "3.8.8"
  }
 },
 "nbformat": 4,
 "nbformat_minor": 5
}
