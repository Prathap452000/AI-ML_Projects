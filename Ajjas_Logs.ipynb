{
 "cells": [
  {
   "cell_type": "code",
   "execution_count": 1,
   "metadata": {},
   "outputs": [
    {
     "name": "stdout",
     "output_type": "stream",
     "text": [
      "Collecting gspread\n",
      "  Downloading gspread-6.1.4-py3-none-any.whl.metadata (11 kB)\n",
      "Collecting oauth2client\n",
      "  Downloading oauth2client-4.1.3-py2.py3-none-any.whl.metadata (1.2 kB)\n",
      "Collecting google-auth>=1.12.0 (from gspread)\n",
      "  Downloading google_auth-2.37.0-py2.py3-none-any.whl.metadata (4.8 kB)\n",
      "Collecting google-auth-oauthlib>=0.4.1 (from gspread)\n",
      "  Downloading google_auth_oauthlib-1.2.1-py2.py3-none-any.whl.metadata (2.7 kB)\n",
      "Collecting httplib2>=0.9.1 (from oauth2client)\n",
      "  Downloading httplib2-0.22.0-py3-none-any.whl.metadata (2.6 kB)\n",
      "Collecting pyasn1>=0.1.7 (from oauth2client)\n",
      "  Downloading pyasn1-0.6.1-py3-none-any.whl.metadata (8.4 kB)\n",
      "Collecting pyasn1-modules>=0.0.5 (from oauth2client)\n",
      "  Downloading pyasn1_modules-0.4.1-py3-none-any.whl.metadata (3.5 kB)\n",
      "Collecting rsa>=3.1.4 (from oauth2client)\n",
      "  Downloading rsa-4.9-py3-none-any.whl.metadata (4.2 kB)\n",
      "Requirement already satisfied: six>=1.6.1 in c:\\users\\prathap\\appdata\\roaming\\python\\python311\\site-packages (from oauth2client) (1.17.0)\n",
      "Requirement already satisfied: cachetools<6.0,>=2.0.0 in c:\\users\\prathap\\appdata\\local\\programs\\python\\python311\\lib\\site-packages (from google-auth>=1.12.0->gspread) (5.5.0)\n",
      "Collecting requests-oauthlib>=0.7.0 (from google-auth-oauthlib>=0.4.1->gspread)\n",
      "  Downloading requests_oauthlib-2.0.0-py2.py3-none-any.whl.metadata (11 kB)\n",
      "Requirement already satisfied: pyparsing!=3.0.0,!=3.0.1,!=3.0.2,!=3.0.3,<4,>=2.4.2 in c:\\users\\prathap\\appdata\\local\\programs\\python\\python311\\lib\\site-packages (from httplib2>=0.9.1->oauth2client) (3.2.0)\n",
      "Collecting oauthlib>=3.0.0 (from requests-oauthlib>=0.7.0->google-auth-oauthlib>=0.4.1->gspread)\n",
      "  Downloading oauthlib-3.2.2-py3-none-any.whl.metadata (7.5 kB)\n",
      "Requirement already satisfied: requests>=2.0.0 in c:\\users\\prathap\\appdata\\local\\programs\\python\\python311\\lib\\site-packages (from requests-oauthlib>=0.7.0->google-auth-oauthlib>=0.4.1->gspread) (2.32.3)\n",
      "Requirement already satisfied: charset-normalizer<4,>=2 in c:\\users\\prathap\\appdata\\local\\programs\\python\\python311\\lib\\site-packages (from requests>=2.0.0->requests-oauthlib>=0.7.0->google-auth-oauthlib>=0.4.1->gspread) (3.4.0)\n",
      "Requirement already satisfied: idna<4,>=2.5 in c:\\users\\prathap\\appdata\\local\\programs\\python\\python311\\lib\\site-packages (from requests>=2.0.0->requests-oauthlib>=0.7.0->google-auth-oauthlib>=0.4.1->gspread) (3.10)\n",
      "Requirement already satisfied: urllib3<3,>=1.21.1 in c:\\users\\prathap\\appdata\\local\\programs\\python\\python311\\lib\\site-packages (from requests>=2.0.0->requests-oauthlib>=0.7.0->google-auth-oauthlib>=0.4.1->gspread) (2.2.3)\n",
      "Requirement already satisfied: certifi>=2017.4.17 in c:\\users\\prathap\\appdata\\local\\programs\\python\\python311\\lib\\site-packages (from requests>=2.0.0->requests-oauthlib>=0.7.0->google-auth-oauthlib>=0.4.1->gspread) (2024.8.30)\n",
      "Downloading gspread-6.1.4-py3-none-any.whl (57 kB)\n",
      "Downloading oauth2client-4.1.3-py2.py3-none-any.whl (98 kB)\n",
      "Downloading google_auth-2.37.0-py2.py3-none-any.whl (209 kB)\n",
      "Downloading google_auth_oauthlib-1.2.1-py2.py3-none-any.whl (24 kB)\n",
      "Downloading httplib2-0.22.0-py3-none-any.whl (96 kB)\n",
      "Downloading pyasn1-0.6.1-py3-none-any.whl (83 kB)\n",
      "Downloading pyasn1_modules-0.4.1-py3-none-any.whl (181 kB)\n",
      "Downloading rsa-4.9-py3-none-any.whl (34 kB)\n",
      "Downloading requests_oauthlib-2.0.0-py2.py3-none-any.whl (24 kB)\n",
      "Downloading oauthlib-3.2.2-py3-none-any.whl (151 kB)\n",
      "Installing collected packages: pyasn1, oauthlib, httplib2, rsa, requests-oauthlib, pyasn1-modules, oauth2client, google-auth, google-auth-oauthlib, gspread\n",
      "Successfully installed google-auth-2.37.0 google-auth-oauthlib-1.2.1 gspread-6.1.4 httplib2-0.22.0 oauth2client-4.1.3 oauthlib-3.2.2 pyasn1-0.6.1 pyasn1-modules-0.4.1 requests-oauthlib-2.0.0 rsa-4.9\n",
      "Note: you may need to restart the kernel to use updated packages.\n"
     ]
    }
   ],
   "source": [
    "%pip install gspread oauth2client"
   ]
  },
  {
   "cell_type": "code",
   "execution_count": null,
   "metadata": {},
   "outputs": [],
   "source": [
    "import pandas as pd\n",
    "from datetime import datetime\n",
    "import io"
   ]
  },
  {
   "cell_type": "code",
   "execution_count": 1,
   "metadata": {},
   "outputs": [
    {
     "name": "stdout",
     "output_type": "stream",
     "text": [
      "The processed data has been saved to Ajjas_logs.csv\n"
     ]
    }
   ],
   "source": [
    "import json\n",
    "import pandas as pd\n",
    "import numpy as np\n",
    "\n",
    "# Path to the log file\n",
    "file_path = \"ajjas_logs.txt\"  # Replace with your file path\n",
    "\n",
    "# Read the log file\n",
    "with open(file_path, \"r\") as file:\n",
    "    ajjas_logs = file.readlines()\n",
    "\n",
    "# Reverse the log entries to process from earliest to latest\n",
    "log_entries = ajjas_logs[::-1]  # Reverse the order to process chronologically\n",
    "\n",
    "# Initialize lists for columns\n",
    "columns = [\"timestamp\", \"a\", \"vid\", \"imei\", \"lat\", \"lng\", \"spd\", \"ts\", \"course\", \"ignition\", \"batVolt\", \"extVolt\", \"immobilizeStatus\", \"t\"]\n",
    "data = {col: [] for col in columns}\n",
    "\n",
    "# Helper variables\n",
    "current_timestamp = None\n",
    "\n",
    "# Process each log entry\n",
    "for entry in log_entries:\n",
    "    try:\n",
    "        # Check if the line is a timestamp\n",
    "        if \":\" in entry and len(entry.split(\":\")) == 3:\n",
    "            # Extract the timestamp\n",
    "            current_timestamp = entry.strip()\n",
    "        else:\n",
    "            # Parse the log line as JSON\n",
    "            log_data = json.loads(entry.strip())\n",
    "            \n",
    "            # Extract fields\n",
    "            a = log_data.get(\"a\", np.nan)\n",
    "            d = log_data.get(\"d\", {})\n",
    "            \n",
    "            # Append data to the respective lists\n",
    "            data[\"timestamp\"].append(current_timestamp)\n",
    "            data[\"a\"].append(a)\n",
    "            data[\"vid\"].append(d.get(\"vid\", np.nan))\n",
    "            data[\"imei\"].append(d.get(\"imei\", np.nan))\n",
    "            data[\"lat\"].append(d.get(\"lat\", np.nan))\n",
    "            data[\"lng\"].append(d.get(\"lng\", np.nan))\n",
    "            data[\"spd\"].append(d.get(\"spd\", np.nan))  # Speed value\n",
    "            data[\"ts\"].append(d.get(\"ts\", np.nan))\n",
    "            data[\"course\"].append(d.get(\"course\", np.nan))  # Course value\n",
    "            data[\"ignition\"].append(d.get(\"ignition\", np.nan))  # Ignition status\n",
    "            data[\"batVolt\"].append(d.get(\"batVolt\", np.nan))  # Battery Voltage\n",
    "            data[\"extVolt\"].append(d.get(\"extVolt\", np.nan))  # External Voltage\n",
    "            data[\"immobilizeStatus\"].append(False)  # Immobilize status (defaulted to False)\n",
    "            data[\"t\"].append(d.get(\"t\", np.nan))  # 't' value\n",
    "    except (json.JSONDecodeError, KeyError) as e:\n",
    "        # Add NaN for missing values if any error occurs\n",
    "        for col in columns:\n",
    "            if col not in [\"timestamp\", \"immobilizeStatus\"]:  # Skip timestamp and immobilizeStatus\n",
    "                data[col].append(np.nan)\n",
    "        data[\"timestamp\"].append(current_timestamp)\n",
    "        data[\"immobilizeStatus\"].append(False)\n",
    "\n",
    "# Create the DataFrame\n",
    "df_ajjas_logs = pd.DataFrame(data)\n",
    "\n",
    "# Save the DataFrame to a CSV file\n",
    "output_file = \"Ajjas_logs.csv\"\n",
    "df_ajjas_logs.to_csv(output_file, index=False)\n",
    "\n",
    "# Notify the user where the file is saved\n",
    "print(f\"The processed data has been saved to {output_file}\")\n"
   ]
  },
  {
   "cell_type": "code",
   "execution_count": null,
   "metadata": {},
   "outputs": [],
   "source": []
  }
 ],
 "metadata": {
  "kernelspec": {
   "display_name": "Python 3",
   "language": "python",
   "name": "python3"
  },
  "language_info": {
   "codemirror_mode": {
    "name": "ipython",
    "version": 3
   },
   "file_extension": ".py",
   "mimetype": "text/x-python",
   "name": "python",
   "nbconvert_exporter": "python",
   "pygments_lexer": "ipython3",
   "version": "3.11.9"
  }
 },
 "nbformat": 4,
 "nbformat_minor": 2
}
