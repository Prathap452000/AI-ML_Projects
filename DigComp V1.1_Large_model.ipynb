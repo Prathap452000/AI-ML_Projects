{
 "cells": [
  {
   "cell_type": "code",
   "execution_count": 4,
   "id": "59c60e56-4aaf-432d-bd3d-fafc2b5a8824",
   "metadata": {},
   "outputs": [
    {
     "name": "stdout",
     "output_type": "stream",
     "text": [
      "pygame 2.6.0 (SDL 2.28.4, Python 3.8.8)\n",
      "Hello from the pygame community. https://www.pygame.org/contribute.html\n"
     ]
    }
   ],
   "source": [
    "import os\n",
    "import pygame\n",
    "from gtts import gTTS\n",
    "from time import sleep\n"
   ]
  },
  {
   "cell_type": "code",
   "execution_count": 5,
   "id": "003dc2fb-1df0-4030-8d42-245181e1c6e3",
   "metadata": {},
   "outputs": [],
   "source": [
    "def speak_response(response_text):\n",
    "    tts = gTTS(text=response_text, lang='en')\n",
    "    audio_file = \"response.mp3\"\n",
    "    tts.save(audio_file)\n",
    "\n",
    "    pygame.mixer.init()\n",
    "    pygame.mixer.music.load(audio_file)\n",
    "    pygame.mixer.music.play()\n",
    "\n",
    "    while pygame.mixer.music.get_busy():\n",
    "        sleep(0.1)\n",
    "\n",
    "    pygame.mixer.music.stop()\n",
    "    pygame.mixer.quit()\n",
    "\n",
    "    sleep(0.5)\n",
    "\n",
    "    if os.path.exists(audio_file):\n",
    "        for _ in range(3):\n",
    "            try:\n",
    "                os.remove(audio_file)\n",
    "                break\n",
    "            except PermissionError:\n",
    "                print(\"Could not delete file, retrying...\")\n",
    "                sleep(1)"
   ]
  },
  {
   "cell_type": "code",
   "execution_count": 6,
   "id": "983ec678-7ed9-4a17-bb62-afa014665c91",
   "metadata": {},
   "outputs": [],
   "source": [
    "import speech_recognition as sr\n",
    "\n",
    "def capture_speech(mic_index):\n",
    "    recognizer = sr.Recognizer()\n",
    "    mic = sr.Microphone(device_index=mic_index)\n",
    "    \n",
    "    with mic as source:\n",
    "        print(\"Listening...\")\n",
    "        recognizer.adjust_for_ambient_noise(source)\n",
    "        audio = recognizer.listen(source)\n",
    "    \n",
    "    try:\n",
    "        print(\"Recognizing speech...\")\n",
    "        user_input = recognizer.recognize_google(audio)\n",
    "        print(f\"User said: {user_input}\")\n",
    "        return user_input\n",
    "    except sr.UnknownValueError:\n",
    "        print(\"Sorry, I could not understand the audio.\")\n",
    "        return None\n",
    "    except sr.RequestError as e:\n",
    "        print(f\"Error with the Google Speech Recognition service; {e}\")\n",
    "        return None\n"
   ]
  },
  {
   "cell_type": "code",
   "execution_count": 7,
   "id": "27586665-ad5a-41fd-a8c1-b9716d76818a",
   "metadata": {},
   "outputs": [],
   "source": [
    "def list_microphones():\n",
    "    mic_list = sr.Microphone.list_microphone_names()\n",
    "    print(\"Available microphones:\")\n",
    "    for i, mic_name in enumerate(mic_list):\n",
    "        print(f\"Index {i}: {mic_name}\")\n",
    "    return mic_list\n"
   ]
  },
  {
   "cell_type": "code",
   "execution_count": 8,
   "id": "a8efc217-bc64-4825-ba28-f0384951c279",
   "metadata": {},
   "outputs": [],
   "source": [
    "def select_microphone():\n",
    "    mic_list = list_microphones()\n",
    "    index = 2  # Automatically selecting index 2 microphone\n",
    "    print(f\"Selected microphone: {mic_list[index]}\")\n",
    "    return index\n"
   ]
  },
  {
   "cell_type": "code",
   "execution_count": 9,
   "id": "142a5642-8fca-4bc6-aba3-9090a9b35f78",
   "metadata": {},
   "outputs": [],
   "source": [
    "from transformers import BlenderbotTokenizer, BlenderbotForConditionalGeneration\n",
    "\n",
    "# Track conversational context\n",
    "conversation_history = []\n",
    "\n",
    "def generate_response(user_input):\n",
    "    model_name = \"facebook/blenderbot-3B\"  # Switched to a larger, more capable model\n",
    "    tokenizer = BlenderbotTokenizer.from_pretrained(model_name)\n",
    "    model = BlenderbotForConditionalGeneration.from_pretrained(model_name)\n",
    "    \n",
    "    # Add user input to conversation history\n",
    "    conversation_history.append(user_input)\n",
    "    \n",
    "    # Join conversation history to provide context\n",
    "    conversation_context = \" \".join(conversation_history[-5:])  # Keeping the last 5 exchanges\n",
    "    \n",
    "    # Adjust parameters for better logic and factual accuracy\n",
    "    inputs = tokenizer(conversation_context, return_tensors=\"pt\", truncation=True, max_length=128)\n",
    "    reply_ids = model.generate(\n",
    "        inputs['input_ids'],\n",
    "        max_length=512, \n",
    "        pad_token_id=tokenizer.eos_token_id,\n",
    "        temperature=0.8,  # Lower temperature for more logical responses\n",
    "        num_beams=5,  # Beam search for more precise responses\n",
    "        no_repeat_ngram_size=2  # Avoid repetition\n",
    "    )\n",
    "    \n",
    "    bot_response = tokenizer.decode(reply_ids[0], skip_special_tokens=True)\n",
    "    \n",
    "    # Add bot response to the conversation history\n",
    "    conversation_history.append(bot_response)\n",
    "    \n",
    "    return bot_response\n"
   ]
  },
  {
   "cell_type": "code",
   "execution_count": 10,
   "id": "5058362f-76e7-4e9b-a05c-8b45c7f87dfa",
   "metadata": {},
   "outputs": [],
   "source": [
    "def amigo_conversational_companion():\n",
    "    # Step 1: Greeting\n",
    "    greeting = \"Hello, I am Amigo. How can I help you today?\"\n",
    "    print(f\"Amigo: {greeting}\")\n",
    "    speak_response(greeting)\n",
    "    \n",
    "    # Step 2: Select microphone\n",
    "    mic_index = select_microphone()\n",
    "    \n",
    "    while True:\n",
    "        # Step 3: Capture user speech\n",
    "        user_input = capture_speech(mic_index)\n",
    "        \n",
    "        if user_input is None:\n",
    "            continue\n",
    "        \n",
    "        # Step 4: Generate bot response with context and factual accuracy\n",
    "        bot_response = generate_response(user_input)\n",
    "        print(f\"Amigo: {bot_response}\")\n",
    "        \n",
    "        # Step 5: Speak the response\n",
    "        speak_response(bot_response)\n"
   ]
  },
  {
   "cell_type": "code",
   "execution_count": null,
   "id": "14f6c612-bb58-4b73-bfd3-64fe4bf849b9",
   "metadata": {},
   "outputs": [
    {
     "name": "stdout",
     "output_type": "stream",
     "text": [
      "Amigo: Hello, I am Amigo. How can I help you today?\n",
      "Available microphones:\n",
      "Index 0: Microsoft Sound Mapper - Input\n",
      "Index 1: Stereo Mix (Realtek(R) Audio)\n",
      "Index 2: Microphone (Realtek(R) Audio)\n",
      "Index 3: Microsoft Sound Mapper - Output\n",
      "Index 4: Speaker / Headphone (Realtek(R)\n",
      "Index 5: Primary Sound Capture Driver\n",
      "Index 6: Stereo Mix (Realtek(R) Audio)\n",
      "Index 7: Microphone (Realtek(R) Audio)\n",
      "Index 8: Primary Sound Driver\n",
      "Index 9: Speaker / Headphone (Realtek(R) Audio)\n",
      "Index 10: Speaker / Headphone (Realtek(R) Audio)\n",
      "Index 11: Stereo Mix (Realtek(R) Audio)\n",
      "Index 12: Microphone (Realtek(R) Audio)\n",
      "Index 13: Microphone (Realtek HD Audio Mic input)\n",
      "Index 14: Stereo Mix (Realtek HD Audio Stereo input)\n",
      "Index 15: Speakers (Realtek HD Audio output)\n",
      "Index 16: Headset (@System32\\drivers\\bthhfenum.sys,#2;%1 Hands-Free AG Audio%0\n",
      ";(Airdopes Unity ANC))\n",
      "Index 17: Headset (@System32\\drivers\\bthhfenum.sys,#2;%1 Hands-Free AG Audio%0\n",
      ";(Airdopes Unity ANC))\n",
      "Index 18: Headphones ()\n",
      "Index 19: Headphones ()\n",
      "Index 20: Headphones ()\n",
      "Index 21: Headset (@System32\\drivers\\bthhfenum.sys,#2;%1 Hands-Free AG Audio%0\n",
      ";(realme Buds Q2s))\n",
      "Index 22: Headset (@System32\\drivers\\bthhfenum.sys,#2;%1 Hands-Free AG Audio%0\n",
      ";(realme Buds Q2s))\n",
      "Index 23: Headset (@System32\\drivers\\bthhfenum.sys,#2;%1 Hands-Free AG Audio%0\n",
      ";(Lyne Rover 4))\n",
      "Index 24: Headset (@System32\\drivers\\bthhfenum.sys,#2;%1 Hands-Free AG Audio%0\n",
      ";(Lyne Rover 4))\n",
      "Selected microphone: Microphone (Realtek(R) Audio)\n",
      "Listening...\n"
     ]
    }
   ],
   "source": [
    "# Start the conversation\n",
    "amigo_conversational_companion()\n"
   ]
  },
  {
   "cell_type": "code",
   "execution_count": null,
   "id": "5e59fa46-254c-4a3b-99f2-bff966a98e18",
   "metadata": {},
   "outputs": [],
   "source": [
    "\n"
   ]
  }
 ],
 "metadata": {
  "kernelspec": {
   "display_name": "Python 3 (ipykernel)",
   "language": "python",
   "name": "python3"
  },
  "language_info": {
   "codemirror_mode": {
    "name": "ipython",
    "version": 3
   },
   "file_extension": ".py",
   "mimetype": "text/x-python",
   "name": "python",
   "nbconvert_exporter": "python",
   "pygments_lexer": "ipython3",
   "version": "3.8.8"
  }
 },
 "nbformat": 4,
 "nbformat_minor": 5
}
