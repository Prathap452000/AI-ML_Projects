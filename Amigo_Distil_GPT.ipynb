{
 "cells": [
  {
   "cell_type": "code",
   "execution_count": 1,
   "id": "e3693e9a-4be1-49e6-8eb1-46bb4fc2901a",
   "metadata": {},
   "outputs": [
    {
     "name": "stderr",
     "output_type": "stream",
     "text": [
      "c:\\Users\\TEMP\\AppData\\Local\\Programs\\Python\\Python311\\Lib\\site-packages\\tqdm\\auto.py:21: TqdmWarning: IProgress not found. Please update jupyter and ipywidgets. See https://ipywidgets.readthedocs.io/en/stable/user_install.html\n",
      "  from .autonotebook import tqdm as notebook_tqdm\n"
     ]
    },
    {
     "name": "stdout",
     "output_type": "stream",
     "text": [
      "pygame 2.6.1 (SDL 2.28.4, Python 3.11.8)\n",
      "Hello from the pygame community. https://www.pygame.org/contribute.html\n"
     ]
    }
   ],
   "source": [
    "import warnings\n",
    "from transformers import AutoTokenizer, AutoModelForCausalLM\n",
    "import os\n",
    "import pygame\n",
    "from gtts import gTTS\n",
    "from time import sleep\n",
    "import speech_recognition as sr\n",
    "import tempfile\n",
    "import datetime\n",
    "\n",
    "# Suppress FutureWarning for tokenization spaces\n",
    "warnings.filterwarnings(\"ignore\", category=FutureWarning, module=\"transformers.tokenization_utils_base\")\n",
    "\n"
   ]
  },
  {
   "cell_type": "code",
   "execution_count": null,
   "id": "399280c7-c8c4-46e7-a578-0d52d41577ae",
   "metadata": {},
   "outputs": [],
   "source": [
    "# Load the DistilGPT model and tokenizer\n",
    "model_name = \"distilgpt2\"\n",
    "tokenizer = AutoTokenizer.from_pretrained(model_name)\n",
    "model = AutoModelForCausalLM.from_pretrained(model_name)\n",
    "\n",
    "# Add padding token\n",
    "tokenizer.pad_token = tokenizer.eos_token\n"
   ]
  },
  {
   "cell_type": "code",
   "execution_count": null,
   "id": "52b082e6-e1ac-4e8d-be1d-9a4e4f8c7d6d",
   "metadata": {},
   "outputs": [],
   "source": [
    "def speak_response(text):\n",
    "    tts = gTTS(text=text, lang='en')\n",
    "    with tempfile.NamedTemporaryFile(delete=False, suffix=\".mp3\") as temp_audio_file:\n",
    "        tts.save(temp_audio_file.name)\n",
    "        temp_file_path = temp_audio_file.name\n",
    "    pygame.mixer.init()\n",
    "    try:\n",
    "        pygame.mixer.music.load(temp_file_path)\n",
    "        pygame.mixer.music.play()\n",
    "\n",
    "        # Check music play status at intervals\n",
    "        while pygame.mixer.music.get_busy():\n",
    "            pygame.time.wait(50)\n",
    "\n",
    "    except Exception as e:\n",
    "        print(f\"Error playing audio: {e}\")\n",
    "    finally:\n",
    "        pygame.mixer.quit()\n",
    "        if os.path.exists(temp_file_path):\n",
    "            os.remove(temp_file_path)\n"
   ]
  },
  {
   "cell_type": "code",
   "execution_count": null,
   "id": "72b07a22-6079-4cc3-ab67-e4e6ba7e7cec",
   "metadata": {},
   "outputs": [],
   "source": [
    "def capture_speech(mic_index):\n",
    "    recognizer = sr.Recognizer()\n",
    "    recognizer.energy_threshold = 300\n",
    "    mic = sr.Microphone(device_index=mic_index)\n",
    "    \n",
    "    with mic as source:\n",
    "        print(\"Listening for your query...\")\n",
    "        recognizer.adjust_for_ambient_noise(source, duration=0.5)\n",
    "        \n",
    "        try:\n",
    "            audio = recognizer.listen(source, timeout=5, phrase_time_limit=6)\n",
    "        except sr.WaitTimeoutError:\n",
    "            print(\"Listening timed out. Please speak again.\")\n",
    "            return None\n",
    "\n",
    "    try:\n",
    "        user_input = recognizer.recognize_google(audio)\n",
    "        print(f\"User said: {user_input}\")\n",
    "        return user_input\n",
    "    except sr.UnknownValueError:\n",
    "        print(\"Sorry, I could not understand the audio.\")\n",
    "        return None\n",
    "    except sr.RequestError as e:\n",
    "        print(f\"Error with Google Speech Recognition service; {e}\")\n",
    "        return None\n"
   ]
  },
  {
   "cell_type": "code",
   "execution_count": null,
   "id": "92cc4d05-fbc8-430a-930c-41bb56c1a32d",
   "metadata": {},
   "outputs": [],
   "source": [
    "def generate_response(user_input):\n",
    "    if \"what is your name\" in user_input.lower():\n",
    "        return \"I am Amigo, your all-weather conversational companion, just like the bike that you are riding on.\"\n",
    "    \n",
    "    # Check for factual or current event queries\n",
    "    if any(keyword in user_input.lower() for keyword in [\"what is\", \"who is\", \"when is\", \"where is\", \"current\", \"today\", \"news\"]):\n",
    "        return \"Thank you for your query, but that's out of my scope of training.\"\n",
    "\n",
    "    # Encode user input\n",
    "    inputs = tokenizer(user_input, return_tensors=\"pt\", padding=True, truncation=True, max_length=50)\n",
    "    \n",
    "    # Generate response with parameters tuned to reduce repetition\n",
    "    reply_ids = model.generate(\n",
    "        inputs['input_ids'],\n",
    "        attention_mask=inputs['attention_mask'],\n",
    "        max_length=50,\n",
    "        num_beams=5,  # Beam search for better context handling\n",
    "        early_stopping=True,  # Stops generation when end of meaningful output is reached\n",
    "        no_repeat_ngram_size=2  # Prevents repetition of phrases\n",
    "    )\n",
    "    \n",
    "    # Decode the response\n",
    "    bot_response = tokenizer.decode(reply_ids[0], skip_special_tokens=True)\n",
    "    \n",
    "    return bot_response\n"
   ]
  },
  {
   "cell_type": "code",
   "execution_count": null,
   "id": "98453ac2-f1ad-46db-9dfa-eed0cf030919",
   "metadata": {},
   "outputs": [],
   "source": [
    "def handle_time_date_queries(user_input):\n",
    "    if \"time\" in user_input:\n",
    "        current_time = datetime.datetime.now().strftime(\"%I:%M %p\")\n",
    "        return f\"The current time is {current_time}.\"\n",
    "    elif \"date\" in user_input or \"today\" in user_input:\n",
    "        current_date = datetime.datetime.now().strftime(\"%A, %B %d, %Y\")\n",
    "        return f\"Today is {current_date}.\"\n",
    "    else:\n",
    "        return None\n"
   ]
  },
  {
   "cell_type": "code",
   "execution_count": null,
   "id": "066e48ac-504d-4bbc-8a38-eca10c8d9cdb",
   "metadata": {},
   "outputs": [],
   "source": [
    "def select_microphone():\n",
    "    mic_list = sr.Microphone.list_microphone_names()\n",
    "    index = 2  # Select microphone index\n",
    "    return index\n"
   ]
  },
  {
   "cell_type": "code",
   "execution_count": null,
   "id": "719ea325-5d2e-4056-ab09-e21f322a327d",
   "metadata": {},
   "outputs": [],
   "source": [
    "def listen_for_wake_word(mic_index):\n",
    "    recognizer = sr.Recognizer()\n",
    "    mic = sr.Microphone(device_index=mic_index)\n",
    "    \n",
    "    print(\"Waiting for wake word 'Hey Amigo'...\")\n",
    "    while True:\n",
    "        with mic as source:\n",
    "            recognizer.adjust_for_ambient_noise(source, duration=0.5)\n",
    "            audio = recognizer.listen(source, timeout=5)\n",
    "            \n",
    "        try:\n",
    "            user_input = recognizer.recognize_google(audio)\n",
    "            if \"hey amigo\" in user_input.lower():\n",
    "                print(\"Wake word detected!\")\n",
    "                return True\n",
    "        except sr.UnknownValueError:\n",
    "            continue\n",
    "        except sr.RequestError as e:\n",
    "            print(f\"Error with Google Speech Recognition service: {e}\")\n",
    "            continue\n"
   ]
  },
  {
   "cell_type": "code",
   "execution_count": null,
   "id": "54b605a6-dbf2-4b97-be60-a0c315d2e028",
   "metadata": {},
   "outputs": [],
   "source": [
    "def amigo_conversational_companion():\n",
    "    mic_index = select_microphone()\n",
    "\n",
    "    # Step 1: Wait for the wake word\n",
    "    if listen_for_wake_word(mic_index):\n",
    "        # Step 2: Greet the user\n",
    "        greeting = \"Hi, I am Amigo. How can I help you today?\"\n",
    "        print(f\"Amigo: {greeting}\")\n",
    "        speak_response(greeting)\n",
    "        \n",
    "        # Step 3: Enter conversation loop\n",
    "        while True:\n",
    "            user_input = capture_speech(mic_index)\n",
    "            if user_input is None:\n",
    "                continue\n",
    "\n",
    "            # Check if the user wants to exit\n",
    "            if \"exit\" in user_input.lower() or \"goodbye\" in user_input.lower():\n",
    "                farewell_message = \"Goodbye, have a nice day!\"\n",
    "                print(f\"Amigo: {farewell_message}\")\n",
    "                speak_response(farewell_message)\n",
    "                break\n",
    "\n",
    "            # Handle time/date queries or generate general responses\n",
    "            bot_response = handle_time_date_queries(user_input) or generate_response(user_input)\n",
    "            print(f\"Amigo: {bot_response}\")\n",
    "            speak_response(bot_response)\n",
    "\n"
   ]
  },
  {
   "cell_type": "code",
   "execution_count": null,
   "id": "78860364-5520-4c47-9ec6-b69f7f79f54c",
   "metadata": {},
   "outputs": [
    {
     "name": "stdout",
     "output_type": "stream",
     "text": [
      "Waiting for wake word 'Hey Amigo'...\n",
      "Wake word detected!\n",
      "Amigo: Hi, I am Amigo. How can I help you today?\n",
      "Listening for your query...\n",
      "User said: what is the time now\n",
      "Amigo: The current time is 06:18 AM.\n",
      "Listening for your query...\n",
      "User said: what is today's date\n",
      "Amigo: Today is Tuesday, October 08, 2024.\n",
      "Listening for your query...\n",
      "User said: what is your name and who are you\n",
      "Amigo: I am Amigo, your all-weather conversational companion, just like the bike that you are riding on.\n",
      "Listening for your query...\n",
      "User said: what is the capital of United States of America\n",
      "Amigo: Thank you for your query, but that's out of my scope of training.\n",
      "Listening for your query...\n",
      "User said: give me information about Japan\n"
     ]
    },
    {
     "name": "stderr",
     "output_type": "stream",
     "text": [
      "Setting `pad_token_id` to `eos_token_id`:50256 for open-end generation.\n"
     ]
    },
    {
     "name": "stdout",
     "output_type": "stream",
     "text": [
      "Amigo: give me information about Japan.”\n",
      "\n",
      "“I don't know what I'm talking about, but I can tell you that I've been in Japan for a long time, and I think it's a great place to be. I\n",
      "Listening for your query...\n"
     ]
    },
    {
     "name": "stderr",
     "output_type": "stream",
     "text": [
      "Setting `pad_token_id` to `eos_token_id`:50256 for open-end generation.\n"
     ]
    },
    {
     "name": "stdout",
     "output_type": "stream",
     "text": [
      "User said: tell me a joke\n",
      "Amigo: tell me a joke.”\n",
      "Listening for your query...\n"
     ]
    }
   ],
   "source": [
    "if __name__ == \"__main__\":\n",
    "    amigo_conversational_companion()\n"
   ]
  },
  {
   "cell_type": "code",
   "execution_count": null,
   "id": "36875022-bb8d-4ea0-934a-249076ca03e4",
   "metadata": {},
   "outputs": [],
   "source": []
  }
 ],
 "metadata": {
  "kernelspec": {
   "display_name": "Python 3",
   "language": "python",
   "name": "python3"
  },
  "language_info": {
   "codemirror_mode": {
    "name": "ipython",
    "version": 3
   },
   "file_extension": ".py",
   "mimetype": "text/x-python",
   "name": "python",
   "nbconvert_exporter": "python",
   "pygments_lexer": "ipython3",
   "version": "3.11.8"
  }
 },
 "nbformat": 4,
 "nbformat_minor": 5
}
