{
 "cells": [
  {
   "cell_type": "code",
   "execution_count": 1,
   "id": "68ba3906",
   "metadata": {},
   "outputs": [
    {
     "name": "stdout",
     "output_type": "stream",
     "text": [
      "Requirement already satisfied: SpeechRecognition in c:\\users\\prathap\\anaconda3\\lib\\site-packages (3.10.4)\n",
      "Requirement already satisfied: requests>=2.26.0 in c:\\users\\prathap\\anaconda3\\lib\\site-packages (from SpeechRecognition) (2.32.3)\n",
      "Requirement already satisfied: typing-extensions in c:\\users\\prathap\\anaconda3\\lib\\site-packages (from SpeechRecognition) (4.12.2)\n",
      "Requirement already satisfied: idna<4,>=2.5 in c:\\users\\prathap\\anaconda3\\lib\\site-packages (from requests>=2.26.0->SpeechRecognition) (2.10)\n",
      "Requirement already satisfied: charset-normalizer<4,>=2 in c:\\users\\prathap\\anaconda3\\lib\\site-packages (from requests>=2.26.0->SpeechRecognition) (3.3.2)\n",
      "Requirement already satisfied: urllib3<3,>=1.21.1 in c:\\users\\prathap\\anaconda3\\lib\\site-packages (from requests>=2.26.0->SpeechRecognition) (1.26.4)\n",
      "Requirement already satisfied: certifi>=2017.4.17 in c:\\users\\prathap\\anaconda3\\lib\\site-packages (from requests>=2.26.0->SpeechRecognition) (2020.12.5)\n",
      "Requirement already satisfied: gtts in c:\\users\\prathap\\anaconda3\\lib\\site-packages (2.5.3)\n",
      "Requirement already satisfied: click<8.2,>=7.1 in c:\\users\\prathap\\anaconda3\\lib\\site-packages (from gtts) (7.1.2)\n",
      "Requirement already satisfied: requests<3,>=2.27 in c:\\users\\prathap\\anaconda3\\lib\\site-packages (from gtts) (2.32.3)\n",
      "Requirement already satisfied: charset-normalizer<4,>=2 in c:\\users\\prathap\\anaconda3\\lib\\site-packages (from requests<3,>=2.27->gtts) (3.3.2)\n",
      "Requirement already satisfied: urllib3<3,>=1.21.1 in c:\\users\\prathap\\anaconda3\\lib\\site-packages (from requests<3,>=2.27->gtts) (1.26.4)\n",
      "Requirement already satisfied: idna<4,>=2.5 in c:\\users\\prathap\\anaconda3\\lib\\site-packages (from requests<3,>=2.27->gtts) (2.10)\n",
      "Requirement already satisfied: certifi>=2017.4.17 in c:\\users\\prathap\\anaconda3\\lib\\site-packages (from requests<3,>=2.27->gtts) (2020.12.5)\n",
      "Requirement already satisfied: transformers in c:\\users\\prathap\\anaconda3\\lib\\site-packages (4.44.2)\n",
      "Requirement already satisfied: torch in c:\\users\\prathap\\anaconda3\\lib\\site-packages (2.4.1)\n",
      "Requirement already satisfied: jinja2 in c:\\users\\prathap\\anaconda3\\lib\\site-packages (from torch) (2.11.3)\n",
      "Requirement already satisfied: sympy in c:\\users\\prathap\\anaconda3\\lib\\site-packages (from torch) (1.8)\n",
      "Requirement already satisfied: typing-extensions>=4.8.0 in c:\\users\\prathap\\anaconda3\\lib\\site-packages (from torch) (4.12.2)\n",
      "Requirement already satisfied: networkx in c:\\users\\prathap\\anaconda3\\lib\\site-packages (from torch) (2.5)\n",
      "Requirement already satisfied: filelock in c:\\users\\prathap\\anaconda3\\lib\\site-packages (from torch) (3.0.12)\n",
      "Requirement already satisfied: fsspec in c:\\users\\prathap\\anaconda3\\lib\\site-packages (from torch) (2024.6.1)\n",
      "Requirement already satisfied: huggingface-hub<1.0,>=0.23.2 in c:\\users\\prathap\\anaconda3\\lib\\site-packages (from transformers) (0.24.7)\n",
      "Requirement already satisfied: pyyaml>=5.1 in c:\\users\\prathap\\anaconda3\\lib\\site-packages (from transformers) (5.4.1)\n",
      "Requirement already satisfied: tqdm>=4.27 in c:\\users\\prathap\\anaconda3\\lib\\site-packages (from transformers) (4.66.5)\n",
      "Requirement already satisfied: requests in c:\\users\\prathap\\anaconda3\\lib\\site-packages (from transformers) (2.32.3)\n",
      "Requirement already satisfied: numpy>=1.17 in c:\\users\\prathap\\anaconda3\\lib\\site-packages (from transformers) (1.24.4)\n",
      "Requirement already satisfied: regex!=2019.12.17 in c:\\users\\prathap\\anaconda3\\lib\\site-packages (from transformers) (2021.4.4)\n",
      "Requirement already satisfied: safetensors>=0.4.1 in c:\\users\\prathap\\anaconda3\\lib\\site-packages (from transformers) (0.4.5)\n",
      "Requirement already satisfied: tokenizers<0.20,>=0.19 in c:\\users\\prathap\\anaconda3\\lib\\site-packages (from transformers) (0.19.1)\n",
      "Requirement already satisfied: packaging>=20.0 in c:\\users\\prathap\\anaconda3\\lib\\site-packages (from transformers) (20.9)\n",
      "Requirement already satisfied: pyparsing>=2.0.2 in c:\\users\\prathap\\anaconda3\\lib\\site-packages (from packaging>=20.0->transformers) (2.4.7)\n",
      "Requirement already satisfied: colorama in c:\\users\\prathap\\anaconda3\\lib\\site-packages (from tqdm>=4.27->transformers) (0.4.4)\n",
      "Requirement already satisfied: MarkupSafe>=0.23 in c:\\users\\prathap\\anaconda3\\lib\\site-packages (from jinja2->torch) (1.1.1)\n",
      "Requirement already satisfied: decorator>=4.3.0 in c:\\users\\prathap\\anaconda3\\lib\\site-packages (from networkx->torch) (5.0.6)\n",
      "Requirement already satisfied: certifi>=2017.4.17 in c:\\users\\prathap\\anaconda3\\lib\\site-packages (from requests->transformers) (2020.12.5)\n",
      "Requirement already satisfied: urllib3<3,>=1.21.1 in c:\\users\\prathap\\anaconda3\\lib\\site-packages (from requests->transformers) (1.26.4)\n",
      "Requirement already satisfied: idna<4,>=2.5 in c:\\users\\prathap\\anaconda3\\lib\\site-packages (from requests->transformers) (2.10)\n",
      "Requirement already satisfied: charset-normalizer<4,>=2 in c:\\users\\prathap\\anaconda3\\lib\\site-packages (from requests->transformers) (3.3.2)\n",
      "Requirement already satisfied: mpmath>=0.19 in c:\\users\\prathap\\anaconda3\\lib\\site-packages (from sympy->torch) (1.2.1)\n"
     ]
    }
   ],
   "source": [
    "!pip install SpeechRecognition\n",
    "!pip install gtts\n",
    "!pip install transformers torch\n"
   ]
  },
  {
   "cell_type": "code",
   "execution_count": 2,
   "id": "b188d724",
   "metadata": {},
   "outputs": [],
   "source": [
    "def capture_speech():\n",
    "    recognizer = sr.Recognizer()\n",
    "    mic = sr.Microphone()\n",
    "    \n",
    "    with mic as source:\n",
    "        print(\"Listening...\")\n",
    "        recognizer.adjust_for_ambient_noise(source)  # Adjust for background noise\n",
    "        audio = recognizer.listen(source)\n",
    "    \n",
    "    try:\n",
    "        print(\"Recognizing speech...\")\n",
    "        text = recognizer.recognize_google(audio)\n",
    "        print(f\"User said: {text}\")\n",
    "        return text\n",
    "    except sr.UnknownValueError:\n",
    "        print(\"Sorry, I could not understand the audio.\")\n",
    "        return \"\"\n",
    "    except sr.RequestError:\n",
    "        print(\"There was an issue with the speech recognition service.\")\n",
    "        return \"\"\n"
   ]
  },
  {
   "cell_type": "code",
   "execution_count": 3,
   "id": "45108c46",
   "metadata": {},
   "outputs": [],
   "source": [
    "# Function to generate a response using OpenAI GPT-like model\n",
    "def generate_response(input_text):\n",
    "    # Load a pre-trained conversational model from Hugging Face\n",
    "    conversation_pipeline = pipeline(\"conversational\", model=\"microsoft/DialoGPT-medium\")\n",
    "    \n",
    "    if input_text.strip() == \"\":\n",
    "        return \"I couldn't understand you. Could you please repeat?\"\n",
    "    \n",
    "    response = conversation_pipeline(input_text)\n",
    "    generated_response = response[0]['generated_text']\n",
    "    print(f\"Amigo said: {generated_response}\")\n",
    "    \n",
    "    return generated_response"
   ]
  },
  {
   "cell_type": "code",
   "execution_count": 4,
   "id": "c0295448",
   "metadata": {},
   "outputs": [],
   "source": [
    "# Function to convert text to speech and speak it out\n",
    "def speak_response(response_text):\n",
    "    tts = gTTS(text=response_text, lang='en')\n",
    "    tts.save(\"response.mp3\")\n",
    "    os.system(\"mpg321 response.mp3\")  # Play the saved speech file on supported systems\n"
   ]
  },
  {
   "cell_type": "code",
   "execution_count": 5,
   "id": "705d8bf9",
   "metadata": {},
   "outputs": [],
   "source": [
    "# Main function to run the talkback conversational companion\n",
    "def amigo_conversational_companion():\n",
    "    print(\"Welcome to Amigo! How can I assist you today?\")\n",
    "    \n",
    "    while True:\n",
    "        # Step 1: Capture speech\n",
    "        user_input = capture_speech()\n",
    "        \n",
    "        # Step 2: Generate response\n",
    "        if user_input.lower() == \"exit\":\n",
    "            print(\"Goodbye!\")\n",
    "            break\n",
    "        \n",
    "        amigo_response = generate_response(user_input)\n",
    "        \n",
    "        # Step 3: Convert response to speech and output it\n",
    "        speak_response(amigo_response)\n"
   ]
  },
  {
   "cell_type": "code",
   "execution_count": 6,
   "id": "be58b638",
   "metadata": {},
   "outputs": [
    {
     "name": "stdout",
     "output_type": "stream",
     "text": [
      "Welcome to Amigo! How can I assist you today?\n"
     ]
    },
    {
     "ename": "NameError",
     "evalue": "name 'sr' is not defined",
     "output_type": "error",
     "traceback": [
      "\u001b[1;31m---------------------------------------------------------------------------\u001b[0m",
      "\u001b[1;31mNameError\u001b[0m                                 Traceback (most recent call last)",
      "\u001b[1;32m<ipython-input-6-f4b99ffd38e8>\u001b[0m in \u001b[0;36m<module>\u001b[1;34m\u001b[0m\n\u001b[0;32m      1\u001b[0m \u001b[1;31m# Start the conversation\u001b[0m\u001b[1;33m\u001b[0m\u001b[1;33m\u001b[0m\u001b[1;33m\u001b[0m\u001b[0m\n\u001b[1;32m----> 2\u001b[1;33m \u001b[0mamigo_conversational_companion\u001b[0m\u001b[1;33m(\u001b[0m\u001b[1;33m)\u001b[0m\u001b[1;33m\u001b[0m\u001b[1;33m\u001b[0m\u001b[0m\n\u001b[0m",
      "\u001b[1;32m<ipython-input-5-8a8addacd337>\u001b[0m in \u001b[0;36mamigo_conversational_companion\u001b[1;34m()\u001b[0m\n\u001b[0;32m      5\u001b[0m     \u001b[1;32mwhile\u001b[0m \u001b[1;32mTrue\u001b[0m\u001b[1;33m:\u001b[0m\u001b[1;33m\u001b[0m\u001b[1;33m\u001b[0m\u001b[0m\n\u001b[0;32m      6\u001b[0m         \u001b[1;31m# Step 1: Capture speech\u001b[0m\u001b[1;33m\u001b[0m\u001b[1;33m\u001b[0m\u001b[1;33m\u001b[0m\u001b[0m\n\u001b[1;32m----> 7\u001b[1;33m         \u001b[0muser_input\u001b[0m \u001b[1;33m=\u001b[0m \u001b[0mcapture_speech\u001b[0m\u001b[1;33m(\u001b[0m\u001b[1;33m)\u001b[0m\u001b[1;33m\u001b[0m\u001b[1;33m\u001b[0m\u001b[0m\n\u001b[0m\u001b[0;32m      8\u001b[0m \u001b[1;33m\u001b[0m\u001b[0m\n\u001b[0;32m      9\u001b[0m         \u001b[1;31m# Step 2: Generate response\u001b[0m\u001b[1;33m\u001b[0m\u001b[1;33m\u001b[0m\u001b[1;33m\u001b[0m\u001b[0m\n",
      "\u001b[1;32m<ipython-input-2-05d009c04b7b>\u001b[0m in \u001b[0;36mcapture_speech\u001b[1;34m()\u001b[0m\n\u001b[0;32m      1\u001b[0m \u001b[1;32mdef\u001b[0m \u001b[0mcapture_speech\u001b[0m\u001b[1;33m(\u001b[0m\u001b[1;33m)\u001b[0m\u001b[1;33m:\u001b[0m\u001b[1;33m\u001b[0m\u001b[1;33m\u001b[0m\u001b[0m\n\u001b[1;32m----> 2\u001b[1;33m     \u001b[0mrecognizer\u001b[0m \u001b[1;33m=\u001b[0m \u001b[0msr\u001b[0m\u001b[1;33m.\u001b[0m\u001b[0mRecognizer\u001b[0m\u001b[1;33m(\u001b[0m\u001b[1;33m)\u001b[0m\u001b[1;33m\u001b[0m\u001b[1;33m\u001b[0m\u001b[0m\n\u001b[0m\u001b[0;32m      3\u001b[0m     \u001b[0mmic\u001b[0m \u001b[1;33m=\u001b[0m \u001b[0msr\u001b[0m\u001b[1;33m.\u001b[0m\u001b[0mMicrophone\u001b[0m\u001b[1;33m(\u001b[0m\u001b[1;33m)\u001b[0m\u001b[1;33m\u001b[0m\u001b[1;33m\u001b[0m\u001b[0m\n\u001b[0;32m      4\u001b[0m \u001b[1;33m\u001b[0m\u001b[0m\n\u001b[0;32m      5\u001b[0m     \u001b[1;32mwith\u001b[0m \u001b[0mmic\u001b[0m \u001b[1;32mas\u001b[0m \u001b[0msource\u001b[0m\u001b[1;33m:\u001b[0m\u001b[1;33m\u001b[0m\u001b[1;33m\u001b[0m\u001b[0m\n",
      "\u001b[1;31mNameError\u001b[0m: name 'sr' is not defined"
     ]
    }
   ],
   "source": [
    "# Start the conversation\n",
    "amigo_conversational_companion()"
   ]
  },
  {
   "cell_type": "code",
   "execution_count": null,
   "id": "636ceb92",
   "metadata": {},
   "outputs": [],
   "source": []
  }
 ],
 "metadata": {
  "kernelspec": {
   "display_name": "Python 3 (ipykernel)",
   "language": "python",
   "name": "python3"
  },
  "language_info": {
   "codemirror_mode": {
    "name": "ipython",
    "version": 3
   },
   "file_extension": ".py",
   "mimetype": "text/x-python",
   "name": "python",
   "nbconvert_exporter": "python",
   "pygments_lexer": "ipython3",
   "version": "3.8.8"
  }
 },
 "nbformat": 4,
 "nbformat_minor": 5
}
