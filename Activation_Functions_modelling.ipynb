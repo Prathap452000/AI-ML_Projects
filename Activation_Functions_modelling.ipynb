{
 "cells": [
  {
   "cell_type": "code",
   "execution_count": null,
   "id": "9e80b7bb-b145-4cbe-a38f-fc263fd99d09",
   "metadata": {},
   "outputs": [],
   "source": [
    "%pip install --upgrade pip\n",
    "%pip install numpy\n",
    "%pip install pandas\n",
    "%pip install scipy\n",
    "%pip install sympy\n",
    "%pip install transformers\n",
    "%pip install SpeechRecognition\n",
    "%pip install pygame\n",
    "%pip install pyttsx3\n",
    "%pip install torch\n",
    "%pip install gtts\n",
    "%pip install seaborn\n",
    "%pip install streamlit\n",
    "%pip install matplotlib\n",
    "%pip install pygame\n",
    "%pip install pyaudio"
   ]
  },
  {
   "cell_type": "code",
   "execution_count": 1,
   "id": "8dde84f6",
   "metadata": {},
   "outputs": [
    {
     "name": "stdout",
     "output_type": "stream",
     "text": [
      "Collecting PyQt5Note: you may need to restart the kernel to use updated packages.\n",
      "\n",
      "  Downloading PyQt5-5.15.11-cp38-abi3-win_amd64.whl.metadata (2.1 kB)\n",
      "Collecting PyQt5-sip<13,>=12.15 (from PyQt5)\n",
      "  Downloading PyQt5_sip-12.16.1-cp311-cp311-win_amd64.whl.metadata (439 bytes)\n",
      "Collecting PyQt5-Qt5<5.16.0,>=5.15.2 (from PyQt5)\n",
      "  Downloading PyQt5_Qt5-5.15.2-py3-none-win_amd64.whl.metadata (552 bytes)\n",
      "Downloading PyQt5-5.15.11-cp38-abi3-win_amd64.whl (6.9 MB)\n",
      "   ---------------------------------------- 0.0/6.9 MB ? eta -:--:--\n",
      "   ---------------------------------------- 0.0/6.9 MB ? eta -:--:--\n",
      "   - -------------------------------------- 0.3/6.9 MB ? eta -:--:--\n",
      "   --- ------------------------------------ 0.5/6.9 MB 989.2 kB/s eta 0:00:07\n",
      "   --- ------------------------------------ 0.5/6.9 MB 989.2 kB/s eta 0:00:07\n",
      "   ---- ----------------------------------- 0.8/6.9 MB 958.5 kB/s eta 0:00:07\n",
      "   ------- -------------------------------- 1.3/6.9 MB 1.1 MB/s eta 0:00:06\n",
      "   --------- ------------------------------ 1.6/6.9 MB 1.2 MB/s eta 0:00:05\n",
      "   ---------- ----------------------------- 1.8/6.9 MB 1.2 MB/s eta 0:00:05\n",
      "   ------------ --------------------------- 2.1/6.9 MB 1.2 MB/s eta 0:00:04\n",
      "   ------------- -------------------------- 2.4/6.9 MB 1.3 MB/s eta 0:00:04\n",
      "   ---------------- ----------------------- 2.9/6.9 MB 1.3 MB/s eta 0:00:04\n",
      "   ------------------ --------------------- 3.1/6.9 MB 1.3 MB/s eta 0:00:03\n",
      "   ------------------- -------------------- 3.4/6.9 MB 1.3 MB/s eta 0:00:03\n",
      "   --------------------- ------------------ 3.7/6.9 MB 1.4 MB/s eta 0:00:03\n",
      "   ---------------------- ----------------- 3.9/6.9 MB 1.4 MB/s eta 0:00:03\n",
      "   ---------------------- ----------------- 3.9/6.9 MB 1.4 MB/s eta 0:00:03\n",
      "   ------------------------ --------------- 4.2/6.9 MB 1.2 MB/s eta 0:00:03\n",
      "   ------------------------- -------------- 4.5/6.9 MB 1.2 MB/s eta 0:00:02\n",
      "   --------------------------- ------------ 4.7/6.9 MB 1.2 MB/s eta 0:00:02\n",
      "   ----------------------------- ---------- 5.0/6.9 MB 1.2 MB/s eta 0:00:02\n",
      "   ----------------------------- ---------- 5.0/6.9 MB 1.2 MB/s eta 0:00:02\n",
      "   ----------------------------- ---------- 5.0/6.9 MB 1.2 MB/s eta 0:00:02\n",
      "   -------------------------------- ------- 5.5/6.9 MB 1.2 MB/s eta 0:00:02\n",
      "   --------------------------------- ------ 5.8/6.9 MB 1.2 MB/s eta 0:00:01\n",
      "   --------------------------------- ------ 5.8/6.9 MB 1.2 MB/s eta 0:00:01\n",
      "   ----------------------------------- ---- 6.0/6.9 MB 1.1 MB/s eta 0:00:01\n",
      "   -------------------------------------- - 6.6/6.9 MB 1.2 MB/s eta 0:00:01\n",
      "   ---------------------------------------  6.8/6.9 MB 1.2 MB/s eta 0:00:01\n",
      "   ---------------------------------------  6.8/6.9 MB 1.2 MB/s eta 0:00:01\n",
      "   ---------------------------------------- 6.9/6.9 MB 1.1 MB/s eta 0:00:00\n",
      "Downloading PyQt5_Qt5-5.15.2-py3-none-win_amd64.whl (50.1 MB)\n",
      "   ---------------------------------------- 0.0/50.1 MB ? eta -:--:--\n",
      "   ---------------------------------------- 0.3/50.1 MB ? eta -:--:--\n",
      "   ---------------------------------------- 0.5/50.1 MB 1.7 MB/s eta 0:00:30\n",
      "    --------------------------------------- 0.8/50.1 MB 1.7 MB/s eta 0:00:30\n",
      "    --------------------------------------- 1.0/50.1 MB 1.6 MB/s eta 0:00:32\n",
      "   - -------------------------------------- 1.6/50.1 MB 1.5 MB/s eta 0:00:33\n",
      "   - -------------------------------------- 1.6/50.1 MB 1.5 MB/s eta 0:00:33\n",
      "   - -------------------------------------- 1.8/50.1 MB 1.4 MB/s eta 0:00:35\n",
      "   - -------------------------------------- 2.4/50.1 MB 1.4 MB/s eta 0:00:35\n",
      "   -- ------------------------------------- 2.6/50.1 MB 1.4 MB/s eta 0:00:35\n",
      "   -- ------------------------------------- 2.9/50.1 MB 1.4 MB/s eta 0:00:34\n",
      "   -- ------------------------------------- 3.1/50.1 MB 1.4 MB/s eta 0:00:34\n",
      "   -- ------------------------------------- 3.4/50.1 MB 1.4 MB/s eta 0:00:33\n",
      "   --- ------------------------------------ 3.9/50.1 MB 1.4 MB/s eta 0:00:33\n",
      "   --- ------------------------------------ 3.9/50.1 MB 1.4 MB/s eta 0:00:33\n",
      "   --- ------------------------------------ 3.9/50.1 MB 1.4 MB/s eta 0:00:33\n",
      "   --- ------------------------------------ 4.2/50.1 MB 1.3 MB/s eta 0:00:37\n",
      "   --- ------------------------------------ 4.7/50.1 MB 1.3 MB/s eta 0:00:36\n",
      "   --- ------------------------------------ 4.7/50.1 MB 1.3 MB/s eta 0:00:36\n",
      "   --- ------------------------------------ 5.0/50.1 MB 1.2 MB/s eta 0:00:38\n",
      "   ---- ----------------------------------- 5.5/50.1 MB 1.2 MB/s eta 0:00:37\n",
      "   ---- ----------------------------------- 5.8/50.1 MB 1.2 MB/s eta 0:00:36\n",
      "   ---- ----------------------------------- 6.0/50.1 MB 1.3 MB/s eta 0:00:36\n",
      "   ----- ---------------------------------- 6.3/50.1 MB 1.2 MB/s eta 0:00:37\n",
      "   ----- ---------------------------------- 6.6/50.1 MB 1.2 MB/s eta 0:00:36\n",
      "   ----- ---------------------------------- 6.8/50.1 MB 1.2 MB/s eta 0:00:36\n",
      "   ----- ---------------------------------- 7.1/50.1 MB 1.2 MB/s eta 0:00:36\n",
      "   ----- ---------------------------------- 7.3/50.1 MB 1.2 MB/s eta 0:00:35\n",
      "   ------ --------------------------------- 7.6/50.1 MB 1.2 MB/s eta 0:00:35\n",
      "   ------ --------------------------------- 7.6/50.1 MB 1.2 MB/s eta 0:00:35\n",
      "   ------ --------------------------------- 7.6/50.1 MB 1.2 MB/s eta 0:00:35\n",
      "   ------ --------------------------------- 8.7/50.1 MB 1.2 MB/s eta 0:00:34\n",
      "   ------- -------------------------------- 8.9/50.1 MB 1.2 MB/s eta 0:00:34\n",
      "   ------- -------------------------------- 9.2/50.1 MB 1.3 MB/s eta 0:00:33\n",
      "   ------- -------------------------------- 9.4/50.1 MB 1.3 MB/s eta 0:00:33\n",
      "   ------- -------------------------------- 9.7/50.1 MB 1.3 MB/s eta 0:00:33\n",
      "   -------- ------------------------------- 10.2/50.1 MB 1.3 MB/s eta 0:00:32\n",
      "   -------- ------------------------------- 10.5/50.1 MB 1.3 MB/s eta 0:00:31\n",
      "   -------- ------------------------------- 10.7/50.1 MB 1.3 MB/s eta 0:00:31\n",
      "   -------- ------------------------------- 11.0/50.1 MB 1.3 MB/s eta 0:00:31\n",
      "   --------- ------------------------------ 11.3/50.1 MB 1.3 MB/s eta 0:00:31\n",
      "   --------- ------------------------------ 11.3/50.1 MB 1.3 MB/s eta 0:00:31\n",
      "   --------- ------------------------------ 11.5/50.1 MB 1.3 MB/s eta 0:00:31\n",
      "   --------- ------------------------------ 11.8/50.1 MB 1.3 MB/s eta 0:00:31\n",
      "   --------- ------------------------------ 12.1/50.1 MB 1.2 MB/s eta 0:00:31\n",
      "   --------- ------------------------------ 12.3/50.1 MB 1.3 MB/s eta 0:00:31\n",
      "   --------- ------------------------------ 12.3/50.1 MB 1.3 MB/s eta 0:00:31\n",
      "   ---------- ----------------------------- 12.6/50.1 MB 1.2 MB/s eta 0:00:31\n",
      "   ---------- ----------------------------- 13.1/50.1 MB 1.2 MB/s eta 0:00:30\n",
      "   ---------- ----------------------------- 13.1/50.1 MB 1.2 MB/s eta 0:00:30\n",
      "   ---------- ----------------------------- 13.1/50.1 MB 1.2 MB/s eta 0:00:30\n",
      "   ---------- ----------------------------- 13.4/50.1 MB 1.2 MB/s eta 0:00:31\n",
      "   ---------- ----------------------------- 13.6/50.1 MB 1.2 MB/s eta 0:00:31\n",
      "   ----------- ---------------------------- 14.2/50.1 MB 1.2 MB/s eta 0:00:30\n",
      "   ----------- ---------------------------- 14.4/50.1 MB 1.2 MB/s eta 0:00:30\n",
      "   ----------- ---------------------------- 14.7/50.1 MB 1.2 MB/s eta 0:00:30\n",
      "   ----------- ---------------------------- 14.9/50.1 MB 1.2 MB/s eta 0:00:29\n",
      "   ------------ --------------------------- 15.2/50.1 MB 1.2 MB/s eta 0:00:29\n",
      "   ------------ --------------------------- 15.7/50.1 MB 1.2 MB/s eta 0:00:28\n",
      "   ------------ --------------------------- 16.0/50.1 MB 1.2 MB/s eta 0:00:28\n",
      "   ------------- -------------------------- 16.5/50.1 MB 1.3 MB/s eta 0:00:27\n",
      "   ------------- -------------------------- 16.8/50.1 MB 1.3 MB/s eta 0:00:27\n",
      "   ------------- -------------------------- 17.0/50.1 MB 1.3 MB/s eta 0:00:27\n",
      "   ------------- -------------------------- 17.3/50.1 MB 1.3 MB/s eta 0:00:27\n",
      "   -------------- ------------------------- 17.8/50.1 MB 1.3 MB/s eta 0:00:26\n",
      "   -------------- ------------------------- 18.1/50.1 MB 1.3 MB/s eta 0:00:26\n",
      "   -------------- ------------------------- 18.6/50.1 MB 1.3 MB/s eta 0:00:25\n",
      "   --------------- ------------------------ 19.1/50.1 MB 1.3 MB/s eta 0:00:24\n",
      "   --------------- ------------------------ 19.1/50.1 MB 1.3 MB/s eta 0:00:24\n",
      "   --------------- ------------------------ 19.1/50.1 MB 1.3 MB/s eta 0:00:24\n",
      "   --------------- ------------------------ 19.4/50.1 MB 1.3 MB/s eta 0:00:25\n",
      "   --------------- ------------------------ 19.9/50.1 MB 1.3 MB/s eta 0:00:24\n",
      "   ---------------- ----------------------- 20.2/50.1 MB 1.3 MB/s eta 0:00:24\n",
      "   ---------------- ----------------------- 20.2/50.1 MB 1.3 MB/s eta 0:00:24\n",
      "   ---------------- ----------------------- 20.2/50.1 MB 1.3 MB/s eta 0:00:24\n",
      "   ---------------- ----------------------- 20.7/50.1 MB 1.3 MB/s eta 0:00:24\n",
      "   ---------------- ----------------------- 21.0/50.1 MB 1.3 MB/s eta 0:00:24\n",
      "   ---------------- ----------------------- 21.2/50.1 MB 1.3 MB/s eta 0:00:23\n",
      "   ---------------- ----------------------- 21.2/50.1 MB 1.3 MB/s eta 0:00:23\n",
      "   ----------------- ---------------------- 21.5/50.1 MB 1.2 MB/s eta 0:00:23\n",
      "   ----------------- ---------------------- 22.0/50.1 MB 1.3 MB/s eta 0:00:23\n",
      "   ----------------- ---------------------- 22.3/50.1 MB 1.3 MB/s eta 0:00:23\n",
      "   ------------------ --------------------- 22.5/50.1 MB 1.3 MB/s eta 0:00:22\n",
      "   ------------------ --------------------- 23.1/50.1 MB 1.3 MB/s eta 0:00:22\n",
      "   ------------------ --------------------- 23.3/50.1 MB 1.3 MB/s eta 0:00:21\n",
      "   ------------------ --------------------- 23.6/50.1 MB 1.3 MB/s eta 0:00:21\n",
      "   ------------------- -------------------- 23.9/50.1 MB 1.3 MB/s eta 0:00:21\n",
      "   ------------------- -------------------- 24.4/50.1 MB 1.3 MB/s eta 0:00:20\n",
      "   ------------------- -------------------- 24.6/50.1 MB 1.3 MB/s eta 0:00:20\n",
      "   -------------------- ------------------- 25.2/50.1 MB 1.3 MB/s eta 0:00:20\n",
      "   -------------------- ------------------- 25.4/50.1 MB 1.3 MB/s eta 0:00:19\n",
      "   -------------------- ------------------- 26.0/50.1 MB 1.3 MB/s eta 0:00:19\n",
      "   -------------------- ------------------- 26.2/50.1 MB 1.3 MB/s eta 0:00:19\n",
      "   --------------------- ------------------ 26.5/50.1 MB 1.3 MB/s eta 0:00:18\n",
      "   --------------------- ------------------ 27.0/50.1 MB 1.3 MB/s eta 0:00:18\n",
      "   --------------------- ------------------ 27.3/50.1 MB 1.3 MB/s eta 0:00:18\n",
      "   --------------------- ------------------ 27.5/50.1 MB 1.3 MB/s eta 0:00:17\n",
      "   --------------------- ------------------ 27.5/50.1 MB 1.3 MB/s eta 0:00:17\n",
      "   ---------------------- ----------------- 27.8/50.1 MB 1.3 MB/s eta 0:00:18\n",
      "   ---------------------- ----------------- 28.0/50.1 MB 1.3 MB/s eta 0:00:17\n",
      "   ---------------------- ----------------- 28.3/50.1 MB 1.3 MB/s eta 0:00:17\n",
      "   ---------------------- ----------------- 28.3/50.1 MB 1.3 MB/s eta 0:00:17\n",
      "   ---------------------- ----------------- 28.3/50.1 MB 1.3 MB/s eta 0:00:17\n",
      "   ----------------------- ---------------- 29.1/50.1 MB 1.3 MB/s eta 0:00:17\n",
      "   ----------------------- ---------------- 29.4/50.1 MB 1.3 MB/s eta 0:00:16\n",
      "   ----------------------- ---------------- 29.6/50.1 MB 1.3 MB/s eta 0:00:16\n",
      "   ----------------------- ---------------- 29.6/50.1 MB 1.3 MB/s eta 0:00:16\n",
      "   ------------------------ --------------- 30.1/50.1 MB 1.3 MB/s eta 0:00:16\n",
      "   ------------------------ --------------- 30.4/50.1 MB 1.3 MB/s eta 0:00:16\n",
      "   ------------------------ --------------- 30.7/50.1 MB 1.3 MB/s eta 0:00:15\n",
      "   ------------------------ --------------- 31.2/50.1 MB 1.3 MB/s eta 0:00:15\n",
      "   ------------------------- -------------- 31.5/50.1 MB 1.3 MB/s eta 0:00:15\n",
      "   ------------------------- -------------- 31.7/50.1 MB 1.3 MB/s eta 0:00:15\n",
      "   ------------------------- -------------- 32.2/50.1 MB 1.3 MB/s eta 0:00:14\n",
      "   ------------------------- -------------- 32.5/50.1 MB 1.3 MB/s eta 0:00:14\n",
      "   -------------------------- ------------- 33.0/50.1 MB 1.3 MB/s eta 0:00:13\n",
      "   -------------------------- ------------- 33.6/50.1 MB 1.3 MB/s eta 0:00:13\n",
      "   --------------------------- ------------ 33.8/50.1 MB 1.3 MB/s eta 0:00:13\n",
      "   --------------------------- ------------ 34.1/50.1 MB 1.3 MB/s eta 0:00:12\n",
      "   --------------------------- ------------ 34.6/50.1 MB 1.3 MB/s eta 0:00:12\n",
      "   --------------------------- ------------ 34.9/50.1 MB 1.3 MB/s eta 0:00:12\n",
      "   ---------------------------- ----------- 35.4/50.1 MB 1.4 MB/s eta 0:00:11\n",
      "   ---------------------------- ----------- 35.7/50.1 MB 1.4 MB/s eta 0:00:11\n",
      "   ---------------------------- ----------- 36.2/50.1 MB 1.4 MB/s eta 0:00:11\n",
      "   ----------------------------- ---------- 36.4/50.1 MB 1.4 MB/s eta 0:00:11\n",
      "   ----------------------------- ---------- 36.4/50.1 MB 1.4 MB/s eta 0:00:11\n",
      "   ----------------------------- ---------- 36.7/50.1 MB 1.3 MB/s eta 0:00:10\n",
      "   ----------------------------- ---------- 37.0/50.1 MB 1.3 MB/s eta 0:00:10\n",
      "   ----------------------------- ---------- 37.2/50.1 MB 1.3 MB/s eta 0:00:10\n",
      "   ----------------------------- ---------- 37.2/50.1 MB 1.3 MB/s eta 0:00:10\n",
      "   ----------------------------- ---------- 37.2/50.1 MB 1.3 MB/s eta 0:00:10\n",
      "   ------------------------------ --------- 37.7/50.1 MB 1.3 MB/s eta 0:00:10\n",
      "   ------------------------------ --------- 38.0/50.1 MB 1.3 MB/s eta 0:00:10\n",
      "   ------------------------------ --------- 38.3/50.1 MB 1.3 MB/s eta 0:00:09\n",
      "   ------------------------------ --------- 38.3/50.1 MB 1.3 MB/s eta 0:00:09\n",
      "   ------------------------------ --------- 38.8/50.1 MB 1.3 MB/s eta 0:00:09\n",
      "   ------------------------------- -------- 39.1/50.1 MB 1.3 MB/s eta 0:00:09\n",
      "   ------------------------------- -------- 39.3/50.1 MB 1.3 MB/s eta 0:00:09\n",
      "   ------------------------------- -------- 39.8/50.1 MB 1.3 MB/s eta 0:00:08\n",
      "   -------------------------------- ------- 40.1/50.1 MB 1.3 MB/s eta 0:00:08\n",
      "   -------------------------------- ------- 40.4/50.1 MB 1.3 MB/s eta 0:00:08\n",
      "   -------------------------------- ------- 40.6/50.1 MB 1.3 MB/s eta 0:00:08\n",
      "   -------------------------------- ------- 41.2/50.1 MB 1.3 MB/s eta 0:00:07\n",
      "   --------------------------------- ------ 41.4/50.1 MB 1.3 MB/s eta 0:00:07\n",
      "   --------------------------------- ------ 41.9/50.1 MB 1.3 MB/s eta 0:00:07\n",
      "   --------------------------------- ------ 42.5/50.1 MB 1.4 MB/s eta 0:00:06\n",
      "   ---------------------------------- ----- 43.0/50.1 MB 1.4 MB/s eta 0:00:06\n",
      "   ---------------------------------- ----- 43.5/50.1 MB 1.4 MB/s eta 0:00:05\n",
      "   ---------------------------------- ----- 43.8/50.1 MB 1.4 MB/s eta 0:00:05\n",
      "   ----------------------------------- ---- 44.6/50.1 MB 1.4 MB/s eta 0:00:04\n",
      "   ----------------------------------- ---- 44.8/50.1 MB 1.4 MB/s eta 0:00:04\n",
      "   ------------------------------------ --- 45.4/50.1 MB 1.4 MB/s eta 0:00:04\n",
      "   ------------------------------------ --- 45.9/50.1 MB 1.4 MB/s eta 0:00:03\n",
      "   ------------------------------------ --- 45.9/50.1 MB 1.4 MB/s eta 0:00:03\n",
      "   ------------------------------------ --- 46.1/50.1 MB 1.4 MB/s eta 0:00:03\n",
      "   ------------------------------------- -- 46.7/50.1 MB 1.4 MB/s eta 0:00:03\n",
      "   ------------------------------------- -- 47.2/50.1 MB 1.4 MB/s eta 0:00:03\n",
      "   ------------------------------------- -- 47.4/50.1 MB 1.4 MB/s eta 0:00:02\n",
      "   ------------------------------------- -- 47.4/50.1 MB 1.4 MB/s eta 0:00:02\n",
      "   -------------------------------------- - 48.2/50.1 MB 1.4 MB/s eta 0:00:02\n",
      "   -------------------------------------- - 48.8/50.1 MB 1.4 MB/s eta 0:00:01\n",
      "   ---------------------------------------  49.0/50.1 MB 1.4 MB/s eta 0:00:01\n",
      "   ---------------------------------------  49.3/50.1 MB 1.4 MB/s eta 0:00:01\n",
      "   ---------------------------------------  49.8/50.1 MB 1.4 MB/s eta 0:00:01\n",
      "   ---------------------------------------  50.1/50.1 MB 1.5 MB/s eta 0:00:01\n",
      "   ---------------------------------------  50.1/50.1 MB 1.5 MB/s eta 0:00:01\n",
      "   ---------------------------------------  50.1/50.1 MB 1.5 MB/s eta 0:00:01\n",
      "   ---------------------------------------- 50.1/50.1 MB 1.4 MB/s eta 0:00:00\n",
      "Downloading PyQt5_sip-12.16.1-cp311-cp311-win_amd64.whl (58 kB)\n",
      "Installing collected packages: PyQt5-Qt5, PyQt5-sip, PyQt5\n",
      "Successfully installed PyQt5-5.15.11 PyQt5-Qt5-5.15.2 PyQt5-sip-12.16.1\n"
     ]
    }
   ],
   "source": [
    "%pip install PyQt5"
   ]
  },
  {
   "cell_type": "code",
   "execution_count": null,
   "id": "ead06efd",
   "metadata": {},
   "outputs": [],
   "source": [
    "import numpy as np\n",
    "import pandas as pd\n",
    "import matplotlib.pyplot as plt\n",
    "import scipy.special as sp\n",
    "import sympy as sm\n",
    "from scipy.special import erf\n",
    "from sympy import symbols,diff\n",
    "\n",
    "def gelu(x):\n",
    "    return 0.5 * x * (1 + np.tanh(np.sqrt(2/np.pi) * (x + 0.044715 * pow(x,3)))) #sqrt(2/pi) approximation is 0.797885\n",
    "    # 0.5 * x * (1 + np.tanh(np.sqrt(2 / np.pi) * (x + 0.044715 * x**3)))\n",
    "\n",
    "x_values=np.linspace(-6,6,50)\n",
    "y_values=gelu(x_values)\n",
    "\n",
    "plt.plot(x_values,y_values,color='indigo',label=\"Gelu(x) in the preceding layers of the transformer\", marker='o')\n",
    "plt.ylabel('Output(Gelu(x)) at the layer 1 in the preceding layer')\n",
    "plt.xlabel('Input(x)')\n",
    "plt.axhline(0,color='red',linestyle='--')\n",
    "plt.legend()\n",
    "plt.grid(True)\n",
    "print(y_values)\n",
    "plt.show()\n",
    "\n",
    "def gelu(x):\n",
    "    return 0.5 * x * (1 + np.tanh(np.sqrt(2/np.pi) * (x + 0.044715 * pow(x,3)))) #sqrt(2/pi) approximation is 0.797885\n",
    "    # 0.5 * x * (1 + np.tanh(np.sqrt(2 / np.pi) * (x + 0.044715 * x**3)))\n",
    "\n",
    "x_values=np.linspace(-6,6,50)\n",
    "y_values=gelu(x_values)\n",
    "plt.figure(figsize=(8, 5))\n",
    "plt.plot(x_values,y_values,color='indigo',label=\"Gelu(x) in the preceding layers of the transformer\", marker='o')\n",
    "plt.ylabel('Output(Gelu(x)) at the layer 1 in the preceding layer')\n",
    "plt.xlabel('Input(x)')\n",
    "plt.axhline(0,color='red',linestyle='--')\n",
    "plt.axvline(0,color='red',linestyle='--')\n",
    "plt.legend()\n",
    "plt.grid(True)\n",
    "print(y_values)\n",
    "plt.show()\n"
   ]
  },
  {
   "cell_type": "code",
   "execution_count": null,
   "id": "09fe678c",
   "metadata": {},
   "outputs": [],
   "source": [
    "from scipy.special import erf\n",
    "\n",
    "def sinh(x):\n",
    "    return np.log(np.arcsin(x))                                   #np.sinh(x)\n",
    "\n",
    "x_values=np.linspace(-6,6,500)\n",
    "y_values=sinh(x_values)\n",
    "\n",
    "plt.plot(x_values,y_values,color='indigo',label=\"Gelu(x) in the preceding layers of the transformer\", marker='o')\n",
    "plt.ylabel('Output(Gelu(x)) at the layer 1 in the preceding layer')\n",
    "plt.xlabel('Input(x)')\n",
    "plt.axhline(0,color='red',linestyle='--')\n",
    "plt.axvline(0,color='blue',linestyle='--')\n",
    "plt.legend()\n",
    "plt.grid(True)\n",
    "print(y_values)\n",
    "plt.show()"
   ]
  },
  {
   "cell_type": "code",
   "execution_count": null,
   "id": "d7dbd752",
   "metadata": {},
   "outputs": [],
   "source": [
    "import numpy as np\n",
    "import pandas as pd\n",
    "import matplotlib.pyplot as plt\n",
    "import scipy.special as sp\n",
    "import sympy as sm\n",
    "from scipy.special import erf\n",
    "from sympy import symbols,diff\n",
    "\n",
    "# Normal    Probability distribution of the inpur tokens in the stream of (4096 - Used Token size)\n",
    "mean=0\n",
    "variance=1\n",
    "std_dev=np.sqrt(variance)\n",
    "\n",
    "def gelu(x):\n",
    "    return 1/(np.sqrt(2 * np.pi* pow(variance,2))) * (np.exp(-(x - mean)**2) / (2 * variance**2))\n",
    "x_values=np.linspace(-6,6)\n",
    "y_values=gelu(x_values)\n",
    "\n",
    "plt.plot(x_values,y_values,color='indigo',label=\"Gelu(x) in the preceding layers of the transformer\", marker='o')\n",
    "plt.ylabel('Output(Gelu(x)) at the layer 1 in the preceding layer')\n",
    "plt.xlabel('Input(x)')\n",
    "plt.axhline(0,color='red',linestyle='--')\n",
    "plt.axvline(0,color='orange',linestyle='--')\n",
    "plt.legend()\n",
    "plt.grid(True)\n",
    "print(y_values)\n",
    "plt.show()\n",
    "\n",
    "\n"
   ]
  },
  {
   "cell_type": "code",
   "execution_count": null,
   "id": "7502297d",
   "metadata": {},
   "outputs": [],
   "source": [
    "#Computation in the case of Normal distribution\n",
    "import numpy as np\n",
    "import matplotlib.pyplot as plt \n",
    "import pandas as pd\n",
    "import scipy.special as sp\n",
    "import sympy as sm \n",
    "from scipy.special import erf\n",
    "from sympy import symbols,diff\n",
    "mean=0\n",
    "variance=1\n",
    "std_dev=np.sqrt(variance)\n",
    "\n",
    "def Norm_Dist(x):\n",
    "    return 1/(np.sqrt(2 * np.pi * pow(variance,2))) * ((-(x - pow(mean,2))) / (2 * pow(variance,2)))\n",
    "x_values=np.linspace(-6,6,1000)\n",
    "y_values=Norm_Dist(x_values)\n",
    "plt.plot(x_values,y_values,color='indigo',label='Function at the 5th transformer ')\n",
    "plt.xlabel('Input(x)')\n",
    "plt.ylabel('Output(x) Normal distribution at the end of the 5th Transformer layer') \n",
    "plt.axhline(0,color='red', linestyle='--')\n",
    "plt.axvline(0,color='green', linestyle='--')"
   ]
  },
  {
   "cell_type": "code",
   "execution_count": null,
   "id": "ba53dbfc",
   "metadata": {},
   "outputs": [],
   "source": [
    "def leaky_relu(x,alpha=0.1):\n",
    "    return np.where(x > 0 , x ,alpha * x )\n",
    "\n",
    "x_values=np.linspace(-8 , 8 ,100)\n",
    "y_values=leaky_relu(x_values)\n",
    "\n",
    "plt.plot(x_values,y_values,marker='o',color='maroon',label='Function at the output layers of the transformer block')\n",
    "plt.ylabel('Output(Leaky_relu(x))')\n",
    "plt.xlabel('Input(x)')\n",
    "plt.axhline(0,color='red',linestyle='--')\n",
    "plt.axvline(0,color='blue',linestyle='--')\n",
    "plt.grid(True)\n",
    "plt.legend()\n",
    "print(y_values)\n",
    "plt.show()\n",
    "\n",
    "import numpy as np\n",
    "import matplotlib.pyplot as plt\n",
    "\n",
    "# Define the Leaky ReLU activation function\n",
    "def leaky_relu(x, alpha=0.1):\n",
    "    return np.where(x > 0, x, alpha * x)\n",
    "\n",
    "# Generate a range of x values\n",
    "x_values = np.linspace(-6, 6, 100)\n",
    "y_values = leaky_relu(x_values)\n",
    "\n",
    "# Plot the Leaky ReLU activation function\n",
    "plt.figure(figsize=(8, 5))\n",
    "plt.plot(x_values, y_values, label=r'Leaky ReLU ($\\alpha=0.01$)', color='purple')\n",
    "plt.axhline(0,color='red',linestyle='--')\n",
    "plt.axvline(0,color='blue',linestyle='--')\n",
    "plt.title(\"Leaky ReLU Activation Function\")\n",
    "plt.xlabel(\"x\")\n",
    "plt.ylabel(\"Leaky ReLU(x)\")\n",
    "plt.grid(True)\n",
    "plt.legend()\n",
    "plt.show()\n"
   ]
  },
  {
   "cell_type": "code",
   "execution_count": 7,
   "id": "10a2935f",
   "metadata": {},
   "outputs": [],
   "source": [
    "# import torch\n",
    "# import torch.nn as nn\n",
    "# import torch.nn.functional as F\n",
    "# import pandas as pd\n",
    "# import numpy as np\n",
    "\n",
    "\n",
    "# # Define the SELU Activation Function\n",
    "# class SELU(nn.Module):\n",
    "#     def __init__(self):\n",
    "#         super(SELU, self).__init__()\n",
    "#         self.alpha = 1.67326\n",
    "#         self.scale = 1.0507\n",
    "\n",
    "#     def forward(self, x):\n",
    "#         return self.scale * torch.where(x > 0, x, self.alpha * (torch.exp(x) - 1))\n",
    "\n",
    "# # Custom Transformer Block with SELU\n",
    "# class CustomTransformerLayer(nn.Module):\n",
    "#     def __init__(self, d_model, num_heads, dim_feedforward, dropout=0.1):\n",
    "#         super(CustomTransformerLayer, self).__init__()\n",
    "#         self.self_attn = nn.MultiheadAttention(d_model, num_heads, dropout=dropout)\n",
    "#         self.linear1 = nn.Linear(d_model, dim_feedforward)\n",
    "#         self.selu = SELU()  # Using custom SELU activation\n",
    "#         self.linear2 = nn.Linear(dim_feedforward, d_model)\n",
    "#         self.norm1 = nn.LayerNorm(d_model)\n",
    "#         self.norm2 = nn.LayerNorm(d_model)\n",
    "#         self.dropout = nn.Dropout(dropout)\n",
    "\n",
    "#     def forward(self, src):\n",
    "#         # Self-attention part\n",
    "#         src2 = self.self_attn(src,src,src)[0]\n",
    "#         src = src + self.dropout(src2)\n",
    "#         src = self.norm1(src)\n",
    "        \n",
    "#         # Feedforward part with SELU activation\n",
    "#         src2 = self.linear2(self.selu(self.linear1(src)))\n",
    "#         src = src + self.dropout(src2)\n",
    "#         src = self.norm2(src)\n",
    "#         return src\n",
    "# # d_model = 256 \n",
    "# # num_heads = 1024\n",
    "# # dim_feedforward = 8192\n",
    "\n",
    "# d_model = 256\n",
    "# num_heads = 1024\n",
    "# dim_feedforward = 8192 \n",
    "\n",
    "# transformer_layer = CustomTransformerLayer(d_model, num_heads, dim_feedforward)\n",
    "# x = torch.randn(10, 32, d_model)  \n",
    "# output = transformer_layer(x)\n",
    "# print(output.shape)  "
   ]
  },
  {
   "cell_type": "code",
   "execution_count": null,
   "id": "003738e1",
   "metadata": {},
   "outputs": [],
   "source": [
    "import scipy.special as sp\n",
    "import sympy as sm\n",
    "import pandas as pd\n",
    "import matplotlib.pyplot as plt\n",
    "from sympy import symbols,diff\n",
    "\n",
    "x=sm.symbols('x')\n",
    "f_x=sm.exp(sm.sinh(x)) \n",
    "d_f_x=sm.diff(f_x) #100*z16**8*cosh(2*z16**5) + 16*z16**6*exp(z16**4) + 40*z16**3*sinh(2*z16**5) + 12*z16**2*exp(z16**4) - 5/z16**2\n",
    "d_d_f_x=sm.diff(d_f_x)\n",
    "print(f\"Input Function in the Layer-1 of the transformer: {d_f_x}\") #exp(sinh(x))*cosh(x)\n",
    "print(f\"Output Function in the Layer-1 of the transformer: {d_d_f_x}\") #exp(sinh(x))*sinh(x) + exp(sinh(x))*cosh(x)**2\n",
    "\n",
    "y=sm.symbols('y')\n",
    "f_y=sm.log(sm.asin(y))\n",
    "d_f_y=sm.diff(f_y)\n",
    "d_d_f_y=sm.diff(d_f_y)\n",
    "print(f\"Input Function in the Layer-2 of the transformer: {d_f_y}\")#1/(sqrt(1 - y**2)*asin(y))\n",
    "print(f\"Output Function in the Layer-2 of the transformer: {d_d_f_y}\")#y/((1 - y**2)**(3/2)*asin(y)) - 1/((1 - y**2)*asin(y)**2)\n",
    "\n",
    "s=sm.symbols('s')\n",
    "f_s=sm.exp(sm.cos(s))\n",
    "d_f_s=sm.diff(f_s)\n",
    "d_d_f_s=sm.diff(d_f_s)\n",
    "print(f\"Input Function in the Layer-3 of the transformer: {d_f_s}\")#-exp(cos(s))*sin(s)\n",
    "print(f\"Output Function in the Layer-3 of the transformer: {d_d_f_s}\")#exp(cos(s))*sin(s)**2 - exp(cos(s))*cos(s)\n",
    "\n",
    "p=sm.symbols('p')\n",
    "f_p=sm.log(sm.sinh(p))\n",
    "d_f_p=sm.diff(f_p)\n",
    "d_d_f_p=sm.diff(d_f_p)\n",
    "print(f\"Input Function in the Layer-4 of the transformer: {d_f_p}\")#cosh(p)/sinh(p)\n",
    "print(f\"Output Function in the Layer-4 of the transformer: {d_d_f_p}\")#1 - cosh(p)**2/sinh(p)**2\n",
    "\n",
    "m=sm.symbols('m')\n",
    "f_m=(sm.atan(m)) \n",
    "d_f_m=sm.diff(f_m)\n",
    "d_d_f_m=sm.diff(d_f_m)\n",
    "print(f\"Input Function in the Layer-5 of the transformer: {d_f_m}\")# 1/(m**2 + 1)\n",
    "print(f\"Output Function in the Layer-5 of the transformer: {d_d_f_m}\")# -2*m/(m**2 + 1)**2\n",
    "\n",
    "u=sm.symbols('u')\n",
    "f_u=sm.log(sm.acos(u)) \n",
    "d_f_u=sm.diff(f_u)\n",
    "d_d_f_u=sm.diff(d_f_u)\n",
    "print(f\"Input Function in the Layer-6 of the transformer: {d_f_u}\")# -1/(sqrt(1 - u**2)*acos(u))\n",
    "print(f\"Output Function in the Layer-6 of the transformer: {d_d_f_u}\")# -u/((1 - u**2)**(3/2)*acos(u)) - 1/((1 - u**2)*acos(u)**2)\n",
    "\n",
    "a=sm.symbols('a')                                               \n",
    "f_a=sm.exp(sm.asin(a))\n",
    "d_f_a=sm.diff(f_a)\n",
    "d_d_f_a=sm.diff(d_f_a)\n",
    "print(f\"Input Function in the Layer-7 of the transformer: {d_f_a}\")# exp(asin(a))/sqrt(1 - a**2)\n",
    "print(f\"Output Function in the Layer-7 of the transformer: {d_d_f_a}\")#a*exp(asin(a))/(1 - a**2)**(3/2) + exp(asin(a))/(1 - a**2)\n",
    "\n",
    "b=symbols('b')\n",
    "f_b=sm.atan(b)\n",
    "d_f_b=sm.diff(f_b)\n",
    "d_d_f_b=sm.diff(d_f_b)\n",
    "print(f\"Input Function in the Layer-8 of the transformer: {d_f_b}\")# 1/(b**2 + 1)\n",
    "print(f\"Output Function in the Layer-8 of the transformer: {d_d_f_b}\")# -2*b/(b**2 + 1)**2\n",
    "\n",
    "\n",
    "\n",
    "m=sm.symbols('m')                                               \n",
    "f_m=(sm.atan(m)) \n",
    "d_f_m=sm.diff(f_m)\n",
    "d_d_f_m=sm.diff(d_f_m)\n",
    "print(f\"Input Function in the Layer-9 of the transformer: {d_f_m}\")# 1/(m**2 + 1)\n",
    "print(f\"Output Function in the Layer-9 of the transformer: {d_d_f_m}\")# -2*m/(m**2 + 1)**2\n",
    "\n",
    "n=symbols('n')\n",
    "f_n=sm.acos(n) \n",
    "d_f_n=sm.diff(f_n)\n",
    "d_d_f_n=sm.diff(d_f_n)\n",
    "print(f\"Input Function in the Layer-10 of the transformer: {d_f_n}\")# -1/sqrt(1 - n**2)\n",
    "print(f\"Output Function in the Layer-10 of the transformer: {d_d_f_n}\") # -n/(1 - n**2)**(3/2)\n",
    "\n"
   ]
  },
  {
   "cell_type": "code",
   "execution_count": null,
   "id": "792af2c1",
   "metadata": {},
   "outputs": [],
   "source": [
    "import numpy as np\n",
    "import matplotlib.pyplot as plt\n",
    "import pandas as pd\n",
    "import scipy.special as sp\n",
    "import sympy as sm\n",
    "from sympy import symbols,diff\n",
    "from scipy.special import erf\n",
    "\n",
    "def Mixed_f(x):\n",
    "    return np.arcsin(x) + np.arccos(x) + np.arctan(x) \n",
    "\n",
    "x_values=np.linspace(-3,3,100)\n",
    "y_values=Mixed_f(x_values)\n",
    "\n",
    "plt.plot(x_values,y_values,color='orange',label='Mixed_Function at the level-2 transformer layer', marker='o')\n",
    "plt.xlabel('Input(x)')\n",
    "plt.ylabel('Mixed_f(x) at the Transformer level-2')\n",
    "plt.legend()\n",
    "plt.grid(True)\n",
    "plt.axhline(0,color='red',linestyle='--')\n",
    "plt.axvline(0,color='green',linestyle='--')\n",
    "print(y_values)\n",
    "plt.show()\n"
   ]
  },
  {
   "cell_type": "code",
   "execution_count": null,
   "id": "e8c18baa",
   "metadata": {},
   "outputs": [],
   "source": [
    "import scipy.special as sp\n",
    "import matplotlib.pyplot as plt\n",
    "from scipy.special import erf\n",
    "import numpy as np\n",
    "import sympy as sm\n",
    "x_values=range(-10, 10,1 )\n",
    "erf_x=sp.erf(x_values)\n",
    "plt.plot(x_values,erf_x,color='red',label='Accuracy Function at the pushed transformer layer-2', marker='o')\n",
    "plt.xlabel('Input(x)')\n",
    "plt.ylabel('Accuracy function Transformer level-2')\n",
    "plt.legend()\n",
    "plt.grid(True)\n",
    "plt.axhline(0,color='blue',linestyle='--')\n",
    "plt.axvline(0,color='green',linestyle='--')\n",
    "print(erf_x)\n",
    "plt.show()\n"
   ]
  },
  {
   "cell_type": "code",
   "execution_count": null,
   "id": "65489da6",
   "metadata": {},
   "outputs": [],
   "source": [
    "def leaky_relu(x,alpha=0.01):\n",
    "    return np.where(x > 0, x , alpha * x)\n",
    "\n",
    "x_values=np.linspace(-8,8,50)\n",
    "y_values=leaky_relu(x_values)\n",
    "\n",
    "plt.plot(x_values,y_values, color='magenta', label='Function at the final layer of the transformer', marker='o')\n",
    "plt.xlabel('Input(x)')\n",
    "plt.ylabel('Output at the end of the transformer layer')\n",
    "plt.axhline(0,color='blue', linestyle='--')\n",
    "plt.axvline(0,color='green', linestyle='--')\n",
    "plt.legend()\n",
    "plt.grid(True)\n",
    "print(f'The augumented values at the end of the transformer layer are:{y_values}')"
   ]
  },
  {
   "cell_type": "code",
   "execution_count": null,
   "id": "a942f575",
   "metadata": {},
   "outputs": [],
   "source": [
    "def sinh(x):\n",
    "    return np.sinh(x)\n",
    "\n",
    "x_values=np.linspace(-6,6,25)\n",
    "y_values=np.sinh(x_values)\n",
    "\n",
    "plt.plot(x_values,y_values, color='indigo' , label='Transformer output layer', marker='o')\n",
    "plt.xlabel('Input(x)')\n",
    "plt.ylabel('Output at the end of the transformer layer( inverse of the sine function)')\n",
    "plt.axhline(0,color='blue',linestyle='--')\n",
    "plt.axvline(0,color='green',linestyle='--')\n",
    "plt.grid(True)\n",
    "plt.legend()\n",
    "print(f\"Values at the level 2 activation function are : {y_values}\")\n",
    "plt.show()\n",
    "\n",
    "\n",
    "def cosh(x):\n",
    "    return np.cosh(x)\n",
    "\n",
    "x_values=np.linspace(-6,6,35)\n",
    "y_values=np.cosh(x_values)\n",
    "\n",
    "plt.plot(x_values,y_values, color='maroon' , label='Transformer output layer', marker='o')\n",
    "plt.xlabel('Input(x)')\n",
    "plt.ylabel('Output at the end of the transformer layer( inverse of the cosine function)')\n",
    "plt.axhline(0,color='blue',linestyle='--')\n",
    "plt.axvline(0,color='green',linestyle='--')\n",
    "plt.grid(True)\n",
    "plt.legend()\n",
    "print(f\"Values at the level 2 activation function are : {y_values}\")\n",
    "plt.show()"
   ]
  },
  {
   "cell_type": "code",
   "execution_count": null,
   "id": "057d965a",
   "metadata": {},
   "outputs": [],
   "source": [
    "def selu(x,alpha=1.6732 ):\n",
    "    return np.where(x > 0, 1.0507 * x, alpha * 1.0507 * (np.exp(x) - 1) )\n",
    "\n",
    "x_values=np.linspace(-40, 40)\n",
    "y_values=selu(x_values)\n",
    "\n",
    "plt.plot(x_values,y_values, color='Maroon', label='Function at the end of the 4th Transformer layer', marker='o')\n",
    "plt.xlabel('Input(x)')\n",
    "plt.ylabel('Output Function selu(x) ath the 4th Transformer layer')\n",
    "plt.grid(True)\n",
    "plt.legend()\n",
    "plt.axhline(0, color='Blue' , linestyle='--')\n",
    "plt.axvline(0, color='Green' , linestyle='--')\n",
    "print(f\"The value of the selu function in the 4th transformer layer is: {y_values}\")\n",
    "plt.show"
   ]
  },
  {
   "cell_type": "code",
   "execution_count": null,
   "id": "065ffc94",
   "metadata": {},
   "outputs": [],
   "source": [
    "import sympy as sm\n",
    "import pandas as pd\n",
    "import numpy as np\n",
    "import matplotlib.pyplot as plt\n",
    "import scipy.special as sp\n",
    "from scipy.special import erf\n",
    "from sympy import symbols,diff\n",
    "\n",
    "x=sm.symbols('x')\n",
    "g_x = 0.5 * x * (1 + sm.tanh(sm.sqrt(2/sm.pi)) * (x + 0.044715 ** 3))\n",
    "d_g_x=sm.diff(g_x)\n",
    "print(f'Output Function at the end of the domain: {d_g_x} ')\n"
   ]
  },
  {
   "cell_type": "code",
   "execution_count": null,
   "id": "d8f3503f",
   "metadata": {},
   "outputs": [],
   "source": [
    "def d_g_x(x):\n",
    "    return 0.5 * x * np.tanh(np.sqrt(2)/np.sqrt(np.pi)) + 0.5*(x + 8.9404567225875e-5)*np.tanh(np.sqrt(2)/np.sqrt(np.pi)) + 0.5\n",
    "\n",
    "x_values=np.linspace(-8, 8, 50)\n",
    "y_values=d_g_x(x_values)\n",
    "\n",
    "plt.plot(x_values,y_values, color= 'green', label='Function used in the backpropagation')\n",
    "plt.xlabel('Input(x)')\n",
    "plt.ylabel('Output function during the backpropagation')\n",
    "plt.grid(True)\n",
    "plt.legend()\n",
    "plt.axhline(0, color='Black' , linestyle='--')\n",
    "plt.axvline(0, color='Red' , linestyle='--')\n",
    "print(f'Function values at the augmemted domain: {y_values}')\n",
    "plt.show()\n"
   ]
  },
  {
   "cell_type": "code",
   "execution_count": null,
   "id": "cc18aa48",
   "metadata": {},
   "outputs": [],
   "source": [
    "def isrlu(x,alpha= 0.1 ):\n",
    "    return np.where(x > 0, x, x*(1 + (np.sqrt(1 + alpha * pow(x,2)))))\n",
    "\n",
    "x_values=np.linspace(-40, 40)\n",
    "y_values=selu(x_values)\n",
    "\n",
    "plt.plot(x_values,y_values, color='Maroon', label='Function at the end of the 4th Transformer layer', marker='o')\n",
    "plt.xlabel('Input(x)')\n",
    "plt.ylabel('Output Function selu(x) ath the 4th Transformer layer')\n",
    "plt.grid(True)\n",
    "plt.legend()\n",
    "plt.axhline(0, color='Blue' , linestyle='--')\n",
    "plt.axvline(0, color='Green' , linestyle='--')\n",
    "print(f\"The value of the selu function in the 4th transformer layer is: {y_values}\")\n",
    "plt.show"
   ]
  },
  {
   "cell_type": "code",
   "execution_count": null,
   "id": "5633d9b2",
   "metadata": {},
   "outputs": [],
   "source": [
    "def elu(x,alpha=1):\n",
    "    return np.where(x > 0,x ,alpha * (np.exp(x) - 1) )\n",
    "\n",
    "x_values=np.linspace(-60,60,50)\n",
    "y_values=elu(x_values)\n",
    "\n",
    "plt.plot(x_values,y_values, color='Red', label='Function at the end of the 5th Transformer layer', marker='o')\n",
    "plt.xlabel('Input(x)')\n",
    "plt.ylabel('Output Function selu(x) ath the 5th Transformer layer')\n",
    "plt.grid(True)\n",
    "plt.legend()\n",
    "plt.axhline(0, color='Blue' , linestyle='--')\n",
    "plt.axvline(0, color='Green' , linestyle='--')\n",
    "print(f\"The value of the selu function in the 5th transformer layer is: {y_values}\")\n",
    "plt.show"
   ]
  },
  {
   "cell_type": "code",
   "execution_count": null,
   "id": "6766df89",
   "metadata": {},
   "outputs": [],
   "source": [
    "import numpy as np\n",
    "import matplotlib.pyplot as plt\n",
    "from scipy.stats import norm\n",
    "\n",
    "# Parameters for the normal  distribution where the mean=0 and std_dev is 1 and the function is centered around mean=0\n",
    "mean = 0  # Mean (μ)\n",
    "std_dev = 1  # Standard Deviation (σ)\n",
    "x = np.linspace(mean - 4*std_dev, mean + 4*std_dev, 1000)\n",
    "y = norm.pdf(x, mean, std_dev)\n",
    "\n",
    "# Plot the normal distribution curve\n",
    "#plt.figure(figsize=(12, 6))\n",
    "plt.plot(x, y, label='Normal Distribution', color='blue')\n",
    "\n",
    "# Fill areas under the curve\n",
    "x_fill_68 = np.linspace(mean - std_dev, mean + std_dev, 1000)\n",
    "x_fill_95 = np.linspace(mean - 2*std_dev, mean + 2*std_dev, 1000)\n",
    "x_fill_997 = np.linspace(mean - 3*std_dev, mean + 3*std_dev, 1000)\n",
    "\n",
    "plt.fill_between(x_fill_68, norm.pdf(x_fill_68, mean, std_dev), alpha=0.5, color='Orange', label='68.5% (1σ)')\n",
    "plt.fill_between(x_fill_95, norm.pdf(x_fill_95, mean, std_dev), alpha=0.3, color='Blue', label='95.6% (2σ)')\n",
    "plt.fill_between(x_fill_997, norm.pdf(x_fill_997, mean, std_dev), alpha=0.2, color='Green', label='99.7% (3σ)')\n",
    "\n",
    "# Draw vertical lines at ±1σ, ±2σ, ±3σ\n",
    "for i in range(1, 4):\n",
    "    plt.axvline(mean + i*std_dev, color='red', linestyle='--', linewidth=1)\n",
    "    plt.axvline(mean - i*std_dev, color='red', linestyle='--', linewidth=1)\n",
    "    plt.text(mean + i*std_dev, 0.02, f'μ+{i}σ', color='black', ha='center')\n",
    "    plt.text(mean - i*std_dev, 0.02, f'μ-{i}σ', color='black', ha='center')\n",
    "\n",
    "# Label the mean\n",
    "plt.axvline(mean, color='black', linestyle='--', linewidth=1)\n",
    "plt.text(mean, 0.02, 'μ', color='black', ha='center')\n",
    "\n",
    "# Labels and Title\n",
    "plt.title('Probabilty distribution pf the modelled tokens ', fontsize=14)\n",
    "plt.xlabel('Value', fontsize=12)\n",
    "plt.ylabel('Probability Density', fontsize=12)\n",
    "plt.legend(loc='upper left')\n",
    "plt.grid(alpha=0.3)\n",
    "\n",
    "# Show plot\n",
    "plt.tight_layout()\n",
    "plt.show()\n"
   ]
  },
  {
   "cell_type": "code",
   "execution_count": null,
   "id": "ae35efea",
   "metadata": {},
   "outputs": [],
   "source": [
    "import matplotlib.pyplot as plt\n",
    "import pandas as pd\n",
    "import scipy.special as sp\n",
    "from scipy.special import erf\n",
    "import sympy as sm\n",
    "from sympy import diff,symbols\n",
    "\n",
    "#Transformer functions in the 2nd Dimension for the earlier modelled 12 layers\n",
    "\n",
    "x=sm.symbols('x')\n",
    "f_x=sm.exp(sm.sinh(x)) + sm.tanh(x**2)\n",
    "d_f_x=sm.diff(f_x)#2*x*(1 - tanh(x**2)**2) + exp(sinh(x))*cosh(x)\n",
    "d_d_f_x=sm.diff(d_f_x)#-8*x**2*(1 - tanh(x**2)**2)*tanh(x**2) + exp(sinh(x))*sinh(x) + exp(sinh(x))*cosh(x)**2 - 2*tanh(x**2)**2 + 2\n",
    "print(f'(2nd Dimension, Layer 1,Input Function: {d_f_x}')\n",
    "print(f'(2nd Dimension, Layer 1,Output Function: {d_d_f_x}')\n",
    "\n",
    "\n",
    "y=sm.symbols('y')\n",
    "f_y=1/(sm.sqrt(1 - pow(y,2)) * sm.asin(y))#\n",
    "d_f_y=sm.diff(f_y)#y/((1 - y**2)**(3/2)*asin(y)) - 1/((1 - y**2)*asin(y)**2)\n",
    "d_d_f_y=sm.diff(d_f_y)#3*y**2/((1 - y**2)**(5/2)*asin(y)) - 3*y/((1 - y**2)**2*asin(y)**2) + 1/((1 - y**2)**(3/2)*asin(y)) + 2/((1 - y**2)**(3/2)*asin(y)**3)\n",
    "print(f'(2nd Dimension, Layer 2,Input Function: {d_f_y}')\n",
    "print(f'(2nd Dimension, Layer 2,Output Function: {d_d_f_y}')\n",
    "\n",
    "z=sm.symbols('z')\n",
    "f_z=sm.exp(sm.cos(z)) * sm.sin(z)\n",
    "d_f_z=sm.diff(f_z)#-exp(cos(z))*sin(z)**2 + exp(cos(z))*cos(z)\n",
    "d_d_f_z=sm.diff(d_f_z)# exp(cos(z))*sin(z)**3 - 3*exp(cos(z))*sin(z)*cos(z) - exp(cos(z))*sin(z)\n",
    "print(f'(2nd Dimension, Layer 3,Input Function: {d_f_z}')\n",
    "print(f'(2nd Dimension, Layer 3,Output Function: {d_d_f_z}')\n",
    "\n",
    "p=sm.symbols('p')\n",
    "f_p=sm.cosh(p)/sm.sinh(p)\n",
    "d_f_p=sm.diff(f_p)# 1 - cosh(p)**2/sinh(p)**2\n",
    "d_d_f_p=sm.diff(d_f_p)# -2*cosh(p)/sinh(p) + 2*cosh(p)**3/sinh(p)**3\n",
    "print(f'(2nd Dimension, Layer 4,Input Function: {d_f_p}')\n",
    "print(f'(2nd Dimension, Layer 4,Output Function: {d_d_f_p}')\n",
    "\n",
    "r=sm.symbols('r')\n",
    "f_r=sm.cosh(r)/sm.sinh(r)\n",
    "d_f_r=sm.diff(f_r)# 1 - cosh(r)**2/sinh(r)**2\n",
    "d_d_f_r=sm.diff(d_f_r)# -2*cosh(r)/sinh(r) + 2*cosh(r)**3/sinh(r)**3\n",
    "print(f'(2nd Dimension, Layer 5,Input Function: {d_f_r}')\n",
    "print(f'(2nd Dimension, Layer 5,Output Function: {d_d_f_r}')\n",
    "\n",
    "s=sm.symbols('s')\n",
    "f_s=1/(s**2 + 1)\n",
    "d_f_s=sm.diff(f_s)# -2*s/(s**2 + 1)**2 \n",
    "d_d_f_s=sm.diff(d_f_s)# 8*s**2/(s**2 + 1)**3 - 2/(s**2 + 1)**2\n",
    "print(f'(2nd Dimension, Layer 6,Input Function: {d_f_s}')\n",
    "print(f'(2nd Dimension, Layer 6,Output Function: {d_d_f_s}')\n",
    "\n",
    "d=sm.symbols('d')\n",
    "f_d=1/(d**2 + 1)\n",
    "d_f_d=sm.diff(f_d)# -2*s/(s**2 + 1)**2\n",
    "d_d_f_d=sm.diff(d_f_d)# 8*s**2/(s**2 + 1)**3 - 2/(s**2 + 1)**2\n",
    "print(f'(2nd Dimension, Layer 7,Input Function: {d_f_d}')\n",
    "print(f'(2nd Dimension, Layer 7,Output Function: {d_d_f_d}')\n",
    "\n",
    "e=sm.symbols('e')\n",
    "f_e= -2*e/(e**2 + 1)**2\n",
    "d_f_e=sm.diff(f_e)# 8*e**2/(e**2 + 1)**3 - 2/(e**2 + 1)**2\n",
    "d_d_f_e=sm.diff(d_f_e)# -48*e**3/(e**2 + 1)**4 + 24*e/(e**2 + 1)**3\n",
    "print(f'(2nd Dimension, Layer 8,Input Function: {d_f_e}')\n",
    "print(f'(2nd Dimension, Layer 8,Output Function: {d_d_f_e}')\n",
    "\n",
    "f=sm.symbols('f')\n",
    "f_f= -1/sm.sqrt(1 - f**2)\n",
    "d_f_f=sm.diff(f_f)# -f/(1 - f**2)**(3/2)\n",
    "d_d_f_f=sm.diff(d_f_f)# -3*f**2/(1 - f**2)**(5/2) - 1/(1 - f**2)**(3/2)\n",
    "print(f'(2nd Dimension, Layer 9,Input Function: {d_f_f}')\n",
    "print(f'(2nd Dimension, Layer 9,Output Function: {d_d_f_f}')\n",
    "\n",
    "m=sm.symbols('m')\n",
    "f_m= 1 - sm.cosh(m)**2/sm.sinh(m)**2\n",
    "d_f_m=sm.diff(f_m)# -2*cosh(m)/sinh(m) + 2*cosh(m)**3/sinh(m)**3\n",
    "d_d_f_m=sm.diff(d_f_m)# -2 + 8*cosh(m)**2/sinh(m)**2 - 6*cosh(m)**4/sinh(m)**4\n",
    "print(f'(2nd Dimension, Layer 10,Input Function: {d_f_m}')\n",
    "print(f'(2nd Dimension, Layer 10,Output Function: {d_d_f_m}')\n",
    "\n",
    "\n",
    "n=sm.symbols('n')\n",
    "f_n= 1 - sm.cosh(n)**2/sm.sinh(n)**2\n",
    "d_f_n=sm.diff(f_n)# -2*cosh(n)/sinh(n) + 2*cosh(n)**3/sinh(n)**3\n",
    "d_d_f_n=sm.diff(d_f_n)# -2 + 8*cosh(n)**2/sinh(n)**2 - 6*cosh(n)**4/sinh(n)**4\n",
    "print(f'(2nd Dimension, Layer 11,Input Function: {d_f_n}')\n",
    "print(f'(2nd Dimension, Layer 11,Output Function: {d_d_f_n}')\n",
    "\n",
    "o=sm.symbols('o')\n",
    "f_o= -o/((1 - o**2)**(3/2) * sm.acos(o)) - 1/((1 - o**2) * sm.acos(o)**2)\n",
    "d_f_o=sm.diff(f_o)# -3.0*o**2/((1 - o**2)**2.5*acos(o)) - o/((1 - o**2)**2.0*acos(o)**2) - 2*o/((1 - o**2)**2*acos(o)**2) - 1/((1 - o**2)**1.5*acos(o)) - 2/((1 - o**2)**(3/2)*acos(o)**3) \n",
    "d_d_f_o=sm.diff(d_f_o)# -15.0*o**3/((1 - o**2)**3.5*acos(o)) - 7.0*o**2/((1 - o**2)**3.0*acos(o)**2) - 8*o**2/((1 - o**2)**3*acos(o)**2) - 9.0*o/((1 - o**2)**2.5*acos(o)) - 2*o/((1 - o**2)**2.5*acos(o)**3) - 10*o/((1 - o**2)**(5/2)*acos(o)**3) - 2/((1 - o**2)**2.0*acos(o)**2) - 2/((1 - o**2)**2*acos(o)**2) - 6/((1 - o**2)**2*acos(o)**4)\n",
    "print(f'(2nd Dimension, Layer 12,Input Function: {d_f_o}')\n",
    "print(f'(2nd Dimension, Layer 12,Output Function: {d_d_f_o}')\n",
    "\n",
    "j=sm.symbols('j')\n",
    "f_j= -j/((1 - j**2)**(3/2) * sm.acos(j)) - 1/((1 - j**2) * sm.acos(j)**2)\n",
    "d_f_j=sm.diff(f_j)# -3.0*j**2/((1 - j**2)**2.5*acos(j)) - j/((1 - j**2)**2.0*acos(j)**2) - 2*j/((1 - j**2)**2*acos(j)**2) - 1/((1 - j**2)**1.5*acos(j)) - 2/((1 - j**2)**(3/2)*acos(j)**3) \n",
    "d_d_f_j=sm.diff(d_f_j)# -15.0*j**3/((1 - j**2)**3.5*acos(j)) - 7.0*j**2/((1 - j**2)**3.0*acos(j)**2) - 8*j**2/((1 - j**2)**3*acos(j)**2) - 9.0*j/((1 - j**2)**2.5*acos(j)) - 2*j/((1 - j**2)**2.5*acos(j)**3) - 10*j/((1 - j**2)**(5/2)*acos(j)**3) - 2/((1 - j**2)**2.0*acos(j)**2) - 2/((1 - j**2)**2*acos(j)**2) - 6/((1 - j**2)**2*acos(j)**4)\n",
    "print(f'(2nd Dimension, Layer 13,Input Function: {d_f_j}')\n",
    "print(f'(2nd Dimension, Layer 13,Output Function: {d_d_f_j}')\n",
    "\n",
    "k=sm.symbols('k')\n",
    "f_k= -k/((1 - k**2)**(3/2) * sm.acos(k)) - 1/((1 - k**2) * sm.acos(k)**2)\n",
    "d_f_k=sm.diff(f_k)# -3.0*k**2/((1 - k**2)**2.5*acos(k)) - k/((1 - k**2)**2.0*acos(k)**2) - 2*k/((1 - k**2)**2*acos(k)**2) - 1/((1 - k**2)**1.5*acos(k)) - 2/((1 - k**2)**(3/2)*acos(k)**3)\n",
    "d_d_f_k=sm.diff(d_f_k)# -15.0*k**3/((1 - k**2)**3.5*acos(k)) - 7.0*k**2/((1 - k**2)**3.0*acos(k)**2) - 8*k**2/((1 - k**2)**3*acos(k)**2) - 9.0*k/((1 - k**2)**2.5*acos(k)) - 2*k/((1 - k**2)**2.5*acos(k)**3) - 10*k/((1 - k**2)**(5/2)*acos(k)**3) - 2/((1 - k**2)**2.0*acos(k)**2) - 2/((1 - k**2)**2*acos(k)**2) - 6/((1 - k**2)**2*acos(k)**4)\n",
    "print(f'(2nd Dimension, Layer 14,Input Function: {d_f_k}')\n",
    "print(f'(2nd Dimension, Layer 14,Output Function: {d_d_f_k}')\n",
    "\n",
    "l=sm.symbols('l')\n",
    "f_l= l * sm.exp(sm.asin(l))/(1 - l**2)**(3/2) + sm.exp(sm.asin(l))/(1 - l**2)\n",
    "d_f_l=sm.diff(f_l)# 3.0*l**2*exp(asin(l))/(1 - l**2)**2.5 + l*exp(asin(l))/(1 - l**2)**2.0 + 2*l*exp(asin(l))/(1 - l**2)**2 + exp(asin(l))/(1 - l**2)**1.5 + exp(asin(l))/(1 - l**2)**(3/2)\n",
    "d_d_f_l=sm.diff(d_f_l)# /(1 - l**2)**3 + 10.0*l*exp(asin(l))/(1 - l**2)**2.5 + 5*l*exp(asin(l))/(1 - l**2)**(5/2) + 2*exp(asin(l))/(1 - l**2)**2.0 + 3*exp(asin(l))/(1 - l**2)**2\n",
    "print(f'(2nd Dimension, Layer 15,Input Function: {d_f_l}')\n",
    "print(f'(2nd Dimension, Layer 15,Output Function: {d_d_f_l}')\n",
    "\n",
    "a=sm.symbols('a')\n",
    "f_a= -2*a/(a**2 + 1)**2\n",
    "d_f_a=sm.diff(f_a)# 8*a**2/(a**2 + 1)**3 - 2/(a**2 + 1)**2\n",
    "d_d_f_a=sm.diff(d_f_a)# -48*a**3/(a**2 + 1)**4 + 24*a/(a**2 + 1)**3\n",
    "print(f'(2nd Dimension, Layer 16,Input Function: {d_f_a}')\n",
    "print(f'(2nd Dimension, Layer 16,Output Function: {d_d_f_a}')\n",
    "\n",
    "b=sm.symbols('b')\n",
    "f_b= -b/(1 - b**2)**(3/2)\n",
    "d_f_b=sm.diff(f_b)# -3.0*b**2/(1 - b**2)**2.5 - 1/(1 - b**2)**1.5\n",
    "d_d_f_b=sm.diff(d_f_b)# -15.0*b**3/(1 - b**2)**3.5 - 9.0*b/(1 - b**2)**2.5\n",
    "print(f'(2nd Dimension, Layer 17,Input Function: {d_f_b}')\n",
    "print(f'(2nd Dimension, Layer 17,Output Function: {d_d_f_b}')\n",
    "\n",
    "\n",
    "c=sm.symbols('c')\n",
    "f_c= sm.exp(sm.sinh(c)) + sm.tanh(c**2)\n",
    "d_f_c=sm.diff(f_c)# 2*c*(1 - tanh(c**2)**2) + exp(sinh(c))*cosh(c)\n",
    "d_d_f_c=sm.diff(d_f_c)# -8*c**2*(1 - tanh(c**2)**2)*tanh(c**2) + exp(sinh(c))*sinh(c) + exp(sinh(c))*cosh(c)**2 - 2*tanh(c**2)**2 + 2\n",
    "print(f'(2nd Dimension, Layer 18,Input Function: {d_f_c}')\n",
    "print(f'(2nd Dimension, Layer 18,Output Function: {d_d_f_c}')\n",
    "\n",
    "g=sm.symbols('g')\n",
    "f_g= 1/(sm.sqrt(1 - pow(g,2)) * sm.asin(g))\n",
    "d_f_g=sm.diff(f_g)# g/((1 - g**2)**(3/2)*asin(g)) - 1/((1 - g**2)*asin(g)**2)\n",
    "d_d_f_g=sm.diff(d_f_g)# 3*g**2/((1 - g**2)**(5/2)*asin(g)) - 3*g/((1 - g**2)**2*asin(g)**2) + 1/((1 - g**2)**(3/2)*asin(g)) + 2/((1 - g**2)**(3/2)*asin(g)**3)\n",
    "print(f'(2nd Dimension, Layer 19,Input Function: {d_f_g}')\n",
    "print(f'(2nd Dimension, Layer 19,Output Function: {d_d_f_g}')\n",
    "\n",
    "h=sm.symbols('h')\n",
    "f_h= -sm.exp(sm.cos(h))*sm.sinh(h)**2 + sm.exp(sm.cos(h)) * sm.cos(h)\n",
    "d_f_h=sm.diff(f_h)# - exp(cos(z))*cos(z) exp(cos(z))*sin(z)**3 - 3*exp(cos(z))*sin(z)*cos(z) - exp(cos(z))*sin(z)\n",
    "d_d_f_h=sm.diff(d_f_h)# -exp(cos(z))*sin(z)**4 + 6*exp(cos(z))*sin(z)**2*cos(z) + 4*exp(cos(z))*sin(z)**2 - 3*exp(cos(z))*cos(z)**2\n",
    "print(f'(2nd Dimension, Layer 20,Input Function: {d_f_h}')\n",
    "print(f'(2nd Dimension, Layer 20,Output Function: {d_d_f_h}')\n",
    "\n",
    "i=sm.symbols('i')\n",
    "f_i= -sm.exp(sm.cos(i))*sm.sinh(i)**2 + sm.exp(sm.cos(i)) * sm.cos(i)\n",
    "d_f_i=sm.diff(f_i)# -exp(cos(z))*sin(z)**4 + 6*exp(cos(z))*sin(z)**2*cos(z) + 4*exp(cos(z))*sin(z)**2 - 3*exp(cos(z))*cos(z)**2\n",
    "d_d_f_i=sm.diff(d_f_i)# exp(cos(i))*sin(i)**2*cos(i) - exp(cos(i))*sin(i)**2*sinh(i)**2 + 2*exp(cos(i))*sin(i)**2 + 4*exp(cos(i))*sin(i)*sinh(i)*cosh(i) - exp(cos(i))*cos(i)**2 + exp(cos(i))*cos(i)*sinh(i)**2 - exp(cos(i))*cos(i) - 2*exp(cos(i))*sinh(i)**2 - 2*exp(cos(i))*cosh(i)**2\n",
    "print(f'(2nd Dimension, Layer 21,Input Function: {d_f_i}')\n",
    "print(f'(2nd Dimension, Layer 21,Output Function: {d_d_f_i}')\n",
    "\n",
    "\n"
   ]
  },
  {
   "cell_type": "code",
   "execution_count": null,
   "id": "e8cd1fa1",
   "metadata": {},
   "outputs": [],
   "source": [
    "\n",
    "y=sm.symbols('y')\n",
    "f_y=1/(sm.sqrt(1 - pow(y,2)) * sm.asin(y))#\n",
    "d_f_y=sm.diff(f_y)#y/((1 - y**2)**(3/2)*asin(y)) - 1/((1 - y**2)*asin(y)**2)\n",
    "d_d_f_y=sm.diff(d_f_y)#3*y**2/((1 - y**2)**(5/2)*asin(y)) - 3*y/((1 - y**2)**2*asin(y)**2) + 1/((1 - y**2)**(3/2)*asin(y)) + 2/((1 - y**2)**(3/2)*asin(y)**3)\n",
    "print(f'(2nd Dimension, Layer 2,Input Function: {d_f_y}')\n",
    "print(f'(2nd Dimension, Layer 2,Output Function: {d_d_f_y}')"
   ]
  },
  {
   "cell_type": "code",
   "execution_count": null,
   "id": "7c03633a",
   "metadata": {},
   "outputs": [],
   "source": [
    "y=sm.symbols('y')\n",
    "f_y=1/(sm.sqrt(1 - pow(y,2)) * sm.asin(y))#\n",
    "d_f_y=sm.diff(f_y)#y/((1 - y**2)**(3/2)*asin(y)) - 1/((1 - y**2)*asin(y)**2)\n",
    "d_d_f_y=sm.diff(d_f_y)#3*y**2/((1 - y**2)**(5/2)*asin(y)) - 3*y/((1 - y**2)**2*asin(y)**2) + 1/((1 - y**2)**(3/2)*asin(y)) + 2/((1 - y**2)**(3/2)*asin(y)**3)\n",
    "print(f'(2nd Dimension, Layer 2,Input Function: {d_f_y}')\n",
    "print(f'(2nd Dimension, Layer 2,Output Function: {d_d_f_y}')\n",
    "\n",
    "\n",
    "\n"
   ]
  },
  {
   "cell_type": "code",
   "execution_count": null,
   "id": "83795122",
   "metadata": {},
   "outputs": [],
   "source": [
    "z=sm.symbols('z')\n",
    "f_z=sm.exp(sm.cos(z)) * sm.sin(z)\n",
    "d_f_z=sm.diff(f_z)#-exp(cos(z))*sin(z)**2 + exp(cos(z))*cos(z)\n",
    "d_d_f_z=sm.diff(d_f_z)# exp(cos(z))*sin(z)**3 - 3*exp(cos(z))*sin(z)*cos(z) - exp(cos(z))*sin(z)\n",
    "print(f'(2nd Dimension, Layer 3,Input Function: {d_f_z}')\n",
    "print(f'(2nd Dimension, Layer 3,Output Function: {d_d_f_z}')\n"
   ]
  },
  {
   "cell_type": "code",
   "execution_count": null,
   "id": "e56d2c6d",
   "metadata": {},
   "outputs": [],
   "source": [
    "p=sm.symbols('p')\n",
    "f_p=sm.cosh(p)/sm.sin(p**2)\n",
    "d_f_p=sm.diff(f_p)# -2*p*cos(p**2)*cosh(p)/sin(p**2)**2 + sinh(p)/sin(p**2)\n",
    "d_d_f_p=sm.diff(d_f_p)# 4*p**2*cosh(p)/sin(p**2) + 8*p**2*cos(p**2)**2*cosh(p)/sin(p**2)**3 - 4*p*cos(p**2)*sinh(p)/sin(p**2)**2 + cosh(p)/sin(p**2) - 2*cos(p**2)*cosh(p)/sin(p**2)**2\n",
    "print(f'(2nd Dimension, Layer 4,Input Function: {d_f_p}')\n",
    "print(f'(2nd Dimension, Layer 4,Output Function: {d_d_f_p}')\n"
   ]
  },
  {
   "cell_type": "code",
   "execution_count": null,
   "id": "c035b1c9",
   "metadata": {},
   "outputs": [],
   "source": [
    "r=sm.symbols('r')\n",
    "f_r=sm.cosh(r)/sm.sinh(r)\n",
    "d_f_r=sm.diff(f_r)# 1 - cosh(r)**2/sinh(r)**2\n",
    "d_d_f_r=sm.diff(d_f_r)# -2*cosh(r)/sinh(r) + 2*cosh(r)**3/sinh(r)**3\n",
    "print(f'(2nd Dimension, Layer 5,Input Function: {d_f_r}')\n",
    "print(f'(2nd Dimension, Layer 5,Output Function: {d_d_f_r}')\n"
   ]
  },
  {
   "cell_type": "code",
   "execution_count": null,
   "id": "ddb570d3",
   "metadata": {},
   "outputs": [],
   "source": [
    "e=sm.symbols('e')\n",
    "f_e= -2*e/(e**2 + 1)**2\n",
    "d_f_e=sm.diff(f_e)# 8*e**2/(e**2 + 1)**3 - 2/(e**2 + 1)**2\n",
    "d_d_f_e=sm.diff(d_f_e)# -48*e**3/(e**2 + 1)**4 + 24*e/(e**2 + 1)**3\n",
    "print(f'(2nd Dimension, Layer 8,Input Function: {d_f_e}')\n",
    "print(f'(2nd Dimension, Layer 8,Output Function: {d_d_f_e}')"
   ]
  },
  {
   "cell_type": "code",
   "execution_count": null,
   "id": "e98692e0",
   "metadata": {},
   "outputs": [],
   "source": [
    "f=sm.symbols('f')\n",
    "f_f= -1/sm.sqrt(1 - f**2)\n",
    "d_f_f=sm.diff(f_f)# -f/(1 - f**2)**(3/2)\n",
    "d_d_f_f=sm.diff(d_f_f)# -3*f**2/(1 - f**2)**(5/2) - 1/(1 - f**2)**(3/2)\n",
    "print(f'(2nd Dimension, Layer 9,Input Function: {d_f_f}')\n",
    "print(f'(2nd Dimension, Layer 9,Output Function: {d_d_f_f}')"
   ]
  },
  {
   "cell_type": "code",
   "execution_count": null,
   "id": "729e362e",
   "metadata": {},
   "outputs": [],
   "source": [
    "m=sm.symbols('m')\n",
    "f_m= 1 - sm.cosh(m)**2/sm.sinh(m)**2\n",
    "d_f_m=sm.diff(f_m)# -2*cosh(m)/sinh(m) + 2*cosh(m)**3/sinh(m)**3\n",
    "d_d_f_m=sm.diff(d_f_m)# -2 +  8*cosh(m)**2/sinh(m)**2 - 6*cosh(m)**4/sinh(m)**4\n",
    "print(f'(2nd Dimension, Layer 10,Input Function: {d_f_m}')\n",
    "print(f'(2nd Dimension, Layer 10,Output Function: {d_d_f_m}')\n"
   ]
  },
  {
   "cell_type": "code",
   "execution_count": null,
   "id": "cbeb23bc",
   "metadata": {},
   "outputs": [],
   "source": [
    "n=sm.symbols('n')\n",
    "f_n= 1 - sm.cosh(n)**2/sm.sinh(n)**2\n",
    "d_f_n=sm.diff(f_n)# -2*cosh(n)/sinh(n) + 2*cosh(n)**3/sinh(n)**3\n",
    "d_d_f_n=sm.diff(d_f_n)# -2 + 8*cosh(n)**2/sinh(n)**2 - 6*cosh(n)**4/sinh(n)**4\n",
    "print(f'(2nd Dimension, Layer 11,Input Function: {d_f_n}')\n",
    "print(f'(2nd Dimension, Layer 11,Output Function: {d_d_f_n}')\n",
    "\n"
   ]
  },
  {
   "cell_type": "code",
   "execution_count": null,
   "id": "f482170a",
   "metadata": {},
   "outputs": [],
   "source": [
    "o=sm.symbols('o')\n",
    "f_o= -o/((1 - o**2)**(3/2) * sm.acos(o)) - 1/((1 - o**2) * sm.acos(o)**2)\n",
    "d_f_o=sm.diff(f_o)# -3.0*o**2/((1 - o**2)**2.5*acos(o)) - o/((1 - o**2)**2.0*acos(o)**2) - 2*o/((1 - o**2)**2*acos(o)**2) - 1/((1 - o**2)**1.5*acos(o)) - 2/((1 - o**2)**(3/2)*acos(o)**3) \n",
    "d_d_f_o=sm.diff(d_f_o)# -15.0*o**3/((1 - o**2)**3.5*acos(o)) - 7.0*o**2/((1 - o**2)**3.0*acos(o)**2) - 8*o**2/((1 - o**2)**3*acos(o)**2) - 9.0*o/((1 - o**2)**2.5*acos(o)) - 2*o/((1 - o**2)**2.5*acos(o)**3) - 10*o/((1 - o**2)**(5/2)*acos(o)**3) - 2/((1 - o**2)**2.0*acos(o)**2) - 2/((1 - o**2)**2*acos(o)**2) - 6/((1 - o**2)**2*acos(o)**4)\n",
    "print(f'(2nd Dimension, Layer 12,Input Function: {d_f_o}')\n",
    "print(f'(2nd Dimension, Layer 12,Output Function: {d_d_f_o}')\n"
   ]
  },
  {
   "cell_type": "code",
   "execution_count": null,
   "id": "e8d57caf",
   "metadata": {},
   "outputs": [],
   "source": [
    "j=sm.symbols('j')\n",
    "f_j= -j/((1 - j**2)**(3/2) * sm.acos(j)) - 1/((1 - j**2) * sm.acos(j)**2)\n",
    "d_f_j=sm.diff(f_j)# -3.0*j**2/((1 - j**2)**2.5*acos(j)) - j/((1 - j**2)**2.0*acos(j)**2) - 2*j/((1 - j**2)**2*acos(j)**2) - 1/((1 - j**2)**1.5*acos(j)) - 2/((1 - j**2)**(3/2)*acos(j)**3) \n",
    "d_d_f_j=sm.diff(d_f_j)# -15.0*j**3/((1 - j**2)**3.5*acos(j)) - 7.0*j**2/((1 - j**2)**3.0*acos(j)**2) - 8*j**2/((1 - j**2)**3*acos(j)**2) - 9.0*j/((1 - j**2)**2.5*acos(j)) - 2*j/((1 - j**2)**2.5*acos(j)**3) - 10*j/((1 - j**2)**(5/2)*acos(j)**3) - 2/((1 - j**2)**2.0*acos(j)**2) - 2/((1 - j**2)**2*acos(j)**2) - 6/((1 - j**2)**2*acos(j)**4)\n",
    "print(f'(2nd Dimension, Layer 13,Input Function: {d_f_j}')\n",
    "print(f'(2nd Dimension, Layer 13,Output Function: {d_d_f_j}')\n"
   ]
  },
  {
   "cell_type": "code",
   "execution_count": null,
   "id": "c30c5e2d",
   "metadata": {},
   "outputs": [],
   "source": [
    "k=sm.symbols('k')\n",
    "f_k= -k/((1 - k**2)**(3/2) * sm.acos(k)) - 1/((1 - k**2) * sm.acos(k)**2)\n",
    "d_f_k=sm.diff(f_k)# -3.0*k**2/((1 - k**2)**2.5*acos(k)) - k/((1 - k**2)**2.0*acos(k)**2) - 2*k/((1 - k**2)**2*acos(k)**2) - 1/((1 - k**2)**1.5*acos(k)) - 2/((1 - k**2)**(3/2)*acos(k)**3)\n",
    "d_d_f_k=sm.diff(d_f_k)# -15.0*k**3/((1 - k**2)**3.5*acos(k)) - 7.0*k**2/((1 - k**2)**3.0*acos(k)**2) - 8*k**2/((1 - k**2)**3*acos(k)**2) - 9.0*k/((1 - k**2)**2.5*acos(k)) - 2*k/((1 - k**2)**2.5*acos(k)**3) - 10*k/((1 - k**2)**(5/2)*acos(k)**3) - 2/((1 - k**2)**2.0*acos(k)**2) - 2/((1 - k**2)**2*acos(k)**2) - 6/((1 - k**2)**2*acos(k)**4)\n",
    "print(f'(2nd Dimension, Layer 14,Input Function: {d_f_k}')\n",
    "print(f'(2nd Dimension, Layer 14,Output Function: {d_d_f_k}')\n"
   ]
  },
  {
   "cell_type": "code",
   "execution_count": null,
   "id": "8ad137b1",
   "metadata": {},
   "outputs": [],
   "source": [
    "l=sm.symbols('l')\n",
    "f_l= l * sm.exp(sm.asin(l))/(1 - l**2)**(3/2) + sm.exp(sm.asin(l))/(1 - l**2)\n",
    "d_f_l=sm.diff(f_l)# 3.0*l**2*exp(asin(l))/(1 - l**2)**2.5 + l*exp(asin(l))/(1 - l**2)**2.0 + 2*l*exp(asin(l))/(1 - l**2)**2 + exp(asin(l))/(1 - l**2)**1.5 + exp(asin(l))/(1 - l**2)**(3/2)\n",
    "d_d_f_l=sm.diff(d_f_l)# /(1 - l**2)**3 + 10.0*l*exp(asin(l))/(1 - l**2)**2.5 + 5*l*exp(asin(l))/(1 - l**2)**(5/2) + 2*exp(asin(l))/(1 - l**2)**2.0 + 3*exp(asin(l))/(1 - l**2)**2\n",
    "print(f'(2nd Dimension, Layer 15,Input Function: {d_f_l}')\n",
    "print(f'(2nd Dimension, Layer 15,Output Function: {d_d_f_l}')"
   ]
  },
  {
   "cell_type": "code",
   "execution_count": null,
   "id": "21681172",
   "metadata": {},
   "outputs": [],
   "source": [
    "a=sm.symbols('a')\n",
    "f_a= -2*a/(a**2 + 1)**2\n",
    "d_f_a=sm.diff(f_a)# 8*a**2/(a**2 + 1)**3 - 2/(a**2 + 1)**2\n",
    "d_d_f_a=sm.diff(d_f_a)# -48*a**3/(a**2 + 1)**4 + 24*a/(a**2 + 1)**3\n",
    "print(f'(2nd Dimension, Layer 16,Input Function: {d_f_a}')\n",
    "print(f'(2nd Dimension, Layer 16,Output Function: {d_d_f_a}')\n"
   ]
  },
  {
   "cell_type": "code",
   "execution_count": null,
   "id": "e56654e4",
   "metadata": {},
   "outputs": [],
   "source": [
    "b=sm.symbols('b')\n",
    "f_b= -b/(1 - b**2)**(3/2)\n",
    "d_f_b=sm.diff(f_b)# -3.0*b**2/(1 - b**2)**2.5 - 1/(1 - b**2)**1.5\n",
    "d_d_f_b=sm.diff(d_f_b)# -15.0*b**3/(1 - b**2)**3.5 - 9.0*b/(1 - b**2)**2.5\n",
    "print(f'(2nd Dimension, Layer 17,Input Function: {d_f_b}')\n",
    "print(f'(2nd Dimension, Layer 17,Output Function: {d_d_f_b}')\n"
   ]
  },
  {
   "cell_type": "code",
   "execution_count": null,
   "id": "e8285afe",
   "metadata": {},
   "outputs": [],
   "source": [
    "c=sm.symbols('c')\n",
    "f_c= sm.exp(sm.sinh(c)) + sm.tanh(c**2)\n",
    "d_f_c=sm.diff(f_c)# 2*c*(1 - tanh(c**2)**2) + exp(sinh(c))*cosh(c)\n",
    "d_d_f_c=sm.diff(d_f_c)# -8*c**2*(1 - tanh(c**2)**2)*tanh(c**2) + exp(sinh(c))*sinh(c) + exp(sinh(c))*cosh(c)**2 - 2*tanh(c**2)**2 + 2\n",
    "print(f'(2nd Dimension, Layer 18,Input Function: {d_f_c}')\n",
    "print(f'(2nd Dimension, Layer 18,Output Function: {d_d_f_c}')\n"
   ]
  },
  {
   "cell_type": "code",
   "execution_count": null,
   "id": "aa70a409",
   "metadata": {},
   "outputs": [],
   "source": [
    "g=sm.symbols('g')\n",
    "f_g= 1/(sm.sqrt(1 - pow(g,3*2)) * sm.asin(g))\n",
    "d_f_g=sm.diff(f_g)# g/((1 - g**2)**(3/2)*asin(g)) - 1/((1 - g**2)*asin(g)**2)\n",
    "d_d_f_g=sm.diff(d_f_g)# 3*g**2/((1 - g**2)**(5/2)*asin(g)) - 3*g/((1 - g**2)**2*asin(g)**2) + 1/((1 - g**2)**(3/2)*asin(g)) + 2/((1 - g**2)**(3/2)*asin(g)**3)\n",
    "print(f'(2nd Dimension, Layer 19,Input Function: {d_f_g}')\n",
    "print(f'(2nd Dimension, Layer 19,Output Function: {d_d_f_g}')\n"
   ]
  },
  {
   "cell_type": "code",
   "execution_count": null,
   "id": "9fc243eb",
   "metadata": {},
   "outputs": [],
   "source": [
    "h=sm.symbols('h')\n",
    "f_h= -sm.exp(sm.cos(h))*sm.sinh(h)**2 + sm.exp(sm.cos(h)) * sm.cos(h)\n",
    "d_f_h=sm.diff(f_h)# - exp(cos(z))*cos(z) exp(cos(z))*sin(z)**3 - 3*exp(cos(z))*sin(z)*cos(z) - exp(cos(z))*sin(z)\n",
    "d_d_f_h=sm.diff(d_f_h)# -exp(cos(z))*sin(z)**4 + 6*exp(cos(z))*sin(z)**2*cos(z) + 4*exp(cos(z))*sin(z)**2 - 3*exp(cos(z))*cos(z)**2\n",
    "print(f'(2nd Dimension, Layer 20,Input Function: {d_f_h}')\n",
    "print(f'(2nd Dimension, Layer 20,Output Function: {d_d_f_h}')\n"
   ]
  },
  {
   "cell_type": "code",
   "execution_count": null,
   "id": "cc93b775",
   "metadata": {},
   "outputs": [],
   "source": [
    "i=sm.symbols('i')\n",
    "f_i= -sm.exp(sm.cos(i))*sm.sinh(i)**2 + sm.exp(sm.cos(i)) * sm.cos(i)\n",
    "d_f_i=sm.diff(f_i)# -exp(cos(z))*sin(z)**4 + 6*exp(cos(z))*sin(z)**2*cos(z) + 4*exp(cos(z))*sin(z)**2 - 3*exp(cos(z))*cos(z)**2\n",
    "d_d_f_i=sm.diff(d_f_i)# exp(cos(i))*sin(i)**2*cos(i) - exp(cos(i))*sin(i)**2*sinh(i)**2 + 2*exp(cos(i))*sin(i)**2 + 4*exp(cos(i))*sin(i)*sinh(i)*cosh(i) - exp(cos(i))*cos(i)**2 + exp(cos(i))*cos(i)*sinh(i)**2 - exp(cos(i))*cos(i) - 2*exp(cos(i))*sinh(i)**2 - 2*exp(cos(i))*cosh(i)**2\n",
    "print(f'(2nd Dimension, Layer 21,Input Function: {d_f_i}')\n",
    "print(f'(2nd Dimension, Layer 21,Output Function: {d_d_f_i}')"
   ]
  },
  {
   "cell_type": "code",
   "execution_count": null,
   "id": "83d0954e",
   "metadata": {},
   "outputs": [],
   "source": [
    "x1=sm.symbols('x1')\n",
    "f_x1= sm.atan(2 * x1) + sm.cos(x1**2) \n",
    "d_f_x1=sm.diff(f_x1) #-2*x1*sin(x1**2) + 2/(4*x1**2 + 1\n",
    "d_d_f_x1=sm.diff(d_f_x1) # -4*x1**2*cos(x1**2) - 16*x1/(4*x1**2 + 1)**2 - 2*sin(x1**2)\n",
    "print(f'(3rd Dimension, Layer 1,Input Function: {d_f_x1}')\n",
    "print(f'(3rd Dimension, Layer 1,Output Function: {d_d_f_x1}')"
   ]
  },
  {
   "cell_type": "code",
   "execution_count": null,
   "id": "6878bae2",
   "metadata": {},
   "outputs": [],
   "source": [
    "def d_g_x(x):\n",
    "    return 0.5 * x * np.tanh(np.sqrt(2)/np.sqrt(np.pi)) + 0.5*(x + 8.9404567225875e-5)*np.tanh(np.sqrt(2)/np.sqrt(np.pi)) + 0.5\n",
    "\n",
    "x_values=np.linspace(-8, 8, 50)\n",
    "y_values=d_g_x(x_values)\n",
    "\n",
    "plt.plot(x_values,y_values, color= 'green', label='Function used in the backpropagation')\n",
    "plt.xlabel('Input(x)')\n",
    "plt.ylabel('Output function during the backpropagation')\n",
    "plt.grid(True)\n",
    "plt.legend()\n",
    "plt.axhline(0, color='Black' , linestyle='--')\n",
    "plt.axvline(0, color='Red' , linestyle='--')\n",
    "print(f'Function values at the augmemted domain: {y_values}')\n",
    "plt.show()\n"
   ]
  },
  {
   "cell_type": "code",
   "execution_count": null,
   "id": "b457926c",
   "metadata": {},
   "outputs": [],
   "source": [
    "import sympy as sm\n",
    "import scipy.special as sp\n",
    "import numpy as np\n",
    "import pandas as pd\n",
    "import matplotlib.pyplot as plt\n",
    "from scipy.special import erf\n",
    "from sympy import symbols, diff\n",
    "\n",
    "\n",
    "x1=sm.symbols('x1')\n",
    "f_x1=sm.sin(x1**2) +sm.cosh(2*x1)\n",
    "d_f_x1=sm.diff(f_x1) # 2*x1*cos(x1**2) + 2*sinh(2*x1)\n",
    "d_d_f_x1=sm.diff(d_f_x1) # -4*x1**2*sin(x1**2) + 2*cos(x1**2) + 4*cosh(2*x1)\n",
    "print(f'The Input function at the 2nd Block Layer 1: {d_f_x1}')\n",
    "print(f'The Output function at the 2nd Block Layer 1: {d_d_f_x1}') \n"
   ]
  },
  {
   "cell_type": "code",
   "execution_count": null,
   "id": "964467a1",
   "metadata": {},
   "outputs": [],
   "source": [
    "x2=sm.symbols('x2')\n",
    "f_x2=sm.exp(3* x2) + 4*(x2**3)\n",
    "d_f_x2=sm.diff(f_x2)# 12*x2**2 + 3*exp(3*x2)\n",
    "d_d_f_x2=sm.diff(d_f_x2)# 24*x2 + 9*exp(3*x2)\n",
    "print(f'The Input function at the 2nd Block Layer 2: {d_f_x2}')\n",
    "print(f'The Output function at the 2nd Block Layer 2: {d_d_f_x2}')"
   ]
  },
  {
   "cell_type": "code",
   "execution_count": null,
   "id": "0cebbc82",
   "metadata": {},
   "outputs": [],
   "source": [
    "x3=sm.symbols('x3')\n",
    "f_x3=sm.sin(3 * (x3**4)) +sm.log(2*(x3**4)) \n",
    "d_f_x3=sm.diff(f_x3) # 12*x3**3*cos(3*x3**4) + 4/x3\n",
    "d_d_f_x3=sm.diff(d_f_x3)#-144*x3**6*sin(3*x3**4) + 36*x3**2*cos(3*x3**4) - 4/x3**2\n",
    "print(f'The Input function at the 2nd Block Layer 3: {d_f_x3}')\n",
    "print(f'The Output function at the 2nd Block Layer 3: {d_d_f_x3}')"
   ]
  },
  {
   "cell_type": "code",
   "execution_count": null,
   "id": "99221492",
   "metadata": {},
   "outputs": [],
   "source": [
    "x4=sm.symbols('x4')\n",
    "f_x4=sm.cosh(2*x4**3) +sm.tanh(8*x4**5)\n",
    "d_f_x4=sm.diff(f_x4)# 40*x4**4*(1 - tanh(8*x4**5)**2) + 6*x4**2*sinh(2*x4**3)\n",
    "d_d_f_x4=sm.diff(d_f_x4)# -3200*x4**8*(1 - tanh(8*x4**5)**2)*tanh(8*x4**5) + 36*x4**4*cosh(2*x4**3) + 160*x4**3*(1 - tanh(8*x4**5)**2) + 12*x4*sinh(2*x4**3)\n",
    "print(f'The Input function at the 2nd Block Layer 4: {d_f_x4}')\n",
    "print(f'The Output function at the 2nd Block Layer 4: {d_d_f_x4}')"
   ]
  },
  {
   "cell_type": "code",
   "execution_count": null,
   "id": "1120f0e4",
   "metadata": {},
   "outputs": [],
   "source": [
    "x5=sm.symbols('x5')\n",
    "f_x5=sm.exp(4*x5**4) + sm.log(3*x5**3)\n",
    "d_f_x5=sm.diff(f_x5)# 16*x5**3*exp(4*x5**4) + 3/x5\n",
    "d_d_f_x5=sm.diff(d_f_x5)# 256*x5**6*exp(4*x5**4) + 48*x5**2*exp(4*x5**4) - 3/x5**2\n",
    "print(f'The Input function at the 2nd Block Layer 5: {d_f_x5}')\n",
    "print(f'The Output function at the 2nd Block Layer 5: {d_d_f_x5}')"
   ]
  },
  {
   "cell_type": "code",
   "execution_count": null,
   "id": "3579b722",
   "metadata": {},
   "outputs": [],
   "source": [
    "x6=sm.symbols('x6')\n",
    "f_x6=sm.sin(3*x6**2) +sm.tanh(4*x6**5)\n",
    "d_f_x6=sm.diff(f_x6)# 20*x6**4*(1 - tanh(4*x6**5)**2) + 6*x6*cos(3*x6**2)\n",
    "d_d_f_x6=sm.diff(d_f_x6)# -800*x6**8*(1 - tanh(4*x6**5)**2)*tanh(4*x6**5) + 80*x6**3*(1 - tanh(4*x6**5)**2) - 36*x6**2*sin(3*x6**2) + 6*cos(3*x6**2)\n",
    "print(f'The Input function at the 2nd Block Layer 6: {d_f_x6}')\n",
    "print(f'The Output function at the 2nd Block Layer 6: {d_d_f_x6}')"
   ]
  },
  {
   "cell_type": "code",
   "execution_count": null,
   "id": "c479d365",
   "metadata": {},
   "outputs": [],
   "source": [
    "x7=sm.symbols('x7')\n",
    "f_x7=sm.exp(x7**4) +sm.cosh(2*x7**5) + sm.log(4*x7**5)\n",
    "d_f_x7=sm.diff(f_x7)# 10*x7**4*sinh(2*x7**5) + 4*x7**3*exp(x7**4) + 5/x7\n",
    "d_d_f_x7=sm.diff(d_f_x7)# 10*x7**4*sinh(2*x7**5) + 4*x7**3*exp(x7**4) + 5/x7\n",
    "print(f'The Input function at the 2nd Block Layer 7: {d_f_x7}')\n",
    "print(f'The Output function at the 2nd Block Layer 7: {d_d_f_x7}')"
   ]
  },
  {
   "cell_type": "code",
   "execution_count": null,
   "id": "623b9816",
   "metadata": {},
   "outputs": [],
   "source": [
    "x8=sm.symbols('x8')\n",
    "f_x8=sm.tan(x8**2) +sm.sinh(2*x8)\n",
    "d_f_x8=sm.diff(f_x8)# 2*x8*(tan(x8**2)**2 + 1) + 2*cosh(2*x8)\n",
    "d_d_f_x8=sm.diff(d_f_x8)#  8*x8**2*(tan(x8**2)**2 + 1)*tan(x8**2) + 2*tan(x8**2)**2 + 4*sinh(2*x8) + 2\n",
    "print(f'The Input function at the 2nd Block Layer 8: {d_f_x8}')\n",
    "print(f'The Output function at the 2nd Block Layer 8: {d_d_f_x8}')"
   ]
  },
  {
   "cell_type": "code",
   "execution_count": null,
   "id": "2abfdecc",
   "metadata": {},
   "outputs": [],
   "source": [
    "x9=sm.symbols('x9')\n",
    "f_x9=sm.sin(x9**2) +sm.cosh(2*x9)\n",
    "d_f_x9=sm.diff(f_x9)# 2*x9*cos(x9**2) + 2*sinh(2*x9)\n",
    "d_d_f_x9=sm.diff(d_f_x9)# -4*x9**2*sin(x9**2) + 2*cos(x9**2) + 4*cosh(2*x9)\n",
    "print(f'The Input function at the 2nd Block Layer 9: {d_f_x9}')\n",
    "print(f'The Output function at the 2nd Block Layer 9: {d_d_f_x9}')"
   ]
  },
  {
   "cell_type": "code",
   "execution_count": null,
   "id": "c8de53da",
   "metadata": {},
   "outputs": [],
   "source": [
    "x9=sm.symbols('x9')\n",
    "f_x9=sm.sin(x9**2) +sm.cosh(2*x9)\n",
    "d_f_x9=sm.diff(f_x9)# 2*x9*cos(x9**2) + 2*sinh(2*x9)\n",
    "d_d_f_x9=sm.diff(d_f_x9)# -4*x9**2*sin(x9**2) + 2*cos(x9**2) + 4*cosh(2*x9)\n",
    "print(f'The Input function at the 2nd Block Layer 9: {d_f_x9}')\n",
    "print(f'The Output function at the 2nd Block Layer 9: {d_d_f_x9}')"
   ]
  },
  {
   "cell_type": "code",
   "execution_count": null,
   "id": "cccb3ca4",
   "metadata": {},
   "outputs": [],
   "source": [
    "x10=sm.symbols('x10')\n",
    "f_x10=2*x10* sm.cos(x10**2) + 2*sm.sinh(2*x10)\n",
    "d_f_x10=sm.diff(f_x10)# -4*x10**2*sin(x10**2) + 2*cos(x10**2) + 4*cosh(2*x10)\n",
    "d_d_f_x10=sm.diff(d_f_x10)# -8*x10**3*cos(x10**2) - 12*x10*sin(x10**2) + 8*sinh(2*x10)\n",
    "print(f'The Input function at the 2nd Block Layer 9: {d_f_x10}')\n",
    "print(f'The Output function at the 2nd Block Layer 9: {d_d_f_x10}')"
   ]
  },
  {
   "cell_type": "code",
   "execution_count": null,
   "id": "d345e637",
   "metadata": {},
   "outputs": [],
   "source": [
    "x11=sm.symbols('x11')\n",
    "f_x11=12*x11**2 + 3*sm.exp(3*x11)\n",
    "d_f_x11=sm.diff(f_x11)# 24*x11 + 9*exp(3*x11)\n",
    "d_d_f_x11=sm.diff(d_f_x11)# 27*exp(3*x11) + 24\n",
    "print(f'The Input function at the 2nd Block Layer 11: {d_f_x11}')\n",
    "print(f'The Output function at the 2nd Block Layer 11: {d_d_f_x11}')"
   ]
  },
  {
   "cell_type": "code",
   "execution_count": null,
   "id": "b7c9c419",
   "metadata": {},
   "outputs": [],
   "source": [
    "x12=sm.symbols('x12')\n",
    "f_x12=sm.sin(x12**2) +sm.cosh(2*x12)\n",
    "d_f_x12=sm.diff(f_x12)# 2*x12*cos(x12**2) + 2*sinh(2*x12)\n",
    "d_d_f_x12=sm.diff(d_f_x12)# -4*x12**2*sin(x12**2) + 2*cos(x12**2) + 4*cosh(2*x12)\n",
    "print(f'The Input function at the 2nd Block Layer 12: {d_f_x12}')\n",
    "print(f'The Output function at the 2nd Block Layer 12: {d_d_f_x12}')"
   ]
  },
  {
   "cell_type": "code",
   "execution_count": null,
   "id": "da321777",
   "metadata": {},
   "outputs": [],
   "source": [
    "x13=sm.symbols('x13')\n",
    "f_x13=12*x13**3*sm.cos(3*x13**4) + 4/x13\n",
    "d_f_x13=sm.diff(f_x13)# -144*x13**6*sin(3*x13**4) + 36*x13**2*cos(3*x13**4) - 4/x13**2\n",
    "d_d_f_x13=sm.diff(d_f_x13)# -1728*x13**9*cos(3*x13**4) - 1296*x13**5*sin(3*x13**4) + 72*x13*cos(3*x13**4) + 8/x13**3\n",
    "print(f'The Input function at the 2nd Block Layer 13: {d_f_x13}')\n",
    "print(f'The Output function at the 2nd Block Layer 13: {d_d_f_x13}')"
   ]
  },
  {
   "cell_type": "code",
   "execution_count": null,
   "id": "b756f793",
   "metadata": {},
   "outputs": [],
   "source": [
    "x14=sm.symbols('x14')\n",
    "f_x14=sm.tanh(x14**2 + x14**3) +sm.cosh(2*x14**2 + sm.tan(x14 **2))\n",
    "d_f_x14=sm.diff(f_x14)# (1 - tanh(x14**3 + x14**2)**2)*(3*x14**2 + 2*x14) + (2*x14*(tan(x14**2)**2 + 1) + 4*x14)*sinh(2*x14**2 + tan(x14**2))\n",
    "d_d_f_x14=sm.diff(d_f_x14)# (1 - tanh(x14**3 + x14**2)**2)*(3*x14**2 + 2*x14) + (2*x14*(tan(x14**2)**2 + 1) + 4*x14)*sinh(2*x14**2 + tan(x14**2))\n",
    "print(f'The Input function at the 2nd Block Layer 14: {d_f_x14}')\n",
    "print(f'The Output function at the 2nd Block Layer 14: {d_d_f_x14}')"
   ]
  },
  {
   "cell_type": "code",
   "execution_count": null,
   "id": "332aeb90",
   "metadata": {},
   "outputs": [],
   "source": [
    "x15=sm.symbols('x15')\n",
    "f_x15=sm.exp(sm.sin(x15**5)) +sm.cosh(2*x15**4) + sm.log(x15**4)\n",
    "d_f_x15=sm.diff(f_x15)# 15**4*exp(sin(x15**5))*cos(x15**5) + 8*x15**3*sinh(2*x15**4) + 4/x15\n",
    "d_d_f_x15=sm.diff(d_f_x15)# -25*x15**8*exp(sin(x15**5))*sin(x15**5) + 25*x15**8*exp(sin(x15**5))*cos(x15**5)**2 + 64*x15**6*cosh(2*x15**4) + 20*x15**3*exp(sin(x15**5))*cos(x15**5) + 24*x15**2*sinh(2*x15**4) - 4/x15**2\n",
    "print(f'The Input function at the 2nd Block Layer 15: {d_f_x15}')\n",
    "print(f'The Output function at the 2nd Block Layer 15: {d_d_f_x15}')"
   ]
  },
  {
   "cell_type": "code",
   "execution_count": null,
   "id": "5b86fe7f",
   "metadata": {},
   "outputs": [],
   "source": [
    "x16=sm.symbols('x16')\n",
    "f_x16=10*x16**4*sm.sinh(2*x16**5) + 4*x16**3*sm.exp(x16**4) + 5/x16\n",
    "d_f_x16=sm.diff(f_x16)# 100*x16**8*cosh(2*x16**5) + 16*x16**6*exp(x16**4) + 40*x16**3*sinh(2*x16**5) + 12*x16**2*exp(x16**4) - 5/x16**2\n",
    "d_d_f_x16=sm.diff(d_f_x16)# 1000*x16**12*sinh(2*x16**5) + 64*x16**9*exp(x16**4) + 1200*x16**7*cosh(2*x16**5) + 144*x16**5*exp(x16**4) + 120*x16**2*sinh(2*x16**5) + 24*x16*exp(x16**4) + 10/x16**3 \n",
    "print(f'The Input function at the 2nd Block Layer 16: {d_f_x16}')\n",
    "print(f'The Output function at the 2nd Block Layer 16: {d_d_f_x16}')"
   ]
  },
  {
   "cell_type": "code",
   "execution_count": null,
   "id": "a9c31b43",
   "metadata": {},
   "outputs": [],
   "source": [
    "x17=sm.symbols('x17')\n",
    "f_x17=sm.sinh(2*x17**5) + 4*x17**3*sm.exp(x17**4) + 5/x17\n",
    "d_f_x17=sm.diff(f_x17)# 16*x17**6*exp(x17**4) + 10*x17**4*cosh(2*x17**5) + 12*x17**2*exp(x17**4) - 5/x17**2\n",
    "d_d_f_x17=sm.diff(d_f_x17)# 64*x17**9*exp(x17**4) + 100*x17**8*sinh(2*x17**5) + 144*x17**5*exp(x17**4) + 40*x17**3*cosh(2*x17**5) + 24*x17*exp(x17**4) + 10/x17**3\n",
    "print(f'The Input function at the 2nd Block Layer 17: {d_f_x17}')\n",
    "print(f'The Output function at the 2nd Block Layer 17: {d_d_f_x17}')"
   ]
  },
  {
   "cell_type": "code",
   "execution_count": null,
   "id": "ad847eda",
   "metadata": {},
   "outputs": [],
   "source": [
    "x18=sm.symbols('x18')\n",
    "f_x18=2*x18*(sm.tan(x18**2)**2 + 1) + 2*sm.cosh(2*x18)\n",
    "d_f_x18=sm.diff(f_x18)# 8*x18**2*(tan(x18**2)**2 + 1)*tan(x18**2) + 2*tan(x18**2)**2 + 4*sinh(2*x18) + 2\n",
    "d_d_f_x18=sm.diff(d_f_x18)# 16*x18**3*(tan(x18**2)**2 + 1)**2 + 32*x18**3*(tan(x18**2)**2 + 1)*tan(x18**2)**2 + 24*x18*(tan(x18**2)**2 + 1)*tan(x18**2) + 8*cosh(2*x18)\n",
    "print(f'The Input function at the 2nd Block Layer 18: {d_f_x18}')\n",
    "print(f'The Output function at the 2nd Block Layer 18: {d_d_f_x18}')"
   ]
  },
  {
   "cell_type": "code",
   "execution_count": null,
   "id": "3a6777b3",
   "metadata": {},
   "outputs": [],
   "source": [
    "x19=sm.symbols('x19')\n",
    "f_x19=2*x19*sm.cos(x19**2) + 2*sm.sinh(2*x19)\n",
    "d_f_x19=sm.diff(f_x19)# -4*x19**2*sin(x19**2) + 2*cos(x19**2) + 4*cosh(2*x19)\n",
    "d_d_f_x19=sm.diff(d_f_x19)# -8*x19**3*cos(x19**2) - 12*x19*sin(x19**2) + 8*sinh(2*x19)\n",
    "print(f'The Input function at the 2nd Block Layer 19: {d_f_x19}')\n",
    "print(f'The Output function at the 2nd Block Layer 19: {d_d_f_x19}')"
   ]
  },
  {
   "cell_type": "code",
   "execution_count": null,
   "id": "fdae6249",
   "metadata": {},
   "outputs": [],
   "source": [
    "x20=sm.symbols('x20')\n",
    "f_x20=2*x20* sm.cos(x20**2) + 2*sm.sinh(2*x20)\n",
    "d_f_x20=sm.diff(f_x20)# -4*x20**2*sin(x20**2) + 2*cos(x20**2) + 4*cosh(2*x20)\n",
    "d_d_f_x20=sm.diff(d_f_x20)# -8*x20**3*cos(x20**2) - 12*x20*sin(x20**2) + 8*sinh(2*x20)\n",
    "print(f'The Input function at the 2nd Block Layer 20: {d_f_x20}')\n",
    "print(f'The Output function at the 2nd Block Layer 20: {d_d_f_x20}')"
   ]
  },
  {
   "cell_type": "code",
   "execution_count": null,
   "id": "0c589c1d",
   "metadata": {},
   "outputs": [],
   "source": [
    "x21=sm.symbols('x21')\n",
    "f_x21=12*x21**2 + 3*sm.exp(3*x21)\n",
    "d_f_x21=sm.diff(f_x21)# 24*x21 + 9*exp(3*x21)\n",
    "d_d_f_x21=sm.diff(d_f_x21)# 27*exp(3*x21) + 24\n",
    "print(f'The Input function at the 2nd Block Layer 21: {d_f_x21}')\n",
    "print(f'The Output function at the 2nd Block Layer 21: {d_d_f_x21}')"
   ]
  },
  {
   "cell_type": "code",
   "execution_count": null,
   "id": "ca9584ba",
   "metadata": {},
   "outputs": [],
   "source": [
    "x22=sm.symbols('x22')\n",
    "f_x22=2*x22*sm.cos(x22**2) + 2*sm.sinh(2*x22)\n",
    "d_f_x22=sm.diff(f_x22)# -4*x22**2*sin(x22**2) + 2*cos(x22**2) + 4*cosh(2*x22)\n",
    "d_d_f_x22=sm.diff(d_f_x22)# -8*x22**3*cos(x22**2) - 12*x22*sin(x22**2) + 8*sinh(2*x22)\n",
    "print(f'The Input function at the 2nd Block Layer 22: {d_f_x22}')\n",
    "print(f'The Output function at the 2nd Block Layer 22: {d_d_f_x22}')"
   ]
  },
  {
   "cell_type": "code",
   "execution_count": null,
   "id": "24628871",
   "metadata": {},
   "outputs": [],
   "source": [
    "x23=sm.symbols('x23')\n",
    "f_x22=-144*x23**6*sm.sin(3*x23**4) + 36*x23**2*sm.cos(3*x23**4) - 4/x23**2\n",
    "d_f_x22=sm.diff(f_x22)# -1728*x23**9*cos(3*x23**4) - 1296*x23**5*sin(3*x23**4) + 72*x23*cos(3*x23**4) + 8/x23**3\n",
    "d_d_f_x22=sm.diff(d_f_x22)# 20736*x23**12*sin(3*x23**4) - 31104*x23**8*cos(3*x23**4) - 7344*x23**4*sin(3*x23**4) + 72*cos(3*x23**4) - 24/x23**4\n",
    "print(f'The Input function at the 2nd Block Layer 2: {d_f_x22}')\n",
    "print(f'The Output function at the 2nd Block Layer 2: {d_d_f_x22}')"
   ]
  },
  {
   "cell_type": "code",
   "execution_count": null,
   "id": "5876bb03",
   "metadata": {},
   "outputs": [],
   "source": [
    "x24=sm.symbols('x24')\n",
    "f_x24=(1 - sm.tanh(x24**3 + x24**2)**2)*(3*x24**2 + 2*x24) + (2*x24*(sm.tan(x24**2)**2 + 1) + 4*x24)*sm.sinh(2*x24**2 + sm.tan(x24**2))\n",
    "d_f_x24=sm.diff(f_x24)# (1 - tanh(x24**3 + x24**2)**2)*(6*x24 + 2) - 2*(1 - tanh(x24**3 + x24**2)**2)*(3*x24**2 + 2*x24)**2*tanh(x24**3 + x24**2) + (2*x24*(tan(x24**2)**2 + 1) + 4*x24)**2*cosh(2*x24**2 + tan(x24**2)) + (8*x24**2*(tan(x24**2)**2 + 1)*tan(x24**2) + 2*tan(x24**2)**2 + 6)*sinh(2*x24**2 + tan(x24**2))\n",
    "d_d_f_x24=sm.diff(d_f_x24)# -2*(1 - tanh(x24**3 + x24**2)**2)**2*(3*x24**2 + 2*x24)**3 - 2*(1 - tanh(x24**3 + x24**2)**2)*(6*x24 + 2)*(3*x24**2 + 2*x24)*tanh(x24**3 + x24**2) - 2*(1 - tanh(x24**3 + x24**2)**2)*(12*x24 + 4)*(3*x24**2 + 2*x24)*tanh(x24**3 + x24**2) + 4*(1 - tanh(x24**3 + x24**2)**2)*(3*x24**2 + 2*x24)**3*tanh(x24**3 + x24**2)**2 + (2*x24*(tan(x24**2)**2 + 1) + 4*x24)**3*sinh(2*x24**2 + tan(x24**2)) + (2*x24*(tan(x24**2)**2 + 1) + 4*x24)*(8*x24**2*(tan(x24**2)**2 + 1)*tan(x24**2) + 2*tan(x24**2)**2 + 6)*cosh(2*x24**2 + tan(x24**2)) + (2*x24*(tan(x24**2)**2 + 1) + 4*x24)*(16*x24**2*(tan(x24**2)**2 + 1)*tan(x24**2) + 4*tan(x24**2)**2 + 12)*cosh(2*x24**2 + tan(x24**2)) + (16*x24**3*(tan(x24**2)**2 + 1)**2 + 32*x24**3*(tan(x24**2)**2 + 1)*tan(x24**2)**2 + 24*x24*(tan(x24**2)**2 + 1)*tan(x24**2))*sinh(2*x24**2 + tan(x24**2)) - 6*tanh(x24**3 + x24**2)**2 + 6\n",
    "\n",
    "print(f'The Input function at the 2nd Block Layer 2: {d_f_x24}')\n",
    "print(f'The Output function at the 2nd Block Layer 2: {d_d_f_x24}')"
   ]
  },
  {
   "cell_type": "code",
   "execution_count": null,
   "id": "ddd1e56b",
   "metadata": {},
   "outputs": [],
   "source": [
    "x25=sm.symbols('x25')\n",
    "f_x25=15**4*sm.exp(sm.sin(x25**5))*sm.cos(x25**5) + 8*x25**3*sm.sinh(2*x25**4) + 4/x25\n",
    "d_f_x25=sm.diff(f_x25)# 64*x25**6*cosh(2*x25**4) - 253125*x25**4*exp(sin(x25**5))*sin(x25**5) + 253125*x25**4*exp(sin(x25**5))*cos(x25**5)**2 + 24*x25**2*sinh(2*x25**4) - 4/x25**2\n",
    "d_d_f_x25=sm.diff(d_f_x25)# 512*x25**9*sinh(2*x25**4) - 3796875*x25**8*exp(sin(x25**5))*sin(x25**5)*cos(x25**5) + 1265625*x25**8*exp(sin(x25**5))*cos(x25**5)**3 - 1265625*x25**8*exp(sin(x25**5))*cos(x25**5) + 576*x25**5*cosh(2*x25**4) - 1012500*x25**3*exp(sin(x25**5))*sin(x25**5) + 1012500*x25**3*exp(sin(x25**5))*cos(x25**5)**2 + 48*x25*sinh(2*x25**4) + 8/x25**3\n",
    "print(f'The Input function at the 2nd Block Layer 2: {d_f_x25}')\n",
    "print(f'The Output function at the 2nd Block Layer 2: {d_d_f_x25}')"
   ]
  },
  {
   "cell_type": "code",
   "execution_count": null,
   "id": "bb6619ec",
   "metadata": {},
   "outputs": [],
   "source": []
  },
  {
   "cell_type": "code",
   "execution_count": null,
   "id": "43e8a25c",
   "metadata": {},
   "outputs": [],
   "source": [
    "x1=sm.symbols('x1')\n",
    "f_x1=sm.sin(x1**2) +sm.cosh(2*x1)\n",
    "d_f_x1=sm.diff(f_x1)\n",
    "d_d_f_x1=sm.diff(d_f_x1)\n",
    "print(f'The Input function at the 2nd Block Layer 1: {d_f_x1}')\n",
    "print(f'The Output function at the 2nd Block Layer 1: {d_d_f_x1}')"
   ]
  },
  {
   "cell_type": "code",
   "execution_count": null,
   "id": "ac7dffe2",
   "metadata": {},
   "outputs": [],
   "source": [
    "x1=sm.symbols('x1')\n",
    "f_x1=sm.sin(x1**2) +sm.cosh(2*x1)\n",
    "d_f_x1=sm.diff(f_x1)\n",
    "d_d_f_x1=sm.diff(d_f_x1)\n",
    "print(f'The Input function at the 2nd Block Layer 1: {d_f_x1}')\n",
    "print(f'The Output function at the 2nd Block Layer 1: {d_d_f_x1}')"
   ]
  },
  {
   "cell_type": "code",
   "execution_count": null,
   "id": "190ccf1c",
   "metadata": {},
   "outputs": [],
   "source": [
    "x1=sm.symbols('x1')\n",
    "f_x1=sm.sin(x1**2) +sm.cosh(2*x1)\n",
    "d_f_x1=sm.diff(f_x1)\n",
    "d_d_f_x1=sm.diff(d_f_x1)\n",
    "print(f'The Input function at the 2nd Block Layer 1: {d_f_x1}')\n",
    "print(f'The Output function at the 2nd Block Layer 1: {d_d_f_x1}')"
   ]
  },
  {
   "cell_type": "code",
   "execution_count": null,
   "id": "6ec7ded1",
   "metadata": {},
   "outputs": [],
   "source": [
    "z1=sm.symbols('x1')\n",
    "f_z1=sm.sin(x1**2) +sm.cosh(2*x1)\n",
    "d_f_z1=sm.diff(f_z1)\n",
    "d_d_f_z1=sm.diff(d_f_z1)\n",
    "print(f'The Input function at the 3rd Block Layer 1: {d_f_z1}')\n",
    "print(f'The Output function at the 3rd Block Layer 1: {d_d_f_z1}')"
   ]
  },
  {
   "cell_type": "code",
   "execution_count": null,
   "id": "baa71cd6",
   "metadata": {},
   "outputs": [],
   "source": [
    "x1=sm.symbols('x1')\n",
    "f_x1=sm.sin(x1**2) +sm.cosh(2*x1)\n",
    "d_f_x1=sm.diff(f_x1)\n",
    "d_d_f_x1=sm.diff(d_f_x1)\n",
    "print(f'The Input function at the 2nd Block Layer 1: {d_f_x1}')\n",
    "print(f'The Output function at the 2nd Block Layer 1: {d_d_f_x1}')"
   ]
  },
  {
   "cell_type": "code",
   "execution_count": null,
   "id": "c6bf0de3",
   "metadata": {},
   "outputs": [],
   "source": [
    "x1=sm.symbols('x1')\n",
    "f_x1=sm.sin(x1**2) +sm.cosh(2*x1)\n",
    "d_f_x1=sm.diff(f_x1)\n",
    "d_d_f_x1=sm.diff(d_f_x1)\n",
    "print(f'The Input function at the 2nd Block Layer 1: {d_f_x1}')\n",
    "print(f'The Output function at the 2nd Block Layer 1: {d_d_f_x1}')"
   ]
  },
  {
   "cell_type": "code",
   "execution_count": null,
   "id": "556e2bb5",
   "metadata": {},
   "outputs": [],
   "source": [
    "import numpy as np\n",
    "import pandas as pd\n",
    "import matplotlib.pyplot as plt\n",
    "import scipy.special as sp\n",
    "import sympy as sm\n",
    "from scipy.special import erf\n",
    "from sympy import symbols,diff\n",
    "\n",
    "def gelu(x):\n",
    "    return 0.5 * x * (1 + np.tanh(np.sqrt(2/np.pi) * (x + 0.044715 * pow(x,100)))) #sqrt(2/pi) approximation is 0.797885\n",
    "    # 0.5 * x * (1 + np.tanh(np.sqrt(2 / np.pi) * (x + 0.044715 * x**3)))\n",
    "\n",
    "x_values=np.linspace(-6,6,50)\n",
    "y_values=gelu(x_values)\n",
    "\n",
    "plt.plot(x_values,y_values,color='indigo',label=\"Gelu(x) in the preceding layers of the transformer\", marker='o')\n",
    "plt.ylabel('Output(Gelu(x)) at the layer 1 in the preceding layer')\n",
    "plt.xlabel('Input(x)')\n",
    "plt.axhline(0,color='red',linestyle='--')\n",
    "plt.axvline(0,color='red',linestyle='--')\n",
    "plt.legend()\n",
    "plt.grid(True)\n",
    "print(y_values)\n",
    "plt.show()\n",
    "\n",
    "def gelu(x):\n",
    "    return 0.5 * x * (1 + np.tanh(np.sqrt(2/np.pi) * (x + 0.044715 * pow(x,3)))) #sqrt(2/pi) approximation is 0.797885\n",
    "    # 0.5 * x * (1 + np.tanh(np.sqrt(2 / np.pi) * (x + 0.044715 * x**3)))\n",
    "\n",
    "x_values=np.linspace(-6,6,50)\n",
    "y_values=gelu(x_values)\n",
    "plt.figure(figsize=(8, 5))\n",
    "plt.plot(x_values,y_values,color='indigo',label=\"Gelu(x) in the preceding layers of the transformer\", marker='o')\n",
    "plt.ylabel('Output(Gelu(x)) at the layer 1 in the preceding layer')\n",
    "plt.xlabel('Input(x)')\n",
    "plt.axhline(0,color='red',linestyle='--')\n",
    "plt.axvline(0,color='red',linestyle='--')\n",
    "plt.legend()\n",
    "plt.grid(True)\n",
    "print(y_values)\n",
    "plt.show()\n"
   ]
  },
  {
   "cell_type": "code",
   "execution_count": null,
   "id": "af694808",
   "metadata": {},
   "outputs": [],
   "source": [
    "import sympy as sm  \n",
    "import scipy.special as sp\n",
    "from sympy import symbols, diff\n",
    "#from scipy.special import erf, erf_zeros\n",
    "y1=sm.symbols('y1')\n",
    "f_y1= 0.5 * y1 * (1 + sm.tanh(sm.sqrt(2 / sm.pi) * (y1 + 0.044715 * y1**3)))\n",
    "d_f_y1=sm.diff(f_y1)# 0.5*sqrt(2)*y1*(1 - tanh(sqrt(2)*(0.044715*y1**3 + y1)/sqrt(pi))**2)*(0.134145*y1**2 + 1)/sqrt(pi) + 0.5*tanh(sqrt(2)*(0.044715*y1**3 + y1)/sqrt(pi)) + 0.5 \n",
    "d_d_f_y1=sm.diff(d_f_y1)# 0.134145*sqrt(2)*y1**2*(1 - tanh(sqrt(2)*(0.044715*y1**3 + y1)/sqrt(pi))**2)/sqrt(pi) - 2.0*y1*(1 - tanh(sqrt(2)*(0.044715*y1**3 + y1)/sqrt(pi))**2)*(0.134145*y1**2 + 1)**2*tanh(sqrt(2)*(0.044715*y1**3 + y1)/sqrt(pi))/pi + 1.0*sqrt(2)*(1 - tanh(sqrt(2)*(0.044715*y1**3 + y1)/sqrt(pi))**2)*(0.134145*y1**2 + 1)/sqrt(pi) \n",
    "print(f\"Input Function in the Block 2, 3rd Dimension, Layer 1: {d_f_y1} \")\n",
    "print(f\"Output Function in the Block 2, 3rd Dimension, Layer 1: {d_d_f_y1} \")"
   ]
  },
  {
   "cell_type": "code",
   "execution_count": null,
   "id": "6469be98",
   "metadata": {},
   "outputs": [],
   "source": [
    "y2=sm.symbols('y2')\n",
    "f_y2= 0.5 * y2 * (1 + sm.tanh(pow(y2,1))) \n",
    "d_f_y2=sm.diff(f_y2)# 1.5*y2**3*(1 - tanh(y2**3)**2) + 0.5*tanh(y2**3) + 0.5 \n",
    "d_d_f_y2=sm.diff(d_f_y2)# -9.0*y2**5*(1 - tanh(y2**3)**2)*tanh(y2**3) + 6.0*y2**2*(1 - tanh(y2**3)**2) \n",
    "print(f\"Input Function in the Block 2, 3rd Dimension,Layer 2: {d_f_y2} \")\n",
    "print(f\"Output Function in the Block 2, 3rd Dimension, Layer 2: {d_d_f_y2} \")"
   ]
  },
  {
   "cell_type": "code",
   "execution_count": null,
   "id": "aff63525",
   "metadata": {},
   "outputs": [],
   "source": [
    "y3=sm.symbols('y3')\n",
    "f_y3= 0.5 * y3 * (y3 + 0.044715 * y3**3)\n",
    "d_f_y3=sm.diff(f_y3)# 0.0223575*y3**3 + 0.5*y3*(0.134145*y3**2 + 1) + 0.5*y3 \n",
    "d_d_f_y3=sm.diff(d_f_y3)# 0.26829*y3**2 + 1.0 \n",
    "print(f\"Input Function in the Block 2, 3rd Dimension,Layer 3: {d_f_y3} \")\n",
    "print(f\"Output Function in the Block 2, 3rd Dimension, Layer : {d_d_f_y3} \")"
   ]
  },
  {
   "cell_type": "code",
   "execution_count": null,
   "id": "d9b4a42c",
   "metadata": {},
   "outputs": [],
   "source": [
    "y4=sm.symbols('y4')\n",
    "f_y4= sm.exp(sm.tanh) +  pow(sm.sinh(y4),2)\n",
    "d_f_y4=sm.diff(f_y4)# 2*sinh(y4)*cosh(y4) \n",
    "d_d_f_y4=sm.diff(d_f_y4)# 2*sinh(y4)**2 + 2*cosh(y4)**2 \n",
    "print(f\"Input Function in the Block 2, 3rd Dimension,Layer 4: {d_f_y4} \")\n",
    "print(f\"Output Function in the Block 2, 3rd Dimension, Layer 4: {d_d_f_y4} \")"
   ]
  },
  {
   "cell_type": "code",
   "execution_count": null,
   "id": "ebb37aff",
   "metadata": {},
   "outputs": [],
   "source": [
    "y5=sm.symbols('y5')\n",
    "f_y5= 0.5 * y5 * (y5 + 0.044715 * y5**3) + sm.cosh(pow(y5,4))\n",
    "d_f_y5=sm.diff(f_y5)# 4*y5**3*sinh(y5**4) + 0.0223575*y5**3 + 0.5*y5*(0.134145*y5**2 + 1) + 0.5*y5 \n",
    "d_d_f_y5=sm.diff(d_f_y5)# 16*y5**6*cosh(y5**4) + 12*y5**2*sinh(y5**4) + 0.26829*y5**2 + 1.0 \n",
    "print(f\"Input Function in the Block 2, 3rd Dimension,Layer 5: {d_f_y5} \")\n",
    "print(f\"Output Function in the Block 2, 3rd Dimension, Layer 5: {d_d_f_y5} \")"
   ]
  },
  {
   "cell_type": "code",
   "execution_count": null,
   "id": "fdef0dc6",
   "metadata": {},
   "outputs": [],
   "source": [
    "y6=sm.symbols('y6')\n",
    "f_y6= sm.exp(y6) *sm.cos(y6**2) * (y6 + 0.044715 * y6**3)\n",
    "d_f_y6=sm.diff(f_y6)# -2*y6*(0.044715*y6**3 + y6)*exp(y6)*sin(y6**2) + (0.134145*y6**2 + 1)*exp(y6)*cos(y6**2) + (0.044715*y6**3 + y6)*exp(y6)*cos(y6**2) \n",
    "d_d_f_y6=sm.diff(d_f_y6)# -4*y6**2*(0.044715*y6**3 + y6)*exp(y6)*cos(y6**2) - 4*y6*(0.134145*y6**2 + 1)*exp(y6)*sin(y6**2) - 4*y6*(0.044715*y6**3 + y6)*exp(y6)*sin(y6**2) + 0.26829*y6*exp(y6)*cos(y6**2) + 2*(0.134145*y6**2 + 1)*exp(y6)*cos(y6**2) - 2*(0.044715*y6**3 + y6)*exp(y6)*sin(y6**2) + (0.044715*y6**3 + y6)*exp(y6)*cos(y6**2\n",
    "print(f\"Input Function in the Block 2, 3rd Dimension,Layer 6: {d_f_y6} \")\n",
    "print(f\"Output Function in the Block 2, 3rd Dimension, Layer 6: {d_d_f_y6} \")"
   ]
  },
  {
   "cell_type": "code",
   "execution_count": null,
   "id": "05d44d98",
   "metadata": {},
   "outputs": [],
   "source": [
    "y7=sm.symbols('y7')\n",
    "f_y7= 0.5 * y7 * (y7 + 0.044715 * y7**3)\n",
    "d_f_y7=sm.diff(f_y7)# 0.0223575*y7**3 + 0.5*y7*(0.134145*y7**2 + 1) + 0.5*y7 \n",
    "d_d_f_y7=sm.diff(d_f_y7)# 0.26829*y7**2 + 1.0 \n",
    "print(f\"Input Function in the Block 2, 3rd Dimension,Layer 7: {d_f_y7} \")\n",
    "print(f\"Output Function in the Block 2, 3rd Dimension, Layer 7: {d_d_f_y7} \")"
   ]
  },
  {
   "cell_type": "code",
   "execution_count": null,
   "id": "4717a8c3",
   "metadata": {},
   "outputs": [],
   "source": [
    "y8=sm.symbols('y8')\n",
    "f_y8=sm.log(y8**4) + sm.tanh(y8 + 0.04475 * pow(y8,3))\n",
    "d_f_y8=sm.diff(f_y8)# (1 - tanh(0.04475*y8**3 + y8)**2)*(0.13425*y8**2 + 1) + 4/y8 \n",
    "d_d_f_y8=sm.diff(d_f_y8)# 0.2685*y8*(1 - tanh(0.04475*y8**3 + y8)**2) - 2*(1 - tanh(0.04475*y8**3 + y8)**2)*(0.13425*y8**2 + 1)**2*tanh(0.04475*y8**3 + y8) - 4/y8**2\n",
    "print(f\"Input Function in the Block 2, 3rd Dimension,Layer 8: {d_f_y8} \")\n",
    "print(f\"Output Function in the Block 2, 3rd Dimension, Layer 8: {d_d_f_y8} \")"
   ]
  },
  {
   "cell_type": "code",
   "execution_count": null,
   "id": "cc347c34",
   "metadata": {},
   "outputs": [],
   "source": [
    "y9=sm.symbols('y9')\n",
    "f_y9= 0.5 * y9 * (y9 + sm.sinh(0.044715 * y9**3))\n",
    "d_f_y9=sm.diff(f_y9)# 0.5*y9*(0.134145*y9**2*cosh(0.044715*y9**3) + 1) + 0.5*y9 + 0.5*sinh(0.044715*y9**3) \n",
    "d_d_f_y9=sm.diff(d_f_y9)# 0.134145*y9**2*cosh(0.044715*y9**3) + 0.5*y9*(0.017994881025*y9**4*sinh(0.044715*y9**3) + 0.26829*y9*cosh(0.044715*y9**3)) + 1.0 \n",
    "print(f\"Input Function in the Block 2, 3rd Dimension,Layer 9: {d_f_y9} \")\n",
    "print(f\"Output Function in the Block 2, 3rd Dimension, Layer 9: {d_d_f_y9} \")"
   ]
  },
  {
   "cell_type": "code",
   "execution_count": null,
   "id": "cfc428da",
   "metadata": {},
   "outputs": [],
   "source": [
    "y10=sm.symbols('y10')\n",
    "f_y10= sm.exp(sm.sinh(y10**2)) + sm.tanh(y10**3)\n",
    "d_f_y10=sm.diff(f_y10)# 3*y10**2*(1 - tanh(y10**3)**2) + 2*y10*exp(sinh(y10**2))*cosh(y10**2) \n",
    "d_d_f_y10=sm.diff(d_f_y10)# -18*y10**4*(1 - tanh(y10**3)**2)*tanh(y10**3) + 4*y10**2*exp(sinh(y10**2))*sinh(y10**2) + 4*y10**2*exp(sinh(y10**2))*cosh(y10**2)**2 + 6*y10*(1 - tanh(y10**3)**2) + 2*exp(sinh(y10**2))*cosh(y10**2) \n",
    "print(f\"Input Function in the Block 2, 3rd Dimension,Layer 10: {d_f_y10} \")\n",
    "print(f\"Output Function in the Block 2, 3rd Dimension, Layer 10: {d_d_f_y10} \")"
   ]
  },
  {
   "cell_type": "code",
   "execution_count": null,
   "id": "ef79b4b7",
   "metadata": {},
   "outputs": [],
   "source": [
    "import pandas as pd\n",
    "import numpy as np\n",
    "import sympy as sm  \n",
    "import scipy.special as sp\n",
    "#from scipy.special import erf\n",
    "from sympy import diff, symbols\n",
    "\n",
    "y11=sm.symbols('y11')\n",
    "f_y11=sm.exp(sm.sinh(y11**2)) + sm.tanh(y11**3)\n",
    "d_f_y11=sm.diff(f_y11)# 3*y11**2*(1 - tanh(y11**3)**2) + 2*y11*exp(sinh(y11**2))*cosh(y11**2) \n",
    "d_d_f_y11=sm.diff(d_f_y11)# -18*y11**4*(1 - tanh(y11**3)**2)*tanh(y11**3) + 4*y11**2*exp(sinh(y11**2))*sinh(y11**2) + 4*y11**2*exp(sinh(y11**2))*cosh(y11**2)**2 + 6*y11*(1 - tanh(y11**3)**2) + 2*exp(sinh(y11**2))*cosh(y11**2)\n",
    "print(f\"Input Function in the Block 2, 3rd Dimension,Layer 11: {d_f_y11} \")\n",
    "print(f\"Output Function in the Block 2, 3rd Dimension, Layer 11: {d_d_f_y11} \")"
   ]
  },
  {
   "cell_type": "code",
   "execution_count": null,
   "id": "3f10ca80",
   "metadata": {},
   "outputs": [],
   "source": [
    "y12=sm.symbols('y12')\n",
    "f_y12=sm.exp(sm.cos(y12**2)) + sm.tanh(y12**3) + sm.exp(sm.log(y12))\n",
    "d_f_y12=sm.diff(f_y12)# 3*y12**2*(1 - tanh(y12**3)**2) - 2*y12*exp(cos(y12**2))*sin(y12**2) + 1 \n",
    "d_d_f_y12=sm.diff(d_f_y12)# -18*y12**4*(1 - tanh(y12**3)**2)*tanh(y12**3) + 4*y12**2*exp(cos(y12**2))*sin(y12**2)**2 - 4*y12**2*exp(cos(y12**2))*cos(y12**2) + 6*y12*(1 - tanh(y12**3)**2) - 2*exp(cos(y12**2))*sin(y12**2)\n",
    "print(f\"Input Function in the Block 2, 3rd Dimension,Layer 12: {d_f_y12} \")\n",
    "print(f\"Output Function in the Block 2, 3rd Dimension, Layer 12: {d_d_f_y12} \")"
   ]
  },
  {
   "cell_type": "code",
   "execution_count": null,
   "id": "83183d10",
   "metadata": {},
   "outputs": [],
   "source": [
    "y13=sm.symbols('y13')\n",
    "f_y13=2*y13*sm.cos(y13**2) + 2*sm.sinh(2*y13) #sm.exp(sm.sinh(y11**2)) + sm.tanh(y11**3)\n",
    "d_f_y13=sm.diff(f_y13)# -4*y13**2*sin(y13**2) + 2*cos(y13**2) + 4*cosh(2*y13) \n",
    "d_d_f_y13=sm.diff(d_f_y13)# -8*y13**3*cos(y13**2) - 12*y13*sin(y13**2) + 8*sinh(2*y13) \n",
    "print(f\"Input Function in the Block 2, 3rd Dimension,Layer 13: {d_f_y13} \")\n",
    "print(f\"Output Function in the Block 2, 3rd Dimension, Layer 13: {d_d_f_y13} \")"
   ]
  },
  {
   "cell_type": "code",
   "execution_count": null,
   "id": "5b038c4b",
   "metadata": {},
   "outputs": [],
   "source": [
    "y14=sm.symbols('y14')\n",
    "f_y14=12*y14**2 + 3*sm.exp(3*y14) #sm.exp(sm.sinh(y11**2)) + sm.tanh(y11**3)\n",
    "d_f_y14=sm.diff(f_y14)# 24*y14 + 9*exp(3*y14) \n",
    "d_d_f_y14=sm.diff(d_f_y14)# 27*exp(3*y14) + 24 \n",
    "print(f\"Input Function in the Block 2, 3rd Dimension,Layer 14: {d_f_y14} \")\n",
    "print(f\"Output Function in the Block 2, 3rd Dimension, Layer 14: {d_d_f_y14} \")"
   ]
  },
  {
   "cell_type": "code",
   "execution_count": null,
   "id": "a31a47a6",
   "metadata": {},
   "outputs": [],
   "source": [
    "y15=sm.symbols('y15')\n",
    "f_y15=20*y15**4*(1 - sm.tanh(4*y15**5)**2) + 6*y15*sm.cos(3*y15**2)#sm.exp(sm.sinh(y11**2)) + sm.tanh(y11**3)\n",
    "d_f_y15=sm.diff(f_y15)# -800*y15**8*(1 - tanh(4*y15**5)**2)*tanh(4*y15**5) + 80*y15**3*(1 - tanh(4*y15**5)**2) - 36*y15**2*sin(3*y15**2) + 6*cos(3*y15**2) \n",
    "d_d_f_y15=sm.diff(d_f_y15)# -16000*y15**12*(1 - tanh(4*y15**5)**2)**2 + 32000*y15**12*(1 - tanh(4*y15**5)**2)*tanh(4*y15**5)**2 - 9600*y15**7*(1 - tanh(4*y15**5)**2)*tanh(4*y15**5) - 216*y15**3*cos(3*y15**2) + 240*y15**2*(1 - tanh(4*y15**5)**2) - 108*y15*sin(3*y15**2)\n",
    "print(f\"Input Function in the Block 2, 3rd Dimension,Layer 15: {d_f_y15} \")\n",
    "print(f\"Output Function in the Block 2, 3rd Dimension, Layer 15: {d_d_f_y15} \")"
   ]
  },
  {
   "cell_type": "code",
   "execution_count": null,
   "id": "8c9aabec",
   "metadata": {},
   "outputs": [],
   "source": [
    "y16=sm.symbols('y16')\n",
    "f_y16=10*y16**4*sm.sinh(2*y16**5) + 4*y16**3*sm.exp(y16**4) + 5/y16#sm.exp(sm.sinh(y11**2)) + sm.tanh(y11**3)\n",
    "d_f_y16=sm.diff(f_y16)# 100*y16**8*cosh(2*y16**5) + 16*y16**6*exp(y16**4) + 40*y16**3*sinh(2*y16**5) + 12*y16**2*exp(y16**4) - 5/y16**2 \n",
    "d_d_f_y16=sm.diff(d_f_y16)# 1000*y16**12*sinh(2*y16**5) + 64*y16**9*exp(y16**4) + 1200*y16**7*cosh(2*y16**5) + 144*y16**5*exp(y16**4) + 120*y16**2*sinh(2*y16**5) + 24*y16*exp(y16**4) + 10/y16**3\n",
    "print(f\"Input Function in the Block 2, 3rd Dimension,Layer 16: {d_f_y16} \")\n",
    "print(f\"Output Function in the Block 2, 3rd Dimension, Layer 16: {d_d_f_y16} \")"
   ]
  },
  {
   "cell_type": "code",
   "execution_count": null,
   "id": "c8f01183",
   "metadata": {},
   "outputs": [],
   "source": [
    "y17=sm.symbols('y17')\n",
    "f_y17=2*y17*(sm.tan(y17**2)**2 + 1) + 2*sm.cosh(2*y17)#sm.exp(sm.sinh(y11**2)) + sm.tanh(y11**3)\n",
    "d_f_y17=sm.diff(f_y17)# 8*y17**2*(tan(y17**2)**2 + 1)*tan(y17**2) + 2*tan(y17**2)**2 + 4*sinh(2*y17) + 2 \n",
    "d_d_f_y17=sm.diff(d_f_y17)# 16*y17**3*(tan(y17**2)**2 + 1)**2 + 32*y17**3*(tan(y17**2)**2 + 1)*tan(y17**2)**2 + 24*y17*(tan(y17**2)**2 + 1)*tan(y17**2) + 8*cosh(2*y17)\n",
    "print(f\"Input Function in the Block 2, 3rd Dimension,Layer 17: {d_f_y17} \")\n",
    "print(f\"Output Function in the Block 2, 3rd Dimension, Layer 17: {d_d_f_y17} \")"
   ]
  },
  {
   "cell_type": "code",
   "execution_count": null,
   "id": "d6d83f31",
   "metadata": {},
   "outputs": [],
   "source": [
    "y18=sm.symbols('y18')\n",
    "f_y18=2*y18*sm.cos(y18**2) + 2*sm.sinh(2*y18)#sm.exp(sm.sinh(y11**2)) + sm.tanh(y11**3)\n",
    "d_f_y18=sm.diff(f_y18)# -4*y18**2*sin(y18**2) + 2*cos(y18**2) + 4*cosh(2*y18) \n",
    "d_d_f_y18=sm.diff(d_f_y18)# -8*y18**3*cos(y18**2) - 12*y18*sin(y18**2) + 8*sinh(2*y18) \n",
    "print(f\"Input Function in the Block 2, 3rd Dimension,Layer 18: {d_f_y18} \")\n",
    "print(f\"Output Function in the Block 2, 3rd Dimension, Layer 18: {d_d_f_y18} \")"
   ]
  },
  {
   "cell_type": "code",
   "execution_count": null,
   "id": "3e750e4d",
   "metadata": {},
   "outputs": [],
   "source": [
    "y19=sm.symbols('y19')\n",
    "f_y19=-4*y19**2*sm.sin(y19**2) + 2*sm.cos(y19**2) + 4*sm.cosh(2*y19)#sm.exp(sm.sinh(y11**2)) + sm.tanh(y11**3)\n",
    "d_f_y19=sm.diff(f_y19)# -8*y19**3*cos(y19**2) - 12*y19*sin(y19**2) + 8*sinh(2*y19) \n",
    "d_d_f_y19=sm.diff(d_f_y19)# 16*y19**4*sin(y19**2) - 48*y19**2*cos(y19**2) - 12*sin(y19**2) + 16*cosh(2*y19) \n",
    "print(f\"Input Function in the Block 2, 3rd Dimension,Layer 19: {d_f_y19} \")\n",
    "print(f\"Output Function in the Block 2, 3rd Dimension, Layer 19: {d_d_f_y19} \")"
   ]
  },
  {
   "cell_type": "code",
   "execution_count": null,
   "id": "72f5eb7b",
   "metadata": {},
   "outputs": [],
   "source": [
    "y20=sm.symbols('y20')\n",
    "f_y20=2*y20*sm.cos(y20**2) + 2*sm.log(2*y20)#sm.exp(sm.sinh(y11**2)) + sm.tanh(y11**3)\n",
    "d_f_y20=sm.diff(f_y20)# -4*y20**2*sin(y20**2) + 2*cos(y20**2) + 2/y20\n",
    "d_d_f_y20=sm.diff(d_f_y20)# -8*y20**3*cos(y20**2) - 12*y20*sin(y20**2) - 2/y20**2 \n",
    "print(f\"Input Function in the Block 2, 3rd Dimension,Layer 20: {d_f_y20} \")\n",
    "print(f\"Output Function in the Block 2, 3rd Dimension, Layer 20: {d_d_f_y20} \")"
   ]
  },
  {
   "cell_type": "code",
   "execution_count": null,
   "id": "3dcf5fd2",
   "metadata": {},
   "outputs": [],
   "source": [
    "y21=sm.symbols('y21')\n",
    "f_y21= sm.exp(sm.sin(y21**5)) + sm.cosh(2*y21**4) + sm.log(y21**4)  #2*y20*sm.cos(y20**2) + 2*sm.log(2*y20)#sm.exp(sm.sinh(y11**2)) + sm.tanh(y11**3)\n",
    "d_f_y21=sm.diff(f_y21)# 5*y21**4*exp(sin(y21**5))*cos(y21**5) + 8*y21**3*sinh(2*y21**4) + 4/y21 \n",
    "d_d_f_y21=sm.diff(d_f_y21)# -25*y21**8*exp(sin(y21**5))*sin(y21**5) + 25*y21**8*exp(sin(y21**5))*cos(y21**5)**2 + 64*y21**6*cosh(2*y21**4) + 20*y21**3*exp(sin(y21**5))*cos(y21**5) + 24*y21**2*sinh(2*y21**4) - 4/y21**2 \n",
    "print(f\"Input Function in the Block 2, 3rd Dimension,Layer 21: {d_f_y21} \")\n",
    "print(f\"Output Function in the Block 2, 3rd Dimension, Layer 21: {d_d_f_y21} \")"
   ]
  },
  {
   "cell_type": "code",
   "execution_count": null,
   "id": "a2384812",
   "metadata": {},
   "outputs": [],
   "source": [
    "y22=sm.symbols('y22')\n",
    "f_y22= sm.tanh(y22**2 + y22**3) + sm.cosh(2*y22**2 + sm.tan(y22 **2))  #2*y20*sm.cos(y20**2) + 2*sm.log(2*y20)#sm.exp(sm.sinh(y11**2)) + sm.tanh(y11**3)\n",
    "d_f_y22=sm.diff(f_y22)# (1 - tanh(y22**3 + y22**2)**2)*(3*y22**2 + 2*y22) + (2*y22*(tan(y22**2)**2 + 1) + 4*y22)*sinh(2*y22**2 + tan(y22**2)) \n",
    "d_d_f_y22=sm.diff(d_f_y22)# (1 - tanh(y22**3 + y22**2)**2)*(6*y22 + 2) - 2*(1 - tanh(y22**3 + y22**2)**2)*(3*y22**2 + 2*y22)**2*tanh(y22**3 + y22**2) + (2*y22*(tan(y22**2)**2 + 1) + 4*y22)**2*cosh(2*y22**2 + tan(y22**2)) + (8*y22**2*(tan(y22**2)**2 + 1)*tan(y22**2) + 2*tan(y22**2)**2 + 6)*sinh(2*y22**2 + tan(y22**2))\n",
    "print(f\"Input Function in the Block 2, 3rd Dimension,Layer 22: {d_f_y22} \")\n",
    "print(f\"Output Function in the Block 2, 3rd Dimension, Layer 22: {d_d_f_y22} \")"
   ]
  },
  {
   "cell_type": "code",
   "execution_count": null,
   "id": "28dd0a37",
   "metadata": {},
   "outputs": [],
   "source": [
    "y23=sm.symbols('y23')\n",
    "f_y23=sm.sinh(2*y23**5) + 4*y23**3*sm.exp(y23**4) + 5/y23#sm.exp(sm.sinh(y11**2)) + sm.tanh(y11**3)\n",
    "d_f_y23=sm.diff(f_y23)# -4*y20**2*sin(y20**2) + 2*cos(y20**2) + 2/y20\n",
    "d_d_f_y23=sm.diff(d_f_y23)# -8*y20**3*cos(y20**2) - 12*y20*sin(y20**2) - 2/y20**2 \n",
    "print(f\"Input Function in the Block 2, 3rd Dimension,Layer 23: {d_f_y23} \")\n",
    "print(f\"Output Function in the Block 2, 3rd Dimension, Layer 23: {d_d_f_y23} \")"
   ]
  },
  {
   "cell_type": "code",
   "execution_count": null,
   "id": "6eb1e1f6",
   "metadata": {},
   "outputs": [],
   "source": [
    "y24=sm.symbols('y24')\n",
    "f_y24=2*y24*(sm.tan(y24**2)**2 + 1) + 2*sm.cosh(2*y24)#sm.exp(sm.sinh(y11**2)) + sm.tanh(y11**3)\n",
    "d_f_y24=sm.diff(f_y24)# -4*y20**2*sin(y20**2) + 2*cos(y20**2) + 2/y20\n",
    "d_d_f_y24=sm.diff(d_f_y24)# -8*y20**3*cos(y20**2) - 12*y20*sin(y20**2) - 2/y20**2 \n",
    "print(f\"Input Function in the Block 2, 3rd Dimension,Layer 24: {d_f_y24} \")\n",
    "print(f\"Output Function in the Block 2, 3rd Dimension, Layer 24: {d_d_f_y24} \")"
   ]
  },
  {
   "cell_type": "code",
   "execution_count": null,
   "id": "0a291de6",
   "metadata": {},
   "outputs": [],
   "source": [
    "y25=sm.symbols('y25')\n",
    "f_y25=10*y25**4*sm.sinh(2*y25**5) + 4*y25**3*sm.exp(y25**4) + 5/y25#sm.exp(sm.sinh(y11**2)) + sm.tanh(y11**3)\n",
    "d_f_y25=sm.diff(f_y25)# -4*y20**2*sin(y20**2) + 2*cos(y20**2) + 2/y20\n",
    "d_d_f_y25=sm.diff(d_f_y25)# -8*y20**3*cos(y20**2) - 12*y20*sin(y20**2) - 2/y20**2 \n",
    "print(f\"Input Function in the Block 2, 3rd Dimension,Layer 24: {d_f_y25} \")\n",
    "print(f\"Output Function in the Block 2, 3rd Dimension, Layer 24: {d_d_f_y25} \")"
   ]
  },
  {
   "cell_type": "code",
   "execution_count": 99,
   "id": "aa5b8013",
   "metadata": {},
   "outputs": [],
   "source": [
    "# 0.5 * x * (1 + tanh(sqrt(2 / pi) * (x + 0.044715 * x**3)))\n",
    "# 0.5 * y2 * (1 + tanh(pow(y2,1)))\n",
    "# 0.5 * y3 * (y3 + 0.044715 * y3**3)\n",
    "# sm.exp(tanh) +  pow(sinh(y4),2)\n",
    "# 0.5 * y5 * (y5 + 0.044715 * y5**3) + cosh(pow(y5,4))\n",
    "# exp(y6) *cos(y6**2) * (y6 + 0.044715 * y6**3)\n",
    "# 0.5 * y7 * (y7 + 0.044715 * y7**3)\n",
    "# log(y8**4) + tanh(y8 + 0.04475 * pow(y8,3))\n",
    "# 0.5 * y9 * (y9 + sinh(0.044715 * y9**3))\n",
    "# exp(sinh(y10**2)) + tanh(y10**3)"
   ]
  },
  {
   "cell_type": "code",
   "execution_count": null,
   "id": "70177b0d",
   "metadata": {},
   "outputs": [],
   "source": [
    "import sympy as sm  \n",
    "import scipy.special as sp\n",
    "from sympy import symbols, diff\n",
    "from scipy.special import erf, erf_zeros\n",
    "z1=sm.symbols('z1')\n",
    "f_z1= 0.5 * z1 * (1 + sm.tanh(sm.sqrt(2 / sm.pi) * (z1 + 0.044715 * z1**3)))\n",
    "d_f_z1=sm.diff(f_z1)#\n",
    "d_d_f_z1=sm.diff(d_f_z1)# \n",
    "print(f\"Input Function in the Block 3, 1st Dimension, Layer 1: {d_f_z1} \")\n",
    "print(f\"Output Function in the Block 3, 1st Dimension, Layer 1: {d_d_f_z1} \")\n",
    "\n"
   ]
  },
  {
   "cell_type": "code",
   "execution_count": null,
   "id": "e7767485",
   "metadata": {},
   "outputs": [],
   "source": [
    "z2=sm.symbols('z2')\n",
    "f_z2= 0.5 * z2 * (1 + sm.tanh(pow(z2,1)))\n",
    "d_f_z2=sm.diff(f_z2)# \n",
    "d_d_f_z2=sm.diff(d_f_z2)# \n",
    "print(f\"Input Function in the Block 3, 1st Dimension, Layer 2: {d_f_z2} \")\n",
    "print(f\"Output Function in the Block 3, 1st Dimension, Layer 2: {d_d_f_z2} \")\n"
   ]
  },
  {
   "cell_type": "code",
   "execution_count": null,
   "id": "d496a29e",
   "metadata": {},
   "outputs": [],
   "source": [
    "z3=sm.symbols('z3')\n",
    "f_z3= 0.5 * z3 * (z3 + 0.044715 * z3**3)\n",
    "d_f_z3=sm.diff(f_z3)#  \n",
    "d_d_f_z3=sm.diff(d_f_z3)# \n",
    "print(f\"Input Function in the Block 3, 1st Dimension, Layer 3: {d_f_z3} \")\n",
    "print(f\"Output Function in the Block 3, 1st Dimension, Layer 3: {d_d_f_z3} \")"
   ]
  },
  {
   "cell_type": "code",
   "execution_count": null,
   "id": "19184e82",
   "metadata": {},
   "outputs": [],
   "source": [
    "\n",
    "z4=sm.symbols('z4')\n",
    "f_z4= sm.exp(sm.tanh) +  pow(sm.sinh(z4),2)\n",
    "d_f_z4=sm.diff(f_z4)#  \n",
    "d_d_f_z4=sm.diff(d_f_z4)#  \n",
    "print(f\"Input Function in the Block 3, 1st Dimension, Layer 4: {d_f_z4} \")\n",
    "print(f\"Output Function in the Block 3, 1st Dimension, Layer 4: {d_d_f_z4} \")"
   ]
  },
  {
   "cell_type": "code",
   "execution_count": null,
   "id": "1800533a",
   "metadata": {},
   "outputs": [],
   "source": [
    "z5=sm.symbols('z5')\n",
    "f_z5= 0.5 * z5 * (z5 + 0.044715 * z5**3) + sm.cosh(pow(z5,4))\n",
    "d_f_z5=sm.diff(f_z5)# 4*y5**3*sinh(y5**4) + 0.0223575*y5**3 + 0.5*y5*(0.134145*y5**2 + 1) + 0.5*y5 \n",
    "d_d_f_z5=sm.diff(d_f_z5)# 16*y5**6*cosh(y5**4) + 12*y5**2*sinh(y5**4) + 0.26829*y5**2 + 1.0 \n",
    "print(f\"Input Function in the Block 2, 3rd Dimension,Layer 5: {d_f_z5} \")\n",
    "print(f\"Output Function in the Block 2, 3rd Dimension, Layer 5: {d_d_f_z5} \")"
   ]
  },
  {
   "cell_type": "code",
   "execution_count": null,
   "id": "695c2534",
   "metadata": {},
   "outputs": [],
   "source": [
    "z6=sm.symbols('z6')\n",
    "f_z6= sm.exp(y6) *sm.cos(y6**2) * (y6 + 0.044715 * y6**3)\n",
    "d_f_z6=sm.diff(f_z6)# -2*y6*(0.044715*y6**3 + y6)*exp(y6)*sin(y6**2) + (0.134145*y6**2 + 1)*exp(y6)*cos(y6**2) + (0.044715*y6**3 + y6)*exp(y6)*cos(y6**2) \n",
    "d_d_f_z6=sm.diff(d_f_z6)# -4*y6**2*(0.044715*y6**3 + y6)*exp(y6)*cos(y6**2) - 4*y6*(0.134145*y6**2 + 1)*exp(y6)*sin(y6**2) - 4*y6*(0.044715*y6**3 + y6)*exp(y6)*sin(y6**2) + 0.26829*y6*exp(y6)*cos(y6**2) + 2*(0.134145*y6**2 + 1)*exp(y6)*cos(y6**2) - 2*(0.044715*y6**3 + y6)*exp(y6)*sin(y6**2) + (0.044715*y6**3 + y6)*exp(y6)*cos(y6**2\n",
    "print(f\"Input Function in the Block 2, 3rd Dimension,Layer 6: {d_f_y6} \")\n",
    "print(f\"Output Function in the Block 2, 3rd Dimension, Layer 6: {d_d_f_y6} \")"
   ]
  },
  {
   "cell_type": "code",
   "execution_count": null,
   "id": "466d4850",
   "metadata": {},
   "outputs": [],
   "source": [
    "z7=sm.symbols('z7')\n",
    "f_z7= 0.5 * y7 * (y7 + 0.044715 * y7**3)\n",
    "d_f_z7=sm.diff(f_z7)# 0.0223575*y7**3 + 0.5*y7*(0.134145*y7**2 + 1) + 0.5*y7 \n",
    "d_d_f_z7=sm.diff(d_f_z7)# 0.26829*y7**2 + 1.0 \n",
    "print(f\"Input Function in the Block 2, 3rd Dimension,Layer 7: {d_f_z7} \")\n",
    "print(f\"Output Function in the Block 2, 3rd Dimension, Layer 7: {d_d_f_z7} \")"
   ]
  },
  {
   "cell_type": "code",
   "execution_count": null,
   "id": "cdfe1a4d",
   "metadata": {},
   "outputs": [],
   "source": [
    "z8=sm.symbols('z8')\n",
    "f_z8=sm.log(y8**4) + sm.tanh(y8 + 0.04475 * pow(y8,3))\n",
    "d_f_z8=sm.diff(f_z8)# (1 - tanh(0.04475*y8**3 + y8)**2)*(0.13425*y8**2 + 1) + 4/y8 \n",
    "d_d_f_z8=sm.diff(d_f_z8)# 0.2685*y8*(1 - tanh(0.04475*y8**3 + y8)**2) - 2*(1 - tanh(0.04475*y8**3 + y8)**2)*(0.13425*y8**2 + 1)**2*tanh(0.04475*y8**3 + y8) - 4/y8**2\n",
    "print(f\"Input Function in the Block 2, 3rd Dimension,Layer 8: {d_f_z8} \")\n",
    "print(f\"Output Function in the Block 2, 3rd Dimension, Layer 8: {d_d_f_z8} \")\n",
    "\n",
    "\n"
   ]
  },
  {
   "cell_type": "code",
   "execution_count": null,
   "id": "2157d035",
   "metadata": {},
   "outputs": [],
   "source": [
    "d_f_z9z9=sm.symbols('z9')\n",
    "f_z9= 0.5 * y9 * (y9 + sm.sinh(0.044715 * y9**3))\n",
    "d_f_z9=sm.diff(f_z9)# 0.5*y9*(0.134145*y9**2*cosh(0.044715*y9**3) + 1) + 0.5*y9 + 0.5*sinh(0.044715*y9**3) \n",
    "d_d_f_z9=sm.diff(d_f_z9)# 0.134145*y9**2*cosh(0.044715*y9**3) + 0.5*y9*(0.017994881025*y9**4*sinh(0.044715*y9**3) + 0.26829*y9*cosh(0.044715*y9**3)) + 1.0 \n",
    "print(f\"Input Function in the Block 2, 3rd Dimension,Layer 9: {d_f_z9} \")\n",
    "print(f\"Output Function in the Block 2, 3rd Dimension, Layer 9: {d_d_f_z9} \")\n"
   ]
  },
  {
   "cell_type": "code",
   "execution_count": null,
   "id": "407efa79",
   "metadata": {},
   "outputs": [],
   "source": [
    "z10=sm.symbols('z10')\n",
    "f_z10= sm.exp(sm.sinh(y10**2)) + sm.tanh(y10**3)\n",
    "d_f_z10=sm.diff(f_z10)# 3*y10**2*(1 - tanh(y10**3)**2) + 2*y10*exp(sinh(y10**2))*cosh(y10**2) \n",
    "d_d_f_z10=sm.diff(d_f_z10)# -18*y10**4*(1 - tanh(y10**3)**2)*tanh(y10**3) + 4*y10f**2*exp(sinh(y10**2))*sinh(y10**2) + 4*y10**2*exp(sinh(y10**2))*cosh(y10**2)**2 + 6*y10*(1 - tanh(y10**3)**2) + 2*exp(sinh(y10**2))*cosh(y10**2) \n",
    "print(f\"Input Function in the Block 2, 3rd Dimension,Layer 10: {d_f_z10} \")\n",
    "print(f\"Output Function in the Block 2, 3rd Dimension, Layer 10: {d_d_f_y10} \")"
   ]
  },
  {
   "cell_type": "code",
   "execution_count": null,
   "id": "d2578d4a",
   "metadata": {},
   "outputs": [],
   "source": [
    "import pandas as pd\n",
    "import numpy as np\n",
    "import sympy as sm\n",
    "import scipy.special as sp\n",
    "from scipy.special import erf\n",
    "from sympy import diff, symbols\n",
    "\n",
    "y11=sm.symbols('y11')\n",
    "f_y11=sm.exp(sm.sinh(y11**2)) + sm.tanh(y11**3)\n",
    "d_f_y11=sm.diff(f_y11)# 3*y11**2*(1 - tanh(y11**3)**2) + 2*y11*exp(sinh(y11**2))*cosh(y11**2) \n",
    "d_d_f_y11=sm.diff(d_f_y11)# -18*y11**4*(1 - tanh(y11**3)**2)*tanh(y11**3) + 4*y11**2*exp(sinh(y11**2))*sinh(y11**2) + 4*y11**2*exp(sinh(y11**2))*cosh(y11**2)**2 + 6*y11*(1 - tanh(y11**3)**2) + 2*exp(sinh(y11**2))*cosh(y11**2)\n",
    "print(f\"Input Function in the Block 2, 3rd Dimension,Layer 11: {d_f_y11} \")\n",
    "print(f\"Output Function in the Block 2, 3rd Dimension, Layer 11: {d_d_f_y11} \")"
   ]
  },
  {
   "cell_type": "code",
   "execution_count": null,
   "id": "9fdd0bd7",
   "metadata": {},
   "outputs": [],
   "source": [
    "y12=sm.symbols('y12')\n",
    "f_y12=sm.exp(sm.cos(y12**2)) + sm.tanh(y12**3) + sm.exp(sm.log(y12))\n",
    "d_f_y12=sm.diff(f_y12)# 3*y12**2*(1 - tanh(y12**3)**2) - 2*y12*exp(cos(y12**2))*sin(y12**2) + 1 \n",
    "d_d_f_y12=sm.diff(d_f_y12)# -18*y12**4*(1 - tanh(y12**3)**2)*tanh(y12**3) + 4*y12**2*exp(cos(y12**2))*sin(y12**2)**2 - 4*y12**2*exp(cos(y12**2))*cos(y12**2) + 6*y12*(1 - tanh(y12**3)**2) - 2*exp(cos(y12**2))*sin(y12**2)\n",
    "print(f\"Input Function in the Block 2, 3rd Dimension,Layer 12: {d_f_y12} \")\n",
    "print(f\"Output Function in the Block 2, 3rd Dimension, Layer 12: {d_d_f_y12} \")\n"
   ]
  },
  {
   "cell_type": "code",
   "execution_count": null,
   "id": "4b4ff1c0",
   "metadata": {},
   "outputs": [],
   "source": [
    "y13=sm.symbols('y13')\n",
    "f_y13=2*y13*sm.cos(y13**2) + 2*sm.sinh(2*y13) #sm.exp(sm.sinh(y11**2)) + sm.tanh(y11**3)\n",
    "d_f_y13=sm.diff(f_y13)# -4*y13**2*sin(y13**2) + 2*cos(y13**2) + 4*cosh(2*y13) \n",
    "d_d_f_y13=sm.diff(d_f_y13)# -8*y13**3*cos(y13**2) - 12*y13*sin(y13**2) + 8*sinh(2*y13) \n",
    "print(f\"Input Function in the Block 2, 3rd Dimension,Layer 13: {d_f_y13} \")\n",
    "print(f\"Output Function in the Block 2, 3rd Dimension, Layer 13: {d_d_f_y13} \")\n"
   ]
  },
  {
   "cell_type": "code",
   "execution_count": null,
   "id": "f6e634c3",
   "metadata": {},
   "outputs": [],
   "source": [
    "y14=sm.symbols('y14')\n",
    "f_y14=12*y14**2 + 3*sm.exp(3*y14) #sm.exp(sm.sinh(y11**2)) + sm.tanh(y11**3)\n",
    "d_f_y14=sm.diff(f_y14)# 24*y14 + 9*exp(3*y14) \n",
    "d_d_f_y14=sm.diff(d_f_y14)# 27*exp(3*y14) + 24 \n",
    "print(f\"Input Function in the Block 2, 3rd Dimension,Layer 14: {d_f_y14} \")\n",
    "print(f\"Output Function in the Block 2, 3rd Dimension, Layer 14: {d_d_f_y14} \")"
   ]
  },
  {
   "cell_type": "code",
   "execution_count": null,
   "id": "30e543bf",
   "metadata": {},
   "outputs": [],
   "source": [
    "y15=sm.symbols('y15')\n",
    "f_y15=20*y15**4*(1 - sm.tanh(4*y15**5)**2) + 6*y15*sm.cos(3*y15**2)#sm.exp(sm.sinh(y11**2)) + sm.tanh(y11**3)\n",
    "d_f_y15=sm.diff(f_y15)# -800*y15**8*(1 - tanh(4*y15**5)**2)*tanh(4*y15**5) + 80*y15**3*(1 - tanh(4*y15**5)**2) - 36*y15**2*sin(3*y15**2) + 6*cos(3*y15**2) \n",
    "d_d_f_y15=sm.diff(d_f_y15)# -16000*y15**12*(1 - tanh(4*y15**5)**2)**2 + 32000*y15**12*(1 - tanh(4*y15**5)**2)*tanh(4*y15**5)**2 - 9600*y15**7*(1 - tanh(4*y15**5)**2)*tanh(4*y15**5) - 216*y15**3*cos(3*y15**2) + 240*y15**2*(1 - tanh(4*y15**5)**2) - 108*y15*sin(3*y15**2)\n",
    "print(f\"Input Function in the Block 2, 3rd Dimension,Layer 15: {d_f_y15} \")\n",
    "print(f\"Output Function in the Block 2, 3rd Dimension, Layer 15: {d_d_f_y15} \")\n"
   ]
  },
  {
   "cell_type": "code",
   "execution_count": null,
   "id": "1fdc519f",
   "metadata": {},
   "outputs": [],
   "source": [
    "y16=sm.symbols('y16')\n",
    "f_y16=10*y16**4*sm.sinh(2*y16**5) + 4*y16**3*sm.exp(y16**4) + 5/y16#sm.exp(sm.sinh(y11**2)) + sm.tanh(y11**3)\n",
    "d_f_y16=sm.diff(f_y16)# 100*y16**8*cosh(2*y16**5) + 16*y16**6*exp(y16**4) + 40*y16**3*sinh(2*y16**5) + 12*y16**2*exp(y16**4) - 5/y16**2 \n",
    "d_d_f_y16=sm.diff(d_f_y16)# 1000*y16**12*sinh(2*y16**5) + 64*y16**9*exp(y16**4) + 1200*y16**7*cosh(2*y16**5) + 144*y16**5*exp(y16**4) + 120*y16**2*sinh(2*y16**5) + 24*y16*exp(y16**4) + 10/y16**3\n",
    "print(f\"Input Function in the Block 2, 3rd Dimension,Layer 16: {d_f_y16} \")\n",
    "print(f\"Output Function in the Block 2, 3rd Dimension, Layer 16: {d_d_f_y16} \")"
   ]
  },
  {
   "cell_type": "code",
   "execution_count": null,
   "id": "ba6db0ce",
   "metadata": {},
   "outputs": [],
   "source": [
    "y17=sm.symbols('y17')\n",
    "f_y17=2*y17*(sm.tan(y17**2)**2 + 1) + 2*sm.cosh(2*y17)#sm.exp(sm.sinh(y11**2)) + sm.tanh(y11**3)\n",
    "d_f_y17=sm.diff(f_y17)# 8*y17**2*(tan(y17**2)**2 + 1)*tan(y17**2) + 2*tan(y17**2)**2 + 4*sinh(2*y17) + 2 \n",
    "d_d_f_y17=sm.diff(d_f_y17)# 16*y17**3*(tan(y17**2)**2 + 1)**2 + 32*y17**3*(tan(y17**2)**2 + 1)*tan(y17**2)**2 + 24*y17*(tan(y17**2)**2 + 1)*tan(y17**2) + 8*cosh(2*y17)\n",
    "print(f\"Input Function in the Block 2, 3rd Dimension,Layer 17: {d_f_y17} \")\n",
    "print(f\"Output Function in the Block 2, 3rd Dimension, Layer 17: {d_d_f_y17} \")\n"
   ]
  },
  {
   "cell_type": "code",
   "execution_count": null,
   "id": "6ec7be38",
   "metadata": {},
   "outputs": [],
   "source": [
    "y18=sm.symbols('y18')\n",
    "f_y18=2*y18*sm.cos(y18**2) + 2*sm.sinh(2*y18)#sm.exp(sm.sinh(y11**2)) + sm.tanh(y11**3)\n",
    "d_f_y18=sm.diff(f_y18)# -4*y18**2*sin(y18**2) + 2*cos(y18**2) + 4*cosh(2*y18) \n",
    "d_d_f_y18=sm.diff(d_f_y18)# -8*y18**3*cos(y18**2) - 12*y18*sin(y18**2) + 8*sinh(2*y18) \n",
    "print(f\"Input Function in the Block 2, 3rd Dimension,Layer 18: {d_f_y18} \")\n",
    "print(f\"Output Function in the Block 2, 3rd Dimension, Layer 18: {d_d_f_y18} \")"
   ]
  },
  {
   "cell_type": "code",
   "execution_count": null,
   "id": "74437fc6",
   "metadata": {},
   "outputs": [],
   "source": [
    "y19=sm.symbols('y19')\n",
    "f_y19=-4*y19**2*sm.sin(y19**2) + 2*sm.cos(y19**2) + 4*sm.cosh(2*y19)#sm.exp(sm.sinh(y11**2)) + sm.tanh(y11**3)\n",
    "d_f_y19=sm.diff(f_y19)# -8*y19**3*cos(y19**2) - 12*y19*sin(y19**2) + 8*sinh(2*y19) \n",
    "d_d_f_y19=sm.diff(d_f_y19)# 16*y19**4*sin(y19**2) - 48*y19**2*cos(y19**2) - 12*sin(y19**2) + 16*cosh(2*y19) \n",
    "print(f\"Input Function in the Block 2, 3rd Dimension,Layer 19: {d_f_y19} \")\n",
    "print(f\"Output Function in the Block 2, 3rd Dimension, Layer 19: {d_d_f_y19} \")"
   ]
  },
  {
   "cell_type": "code",
   "execution_count": null,
   "id": "f63efc98",
   "metadata": {},
   "outputs": [],
   "source": [
    "y20=sm.symbols('y20')\n",
    "f_y20=2*y20*sm.cos(y20**2) + 2*sm.log(2*y20)#sm.exp(sm.sinh(y11**2)) + sm.tanh(y11**3)\n",
    "d_f_y20=sm.diff(f_y20)# -4*y20**2*sin(y20**2) + 2*cos(y20**2) + 2/y20\n",
    "d_d_f_y20=sm.diff(d_f_y20)# -8*y20**3*cos(y20**2) - 12*y20*sin(y20**2) - 2/y20**2 \n",
    "print(f\"Input Function in the Block 2, 3rd Dimension,Layer 20: {d_f_y20} \")\n",
    "print(f\"Output Function in the Block 2, 3rd Dimension, Layer 20: {d_d_f_y20} \")"
   ]
  },
  {
   "cell_type": "code",
   "execution_count": null,
   "id": "2263f3af",
   "metadata": {},
   "outputs": [],
   "source": [
    "y21=sm.symbols('y21')\n",
    "f_y21= sm.exp(sm.sin(y21**5)) + sm.cosh(2*y21**4) + sm.log(y21**4)  #2*y20*sm.cos(y20**2) + 2*sm.log(2*y20)#sm.exp(sm.sinh(y11**2)) + sm.tanh(y11**3)\n",
    "d_f_y21=sm.diff(f_y21)# 5*y21**4*exp(sin(y21**5))*cos(y21**5) + 8*y21**3*sinh(2*y21**4) + 4/y21 \n",
    "d_d_f_y21=sm.diff(d_f_y21)# -25*y21**8*exp(sin(y21**5))*sin(y21**5) + 25*y21**8*exp(sin(y21**5))*cos(y21**5)**2 + 64*y21**6*cosh(2*y21**4) + 20*y21**3*exp(sin(y21**5))*cos(y21**5) + 24*y21**2*sinh(2*y21**4) - 4/y21**2 \n",
    "print(f\"Input Function in the Block 2, 3rd Dimension,Layer 21: {d_f_y21} \")\n",
    "print(f\"Output Function in the Block 2, 3rd Dimension, L21:{d_d_f_y21}\")"
   ]
  },
  {
   "cell_type": "code",
   "execution_count": null,
   "id": "83e71c26",
   "metadata": {},
   "outputs": [],
   "source": [
    "\n",
    "y22=sm.symbols('y22')\n",
    "f_y22= sm.tanh(y22**2 + y22**3) + sm.cosh(2*y22**2 + sm.tan(y22 **2)) #(1 - tanh(y22**3 + y22**2)**2)*(3*y22**2 + 2*y22) + (2*y22*(tan(y22**2)**2 + 1) + 4*y22)*sinh(2*y22**2 + tan(y22**2))\n",
    "d_f_y22=sm.diff(f_y22)# (1 - tanh(y22**3 + y22**2)**2)*(6*y22 + 2) - 2*(1 - tanh(y22**3 + y22**2)**2)*(3*y22**2 + 2*y22)**2*tanh(y22**3 + y22**2) + (2*y22*(tan(y22**2)**2 + 1) + 4*y22)**2*cosh(2*y22**2 + tan(y22**2)) + (8*y22**2*(tan(y22**2)**2 + 1)*tan(y22**2) + 2*tan(y22**2)**2 + 6)*sinh(2*y22**2 + tan(y22**2))\n",
    "d_d_f_y22=sm.diff(d_f_y22)# (1 - tanh(y22**3 + y22**2)**2)*(6*y22 + 2) - 2*(1 - tanh(y22**3 + y22**2)**2)*(3*y22**2 + 2*y22)**2*tanh(y22**3 + y22**2) + (2*y22*(tan(y22**2)**2 + 1) + 4*y22)**2*cosh(2*y22**2 + tan(y22**2)) + (8*y22**2*(tan(y22**2)**2 + 1)*tan(y22**2) + 2*tan(y22**2)**2 + 6)*sinh(2*y22**2 + tan(y22**2))\n",
    "print(f\"Input Function in the Block 2, 3rd Dimension,Layer 22: {d_f_y22} \")\n",
    "print(f\"Output Function in the Block 2, 3rd Dimension, Layer 22: {d_d_f_y22} \")\n"
   ]
  },
  {
   "cell_type": "code",
   "execution_count": null,
   "id": "e34ef157",
   "metadata": {},
   "outputs": [],
   "source": [
    "y23=sm.symbols('y23')\n",
    "f_y23=sm.sinh(2*y23**5) + 4*y23**3*sm.exp(y23**4) + 5/y23 # sm.exp(sm.sinh(y11**2)) + sm.tanh(y11**3)\n",
    "d_f_y23=sm.diff(f_y23)# 16*y23**6*exp(y23**4) + 10*y23**4*cosh(2*y23**5) + 12 *y23**2*exp(y23**4) - 5/y23**2\n",
    "d_d_f_y23=sm.diff(d_f_y23)# 64*y23**9*exp(y23**4) + 100*y23**8*sinh(2*y23**5) + 144*y23**5*exp(y23**4) + 40*y23**3*cosh(2*y23**5) + 24*y23*exp(y23**4) + 10/y23**3 \n",
    "print(f\"Input Function in the Block 2, 3rd Dimension,Layer 23: {d_f_y23} \")\n",
    "print(f\"Output Function in the Block 2, 3rd Dimension, Layer 23: {d_d_f_y23} \")"
   ]
  },
  {
   "cell_type": "code",
   "execution_count": null,
   "id": "af7f1882",
   "metadata": {},
   "outputs": [],
   "source": [
    "y24=sm.symbols('y24')\n",
    "f_y24=2*y24*(sm.tan(y24**2)**2 + 1) + 2*sm.cosh(2*y24)#sm.exp(sm.sinh(y11**2)) + sm.tanh(y11**3)\n",
    "d_f_y24=sm.diff(f_y24)# 8*y24**2*(tan(y24**2)**2 + 1)*tan(y24**2) + 2*tan(y24**2)**2 + 4*sinh(2*y24) + 2 \n",
    "d_d_f_y24=sm.diff(d_f_y24)# 16*y24**3*(tan(y24**2)**2 + 1)**2 + 32*y24**3*(tan(y24**2)**2 + 1)*tan(y24**2)**2 + 24*y24*(tan(y24**2)**2 + 1)*tan(y24**2) + 8*cosh(2*y24) \n",
    "print(f\"Input Function in the Block 2, 3rd Dimension,Layer 24: {d_f_y24} \")\n",
    "print(f\"Output Function in the Block 2, 3rd Dimension, Layer 24: {d_d_f_y24} \")"
   ]
  },
  {
   "cell_type": "code",
   "execution_count": null,
   "id": "93deefe7",
   "metadata": {},
   "outputs": [],
   "source": [
    "y25=sm.symbols('y25')\n",
    "f_y25=10*y25**4*sm.sinh(2*y25**5) + 4*y25**3*sm.exp(y25**4) + 5/y25#sm.exp(sm.sinh(y11**2)) + sm.tanh(y11**3)\n",
    "d_f_y25=sm.diff(f_y25)# 100*y25**8*cosh(2*y25**5) + 16*y25**6*exp(y25**4) + 40*y25**3*sinh(2*y25**5) + 12*y25**2*exp(y25**4) - 5/y25**2\n",
    "d_d_f_y25=sm.diff(d_f_y25)# 1000*y25**12*sinh(2*y25**5) + 64*y25**9*exp(y25**4) + 1200*y25**7*cosh(2*y25**5) + 144*y25**5*exp(y25**4) + 120*y25**2*sinh(2*y25**5) + 24*y25*exp(y25**4) + 10/y25**3  \n",
    "print(f\"Input Function in the Block 2, 3rd Dimension,Layer 25: {d_f_y25} \")\n",
    "print(f\"Output Function in the Block 2, 3rd Dimension, Layer 25: {d_d_f_y25} \")"
   ]
  },
  {
   "cell_type": "code",
   "execution_count": null,
   "id": "c50180aa",
   "metadata": {},
   "outputs": [],
   "source": [
    "import pandas as pd\n",
    "import numpy as np\n",
    "import matplotlib.pyplot as plt\n",
    "import sympy as sm\n",
    "import scipy.special as sp\n",
    "from sympy import symbols,diff\n",
    "from scipy.special import erf, erf_zeros\n",
    "speech_freq_llmit= 8000 # Lower limit of the human speech frequency component\n",
    "speech_freq_hlimit= 44100 # Higher limit of the human speech component\n",
    "\n",
    "f_sampling = 2 * speech_freq_hlimit  #Nyquist Criterion where it is equal to twice the frequency of the maximum frequency present in the frequency band\n",
    "f_nyquist=f_sampling/2\n",
    "\n",
    "print(f\"Higher frequency limit of the band: {speech_freq_hlimit} Hz\")\n",
    "print(f\"Higher frequency limit of the band: {speech_freq_llmit} Hz\")\n",
    "print(f\"Sampling frequency of the input signal: {f_sampling} Hz\")\n",
    "print(f\"Nyquist frequency of the input signal: {f_nyquist} Hz\")\n",
    "\n"
   ]
  },
  {
   "cell_type": "code",
   "execution_count": null,
   "id": "4a10c56c",
   "metadata": {},
   "outputs": [],
   "source": [
    "def analyze_sampling(f_s, f_max):\n",
    "    \"\"\"\n",
    "    Analyze the relationship between sampling frequency, Nyquist frequency, and maximum signal frequency.\n",
    "\n",
    "    Parameters:\n",
    "    f_s (float): Sampling frequency in Hz.\n",
    "    f_max (float): Maximum signal frequency in Hz.\n",
    "    \n",
    "    Returns:\n",
    "    None\n",
    "    \"\"\"\n",
    "    f_N = f_s / 2  # Nyquist frequency\n",
    "\n",
    "    print(f\"Sampling Frequency (f_s): {f_s} Hz\")\n",
    "    print(f\"Nyquist Frequency (f_N): {f_N} Hz\")\n",
    "    print(f\"Maximum Signal Frequency (f_max): {f_max} Hz\")\n",
    "    \n",
    "    # Check conditions\n",
    "    if f_N > f_max:\n",
    "        print(\"✅ No aliasing: Nyquist frequency is greater than the maximum signal frequency.\")\n",
    "    elif f_N == f_max:\n",
    "        print(\"⚠️ Edge case: Nyquist frequency is equal to the maximum signal frequency.\")\n",
    "        print(\"   Sampling just meets the Nyquist criterion. It's recommended to sample at a higher rate for robustness.\")\n",
    "    else:\n",
    "        print(\"❌ Aliasing will occur: Nyquist frequency is less than the maximum signal frequency.\")\n",
    "        print(\"   Increase the sampling frequency to avoid aliasing.\")\n",
    "    print(\"-\" * 50)\n",
    "\n",
    "\n",
    "# Example cases\n",
    "print(\"Case 1: Proper Sampling (f_N > f_max)\")\n",
    "analyze_sampling(f_s=10_000, f_max=4_000)  # f_s > 2 * f_max\n",
    "\n",
    "print(\"\\nCase 2: Nyquist Criterion Satisfied (f_N = f_max)\")\n",
    "analyze_sampling(f_s=8_000, f_max=4_000)  # f_s = 2 * f_max\n",
    "\n",
    "print(\"\\nCase 3: Aliasing Occurs (f_N < f_max)\")        \n",
    "analyze_sampling(f_s=6_000, f_max=4_000)  # f_s < 2 * f_max\n"
   ]
  },
  {
   "cell_type": "code",
   "execution_count": null,
   "id": "e4c5e8e9",
   "metadata": {},
   "outputs": [],
   "source": [
    "def classify_frequencies(f_s, f_max):\n",
    "    \"\"\"\n",
    "    Classifies the signal into three cases based on the comparison\n",
    "    between the sampling frequency and Nyquist frequency.\n",
    "\n",
    "    Parameters:\n",
    "    f_s (float): Sampling frequency in Hz\n",
    "    f_max (float): Maximum frequency of the signal in Hz\n",
    "    \n",
    "    Returns:\n",
    "    str: Classification result\n",
    "    \"\"\"\n",
    "    # Calculate the Nyquist frequency\n",
    "    f_N = f_s / 2\n",
    "\n",
    "    # Print the input frequencies for user reference\n",
    "    print(f\"Sampling Frequency (f_s): {f_s} Hz\")\n",
    "    print(f\"Maximum Frequency of Signal (f_max): {f_max} Hz\")\n",
    "    print(f\"Nyquist Frequency (f_N): {f_N} Hz\")\n",
    "\n",
    "    # Case 1: Proper Sampling (Sampling frequency is greater than or equal to Nyquist)\n",
    "    if f_s >= 2 * f_max:\n",
    "        return \"Case 1: Proper Sampling - Signal is properly sampled (No aliasing).\"\n",
    "\n",
    "    # Case 2: Undersampling (Sampling frequency equals Nyquist frequency)\n",
    "    elif f_s == 2 * f_max:\n",
    "        return \"Case 2: Undersampling - Sampling frequency equals Nyquist frequency (Risk of aliasing for high-frequency components).\"\n",
    "\n",
    "    # Case 3: Aliasing (Sampling frequency less than Nyquist frequency)\n",
    "    else:\n",
    "        return \"Case 3: Aliasing - Signal will cause aliasing (Insufficient sampling rate).\"\n",
    "\n",
    "# Example: Get user input for sampling and maximum frequencies\n",
    "try:\n",
    "    f_s = float(input(\"Enter the sampling frequency (f_s) in Hz: \"))\n",
    "    f_max = float(input(\"Enter the maximum frequency of the signal (f_max) in Hz: \"))\n",
    "    \n",
    "    # Classify and display the result\n",
    "    result = classify_frequencies(f_s, f_max)\n",
    "    print(result)\n",
    "except ValueError:\n",
    "    print(\"Please enter valid numeric values for frequencies.\")\n"
   ]
  },
  {
   "cell_type": "code",
   "execution_count": null,
   "id": "4d83725a",
   "metadata": {},
   "outputs": [],
   "source": [
    "def classify_sampling_case(f_s, f_max):\n",
    "    \"\"\"\n",
    "    Classifies the relationship between sampling frequency (f_s) and max frequency (f_max).\n",
    "    Provides feedback on the aliasing behavior.\n",
    "\n",
    "    Parameters:\n",
    "    - f_s: Sampling frequency (in Hz)\n",
    "    - f_max: Maximum frequency of the signal (in Hz)\n",
    "    \"\"\"\n",
    "\n",
    "    # Calculate Nyquist frequency\n",
    "    f_N = f_s / 2\n",
    "\n",
    "    # Case 1: Properly sampled (f_s > 2 * f_max)\n",
    "    if f_s > 2 * f_max:\n",
    "        print(f\"\\nCase 1: Properly Sampled\")\n",
    "        print(f\"Sampling Frequency (f_s) = {f_s} Hz is more than twice the Maximum Frequency (f_max) = {f_max} Hz.\")\n",
    "        print(\"The signal is properly sampled, and there is no aliasing.\")\n",
    "    \n",
    "    # Case 2: Exact Nyquist rate (f_s == 2 * f_max)\n",
    "    elif f_s == 2 * f_max:\n",
    "        print(f\"\\nCase 2: Nyquist Rate\")\n",
    "        print(f\"Sampling Frequency (f_s) = {f_s} Hz is exactly twice the Maximum Frequency (f_max) = {f_max} Hz.\")\n",
    "        print(\"This is the threshold sampling rate, where the highest frequency can be captured, but any increase in frequency may cause aliasing.\")\n",
    "    \n",
    "    # Case 3: Aliasing will occur (f_s < 2 * f_max)\n",
    "    elif f_s < 2 * f_max:\n",
    "        print(f\"\\nCase 3: Aliasing Occurs\")\n",
    "        print(f\"Sampling Frequency (f_s) = {f_s} Hz is less than twice the Maximum Frequency (f_max) = {f_max} Hz.\")\n",
    "        print(\"Aliasing will occur as the signal is under-sampled and high frequencies will fold back into the lower frequencies.\")\n",
    "        \n",
    "    # Provide Nyquist frequency for reference\n",
    "    print(f\"Nyquist Frequency: {f_N} Hz\")\n",
    "\n",
    "# Main function to interact with the user\n",
    "def main():\n",
    "    print(\"Sampling Frequency Classifier!\")\n",
    "\n",
    "    # Taking input from the user\n",
    "    try:\n",
    "        f_s = float(input(\"Enter the Sampling Frequency (f_s) in Hz: \"))\n",
    "        f_max = float(input(\"Enter the Maximum Frequency (f_max) in Hz: \"))\n",
    "        \n",
    "        # Classify the case based on the input\n",
    "        classify_sampling_case(f_s, f_max)\n",
    "    \n",
    "    except ValueError:\n",
    "        print(\"Please enter valid numeric values for frequencies.\")\n",
    "\n",
    "# Run the main function\n",
    "if __name__ == \"__main__\":\n",
    "    main()\n"
   ]
  },
  {
   "cell_type": "code",
   "execution_count": null,
   "id": "03839be2",
   "metadata": {},
   "outputs": [],
   "source": [
    "%pip install streamlit"
   ]
  },
  {
   "cell_type": "code",
   "execution_count": null,
   "id": "15f07dba",
   "metadata": {},
   "outputs": [],
   "source": [
    "import pandas as pd\n",
    "import numpy as np\n",
    "import matplotlib.pyplot as plt\n",
    "import sympy as sm\n",
    "import scipy.special as sp\n",
    "from sympy import diff,symbols\n",
    "\n",
    "p1=sm.symbols('p1')\n",
    "f_p1=sm.cosh(p1**2) + sm.log(3 * p1) + sm.exp(p1) \n",
    "d_f_p1=sm.diff(f_p1) # 2*p1*sinh(p1**2) + exp(p1) + 1/p1\n",
    "d_d_f_p1=sm.diff(d_f_p1) # 4*p1**2*cosh(p1**2) + exp(p1) + 2*sinh(p1**2) - 1/p1**2\n",
    "print(f'Input function ,4th Block, Layer 1: {d_f_p1}')\n",
    "print(f'Output function ,4th Block, Layer 1: {d_d_f_p1}')"
   ]
  },
  {
   "cell_type": "code",
   "execution_count": null,
   "id": "df057db0",
   "metadata": {},
   "outputs": [],
   "source": [
    "p2=sm.symbols('p2')\n",
    "f_p2= sm.sin(p2) + sm.exp(p2**3)\n",
    "d_f_p2=sm.diff(f_p2) # 3*p2**2*exp(p2**3) + cos(p2)\n",
    "d_d_f_p2=sm.diff(d_f_p2) # 9*p2**4*exp(p2**3) + 6*p2*exp(p2**3) - sin(p2)\n",
    "print(f'Input function ,4th Block, Layer 2: {d_f_p2}')\n",
    "print(f'Output function ,4th Block, Layer 2: {d_d_f_p2}')"
   ]
  },
  {
   "cell_type": "code",
   "execution_count": null,
   "id": "6ce65109",
   "metadata": {},
   "outputs": [],
   "source": [
    "import sympy as sm\n",
    "p3=sm.symbols('p3')\n",
    "f_p3=sm.sqrt(p3) + sm.tan(p3**2)\n",
    "d_f_p3=sm.diff(f_p3) # 2*p3*(tan(p3**2)**2 + 1) + 1/(2*sqrt(p3))\n",
    "d_d_f_p3=sm.diff(d_f_p3) # 8*p3**2*(tan(p3**2)**2 + 1)*tan(p3**2) + 2*tan(p3**2)**2 + 2 - 1/(4*p3**(3/2))\n",
    "print(f'Input function ,4th Block, Layer 3: {d_f_p3}')\n",
    "print(f'Output function ,4th Block, Layer 3: {d_d_f_p3}')"
   ]
  },
  {
   "cell_type": "code",
   "execution_count": null,
   "id": "3c792d28",
   "metadata": {},
   "outputs": [],
   "source": [
    "p4=sm.symbols('p4')\n",
    "f_p4= sm.log(p4) + sm.cosh(p4) + sm.exp(p4)\n",
    "d_f_p4=sm.diff(f_p4) # exp(p4) + sinh(p4) + 1/p4\n",
    "d_d_f_p4=sm.diff(d_f_p4) # exp(p4) + cosh(p4) - 1/p4**2\n",
    "print(f'Input function ,4th Block, Layer 4: {d_f_p4}')\n",
    "print(f'Output function ,4th Block, Layer 4: {d_d_f_p4}')"
   ]
  },
  {
   "cell_type": "code",
   "execution_count": null,
   "id": "f31286b4",
   "metadata": {},
   "outputs": [],
   "source": [
    "p5=sm.symbols('p5')\n",
    "f_p5=sm.exp(p5) + sm.sin(p5) + sm.tan(p5**3)\n",
    "d_f_p5=sm.diff(f_p5) # 3*p5**2*(tan(p5**3)**2 + 1) + exp(p5) + cos(p5)\n",
    "d_d_f_p5=sm.diff(d_f_p5) # 18*p5**4*(tan(p5**3)**2 + 1)*tan(p5**3) + 6*p5*(tan(p5**3)**2 + 1) + exp(p5) - sin(p5)\n",
    "print(f'Input function ,4th Block, Layer 5: {d_f_p5}')\n",
    "print(f'Output function ,4th Block, Layer 5: {d_d_f_p5}')"
   ]
  },
  {
   "cell_type": "code",
   "execution_count": null,
   "id": "01ec0a52",
   "metadata": {},
   "outputs": [],
   "source": [
    "p6=sm.symbols('p6')\n",
    "f_p6= sm.log(2 * p6**2) + sm.sqrt(p6)\n",
    "d_f_p6=sm.diff(f_p6) # 2/p6 + 1/(2*sqrt(p6))\n",
    "d_d_f_p6=sm.diff(d_f_p6) # -2/p6**2 - 1/(4*p6**(3/2))\n",
    "print(f'Input function ,4th Block, Layer 6: {d_f_p6}')\n",
    "print(f'Output function ,4th Block, Layer 6: {d_d_f_p6}')"
   ]
  },
  {
   "cell_type": "code",
   "execution_count": null,
   "id": "78a0c4c5",
   "metadata": {},
   "outputs": [],
   "source": [
    "p7=sm.symbols('p7')\n",
    "f_p7= sm.exp(p7) + sm.cosh(p7)\n",
    "d_f_p7=sm.diff(f_p7) # exp(p7) + sinh(p7)\n",
    "d_d_f_p7=sm.diff(d_f_p7) # exp(p7) + cosh(p7)\n",
    "print(f'Input function ,4th Block, Layer 7: {d_f_p7}')\n",
    "print(f'Output function ,4th Block, Layer 7: {d_d_f_p7}')"
   ]
  },
  {
   "cell_type": "code",
   "execution_count": null,
   "id": "b2775b99",
   "metadata": {},
   "outputs": [],
   "source": [
    "p8=sm.symbols('p8')\n",
    "f_p8=sm.sin(p8) + sm.log(p8) + sm.sqrt(p8)\n",
    "d_f_p8=sm.diff(f_p8) # cos(p8) + 1/p8 + 1/(2*sqrt(p8))\n",
    "d_d_f_p8=sm.diff(d_f_p8) # -sin(p8) - 1/p8**2 - 1/(4*p8**(3/2))\n",
    "print(f'Input function ,4th Block, Layer 8: {d_f_p8}')\n",
    "print(f'Output function ,4th Block, Layer 8: {d_d_f_p8}')"
   ]
  },
  {
   "cell_type": "code",
   "execution_count": null,
   "id": "1a51a922",
   "metadata": {},
   "outputs": [],
   "source": [
    "p9=sm.symbols('p9')\n",
    "f_p9= sm.tanh(p9) + sm.exp(p9)\n",
    "d_f_p9=sm.diff(f_p9) # exp(p9) - tanh(p9)**2 + 1\n",
    "d_d_f_p9=sm.diff(d_f_p9) # -(2 - 2*tanh(p9)**2)*tanh(p9) + exp(p9)\n",
    "print(f'Input function ,4th Block, Layer 9: {d_f_p9}')\n",
    "print(f'Output function ,4th Block, Layer 9: {d_d_f_p9}')"
   ]
  },
  {
   "cell_type": "code",
   "execution_count": null,
   "id": "3ef03908",
   "metadata": {},
   "outputs": [],
   "source": [
    "p10=sm.symbols('p10')\n",
    "f_p10= sm.sqrt(p10) + sm.log(p10**2)\n",
    "d_f_p10=sm.diff(f_p10) # 2/p10 + 1/(2*sqrt(p10))\n",
    "d_d_f_p10=sm.diff(d_f_p10) # -2/p10**2 - 1/(4*p10**(3/2))\n",
    "print(f'Input function ,4th Block, Layer 10: {d_f_p10}')\n",
    "print(f'Output function ,4th Block, Layer 10: {d_d_f_p10}')"
   ]
  },
  {
   "cell_type": "code",
   "execution_count": null,
   "id": "794c1211",
   "metadata": {},
   "outputs": [],
   "source": [
    "p11=sm.symbols('p11')\n",
    "f_p11= sm.exp(p11) + sm.tanh(p11) + sm.sin(p11)\n",
    "d_f_p11=sm.diff(f_p11) # exp(p11) + cos(p11) - tanh(p11)**2 + 1\n",
    "d_d_f_p11=sm.diff(d_f_p11) # -(2 - 2*tanh(p11)**2)*tanh(p11) + exp(p11) - sin(p11)\n",
    "print(f'Input function ,4th Block, Layer 11: {d_f_p11}')\n",
    "print(f'Output function ,4th Block, Layer 11: {d_d_f_p11}')"
   ]
  },
  {
   "cell_type": "code",
   "execution_count": null,
   "id": "eabd6bab",
   "metadata": {},
   "outputs": [],
   "source": [
    "p12=sm.symbols('p12')\n",
    "f_p12=sm.cosh(p12**2) + sm.log(3 * p12) + sm.exp(p12)\n",
    "d_f_p12=sm.diff(f_p12) # 2*p12*sinh(p12**2) + exp(p12) + 1/p12\n",
    "d_d_f_p12=sm.diff(d_f_p12) # 4*p12**2*cosh(p12**2) + exp(p12) + 2*sinh(p12**2) - 1/p12**2\n",
    "print(f'Input function ,4th Block, Layer 12: {d_f_p12}')\n",
    "print(f'Output function ,4th Block, Layer 12: {d_d_f_p12}')"
   ]
  },
  {
   "cell_type": "code",
   "execution_count": null,
   "id": "13aeb996",
   "metadata": {},
   "outputs": [],
   "source": [
    "p13=sm.symbols('p13')\n",
    "f_p13= sm.sin(p13**2) + sm.exp(p13)\n",
    "d_f_p13=sm.diff(f_p13) # 2*p13*cos(p13**2) + exp(p13)\n",
    "d_d_f_p13=sm.diff(d_f_p13) # -4*p13**2*sin(p13**2) + exp(p13) + 2*cos(p13**2)\n",
    "print(f'Input function ,4th Block, Layer 13: {d_f_p13}')\n",
    "print(f'Output function ,4th Block, Layer 13: {d_d_f_p13}')"
   ]
  },
  {
   "cell_type": "code",
   "execution_count": null,
   "id": "4e700ae7",
   "metadata": {},
   "outputs": [],
   "source": [
    "p14=sm.symbols('p14')\n",
    "f_p14=sm.sqrt(p14) + sm.exp(2 * p14)\n",
    "d_f_p14=sm.diff(f_p14) # 2*exp(2*p14) + 1/(2*sqrt(p14))\n",
    "d_d_f_p14=sm.diff(d_f_p14) # 4*exp(2*p14) - 1/(4*p14**(3/2))\n",
    "print(f'Input function ,4th Block, Layer 14: {d_f_p14}')\n",
    "print(f'Output function ,4th Block, Layer 14: {d_d_f_p14}')"
   ]
  },
  {
   "cell_type": "code",
   "execution_count": null,
   "id": "47c4a478",
   "metadata": {},
   "outputs": [],
   "source": [
    "p15=sm.symbols('p15')\n",
    "f_p15= sm.cosh(p15) + sm.log(p15**3)\n",
    "d_f_p15=sm.diff(f_p15) # sinh(p15) + 3/p15\n",
    "d_d_f_p15=sm.diff(d_f_p15) # cosh(p15) - 3/p15**2\n",
    "print(f'Input function ,4th Block, Layer 15: {d_f_p15}')\n",
    "print(f'Output function ,4th Block, Layer 15: {d_d_f_p15}')"
   ]
  },
  {
   "cell_type": "code",
   "execution_count": null,
   "id": "8450989f",
   "metadata": {},
   "outputs": [],
   "source": [
    "p16=sm.symbols('p16')\n",
    "f_p16= sm.tanh(p16) + sm.exp(p16) + sm.sin(p16)\n",
    "d_f_p16=sm.diff(f_p16) # exp(p16) + cos(p16) - tanh(p16)**2 + 1\n",
    "d_d_f_p16=sm.diff(d_f_p16) # -(2 - 2*tanh(p16)**2)*tanh(p16) + exp(p16) - sin(p16)\n",
    "print(f'Input function ,4th Block, Layer 16: {d_f_p16}')\n",
    "print(f'Output function ,4th Block, Layer 16: {d_d_f_p16}')"
   ]
  },
  {
   "cell_type": "code",
   "execution_count": null,
   "id": "f36c760a",
   "metadata": {},
   "outputs": [],
   "source": [
    "p17=sm.symbols('p17')\n",
    "f_p17= sm.sqrt(p17**2) + sm.cosh(p17)\n",
    "d_f_p17=sm.diff(f_p17) # sinh(p17) + sqrt(p17**2)/p17\n",
    "d_d_f_p17=sm.diff(d_f_p17) # cosh(p17)\n",
    "print(f'Input function ,4th Block, Layer 17: {d_f_p17}')\n",
    "print(f'Output function ,4th Block, Layer 17: {d_d_f_p17}')"
   ]
  },
  {
   "cell_type": "code",
   "execution_count": null,
   "id": "2a27c6cf",
   "metadata": {},
   "outputs": [],
   "source": [
    "p18=sm.symbols('p18')\n",
    "f_p18=sm.sqrt(p18) + sm.exp(2 * p18)\n",
    "d_f_p18=sm.diff(f_p18) # 2*exp(2*p18) + 1/(2*sqrt(p18))\n",
    "d_d_f_p18=sm.diff(d_f_p18) # 4*exp(2*p18) - 1/(4*p18**(3/2))\n",
    "print(f'Input function ,4th Block, Layer 18:{d_f_p18}')\n",
    "print(f'Output function ,4th Block, Layer 18: {d_d_f_p18}')"
   ]
  },
  {
   "cell_type": "code",
   "execution_count": null,
   "id": "b27fad25",
   "metadata": {},
   "outputs": [],
   "source": [
    "p19=sm.symbols('p19')\n",
    "f_p19= sm.exp(p19) + sm.log(2 * p19)\n",
    "d_f_p19=sm.diff(f_p19) # exp(p19) + 1/p19\n",
    "d_d_f_p19=sm.diff(d_f_p19) # exp(p19) - 1/p19**2\n",
    "print(f'Input function ,4th Block, Layer 19: {d_f_p19}')\n",
    "print(f'Output function ,4th Block, Layer 19: {d_d_f_p19}')"
   ]
  },
  {
   "cell_type": "code",
   "execution_count": null,
   "id": "1772e36b",
   "metadata": {},
   "outputs": [],
   "source": [
    "p20=sm.symbols('p20')\n",
    "f_p20= sm.cosh(p20) + sm.exp(p20**3)\n",
    "d_f_p20=sm.diff(f_p20) # 3*p20**2*exp(p20**3) + sinh(p20)\n",
    "d_d_f_p20=sm.diff(d_f_p20) # 9*p20**4*exp(p20**3) + 6*p20*exp(p20**3) + cosh(p20)\n",
    "print(f'Input function ,4th Block, Layer 20: {d_f_p20}')\n",
    "print(f'Output function ,4th Block, Layer 20: {d_d_f_p20}')"
   ]
  },
  {
   "cell_type": "code",
   "execution_count": null,
   "id": "8d621ef1",
   "metadata": {},
   "outputs": [],
   "source": [
    "p21=sm.symbols('p21')\n",
    "f_p21= sm.log(p21) + sm.tanh(p21**2)\n",
    "d_f_p21=sm.diff(f_p21) # 2*p21*(1 - tanh(p21**2)**2) + 1/p21\n",
    "d_d_f_p21=sm.diff(d_f_p21) # -8*p21**2*(1 - tanh(p21**2)**2)*tanh(p21**2) - 2*tanh(p21**2)**2 + 2 - 1/p21**2\n",
    "print(f'Input function ,4th Block, Layer 21: {d_f_p21}')\n",
    "print(f'Output function ,4th Block, Layer 21: {d_d_f_p21}')"
   ]
  },
  {
   "cell_type": "code",
   "execution_count": null,
   "id": "349b5a31",
   "metadata": {},
   "outputs": [],
   "source": [
    "p22=sm.symbols('p22')\n",
    "f_p22= sm.sqrt(p22) + sm.sin(p22)\n",
    "d_f_p22=sm.diff(f_p22) # cos(p22) + 1/(2*sqrt(p22))\n",
    "d_d_f_p22=sm.diff(d_f_p22) # -sin(p22) - 1/(4*p22**(3/2))\n",
    "print(f'Input function ,4th Block, Layer 22: {d_f_p22}')\n",
    "print(f'Output function ,4th Block, Layer 22: {d_d_f_p22}')"
   ]
  },
  {
   "cell_type": "code",
   "execution_count": null,
   "id": "97374bbf",
   "metadata": {},
   "outputs": [],
   "source": [
    "p23=sm.symbols('p23')\n",
    "f_p23= sm.tanh(p23**2) + sm.cosh(p23)\n",
    "d_f_p23=sm.diff(f_p23) # \n",
    "d_d_f_p23=sm.diff(d_f_p23) # \n",
    "print(f'Input function ,4th Block, Layer 23: {d_f_p23}')\n",
    "print(f'Output function ,4th Block, Layer 23: {d_d_f_p23}')"
   ]
  },
  {
   "cell_type": "code",
   "execution_count": null,
   "id": "7a979362",
   "metadata": {},
   "outputs": [],
   "source": [
    "p24=sm.symbols('p24')\n",
    "f_p24= sm.exp(p24) + sm.log(3 * p24)\n",
    "d_f_p24=sm.diff(f_p24) # exp(p24) + 1/p24\n",
    "d_d_f_p24=sm.diff(d_f_p24) # exp(p24) - 1/p24**2\n",
    "print(f'Input function ,4th Block, Layer 24: {d_f_p24}')\n",
    "print(f'Output function ,4th Block, Layer 24: {d_d_f_p24}')"
   ]
  },
  {
   "cell_type": "code",
   "execution_count": null,
   "id": "a7244bb4",
   "metadata": {},
   "outputs": [],
   "source": [
    "p25=sm.symbols('p25')\n",
    "f_p25= sm.cosh(p25**3) + sm.sqrt(p25)\n",
    "d_f_p25=sm.diff(f_p25) # 3*p25**2*sinh(p25**3) + 1/(2*sqrt(p25))\n",
    "d_d_f_p25=sm.diff(d_f_p25) # 9*p25**4*cosh(p25**3) + 6*p25*sinh(p25**3) - 1/(4*p25**(3/2))\n",
    "print(f'Input function ,4th Block, Layer 25: {d_f_p25}')\n",
    "print(f'Output function ,4th Block, Layer 25: {d_d_f_p25}')"
   ]
  },
  {
   "cell_type": "code",
   "execution_count": null,
   "id": "f9aa0a9d",
   "metadata": {},
   "outputs": [],
   "source": [
    "p26=sm.symbols('p26')\n",
    "f_p26= sm.tanh(p26) + sm.log(p26**2)\n",
    "d_f_p26=sm.diff(f_p26) # -tanh(p26)**2 + 1 + 2/p26\n",
    "d_d_f_p26=sm.diff(d_f_p26) # -(2 - 2*tanh(p26)**2)*tanh(p26) - 2/p26**2\n",
    "print(f'Input function ,4th Block, Layer 26: {d_f_p26}')\n",
    "print(f'Output function ,4th Block, Layer 26: {d_d_f_p26}')"
   ]
  },
  {
   "cell_type": "code",
   "execution_count": null,
   "id": "44cd828a",
   "metadata": {},
   "outputs": [],
   "source": [
    "p27=sm.symbols('p27')\n",
    "f_p27= sm.exp(p27**2) + sm.tan(p27)\n",
    "d_f_p27=sm.diff(f_p27) # 2*p27*exp(p27**2) + tan(p27)**2 + 1\n",
    "d_d_f_p27=sm.diff(d_f_p27) # 4*p27**2*exp(p27**2) + (2*tan(p27)**2 + 2)*tan(p27) + 2*exp(p27*\n",
    "print(f'Input function ,4th Block, Layer 27: {d_f_p27}')\n",
    "print(f'Output function ,4th Block, Layer 27: {d_d_f_p27}')"
   ]
  },
  {
   "cell_type": "code",
   "execution_count": null,
   "id": "bd413a4d",
   "metadata": {},
   "outputs": [],
   "source": [
    "p28=sm.symbols('p28')\n",
    "f_p28= sm.log(p28) + sm.sqrt(p28**2)\n",
    "d_f_p28=sm.diff(f_p28) # sqrt(p28**2)/p28 + 1/p28\n",
    "d_d_f_p28=sm.diff(d_f_p28) # -1/p28**2\n",
    "print(f'Input function ,4th Block, Layer 28: {d_f_p28}')\n",
    "print(f'Output function ,4th Block, Layer 28: {d_d_f_p28}')"
   ]
  },
  {
   "cell_type": "code",
   "execution_count": null,
   "id": "83520fcf",
   "metadata": {},
   "outputs": [],
   "source": [
    "p29=sm.symbols('p29')\n",
    "f_p29= sm.sin(p29) + sm.cosh(p29**3)\n",
    "d_f_p29=sm.diff(f_p29) # 3*p29**2*sinh(p29**3) + cos(p29)\n",
    "d_d_f_p29=sm.diff(d_f_p29) # 9*p29**4*cosh(p29**3) + 6*p29*sinh(p29**3) - sin(p29)\n",
    "print(f'Input function ,4th Block, Layer 29: {d_f_p29}')\n",
    "print(f'Output function ,4th Block, Layer 29: {d_d_f_p29}')"
   ]
  },
  {
   "cell_type": "code",
   "execution_count": null,
   "id": "e3c76257",
   "metadata": {},
   "outputs": [],
   "source": [
    "p30=sm.symbols('p30')\n",
    "f_p30= sm.exp(p30) + sm.tan(p30)\n",
    "d_f_p30=sm.diff(f_p30) # exp(p30) + tan(p30)**2 + 1\n",
    "d_d_f_p30=sm.diff(d_f_p30) # (2*tan(p30)**2 + 2)*tan(p30) + exp(p30)\n",
    "print(f'Input function ,4th Block, Layer 30: {d_f_p30}')\n",
    "print(f'Output function ,4th Block, Layer 30: {d_d_f_p30}')"
   ]
  },
  {
   "cell_type": "code",
   "execution_count": null,
   "id": "55f85ed8",
   "metadata": {},
   "outputs": [],
   "source": [
    "import pandas as pd\n",
    "import numpy as np\n",
    "import matplotlib.pyplot as plt\n",
    "import sympy as sm\n",
    "import scipy.special as sp\n",
    "from sympy import diff,symbols\n",
    "\n",
    "q1=sm.symbols('q1')\n",
    "f_q1=sm.exp(q1**2) + sm.sin(3 * q1) + sm.log(q1 + 1) + sm.sqrt(q1) \n",
    "d_f_q1=sm.diff(f_q1) # 2*q1*exp(q1**2) + 3*cos(3*q1) + 1/(q1 + 1) + 1/(2*sqrt(q1))\n",
    "d_d_f_q1=sm.diff(d_f_q1) # 4*q1**2*exp(q1**2) + 2*exp(q1**2) - 9*sin(3*q1) - 1/(q1 + 1)**2 - 1/(4*q1**(3/2))\n",
    "print(f'Input function ,5th Block, Layer 1: {d_f_q1}')\n",
    "print(f'Output function ,5th Block, Layer 1: {d_d_f_q1}')"
   ]
  },
  {
   "cell_type": "code",
   "execution_count": null,
   "id": "cabe0fd3",
   "metadata": {},
   "outputs": [],
   "source": [
    "q2=sm.symbols('q2')\n",
    "f_q2= sm.cosh(q2) + sm.tan(q2**3) + sm.exp(q2) + sm.sin(q2)\n",
    "d_f_q2=sm.diff(f_q2) # 3*q2**2*(tan(q2**3)**2 + 1) + exp(q2) + cos(q2) + sinh(q2)\n",
    "d_d_f_q2=sm.diff(d_f_q2) # 18*q2**4*(tan(q2**3)**2 + 1)*tan(q2**3) + 6*q2*(tan(q2**3)**2 + 1) + exp(q2) - sin(q2) + cosh(q2)\n",
    "print(f'Input function ,5th Block, Layer 2: {d_f_q2}')\n",
    "print(f'Output function ,5th Block, Layer 2: {d_d_f_q2}')\n"
   ]
  },
  {
   "cell_type": "code",
   "execution_count": null,
   "id": "495734b1",
   "metadata": {},
   "outputs": [],
   "source": [
    "import sympy as sm\n",
    "q3=sm.symbols('q3')\n",
    "f_q3= sm.log(q3**2 + 1) + sm.sqrt(q3) + sm.tan(2 * q3) + sm.cosh(q3)\n",
    "d_f_q3=sm.diff(f_q3) # 2*q3/(q3**2 + 1) + 2*tan(2*q3)**2 + sinh(q3) + 2 + 1/(2*sqrt(q3))\n",
    "d_d_f_q3=sm.diff(d_f_q3) # -4*q3**2/(q3**2 + 1)**2 + 2*(4*tan(2*q3)**2 + 4)*tan(2*q3) + cosh(q3) + 2/(q3**2 + 1) - 1/(4*q3**(3/2))\n",
    "print(f'Input function ,5th Block, Layer 3: {d_f_q3}')\n",
    "print(f'Output function ,5th Block, Layer 3: {d_d_f_q3}')"
   ]
  },
  {
   "cell_type": "code",
   "execution_count": null,
   "id": "a4305c0c",
   "metadata": {},
   "outputs": [],
   "source": [
    "q4=sm.symbols('q4')\n",
    "f_q4= sm.exp(q4) + sm.sin(q4 + 2) + sm.log(2 * q4 + 3) + sm.cosh(q4 + 3)\n",
    "d_f_q4=sm.diff(f_q4) # exp(q4) + cos(q4 + 2) + sinh(q4 + 3) + 2/(2*q4 + 3)\n",
    "d_d_f_q4=sm.diff(d_f_q4) # exp(q4) - sin(q4 + 2) + cosh(q4 + 3) - 4/(2*q4 + 3)**2\n",
    "print(f'Input function ,5th Block, Layer 5: {d_f_q4}')\n",
    "print(f'Output function ,5th Block, Layer 5: {d_d_f_q4}')"
   ]
  },
  {
   "cell_type": "code",
   "execution_count": null,
   "id": "fd596121",
   "metadata": {},
   "outputs": [],
   "source": [
    "q5=sm.symbols('q5')\n",
    "f_q5= sm.sin(q5 + 2) + sm.sqrt(3 * q5) + sm.log(q5 + 2) + sm.exp(q5 ** 3)\n",
    "d_f_q5=sm.diff(f_q5) # 3*q5**2*exp(q5**3) + cos(q5 + 2) + 1/(q5 + 2) + sqrt(3)/(2*sqrt(q5))\n",
    "d_d_f_q5=sm.diff(d_f_q5) # 9*q5**4*exp(q5**3) + 6*q5*exp(q5**3) - sin(q5 + 2) - 1/(q5 + 2)**2 - sqrt(3)/(4*q5**(3/2))\n",
    "print(f'Input function ,5th Block, Layer 6: {d_f_q5}')\n",
    "print(f'Output function ,5th Block, Layer 6: {d_d_f_q5}')\n"
   ]
  },
  {
   "cell_type": "code",
   "execution_count": null,
   "id": "954cf993",
   "metadata": {},
   "outputs": [],
   "source": [
    "q6=sm.symbols('q6')\n",
    "f_q6= sm.log(1 + q6**3) + sm.tanh(q6) + sm.sqrt(q6 + 4) + sm.exp(2 * q6)\n",
    "d_f_q6=sm.diff(f_q6) # 3*q6**2/(q6**3 + 1) + 2*exp(2*q6) - tanh(q6)**2 + 1 + 1/(2*sqrt(q6 + 4))\n",
    "d_d_f_q6=sm.diff(d_f_q6) # -9*q6**4/(q6**3 + 1)**2 + 6*q6/(q6**3 + 1) - (2 - 2*tanh(q6)**2)*tanh(q6) + 4*exp(2*q6) - 1/(4*(q6 + 4)**(3/2))\n",
    "print(f'Input function ,5th Block, Layer 6: {d_f_q6}')\n",
    "print(f'Output function ,5th Block, Layer 6: {d_d_f_q6}')"
   ]
  },
  {
   "cell_type": "code",
   "execution_count": null,
   "id": "3c7b4035",
   "metadata": {},
   "outputs": [],
   "source": [
    "q7=sm.symbols('q7')\n",
    "f_q7= sm.sin(2 * q7) + sm.exp(q7 + 2) + sm.log(q7 + 1) + sm.sqrt(q7**3)\n",
    "d_f_q7=sm.diff(f_q7) # exp(q7 + 2) + 2*cos(2*q7) + 1/(q7 + 1) + 3*sqrt(q7**3)/(2*q7)\n",
    "d_d_f_q7=sm.diff(d_f_q7) # exp(q7 + 2) - 4*sin(2*q7) - 1/(q7 + 1)**2 + 3*sqrt(q7**3)/(4*q7**2)\n",
    "print(f'Input function ,5th Block, Layer 7: {d_f_q7}')\n",
    "print(f'Output function ,5th Block, Layer 7: {d_d_f_q7}')\n"
   ]
  },
  {
   "cell_type": "code",
   "execution_count": null,
   "id": "c5384766",
   "metadata": {},
   "outputs": [],
   "source": [
    "\n",
    "q8=sm.symbols('q8')\n",
    "f_q8= sm.tan(q8**2) + sm.cosh(2 * q8) + sm.sqrt(q8) + sm.log(q8 + 1) + sm.exp(q8)\n",
    "d_f_q8=sm.diff(f_q8) # 2*q8*(tan(q8**2)**2 + 1) + exp(q8) + 2*sinh(2*q8) + 1/(q8 + 1) + 1/(2*sqrt(q8))\n",
    "d_d_f_q8=sm.diff(d_f_q8) # 8*q8**2*(tan(q8**2)**2 + 1)*tan(q8**2) + exp(q8) + 2*tan(q8**2)**2 + 4*cosh(2*q8) + 2 - 1/(q8 + 1)**2 - 1/(4*q8**(3/2))\n",
    "print(f'Input function ,5th Block, Layer 8: {d_f_q8}')\n",
    "print(f'Output function ,5th Block, Layer 8: {d_d_f_q8}')"
   ]
  },
  {
   "cell_type": "code",
   "execution_count": null,
   "id": "079b65e2",
   "metadata": {},
   "outputs": [],
   "source": [
    "q9=sm.symbols('q9')\n",
    "f_q9= sm.exp(q9**3) + sm.log(2 * q9 + 1) + sm.tan(q9**2) + sm.sin(3 * q9)\n",
    "d_f_q9=sm.diff(f_q9) # 3*q9**2*exp(q9**3) + 2*q9*(tan(q9**2)**2 + 1) + 3*cos(3*q9) + 2/(2*q9 + 1)\n",
    "d_d_f_q9=sm.diff(d_f_q9) # 9*q9**4*exp(q9**3) + 8*q9**2*(tan(q9**2)**2 + 1)*tan(q9**2) + 6*q9*exp(q9**3) - 9*sin(3*q9) + 2*tan(q9**2)**2 + 2 - 4/(2*q9 + 1)**2\n",
    "print(f'Input function ,5th Block, Layer 9: {d_f_q9}')\n",
    "print(f'Output function ,5th Block, Layer 9: {d_d_f_q9}')\n"
   ]
  },
  {
   "cell_type": "code",
   "execution_count": null,
   "id": "a78b406e",
   "metadata": {},
   "outputs": [],
   "source": [
    "q10=sm.symbols('q10')\n",
    "f_q10= sm.cosh(2 * q10) + sm.exp(q10) + sm.sqrt(q10 + 1) + sm.log(q10**2 + 1)\n",
    "d_f_q10=sm.diff(f_q10) # 2*q10/(q10**2 + 1) + exp(q10) + 2*sinh(2*q10) + 1/(2*sqrt(q10 + 1))\n",
    "d_d_f_q10=sm.diff(d_f_q10) # -4*q10**2/(q10**2 + 1)**2 + exp(q10) + 4*cosh(2*q10) + 2/(q10**2 + 1) - 1/(4*(q10 + 1)**(3/2))\n",
    "print(f'Input function ,5th Block, Layer 10: {d_f_q10}')\n",
    "print(f'Output function ,5th Block, Layer 10: {d_d_f_q10}')"
   ]
  },
  {
   "cell_type": "code",
   "execution_count": null,
   "id": "89db959b",
   "metadata": {},
   "outputs": [],
   "source": [
    "q11=sm.symbols('q11')\n",
    "f_q11=sm.log(q11 + 2) + sm.exp(q11) + sm.sin(3 * q11) + sm.cosh(q11 + 3) \n",
    "d_f_q11=sm.diff(f_q11) # exp(q11) + 3*cos(3*q11) + sinh(q11 + 3) + 1/(q11 + 2)\n",
    "d_d_f_q11=sm.diff(d_f_q11) # exp(q11) - 9*sin(3*q11) + cosh(q11 + 3) - 1/(q11 + 2)**2\n",
    "print(f'Input function ,5th Block, Layer 11: {d_f_q11}')\n",
    "print(f'Output function ,5th Block, Layer 11: {d_d_f_q11}')"
   ]
  },
  {
   "cell_type": "code",
   "execution_count": null,
   "id": "7bef85d0",
   "metadata": {},
   "outputs": [],
   "source": [
    "q12=sm.symbols('q12')\n",
    "f_q12=sm.sin(q12) + sm.sqrt(q12 + 2) + sm.exp(q12**2) + sm.log(q12 + 1)\n",
    "d_f_q12=sm.diff(f_q12) # 2*q12*exp(q12**2) + cos(q12) + 1/(2*sqrt(q12 + 2)) + 1/(q12 + 1)\n",
    "d_d_f_q12=sm.diff(d_f_q12) # 4*q12**2*exp(q12**2) + 2*exp(q12**2) - sin(q12) - 1/(4*(q12 + 2)**(3/2)) - 1/(q12 + 1)**2\n",
    "print(f'Input function ,5th Block, Layer 12: {d_f_q12}')\n",
    "print(f'Output function ,5th Block, Layer 12: {d_d_f_q12}')\n"
   ]
  },
  {
   "cell_type": "code",
   "execution_count": null,
   "id": "8bd6c7ac",
   "metadata": {},
   "outputs": [],
   "source": [
    "q13=sm.symbols('q13')\n",
    "f_q13= sm.exp(q13 + 3) + sm.cosh(q13) + sm.sqrt(q13 + 2) + sm.log(2 * q13 + 1)\n",
    "d_f_q13=sm.diff(f_q13) # exp(q13 + 3) + sinh(q13) + 2/(2*q13 + 1) + 1/(2*sqrt(q13 + 2))\n",
    "d_d_f_q13=sm.diff(d_f_q13) # exp(q13 + 3) + cosh(q13) - 4/(2*q13 + 1)**2 - 1/(4*(q13 + 2)**(3/2))\n",
    "print(f'Input function ,5th Block, Layer 13: {d_f_q13}')\n",
    "print(f'Output function ,5th Block, Layer 13: {d_d_f_q13}')\n"
   ]
  },
  {
   "cell_type": "code",
   "execution_count": null,
   "id": "59efa0dc",
   "metadata": {},
   "outputs": [],
   "source": [
    "q14=sm.symbols('q14')\n",
    "f_q14= sm.tanh(q14 + 2) + sm.sin(2 * q14) + sm.exp(q14) + sm.log(q14**2 + 3)\n",
    "d_f_q14=sm.diff(f_q14) # 2*q14/(q14**2 + 3) + exp(q14) + 2*cos(2*q14) - tanh(q14 + 2)**2 + 1\n",
    "d_d_f_q14=sm.diff(d_f_q14) # -4*q14**2/(q14**2 + 3)**2 - (2 - 2*tanh(q14 + 2)**2)*tanh(q14 + 2) + exp(q14) - 4*sin(2*q14) + 2/(q14**2 + 3)\n",
    "print(f'Input function ,5th Block, Layer 14: {d_f_q14}')\n",
    "print(f'Output function ,5th Block, Layer 14: {d_d_f_q14}')\n"
   ]
  },
  {
   "cell_type": "code",
   "execution_count": null,
   "id": "91376db8",
   "metadata": {},
   "outputs": [],
   "source": [
    "q15=sm.symbols('q15')\n",
    "f_q15= sm.cosh(q15**3) + sm.log(q15) + sm.sqrt(3 * q15) + sm.exp(q15 + 1)\n",
    "d_f_q15=sm.diff(f_q15) # 3*q15**2*sinh(q15**3) + exp(q15 + 1) + 1/q15 + sqrt(3)/(2*sqrt(q15))\n",
    "d_d_f_q15=sm.diff(d_f_q15) # 9*q15**4*cosh(q15**3) + 6*q15*sinh(q15**3) + exp(q15 + 1) - 1/q15**2 - sqrt(3)/(4*q15**(3/2))\n",
    "print(f'Input function ,5th Block, Layer 15: {d_f_q15}')\n",
    "print(f'Output function ,5th Block, Layer 15: {d_d_f_q15}')"
   ]
  },
  {
   "cell_type": "code",
   "execution_count": null,
   "id": "f352e80e",
   "metadata": {},
   "outputs": [],
   "source": [
    "q16=sm.symbols('q16')\n",
    "f_q16= sm.exp(q16) + sm.tan(q16 * 2) + sm.log(q16 * 3) + sm.cosh(2 * q16 + 1)\n",
    "d_f_q16=sm.diff(f_q16) # exp(q16) + 2*tan(2*q16)**2 + 2*sinh(2*q16 + 1) + 2 + 1/q16\n",
    "d_d_f_q16=sm.diff(d_f_q16) # 2*(4*tan(2*q16)**2 + 4)*tan(2*q16) + exp(q16) + 4*cosh(2*q16 + 1) - 1/q16**2\n",
    "print(f'Input function ,5th Block, Layer 16: {d_f_q16}')\n",
    "print(f'Output function ,5th Block, Layer 16: {d_d_f_q16}')"
   ]
  },
  {
   "cell_type": "code",
   "execution_count": null,
   "id": "ba2a6353",
   "metadata": {},
   "outputs": [],
   "source": [
    "q17=sm.symbols('q17')\n",
    "f_q17= sm.tanh(3 * q17) + sm.exp(q17**2) + sm.log(q17 + 1) + sm.sin(q17 + 3) \n",
    "d_f_q17=sm.diff(f_q17) # 2*q17*exp(q17**2) + cos(q17 + 3) - 3*tanh(3*q17)**2 + 3 + 1/(q17 + 1)\n",
    "d_d_f_q17=sm.diff(d_f_q17) # 4*q17**2*exp(q17**2) - 3*(6 - 6*tanh(3*q17)**2)*tanh(3*q17) + 2*exp(q17**2) - sin(q17 + 3) - 1/(q17 + 1)**2\n",
    "print(f'Input function ,5th Block, Layer 17: {d_f_q17}')\n",
    "print(f'Output function ,5th Block, Layer 17: {d_d_f_q17}')"
   ]
  },
  {
   "cell_type": "code",
   "execution_count": null,
   "id": "146382db",
   "metadata": {},
   "outputs": [],
   "source": [
    "q18=sm.symbols('q18')\n",
    "f_q18= sm.sqrt(q18**2) + sm.cosh(2 * q18) + sm.exp(q18) + sm.log(3 * q18 + 1)\n",
    "d_f_q18=sm.diff(f_q18) # exp(q18) + 2*sinh(2*q18) + 3/(3*q18 + 1) + sqrt(q18**2)/q18\n",
    "d_d_f_q18=sm.diff(d_f_q18) # exp(q18) + 4*cosh(2*q18) - 9/(3*q18 + 1)**2\n",
    "print(f'Input function ,5th Block, Layer 18:{d_f_q18}')\n",
    "print(f'Output function ,5th Block, Layer 18: {d_d_f_q18}')"
   ]
  },
  {
   "cell_type": "code",
   "execution_count": null,
   "id": "edcd50df",
   "metadata": {},
   "outputs": [],
   "source": [
    "q19=sm.symbols('q19')\n",
    "f_q19= sm.tan(q19) + sm.exp(2 * q19 + 3) + sm.log(q19 **2) + sm.cosh(q19)\n",
    "d_f_q19=sm.diff(f_q19) # 2*exp(2*q19 + 3) + tan(q19)**2 + sinh(q19) + 1 + 2/q19\n",
    "d_d_f_q19=sm.diff(d_f_q19) # (2*tan(q19)**2 + 2)*tan(q19) + 4*exp(2*q19 + 3) + cosh(q19) - 2/q19**2\n",
    "print(f'Input function ,5th Block, Layer 19: {d_f_q19}')\n",
    "print(f'Output function ,5th Block, Layer 19: {d_d_f_q19}')\n"
   ]
  },
  {
   "cell_type": "code",
   "execution_count": null,
   "id": "0c353b47",
   "metadata": {},
   "outputs": [],
   "source": [
    "q20=sm.symbols('q20')\n",
    "f_q20= sm.exp(q20**3) + sm.sin(q20) + sm.sqrt(2 * q20 + 1) + sm.log(q20**2 + 1)\n",
    "d_f_q20=sm.diff(f_q20) # 3*q20**2*exp(q20**3) + 2*q20/(q20**2 + 1) + cos(q20) + 1/sqrt(2*q20 + 1)\n",
    "d_d_f_q20=sm.diff(d_f_q20) # 9*q20**4*exp(q20**3) - 4*q20**2/(q20**2 + 1)**2 + 6*q20*exp(q20**3) - sin(q20) + 2/(q20**2 + 1) - 1/(2*q20 + 1)**(3/2)\n",
    "print(f'Input function ,5th Block, Layer 20: {d_f_q20}')\n",
    "print(f'Output function ,5th Block, Layer 20: {d_d_f_q20}')"
   ]
  },
  {
   "cell_type": "code",
   "execution_count": null,
   "id": "f7340b86",
   "metadata": {},
   "outputs": [],
   "source": [
    "q21=sm.symbols('q21')\n",
    "f_q21= sm.log(1 + q21**3) + sm.exp(2 * q21) + sm.cosh(q21) + sm.tanh(q21 + 2)\n",
    "d_f_q21=sm.diff(f_q21) # 3*q21**2/(q21**3 + 1) + 2*exp(2*q21) + sinh(q21) - tanh(q21 + 2)**2 + 1\n",
    "d_d_f_q21=sm.diff(d_f_q21) # -9*q21**4/(q21**3 + 1)**2 + 6*q21/(q21**3 + 1) - (2 - 2*tanh(q21 + 2)**2)*tanh(q21 + 2) + 4*exp(2*q21) + cosh(q21)\n",
    "print(f'Input function ,5th Block, Layer 21: {d_f_q21}')\n",
    "print(f'Output function ,5th Block, Layer 21: {d_d_f_q21}')"
   ]
  },
  {
   "cell_type": "code",
   "execution_count": null,
   "id": "36157ad9",
   "metadata": {},
   "outputs": [],
   "source": [
    "q22=sm.symbols('q22')\n",
    "f_q22= sm.exp(q22 + 2) + sm.sin(3 * q22) + sm.log(q22 + 1) + sm.sqrt(q22**3)\n",
    "d_f_q22=sm.diff(f_q22) # exp(q22 + 2) + 3*cos(3*q22) + 1/(q22 + 1) + 3*sqrt(q22**3)/(2*q22)\n",
    "d_d_f_q22=sm.diff(d_f_q22) # exp(q22 + 2) - 9*sin(3*q22) - 1/(q22 + 1)**2 + 3*sqrt(q22**3)/(4*q22**2)\n",
    "print(f'Input function ,5th Block, Layer 22: {d_f_q22}')\n",
    "print(f'Output function ,5th Block, Layer 22: {d_d_f_q22}')"
   ]
  },
  {
   "cell_type": "code",
   "execution_count": null,
   "id": "ea92dbe8",
   "metadata": {},
   "outputs": [],
   "source": [
    "q23=sm.symbols('q23')\n",
    "f_q23= sm.cosh(q23**2) + sm.tan(2 * q23) + sm.exp(q23) + sm.log(3 * q23)\n",
    "d_f_q23=sm.diff(f_q23) # 2*q23*sinh(q23**2) + exp(q23) + 2*tan(2*q23)**2 + 2 + 1/q23\n",
    "d_d_f_q23=sm.diff(d_f_q23) # 4*q23**2*cosh(q23**2) + 2*(4*tan(2*q23)**2 + 4)*tan(2*q23) + exp(q23) + 2*sinh(q23**2) - 1/q23**2\n",
    "print(f'Input function ,5th Block, Layer 23: {d_f_q23}')\n",
    "print(f'Output function ,5th Block, Layer 23: {d_d_f_q23}')"
   ]
  },
  {
   "cell_type": "code",
   "execution_count": null,
   "id": "cf76516b",
   "metadata": {},
   "outputs": [],
   "source": [
    "q24=sm.symbols('q24')\n",
    "f_q24= sm.log(q24**3) + sm.sqrt(2 * q24) + sm.exp(q24 + 1) + sm.sin(q24 + 2)\n",
    "d_f_q24=sm.diff(f_q24) # exp(q24 + 1) + cos(q24 + 2) + 3/q24 + sqrt(2)/(2*sqrt(q24))\n",
    "d_d_f_q24=sm.diff(d_f_q24) # exp(q24 + 1) - sin(q24 + 2) - 3/q24**2 - sqrt(2)/(4*q24**(3/2))\n",
    "print(f'Input function ,5th Block, Layer 24: {d_f_q24}')\n",
    "print(f'Output function ,5th Block, Layer 24: {d_d_f_q24}')"
   ]
  },
  {
   "cell_type": "code",
   "execution_count": null,
   "id": "f6144b0b",
   "metadata": {},
   "outputs": [],
   "source": [
    "q25=sm.symbols('p25')\n",
    "f_q25= sm.tanh(q25) + sm.log(q25**2 + 3) + sm.exp(2 * q25) + sm.cosh(3 * q25 + 1)\n",
    "d_f_q25=sm.diff(f_q25) # 2*p25/(p25**2 + 3) + 2*exp(2*p25) + 3*sinh(3*p25 + 1) - tanh(p25)**2 + 1\n",
    "d_d_f_q25=sm.diff(d_f_q25) # -4*p25**2/(p25**2 + 3)**2 - (2 - 2*tanh(p25)**2)*tanh(p25) + 4*exp(2*p25) + 9*cosh(3*p25 + 1) + 2/(p25**2 + 3)\n",
    "print(f'Input function ,5th Block, Layer 25: {d_f_q25}')\n",
    "print(f'Output function ,5th Block, Layer 25: {d_d_f_q25}')\n"
   ]
  },
  {
   "cell_type": "code",
   "execution_count": null,
   "id": "93a124bf",
   "metadata": {},
   "outputs": [],
   "source": [
    "q26=sm.symbols('p26')\n",
    "f_q26= sm.cosh(q26**3) + sm.exp(3 * q26) + sm.sqrt(q26 + 1) + sm.log(2 * q26)\n",
    "d_f_q26=sm.diff(f_q26) # 3*p26**2*sinh(p26**3) + 3*exp(3*p26) + 1/(2*sqrt(p26 + 1)) + 1/p26\n",
    "d_d_f_q26=sm.diff(d_f_q26) # 9*p26**4*cosh(p26**3) + 6*p26*sinh(p26**3) + 9*exp(3*p26) - 1/(4*(p26 + 1)**(3/2)) - 1/p26**2\n",
    "print(f'Input function ,5th Block, Layer 26: {d_f_q26}')\n",
    "print(f'Output function ,5th Block, Layer 26: {d_d_f_q26}')\n"
   ]
  },
  {
   "cell_type": "code",
   "execution_count": null,
   "id": "e61fd0a3",
   "metadata": {},
   "outputs": [],
   "source": [
    "q27=sm.symbols('q27')\n",
    "f_q27= sm.exp(q27 + 2) + sm.log(q27 + 3) + sm.tan(3 * q27**3) + sm.cosh(q27)\n",
    "d_f_q27=sm.diff(f_q27) # 9*q27**2*(tan(3*q27**3)**2 + 1) + exp(q27 + 2) + sinh(q27) + 1/(q27 + 3)\n",
    "d_d_f_q27=sm.diff(d_f_q27) # 162*q27**4*(tan(3*q27**3)**2 + 1)*tan(3*q27**3) + 18*q27*(tan(3*q27**3)**2 + 1) + exp(q27 + 2) + cosh(q27) - 1/(q27 + 3)**2\n",
    "print(f'Input function ,5th Block, Layer 27: {d_f_q27}')\n",
    "print(f'Output function ,5th Block, Layer 27: {d_d_f_q27}')"
   ]
  },
  {
   "cell_type": "code",
   "execution_count": null,
   "id": "81d2a36e",
   "metadata": {},
   "outputs": [],
   "source": [
    "q28=sm.symbols('q28')\n",
    "f_q28= sm.tanh(q28**3) + sm.exp(2 * q28) + sm.log(q28**2 + 1) + sm.sqrt(q28 + 1)\n",
    "d_f_q28=sm.diff(f_q28) # 3*q28**2*(1 - tanh(q28**3)**2) + 2*q28/(q28**2 + 1) + 2*exp(2*q28) + 1/(2*sqrt(q28 + 1))\n",
    "d_d_f_q28=sm.diff(d_f_q28) # -18*q28**4*(1 - tanh(q28**3)**2)*tanh(q28**3) - 4*q28**2/(q28**2 + 1)**2 + 6*q28*(1 - tanh(q28**3)**2) + 4*exp(2*q28) + 2/(q28**2 + 1) - 1/(4*(q28 + 1)**(3/2))\n",
    "print(f'Input function ,5th Block, Layer 28: {d_f_q28}')\n",
    "print(f'Output function ,5th Block, Layer 28: {d_d_f_q28}')"
   ]
  },
  {
   "cell_type": "code",
   "execution_count": null,
   "id": "029e3398",
   "metadata": {},
   "outputs": [],
   "source": [
    "q29=sm.symbols('q29')\n",
    "f_q29= sm.sin(q29**2) + sm.exp(2 * q29) + sm.sqrt(q29 + 3) + sm.log(2 * q29**2 + 1)\n",
    "d_f_q29=sm.diff(f_q29) # 2*q29*cos(q29**2) + 4*q29/(2*q29**2 + 1) + 2*exp(2*q29) + 1/(2*sqrt(q29 + 3))\n",
    "d_d_f_q29=sm.diff(d_f_q29) # -4*q29**2*sin(q29**2) - 16*q29**2/(2*q29**2 + 1)**2 + 4*exp(2*q29) + 2*cos(q29**2) + 4/(2*q29**2 + 1) - 1/(4*(q29 + 3)**(3/2))\n",
    "print(f'Input function ,5th Block, Layer 29: {d_f_q29}')\n",
    "print(f'Output function ,5th Block, Layer 29: {d_d_f_q29}')\n"
   ]
  },
  {
   "cell_type": "code",
   "execution_count": null,
   "id": "ae8592ec",
   "metadata": {},
   "outputs": [],
   "source": [
    "q30=sm.symbols('q30')\n",
    "f_q30= sm.cosh(q30) + sm.tan(q30**3) + sm.exp(q30) + sm.log(2 * q30 + 1)\n",
    "d_f_q30=sm.diff(f_q30) # 3*q30**2*(tan(q30**3)**2 + 1) + exp(q30) + sinh(q30) + 2/(2*q30 + 1)\n",
    "d_d_f_q30=sm.diff(d_f_q30) # 18*q30**4*(tan(q30**3)**2 + 1)*tan(q30**3) + 6*q30*(tan(q30**3)**2 + 1) + exp(q30) + cosh(q30) - 4/(2*q30 + 1)**2\n",
    "print(f'Input function ,5th Block, Layer 30: {d_f_q30}')\n",
    "print(f'Output function ,5th Block, Layer 30: {d_d_f_q30}')"
   ]
  },
  {
   "cell_type": "code",
   "execution_count": 2,
   "id": "b91d0c62",
   "metadata": {},
   "outputs": [],
   "source": [
    "import pandas as pd\n",
    "import numpy as np\n",
    "import matplotlib.pyplot as plt\n",
    "import sympy as sm\n",
    "import scipy.special as sp\n",
    "from sympy import diff,symbols\n"
   ]
  },
  {
   "cell_type": "code",
   "execution_count": null,
   "id": "6d299176",
   "metadata": {},
   "outputs": [],
   "source": [
    "x1=sm.symbols('x1')\n",
    "f_x1= sm.exp(x1**2) + sm.sin(2 * x1) + sm.log(x1**3 + 1) + sm.sqrt(3 * x1)\n",
    "d_f_x1=sm.diff(f_x1) # 3*x1**2/(x1**3 + 1) + 2*x1*exp(x1**2) + 2*cos(2*x1) + sqrt(3)/(2*sqrt(x1))\n",
    "d_d_f_x1=sm.diff(d_f_x1) # -9*x1**4/(x1**3 + 1)**2 + 4*x1**2*exp(x1**2) + 6*x1/(x1**3 + 1) + 2*exp(x1**2) - 4*sin(2*x1) - sqrt(3)/(4*x1**(3/2))\n",
    "print(f'(3rd Dimension, Layer 1,Input Function: {d_f_x1}')\n",
    "print(f'(3rd Dimension, Layer 1,Output Function: {d_d_f_x1}')"
   ]
  },
  {
   "cell_type": "code",
   "execution_count": null,
   "id": "25afb29e",
   "metadata": {},
   "outputs": [],
   "source": [
    "x2=sm.symbols('x2')\n",
    "f_x2= sm.cosh( x2**2 ) + sm.exp(2 * x2) + sm.log(x2 + 1) + sm.tan(x2**2)\n",
    "d_f_x2=sm.diff(f_x2)# 2*x2*(tan(x2**2)**2 + 1) + 2*x2*sinh(x2**2) + 2*exp(2*x2) + 1/(x2 + 1)\n",
    "d_d_f_x2=sm.diff(d_f_x2)# 8*x2**2*(tan(x2**2)**2 + 1)*tan(x2**2) + 4*x2**2*cosh(x2**2) + 4*exp(2*x2) + 2*tan(x2**2)**2 + 2*sinh(x2**2) + 2 - 1/(x2 + 1)**2\n",
    "print(f'The Input function at the 2nd Block Layer 2: {d_f_x2}')\n",
    "print(f'The Output function at the 2nd Block Layer 2: {d_d_f_x2}')"
   ]
  },
  {
   "cell_type": "code",
   "execution_count": null,
   "id": "246877aa",
   "metadata": {},
   "outputs": [],
   "source": [
    "x3=sm.symbols('x3')\n",
    "f_x3= sm.tanh(3 * x3) + sm.log(x3**2 + 2) + sm.exp(x3) + sm.cosh(x3*3)\n",
    "d_f_x3=sm.diff(f_x3) # 2*x3/(x3**2 + 2) + exp(x3) + 3*sinh(3*x3) - 3*tanh(3*x3)**2 + 3\n",
    "d_d_f_x3=sm.diff(d_f_x3)# -4*x3**2/(x3**2 + 2)**2 - 3*(6 - 6*tanh(3*x3)**2)*tanh(3*x3) + exp(x3) + 9*cosh(3*x3) + 2/(x3**2 + 2)\n",
    "print(f'The Input function at the 2nd Block Layer 3: {d_f_x3}')     \n",
    "print(f'The Output function at the 2nd Block Layer 3: {d_d_f_x3}')"
   ]
  },
  {
   "cell_type": "code",
   "execution_count": null,
   "id": "aae7f836",
   "metadata": {},
   "outputs": [],
   "source": [
    "x4=sm.symbols('x4')\n",
    "f_x4= sm.sqrt(2 * x4 + 1) + sm.exp(x4**2) + sm.sin(3 * x4) + sm.log(x4**3 + 1)\n",
    "d_f_x4=sm.diff(f_x4)# 3*x4**2/(x4**3 + 1) + 2*x4*exp(x4**2) + 3*cos(3*x4) + 1/sqrt(2*x4 + 1)\n",
    "d_d_f_x4=sm.diff(d_f_x4)# -9*x4**4/(x4**3 + 1)**2 + 4*x4**2*exp(x4**2) + 6*x4/(x4**3 + 1) + 2*exp(x4**2) - 9*sin(3*x4) - 1/(2*x4 + 1)**(3/2)\n",
    "print(f'The Input function at the 2nd Block Layer 4: {d_f_x4}')\n",
    "print(f'The Output function at the 2nd Block Layer 4: {d_d_f_x4}')"
   ]
  },
  {
   "cell_type": "code",
   "execution_count": null,
   "id": "ad93eaf7",
   "metadata": {},
   "outputs": [],
   "source": [
    "x5=sm.symbols('x5')\n",
    "f_x5= sm.log(x5**2) + sm.exp(2 * x5) + sm.sin(x5 + 3) + sm.cosh(3 * x5 + 1)\n",
    "d_f_x5=sm.diff(f_x5)# 2*exp(2*x5) + cos(x5 + 3) + 3*sinh(3*x5 + 1) + 2/x5\n",
    "d_d_f_x5=sm.diff(d_f_x5)# 4*exp(2*x5) - sin(x5 + 3) + 9*cosh(3*x5 + 1) - 2/x5**2\n",
    "print(f'The Input function at the 2nd Block Layer 5: {d_f_x5}')\n",
    "print(f'The Output function at the 2nd Block Layer 5: {d_d_f_x5}')"
   ]
  },
  {
   "cell_type": "code",
   "execution_count": null,
   "id": "769899f5",
   "metadata": {},
   "outputs": [],
   "source": [
    "x6=sm.symbols('x6')\n",
    "f_x6=sm.exp(x6**3) + sm.sqrt(2 * x6) + sm.log(x6 + 3) + sm.sin(4 * x6)\n",
    "d_f_x6=sm.diff(f_x6)# 3*x6**2*exp(x6**3) + 4*cos(4*x6) + 1/(x6 + 3) + sqrt(2)/(2*sqrt(x6))\n",
    "d_d_f_x6=sm.diff(d_f_x6)# 9*x6**4*exp(x6**3) + 6*x6*exp(x6**3) - 16*sin(4*x6) - 1/(x6 + 3)**2 - sqrt(2)/(4*x6**(3/2))\n",
    "print(f'The Input function at the 2nd Block Layer 6: {d_f_x6}')\n",
    "print(f'The Output function at the 2nd Block Layer 6: {d_d_f_x6}')"
   ]
  },
  {
   "cell_type": "code",
   "execution_count": null,
   "id": "c9836108",
   "metadata": {},
   "outputs": [],
   "source": [
    "x7=sm.symbols('x7')\n",
    "f_x7= sm.cosh(x7**2) + sm.tanh(2 * x7) + sm.exp(x7 + 1) + sm.log(3 * x7)\n",
    "d_f_x7=sm.diff(f_x7)# 2*x7*sinh(x7**2) + exp(x7 + 1) - 2*tanh(2*x7)**2 + 2 + 1/x7\n",
    "d_d_f_x7=sm.diff(d_f_x7)# 4*x7**2*cosh(x7**2) - 2*(4 - 4*tanh(2*x7)**2)*tanh(2*x7) + exp(x7 + 1) + 2*sinh(x7**2) - 1/x7**2\n",
    "print(f'The Input function at the 2nd Block Layer 7: {d_f_x7}')\n",
    "print(f'The Output function at the 2nd Block Layer 7: {d_d_f_x7}')"
   ]
  },
  {
   "cell_type": "code",
   "execution_count": null,
   "id": "cbec10a5",
   "metadata": {},
   "outputs": [],
   "source": [
    "x8=sm.symbols('x8')\n",
    "f_x8= sm.exp(x8**3) + sm.sin(3 * x8) + sm.sqrt(x8 + 1) + sm.log(x8**2 + 3)\n",
    "d_f_x8=sm.diff(f_x8)# 3*x8**2*exp(x8**3) + 2*x8/(x8**2 + 3) + 3*cos(3*x8) + 1/(2*sqrt(x8 + 1))\n",
    "d_d_f_x8=sm.diff(d_f_x8)# 9*x8**4*exp(x8**3) - 4*x8**2/(x8**2 + 3)**2 + 6*x8*exp(x8**3) - 9*sin(3*x8) + 2/(x8**2 + 3) - 1/(4*(x8 + 1)**(3/2))\n",
    "print(f'The Input function at the 2nd Block Layer 8: {d_f_x8}')\n",
    "print(f'The Output function at the 2nd Block Layer 8: {d_d_f_x8}')"
   ]
  },
  {
   "cell_type": "code",
   "execution_count": null,
   "id": "26e67ea5",
   "metadata": {},
   "outputs": [],
   "source": [
    "x9=sm.symbols('x9')\n",
    "f_x9= sm.tanh(x9**2) + sm.exp(2 * x9) + sm.log(3 * x9 + 1) + sm.cosh(x9**3)\n",
    "d_f_x9=sm.diff(f_x9)# 3*x9**2*sinh(x9**3) + 2*x9*(1 - tanh(x9**2)**2) + 2*exp(2*x9) + 3/(3*x9 + 1)\n",
    "d_d_f_x9=sm.diff(d_f_x9)# 9*x9**4*cosh(x9**3) - 8*x9**2*(1 - tanh(x9**2)**2)*tanh(x9**2) + 6*x9*sinh(x9**3) + 4*exp(2*x9) - 2*tanh(x9**2)**2 + 2 - 9/(3*x9 + 1)**2\n",
    "print(f'The Input function at the 2nd Block Layer 9: {d_f_x9}')\n",
    "print(f'The Output function at the 2nd Block Layer 9: {d_d_f_x9}')"
   ]
  },
  {
   "cell_type": "code",
   "execution_count": null,
   "id": "abbdb62c",
   "metadata": {},
   "outputs": [],
   "source": [
    "x10=sm.symbols('x10')\n",
    "f_x10= sm.exp(x10 + 2) + sm.tan(x10**3) + sm.log(x10 + 1) + sm.sqrt(x10 + 2)\n",
    "d_f_x10=sm.diff(f_x10)# 3*x10**2*(tan(x10**3)**2 + 1) + exp(x10 + 2) + 1/(2*sqrt(x10 + 2)) + 1/(x10 + 1)\n",
    "d_d_f_x10=sm.diff(d_f_x10)# 18*x10**4*(tan(x10**3)**2 + 1)*tan(x10**3) + 6*x10*(tan(x10**3)**2 + 1) + exp(x10 + 2) - 1/(4*(x10 + 2)**(3/2)) - 1/(x10 + 1)**2\n",
    "print(f'The Input function at the 2nd Block Layer 10: {d_f_x10}')\n",
    "print(f'The Output function at the 2nd Block Layer 10: {d_d_f_x10}')"
   ]
  },
  {
   "cell_type": "code",
   "execution_count": null,
   "id": "77671317",
   "metadata": {},
   "outputs": [],
   "source": [
    "x11=sm.symbols('x11')\n",
    "f_x11= sm.sqrt(x11**3) + sm.exp(3 * x11) + sm.log(2 * x11 + 1) + sm.sin(x11 + 2) \n",
    "d_f_x11=sm.diff(f_x11)# 3*exp(3*x11) + cos(x11 + 2) + 2/(2*x11 + 1) + 3*sqrt(x11**3)/(2*x11)\n",
    "d_d_f_x11=sm.diff(d_f_x11)# 9*exp(3*x11) - sin(x11 + 2) - 4/(2*x11 + 1)**2 + 3*sqrt(x11**3)/(4*x11**2)\n",
    "print(f'The Input function at the 2nd Block Layer 11: {d_f_x11}')\n",
    "print(f'The Output function at the 2nd Block Layer 11: {d_d_f_x11}')"
   ]
  },
  {
   "cell_type": "code",
   "execution_count": null,
   "id": "6c73ae07",
   "metadata": {},
   "outputs": [],
   "source": [
    "x12=sm.symbols('x12')\n",
    "f_x12= sm.cosh(x12**2) + sm.exp(2 * x12) + sm.tanh(3 * x12) + sm.log(x12**3 + 1)\n",
    "d_f_x12=sm.diff(f_x12)# 3*x12**2/(x12**3 + 1) + 2*x12*sinh(x12**2) + 2*exp(2*x12) - 3*tanh(3*x12)**2 + 3\n",
    "d_d_f_x12=sm.diff(d_f_x12)# -9*x12**4/(x12**3 + 1)**2 + 4*x12**2*cosh(x12**2) + 6*x12/(x12**3 + 1) - 3*(6 - 6*tanh(3*x12)**2)*tanh(3*x12) + 4*exp(2*x12) + 2*sinh(x12**2)\n",
    "print(f'The Input function at the 2nd Block Layer 12: {d_f_x12}')\n",
    "print(f'The Output function at the 2nd Block Layer 12: {d_d_f_x12}')"
   ]
  },
  {
   "cell_type": "code",
   "execution_count": null,
   "id": "34abc705",
   "metadata": {},
   "outputs": [],
   "source": [
    "x13=sm.symbols('x13')\n",
    "f_x13= sm.exp(x13**3) + sm.sin(x13 + 1) + sm.sqrt(x13**2) + sm.log(3 * x13 + 1)\n",
    "d_f_x13=sm.diff(f_x13)# 3*x13**2*exp(x13**3) + cos(x13 + 1) + 3/(3*x13 + 1) + sqrt(x13**2)/x13\n",
    "d_d_f_x13=sm.diff(d_f_x13)# 9*x13**4*exp(x13**3) + 6*x13*exp(x13**3) - sin(x13 + 1) - 9/(3*x13 + 1)**2\n",
    "print(f'The Input function at the 2nd Block Layer 13: {d_f_x13}')\n",
    "print(f'The Output function at the 2nd Block Layer 13: {d_d_f_x13}')\n"
   ]
  },
  {
   "cell_type": "code",
   "execution_count": null,
   "id": "ccf3d350",
   "metadata": {},
   "outputs": [],
   "source": [
    "x14=sm.symbols('x14')\n",
    "f_x14= sm.log(x14**2) + sm.sqrt(2 * x14) + sm.exp(x14 + 1) + sm.tanh(3 * x14)\n",
    "d_f_x14=sm.diff(f_x14)# exp(x14 + 1) - 3*tanh(3*x14)**2 + 3 + 2/x14 + sqrt(2)/(2*sqrt(x14))\n",
    "d_d_f_x14=sm.diff(d_f_x14)# -3*(6 - 6*tanh(3*x14)**2)*tanh(3*x14) + exp(x14 + 1) - 2/x14**2 - sqrt(2)/(4*x14**(3/2))\n",
    "print(f'The Input function at the 2nd Block Layer 14: {d_f_x14}')\n",
    "print(f'The Output function at the 2nd Block Layer 14: {d_d_f_x14}')"
   ]
  },
  {
   "cell_type": "code",
   "execution_count": null,
   "id": "e99d87d8",
   "metadata": {},
   "outputs": [],
   "source": [
    "x15=sm.symbols('x15')\n",
    "f_x15= sm.cosh(2 * x15) + sm.exp(x15**2) + sm.sin(3 * x15) + sm.log(x15**3 + 2)\n",
    "d_f_x15=sm.diff(f_x15)# 3*x15**2/(x15**3 + 2) + 2*x15*exp(x15**2) + 3*cos(3*x15) + 2*sinh(2*x15)\n",
    "d_d_f_x15=sm.diff(d_f_x15)# -9*x15**4/(x15**3 + 2)**2 + 4*x15**2*exp(x15**2) + 6*x15/(x15**3 + 2) + 2*exp(x15**2) - 9*sin(3*x15) + 4*cosh(2*x15)\n",
    "print(f'The Input function at the 2nd Block Layer 15: {d_f_x15}')\n",
    "print(f'The Output function at the 2nd Block Layer 15: {d_d_f_x15}')"
   ]
  },
  {
   "cell_type": "code",
   "execution_count": null,
   "id": "9fce8d99",
   "metadata": {},
   "outputs": [],
   "source": [
    "x16=sm.symbols('x16')\n",
    "f_x16 = sm.tan(x16**2) + sm.sqrt(3 * x16 + 1) + sm.exp(x16 + 3) + sm.log(2 * x16 + 1)\n",
    "d_f_x16=sm.diff(f_x16)# 2*x16*(ta8*x16**2*(tan(x16**2)**2 + 1)*tan(x16**2) + exp(x16 + 3) + 2*tan(x16**2)**2 + 2 - 9/(4*(3*x16 + 1)**(3/2)) - 4/(2*x16 + 1)**2n(x16**2)**2 + 1) + exp(x16 + 3) + 3/(2*sqrt(3*x16 + 1)) + 2/(2*x16 + 1)\n",
    "d_d_f_x16=sm.diff(d_f_x16)#  \n",
    "print(f'The Input function at the 2nd Block Layer 16: {d_f_x16}')\n",
    "print(f'The Output function at the 2nd Block Layer 16: {d_d_f_x16}')"
   ]
  },
  {
   "cell_type": "code",
   "execution_count": null,
   "id": "81bebaad",
   "metadata": {},
   "outputs": [],
   "source": [
    "x17=sm.symbols('x17')\n",
    "f_x17= sm.exp(x17**2) + sm.sin(2 * x17) + sm.sqrt(x17 + 1) + sm.log(x17**3 + 3) \n",
    "d_f_x17=sm.diff(f_x17)# 3*x17**2/(x17**3 + 3) + 2*x17*exp(x17**2) + 2cos(2*x17) + 1/(2*sqrt(x17 + 1))\n",
    "d_d_f_x17=sm.diff(d_f_x17)# -9*x17**4/(x17**3 + 3)**2 + 4*x17**2*exp(x17**2) + 6*x17/(x17**3 + 3) + 2*exp(x17**2) - 4*sin(2*x17) - 1/(4*(x17 + 1)**(3/2))\n",
    "print(f'The Input function at the 2nd Block Layer 17: {d_f_x17}')\n",
    "print(f'The Output function at the 2nd Block Layer 17: {d_d_f_x17}')"
   ]
  },
  {
   "cell_type": "code",
   "execution_count": null,
   "id": "40572f5b",
   "metadata": {},
   "outputs": [],
   "source": [
    "x18=sm.symbols('x18')\n",
    "f_x18=  sm.exp(x18 + 1) + sm.log(3 * x18**2 + 1) + sm.cosh(2 * x18)\n",
    "d_f_x18=sm.diff(f_x18)# 6*x18/(3*x18**2 + 1) + exp(x18 + 1) + 2*sinh(2*x18) + 3*sqrt(x18**3)/(2*x18)\n",
    "d_d_f_x18=sm.diff(d_f_x18)# -36*x18**2/(3*x18**2 + 1)**2 + exp(x18 + 1) + 4*cosh(2*x18) + 6/(3*x18**2 + 1) + 3*sqrt(x18**3)/(4*x18**2)\n",
    "print(f'The Input function at the 2nd Block Layer 18: {d_f_x18}')\n",
    "print(f'The Output function at the 2nd Block Layer 18: {d_d_f_x18}')"
   ]
  },
  {
   "cell_type": "code",
   "execution_count": null,
   "id": "e86c7efb",
   "metadata": {},
   "outputs": [],
   "source": [
    "x19=sm.symbols('x19')\n",
    "f_x19= sm.cosh(x19**2) + sm.exp(2 * x19) + sm.sin(3 * x19) + sm.log(x19**3 + 1)\n",
    "d_f_x19=sm.diff(f_x19)# 3*x19**2*exp(x19**3) + 2*x19*(tan(x19**2)**2 + 1) + 3*cos(3*x19) + 2/(2*x19 + 3)\n",
    "d_d_f_x19=sm.diff(d_f_x19)# 9*x19**4*exp(x19**3) + 8*x19**2*(tan(x19**2)**2 + 1)*tan(x19**2) + 6*x19*exp(x19**3) - 9*sin(3*x19) + 2*tan(x19**2)**2 + 2 - 4/(2*x19 + 3)**2\n",
    "print(f'The Input function at the 2nd Block Layer 19: {d_f_x19}')\n",
    "print(f'The Output function at the 2nd Block Layer 19: {d_d_f_x19}')"
   ]
  },
  {
   "cell_type": "code",
   "execution_count": null,
   "id": "7c8f33db",
   "metadata": {},
   "outputs": [],
   "source": [
    "x20=sm.symbols('x20')\n",
    "f_x20= sm.cosh(x20**2) + sm.exp(2 * x20) + sm.sqrt(3 * x20 + 1) + sm.log(x20 + 2)\n",
    "d_f_x20=sm.diff(f_x20)# 2*x20*sinh(x20**2) + 2*exp(2*x20) + 3/(2*sqrt(3*x20 + 1)) + 1/(x20 + 2)\n",
    "d_d_f_x20=sm.diff(d_f_x20)# 4*x20**2*cosh(x20**2) + 4*exp(2*x20) + 2*sinh(x20**2) - 9/(4*(3*x20 + 1)**(3/2)) - 1/(x20 + 2)**2\n",
    "print(f'The Input function at the 2nd Block Layer 20: {d_f_x20}')\n",
    "print(f'The Output function at the 2nd Block Layer 20: {d_d_f_x20}')"
   ]
  },
  {
   "cell_type": "code",
   "execution_count": null,
   "id": "7f31710b",
   "metadata": {},
   "outputs": [],
   "source": [
    "import scipy.special as sp\n",
    "import sympy as sm\n",
    "import pandas as pd\n",
    "import numpy as np\n",
    "import matplotlib.pyplot as plt\n",
    "from sympy import symbols,diff\n",
    "\n",
    "s1=sm.symbols('s1')\n",
    "f_s1= sm.exp(s1 + 3) + sm.cos(2 * s1) + sm.log(s1 + 1) + sm.sin(s1) \n",
    "d_f_s1=sm.diff(f_s1) # 2*s1/(s1**2 + 3) + exp(s1 + 3) + 2*cos(2*s1) + 1/(2*sqrt(s1 + 1))\n",
    "d_d_f_s1=sm.diff(d_f_s1) # -4*s1**2/(s1**2 + 3)**2 + exp(s1 + 3) - 4*sin(2*s1) + 2/(s1**2 + 3) - 1/(4*(s1 + 1)**(3/2))\n",
    "print(f'Input function ,5th Block, (Middle Crest), Layer 1: {d_f_s1}')\n",
    "print(f'Output function ,5th Block, (Middle Crest), Layer 1: {d_d_f_s1}')"
   ]
  },
  {
   "cell_type": "code",
   "execution_count": null,
   "id": "3a30bb59",
   "metadata": {},
   "outputs": [],
   "source": [
    "s2=sm.symbols('s2')\n",
    "f_s2= sm.tanh(s2**3) + sm.exp(2 * s2) + sm.log(s2**2 + 1) + sm.sqrt(s2 + 1) \n",
    "d_f_s2=sm.diff(f_s2) # 3*s2**2*(1 - tanh(s2**3)**2) + 2*s2*sinh(s2**2) + exp(s2 + 1) + 3/(3*s2 + 1)\n",
    "d_d_f_s2=sm.diff(d_f_s2) # -18*s2**4*(1 - tanh(s2**3)**2)*tanh(s2**3) + 4*s2**2*cosh(s2**2) + 6*s2*(1 - tanh(s2**3)**2) + exp(s2 + 1) + 2*sinh(s2**2) - 9/(3*s2 + 1)**2\n",
    "print(f'Input function ,5th Block,(Middle Crest), Layer 2: {d_f_s2}')\n",
    "print(f'Output function ,5th Block, (Middle Crest), Layer 2: {d_d_f_s2}')"
   ]
  },
  {
   "cell_type": "code",
   "execution_count": null,
   "id": "6aff9dbe",
   "metadata": {},
   "outputs": [],
   "source": [
    "s3=sm.symbols('s3')\n",
    "f_s3= sm.cosh(s3**3) + sm.exp(3 * s3) + sm.sqrt(s3 + 1) + sm.log(2 * s3) \n",
    "d_f_s3=sm.diff(f_s3) # 3*s3**2*cos(s3**3) + 2*exp(2*s3) + 3/(3*s3 + 1) + 1/(2*sqrt(s3 + 2))\n",
    "d_d_f_s3=sm.diff(d_f_s3) # -9*s3**4*sin(s3**3) + 6*s3*cos(s3**3) + 4*exp(2*s3) - 9/(3*s3 + 1)**2 - 1/(4*(s3 + 2)**(3/2))\n",
    "print(f'Input function ,5th Block,(Middle Crest), Layer 3: {d_f_s3}')\n",
    "print(f'Output function ,5th Block, (Middle Crest), Layer 3: {d_d_f_s3}')"
   ]
  },
  {
   "cell_type": "code",
   "execution_count": null,
   "id": "9c94dde2",
   "metadata": {},
   "outputs": [],
   "source": [
    "s4=sm.symbols('s4')\n",
    "f_s4=  sm.tan(s4**2) + sm.sqrt(2 * s4) + sm.exp(s4 + 1) + sm.log(s4 + 3)\n",
    "d_f_s4=sm.diff(f_s4) # 3*s4**2*exp(s4**3) + 2*s4*(tan(s4**2)**2 + 1) + 3*sinh(3*s4) + 2/(2*s4 + 1)\n",
    "d_d_f_s4=sm.diff(d_f_s4) # 9*s4**4*exp(s4**3) + 8*s4**2*(tan(s4**2)**2 + 1)*tan(s4**2) + 6*s4*exp(s4**3) + 2*tan(s4**2)**2 + 9*cosh(3*s4) + 2 - 4/(2*s4 + 1)**2\n",
    "print(f'Input function ,5th Block, (Middle Crest), Layer 4: {d_f_s4}')\n",
    "print(f'Output function ,5th Block, (Middle Crest), Layer 4: {d_d_f_s4}')"
   ]
  },
  {
   "cell_type": "code",
   "execution_count": null,
   "id": "74bf9100",
   "metadata": {},
   "outputs": [],
   "source": [
    "s5=sm.symbols('s5')\n",
    "f_s5=   sm.sin(s5**2) + sm.exp(2 * s5) + sm.sqrt(s5) + sm.log(s5**3 + 1)\n",
    "d_f_s5=sm.diff(f_s5) # 2*s5*cos(s5**2) + 2*exp(2*s5) + 1/(s5 + 1) + sqrt(3)/(2*sqrt(s5))\n",
    "d_d_f_s5=sm.diff(d_f_s5) # -4*s5**2*sin(s5**2) + 4*exp(2*s5) + 2*cos(s5**2) - 1/(s5 + 1)**2 - sqrt(3)/(4*s5**(3/2))\n",
    "print(f'Input function ,5th Block, (Middle Crest), Layer 5: {d_f_s5}')\n",
    "print(f'Output function ,5th Block, (Middle Crest), Layer 5: {d_d_f_s5}')\n"
   ]
  },
  {
   "cell_type": "code",
   "execution_count": null,
   "id": "7009c7ef",
   "metadata": {},
   "outputs": [],
   "source": [
    "s6=sm.symbols('s6')\n",
    "f_s6=   sm.cosh(s6) + sm.tan(s6**3) + sm.exp(s6) + sm.log(2 * s6 + 1)\n",
    "d_f_s6=sm.diff(f_s6) # 3*s6**2/(s6**3 + 2) + 2*s6*sinh(s6**2) + 2*exp(2*s6) + 3*cos(3*s6)\n",
    "d_d_f_s6=sm.diff(d_f_s6) # -9*s6**4/(s6**3 + 2)**2 + 4*s6**2*cosh(s6**2) + 6*s6/(s6**3 + 2) + 4*exp(2*s6) - 9*sin(3*s6) + 2*sinh(s6**2)\n",
    "print(f'Input function ,5th Block, (Middle Crest), Layer 6: {d_f_s6}')\n",
    "print(f'Output function ,5th Block, (Middle Crest), Layer 6: {d_d_f_s6}')"
   ]
  },
  {
   "cell_type": "code",
   "execution_count": null,
   "id": "94527364",
   "metadata": {},
   "outputs": [],
   "source": [
    "s7=sm.symbols('s7')\n",
    "f_s7=   sm.exp(s7**3) + sm.sqrt(s7) + sm.log(s7 + 1) + sm.sin(s7)\n",
    "d_f_s7=sm.diff(f_s7) # 3*s7**2*cos(s7**3) + 3*exp(3*s7) + 1/(s7 + 1) + sqrt(s7**2)/s7\n",
    "d_d_f_s7=sm.diff(d_f_s7) # -9*s7**4*sin(s7**3) + 6*s7*cos(s7**3) + 9*exp(3*s7) - 1/(s7 + 1)**2 \n",
    "print(f'Input function ,5th Block, (Middle Crest),Layer 7: {d_f_s7}')\n",
    "print(f'Output function ,5th Block, (Middle Crest), Layer 7: {d_d_f_s7}')"
   ]
  },
  {
   "cell_type": "code",
   "execution_count": null,
   "id": "64df94c8",
   "metadata": {},
   "outputs": [],
   "source": [
    "s8= sm.symbols('s8')\n",
    "f_s8= sm.tanh(s8**3) + sm.exp(2 * s8) + sm.log(s8**2 + 1) + sm.sqrt(s8)\n",
    "d_f_s8=sm.diff(f_s8) # 3*s8**2*(1 - tanh(s8**3)**2) + 2*s8*exp(s8**2) + 3/(3*s8 + 1) + sqrt(2)/(2*sqrt(s8))\n",
    "d_d_f_s8=sm.diff(d_f_s8) # -18*s8**4*(1 - tanh(s8**3)**2)*tanh(s8**3) + 4*s 8**2*exp(s8**2) + 6*s8*(1 - tanh(s8**3)**2) + 2*exp(s8**2) - 9/(3*s8 + 1)**2 - sqrt(2)/(4*s8**(3/2)\n",
    "print(f'Input function ,5th Block, (Middle Crest), Layer 8: {d_f_s8}')\n",
    "print(f'Output function ,5th Block, (Middle Crest), Layer 8: {d_d_f_s8}')"
   ]
  },
  {
   "cell_type": "code",
   "execution_count": null,
   "metadata": {},
   "outputs": [],
   "source": [
    "s9=sm.symbols('s9')\n",
    "f_s9=  sm.log(s9**2) + sm.exp(2 * s9) + sm.sin(s9**2) + sm.cosh(s9)\n",
    "d_f_s9=sm.diff(f_s9) # 3*s9**2*exp(s9**3) + 2*s9*sinh(s9**2) + 2*cos(2*s9) + 1/(s9 + 3)\n",
    "d_d_f_s9=sm.diff(d_f_s9) # 9*s9**4*exp(s9**3) + 4*s9**2*cosh(s9**2) + 6*s9*exp(s9**3) - 4a*sin(2*s9) + 2*sinh(s9**2) - 1/(s9 + 3)**2\n",
    "print(f'Input function ,5th Block, (Middle Crest), Layer 9: {d_f_s9}')\n",
    "print(f'Output function ,5th Block, (Middle Crest), Layer 9: {d_d_f_s9}')"
   ]
  },
  {
   "cell_type": "code",
   "execution_count": null,
   "id": "ab9d5f65",
   "metadata": {},
   "outputs": [],
   "source": [
    "s10=sm.symbols('s10')\n",
    "f_s10= sm.exp(s10**2) + sm.sin(2 * s10) + sm.log(s10**3 + 1) + sm.sqrt(3 * s10)\n",
    "d_f_s10=sm.diff(f_s10) # 3*s10**2/(s10**3 + 1) + 2*s10*cos(s10**2) + exp(s10 + 1) + sqrt(3)/(2*sqrt(s10))\n",
    "d_d_f_s10=sm.diff(d_f_s10) # -9*s10**4/(s10**3 + 1)**2 - 4*s10**2*sin(s10**2) + 6*s10/(s10**3 + 1) + exp(s10 + 1) + 2*cos(s10**2) - sqrt(3)/(4*s10**(3/2))\n",
    "print(f'Input function ,5th Block, (Middle Crest), Layer 10: {d_f_s10}')\n",
    "print(f'Output function ,5th Block, (Middle Crest), Layer 10: {d_d_f_s10}')\n",
    "\n"
   ]
  },
  {
   "cell_type": "code",
   "execution_count": null,
   "metadata": {},
   "outputs": [],
   "source": [
    "s11=sm.symbols('s11')\n",
    "f_s11=  sm.cosh(s11) + sm.tanh(s11**3) + sm.exp(2 * s11) + sm.log(s11 + 1)\n",
    "d_f_s11=sm.diff(f_s11) # 3*s11**2*sinh(s11**3) + 2*exp(2*s11) - 2*tanh(2*s11)**2 + 2 + 1/(s11 + 1)\n",
    "d_d_f_s11=sm.diff(d_f_s11) # 9*s11**4*cosh(s11**3) + 6*s11*sinh(s11**3) - 2*(4 - 4*tanh(2*s11)**2)*tanh(2*s11) + 4*exp(2*s11) - 1/(s11 + 1)**2\n",
    "print(f'Input function ,5th Block, (Middle Crest), Layer 11: {d_f_s11}')\n",
    "print(f'Output function ,5th Block, (Middle Crest), Layer 11: {d_d_f_s11}')"
   ]
  },
  {
   "cell_type": "code",
   "execution_count": null,
   "id": "ff4fccf4",
   "metadata": {},
   "outputs": [],
   "source": [
    "s12=sm.symbols('s12')\n",
    "f_s12=  sm.exp(s12**3) + sm.sqrt(2 * s12) + sm.log(s12 + 3) + sm.sin(4 * s12)\n",
    "d_f_s12=sm.diff(f_s12) # 3*s12**2*exp(s12**3) + 2*s12/(s12**2 + 3) + 3*cos(3*s12) + 1/(2*sqrt(s12 + 1))\n",
    "d_d_f_s12=sm.diff(d_f_s12) # 9*s12**4*exp(s12**3) - 4*s12**2/(s12**2 + 3)**2 + 6*s12*exp(s12**3) - 9*sin(3*s12) + 2/(s12**2 + 3) - 1/(4*(s12 + 1)**(3/2))\n",
    "print(f'Input function ,5th Block, (Middle Crest), Layer 12: {d_f_s12}')\n",
    "print(f'Output function ,5th Block, (Middle Crest), Layer 12: {d_d_f_s12}')\n"
   ]
  },
  {
   "cell_type": "code",
   "execution_count": null,
   "metadata": {},
   "outputs": [],
   "source": [
    "s13=sm.symbols('s13')\n",
    "f_s13=  sm.tanh(s13**3) + sm.exp(2 * s13) + sm.log(3 * s13 + 1) + sm.cosh(s13)\n",
    "d_f_s13=sm.diff(f_s13) # 3*s13**2*exp(s13**3) + 2*tan(2*s13)**2 + 2 + 3/(3*s13 + 1) + sqrt(s13**2)/s13\n",
    "d_d_f_s13=sm.diff(d_f_s13) # 9*s13**4*exp(s13**3) + 6*s13*exp(s13**3) + 2*(4*tan(2*s13)**2 + 4)*tan(2*s13) - 9/(3*s13 + 1)**2\n",
    "print(f'Input function ,5th Block,(Middle Crest), Layer 13: {d_f_s13}')\n",
    "print(f'Output function ,5th Block, (Middle Crest), Layer 13: {d_d_f_s13}')"
   ]
  },
  {
   "cell_type": "code",
   "execution_count": null,
   "id": "65e15f5a",
   "metadata": {},
   "outputs": [],
   "source": [
    "s14=sm.symbols('s14')\n",
    "f_s14=  sm.log(s14**2) + sm.exp(2 * s14) + sm.sin(s14) + sm.cosh(s14**2)\n",
    "d_f_s14=sm.diff(f_s14) # 2*s14*sinh(s14**2) + 2*exp(2*s14 + 1) + cos(s14) + 3*sqrt(s14**3)/(2*s14)\n",
    "d_d_f_s14=sm.diff(d_f_s14) # 4*s14**2*cosh(s14**2) + 4*exp(2*s14 + 1) - sin(s14) + 2*sinh(s14**2) + 3*sqrt(s14**3)/(4*s14**2)\n",
    "print(f'Input function ,5th Block, (Middle Crest), Layer 14: {d_f_s14}')\n",
    "print(f'Output function ,5th Block, (Middle Crest), Layer 14: {d_d_f_s14}')"
   ]
  },
  {
   "cell_type": "code",
   "execution_count": null,
   "id": "ce44050d",
   "metadata": {},
   "outputs": [],
   "source": [
    "s15=sm.symbols('s15')\n",
    "f_s15=  sm.exp(s15**3) + sm.sin(3 * s15) + sm.sqrt(s15 + 1) + sm.log(s15 + 1)\n",
    "d_f_s15=sm.diff(f_s15) # 3*s15**2*exp(s15**3) + 2*s15*(tan(s15**2)**2 + 1) + 1/sqrt(2*s15 + 3) + 1/(s15 + 1)\n",
    "d_d_f_s15=sm.diff(d_f_s15) # 9*s15**4*exp(s15**3) + 8*s15**2*(tan(s15**2)**2 + 1)*tan(s15**2) + 6*s15*exp(s15**3) + 2*tan(s15**2)**2 + 2 - 1/(2*s15 + 3)**(3/2) - 1/(s15 + 1)**2\n",
    "print(f'Input function ,5th Block, (Middle Crest), Layer 15: {d_f_s15}')\n",
    "print(f'Output function ,5th Block, (Middle Crest), Layer 15: {d_d_f_s15}')"
   ]
  },
  {
   "cell_type": "code",
   "execution_count": null,
   "metadata": {},
   "outputs": [],
   "source": [
    "s16=sm.symbols('s16')\n",
    "f_s16=  sm.tanh(s16**3) + sm.exp(2 * s16) + sm.log(s16**2 + 1) + sm.sqrt(s16)\n",
    "d_f_s16=sm.diff(f_s16) # 2*s16*cos(s16**2) + exp(s16 + 1) + 3*sinh(3*s16) + 3/s16\n",
    "d_d_f_s16=sm.diff(d_f_s16) # -4*s16**2*sin(s16**2) + exp(s16 + 1) + 2*cos(s16**2) + 9*cosh(3*s16) - 3/s16**2\n",
    "print(f'Input function ,5th Block, (Middle Crest), Layer 16: {d_f_s16}')\n",
    "print(f'Output function ,5th Block, (Middle Crest), Layer 16: {d_d_f_s16}')"
   ]
  },
  {
   "cell_type": "code",
   "execution_count": null,
   "id": "3e5643fa",
   "metadata": {},
   "outputs": [],
   "source": [
    "s17=sm.symbols('s17')\n",
    "f_s17=  sm.exp(s17**2) + sm.sin(2 * s17) + sm.sqrt(s17 + 1) + sm.log(s17**3 + 3)\n",
    "d_f_s17=sm.diff(f_s17) # 3*s17**2/(s17**3 + 1) + 2*exp(2*s17) + 3*tan(3*s17)**2 + 3 + 1/(2*sqrt(s17 + 1))\n",
    "d_d_f_s17=sm.diff(d_f_s17) # -9*s17**4/(s17**3 + 1)**2 + 6*s17/(s17**3 + 1) + 3*(6*tan(3*s17)**2 + 6)*tan(3*s17) + 4*exp(2*s17) - 1/(4*(s17 + 1)**(3/2))\n",
    "print(f'Input function ,5th Block, (Middle Crest), Layer 17: {d_f_s17}')\n",
    "print(f'Output function ,5th Block, (Middle Crest), Layer 17: {d_d_f_s17}')"
   ]
  },
  {
   "cell_type": "code",
   "execution_count": null,
   "metadata": {},
   "outputs": [],
   "source": [
    "s18=sm.symbols('s18')\n",
    "f_s18=  sm.sqrt(s18**3) + sm.exp(3 * s18) + sm.log(2 * s18 + 1) + sm.sin(s18 + 2)\n",
    "d_f_s18=sm.diff(f_s18) # 3*s18**2*cos(s18**3) + 2*s18*sinh(s18**2) + 3*exp(3*s18 + 1) + 1/(s18 + 2)\n",
    "d_d_f_s18=sm.diff(d_f_s18) # -9*s18**4*sin(s18**3) + 4*s18**2*cosh(s18**2) + 6*s18*cos(s18**3) + 9*exp(3*s18 + 1) + 2*sinh(s18**2) - 1/(s18 + 2)**2\n",
    "print(f'Input function ,5th Block, (Middle Crest), Layer 18:{d_f_s18}')\n",
    "print(f'Output function ,5th Block, (Middle Crest), Layer 18: {d_d_f_s18}')"
   ]
  },
  {
   "cell_type": "code",
   "execution_count": null,
   "id": "9244b09d",
   "metadata": {},
   "outputs": [],
   "source": [
    "s19=sm.symbols('s19')\n",
    "f_s19=  sm.tan(s19**2) + sm.sqrt(3 * s19 + 1) + sm.exp(s19 + 3) + sm.log(2 * s19 + 1)\n",
    "d_f_s19=sm.diff(f_s19) # 2*s19*exp(s19**2) + tan(s19 + 1)**2 + 1 + 3/s19 + sqrt(3)/(2*sqrt(s19))\n",
    "d_d_f_s19=sm.diff(d_f_s19) # 4*s19**2*exp(s19**2) + (2*tan(s19 + 1)**2 + 2)*tan(s19 + 1) + 2*exp(s19**2) - 3/s19**2 - sqrt(3)/(4*s19**(3/2))\n",
    "print(f'Input function ,5th Block, (Middle Crest), Layer 19: {d_f_s19}')\n",
    "print(f'Output function ,5th Block, (Middle Crest), Layer 19: {d_d_f_s19}')"
   ]
  },
  {
   "cell_type": "code",
   "execution_count": null,
   "metadata": {},
   "outputs": [],
   "source": [
    "s20=sm.symbols('s20')\n",
    "f_s20= sm.cosh(s20**2) + sm.exp(2 * s20) + sm.sqrt(3 * s20 + 1) + sm.log(s20 + 2)\n",
    "d_f_s20=sm.diff(f_s20) # 3*s20**2*exp(s20**3) + 2*s20*sinh(s20**2) + 2*cos(2*s20) + 3/(3*s20 + 1)\n",
    "d_d_f_s20=sm.diff(d_f_s20) # 9*s20**4*exp(s20**3) + 4*s20**2*cosh(s20**2) + 6*s20*exp(s20**3) - 4*sin(2*s20) + 2*sinh(s20**2) - 9/(3*s20 + 1)**2\n",
    "print(f'Input function ,5th Block, (Middle Crest), Layer 20: {d_f_s20}')\n",
    "print(f'Output function ,5th Block, (Middle Crest), Layer 20: {d_d_f_s20}')"
   ]
  },
  {
   "cell_type": "code",
   "execution_count": 43,
   "id": "afed1224",
   "metadata": {},
   "outputs": [],
   "source": [
    "import sympy as sm\n",
    "import scipy.special as sp\n",
    "import matplotlib.pyplot as plt\n",
    "import pandas as pd\n",
    "import numpy as np\n",
    "from sympy import diff, symbols"
   ]
  },
  {
   "cell_type": "code",
   "execution_count": null,
   "id": "986d25b9",
   "metadata": {},
   "outputs": [],
   "source": [
    "s21=sm.symbols('s21')\n",
    "f_s21=  sm.exp(s21**2) + sm.sin(3 * s21) + sm.sqrt(s21**3) + sm.log(s21 + 3)\n",
    "d_f_s21=sm.diff(f_s21) # 4*s21*exp(2*s21**2) + 3*cos(3*s21) + 1/(s21 + 3) + 3*sqrt(s21**3)/(2*s21)\n",
    "d_d_f_s21=sm.diff(d_f_s21) # 16*s21**2*exp(2*s21**2) + 4*exp(2*s21**2) - 9*sin(3*s21) - 1/(s21 + 3)**2 + 3*sqrt(s21**3)/(4*s21**2)\n",
    "print(f'Input function ,5th Block, (Middle Crest), Layer 21: {d_f_s21}')\n",
    "print(f'Output function ,5th Block, (Middle Crest), Layer 21: {d_d_f_s21}')\n"
   ]
  },
  {
   "cell_type": "code",
   "execution_count": null,
   "id": "7ad13924",
   "metadata": {},
   "outputs": [],
   "source": [
    "s22=sm.symbols('s22')\n",
    "f_s22=  sm.tan(s22**2) + sm.sqrt(2 * s22) + sm.exp(s22 + 1) + sm.log(2 * s22 + 1)\n",
    "d_f_s22=sm.diff(f_s22) # 3*s22**2*sinh(s22**3) + 2*s22/(s22**2 + 1) + exp(s22) + 2*tan(2*s22)**2 + 2\n",
    "d_d_f_s22=sm.diff(d_f_s22) # 9*s22**4*cosh(s22**3) - 4*s22**2/(s22**2 + 1)**2 + 6*s22*sinh(s22**3) + 2*(4*tan(2*s22)**2 + 4)*tan(2*s22) + exp(s22) + 2/(s22**2 + 1)\n",
    "print(f'Input function ,5th Block, (Middle Crest), Layer 22: {d_f_s22}')\n",
    "print(f'Output function ,5th Block, (Middle Crest), Layer 22: {d_d_f_s22}')\n"
   ]
  },
  {
   "cell_type": "code",
   "execution_count": null,
   "id": "1c0f28a9",
   "metadata": {},
   "outputs": [],
   "source": [
    "s23=sm.symbols('s23')\n",
    "f_s23=      sm.cosh(s23) + sm.tanh(s23**3) + sm.exp(2 * s23) + sm.log(s23 + 1) \n",
    "d_f_s23=sm.diff(f_s23) # 3*s23**2/(s23**3 + 2) + 2*s23*exp(s23**2) - 3*tanh(3*s23)**2 + 3 + 1/(2*sqrt(s23 + 1))\n",
    "d_d_f_s23=sm.diff(d_f_s23) # -9*s23**4/(s23**3 + 2)**2 + 4*s23**2*exp(s23**2) + 6*s23/(s23**3 + 2) - 3*(6 - 6*tanh(3*s23)**2)*tanh(3*s23) + 2*exp(s23**2) - 1/(4*(s23 + 1)**(3/2))\n",
    "print(f'Input function 5th Block, (Middle Crest), Layer 23: {d_f_s23}')\n",
    "print(f'Output function ,5th Block, (Middle Crest), Layer 23: {d_d_f_s23}')"
   ]
  },
  {
   "cell_type": "code",
   "execution_count": null,
   "id": "cbf787ec",
   "metadata": {},
   "outputs": [],
   "source": [
    "s24=sm.symbols('s24')\n",
    "f_s24=  sm.log(s24**2) + sm.exp(s24**2) + sm.sin(3 * s24) + sm.cosh(2 * s24) \n",
    "d_f_s24=sm.diff(f_s24) # 2*s24*exp(s24**2) + 3*cos(3*s24) + 2*sinh(2*s24) + 1/(s24 + 3)\n",
    "d_d_f_s24=sm.diff(d_f_s24) # 4*s24**2*exp(s24**2) + 2*exp(s24**2) - 9*sin(3*s24) + 4*cosh(2*s24) - 1/(s24 + 3)**2\n",
    "print(f'Input function ,5th Block, (Middle Crest), Layer 24: {d_f_s24}')\n",
    "print(f'Output function ,5th Block, (Middle Crest), Layer 24: {d_d_f_s24}')"
   ]
  },
  {
   "cell_type": "code",
   "execution_count": null,
   "id": "7558aa60",
   "metadata": {},
   "outputs": [],
   "source": [
    "s25=sm.symbols('s25')\n",
    "f_s25=  sm.sin(s25**2) + sm.exp(2 * s25) + sm.sqrt(s25) + sm.log(s25**3 + 1) \n",
    "d_f_s25=sm.diff(f_s25) # 2*s25*cos(s25**2) + exp(s25 + 1) + 1/(s25 + 3) + sqrt(2)/(2*sqrt(s25))\n",
    "d_d_f_s25=sm.diff(d_f_s25) # -4*s25**2*sin(s25**2) + exp(s25 + 1) + 2*cos(s25**2) - 1/(s25 + 3)**2 - sqrt(2)/(4*s25**(3/2))\n",
    "print(f'Input function ,5th Block, (Middle Crest), Layer 25: {d_f_s25}')\n",
    "print(f'Output function ,5th Block, (Middle Crest), Layer 25: {d_d_f_s25}')"
   ]
  },
  {
   "cell_type": "code",
   "execution_count": null,
   "id": "56e77025",
   "metadata": {},
   "outputs": [],
   "source": [
    "s26=sm.symbols('s26')\n",
    "f_s26= sm.cosh(s26) + sm.exp(s26**3) + sm.sqrt(s26) + sm.log(s26 + 1)\n",
    "d_f_s26=sm.diff(f_s26) # 6*s26*exp(3*s26**2) + 2*s26/(s26**2 + 3) + sinh(s26 + 1) + 1/(2*sqrt(s26 + 3))\n",
    "d_d_f_s26=sm.diff(d_f_s26) # 36*s26**2*exp(3*s26**2) - 4*s26**2/(s26**2 + 3)**2 + 6*exp(3*s26**2) + cosh(s26 + 1) + 2/(s26**2 + 3) - 1/(4*(s26 + 3)**(3/2)\n",
    "print(f'Input function ,5th Block, (Middle Crest), Layer 26: {d_f_s26}')\n",
    "print(f'Output function ,5th Block, (Middle Crest), Layer 26: {d_d_f_s26}')"
   ]
  },
  {
   "cell_type": "code",
   "execution_count": null,
   "metadata": {},
   "outputs": [],
   "source": [
    "s27=sm.symbols('s27')\n",
    "f_s27=  sm.exp(s27**3) + sm.sin(s27) + sm.log(s27 + 1) + sm.sqrt(s27)\n",
    "d_f_s27=sm.diff(f_s27) # 6*s27**2*cos(2*s27**3) + exp(s27 + 2) + 3/(3*s27 + 1) + 1/(2*sqrt(s27))\n",
    "d_d_f_s27=sm.diff(d_f_s27) # -36*s27**4*sin(2*s27**3) + 12*s27*cos(2*s27**3) + exp(s27 + 2) - 9/(3*s27 + 1)**2 - 1/(4*s27**(3/2))\n",
    "print(f'Input function ,5th Block, (Middle Crest), Layer 27: {d_f_s27}')\n",
    "print(f'Output function ,5th Block, (Middle Crest), Layer 27: {d_d_f_s27}')"
   ]
  },
  {
   "cell_type": "code",
   "execution_count": null,
   "id": "55333c1a",
   "metadata": {},
   "outputs": [],
   "source": [
    "s28=sm.symbols('s28')\n",
    "f_s28= sm.tanh(s28**3) + sm.exp(2 * s28) + sm.log(s28**2 + 1) + sm.sqrt(s28)\n",
    "d_f_s28=sm.diff(f_s28) # 2*s28*(tan(s28**2)**2 + 1) + exp(s28 + 3) + 3*sinh(3*s28) + 1/(s28 + 1)\n",
    "d_d_f_s28=sm.diff(d_f_s28) # 8*s28**2*(tan(s28**2)**2 + 1)*tan(s28**2) + exp(s28 + 3) + 2*tan(s28**2)**2 + 9*cosh(3*s28) + 2 - 1/(s28 + 1)**2\n",
    "print(f'Input function ,5th Block, (Middle Crest), Layer 28: {d_f_s28}')\n",
    "print(f'Output function ,5th Block, (Middle Crest), Layer 28: {d_d_f_s28}')\n"
   ]
  },
  {
   "cell_type": "code",
   "execution_count": null,
   "metadata": {},
   "outputs": [],
   "source": [
    "s29=sm.symbols('s29')\n",
    "f_s29= sm.log(s29**2) + sm.exp(2 * s29) + sm.sin(s29) + sm.cosh(s29**2)\n",
    "d_f_s29=sm.diff(f_s29) # 2*s29/(s29**2 + 1) + 2*exp(2*s29) + 3*cos(3*s29) + 3*sqrt(s29**3)/(2*s29)\n",
    "d_d_f_s29=sm.diff(d_f_s29) # -4*s29**2/(s29**2 + 1)**2 + 4*exp(2*s29) - 9*sin(3*s29) + 2/(s29**2 + 1) + 3*sqrt(s29**3)/(4*s29**2)\n",
    "print(f'Input function ,5th Block, (Middle Crest), Layer 29: {d_f_s29}')\n",
    "print(f'Output function ,5th Block, (Middle Crest), Layer 29: {d_d_f_s29}')\n"
   ]
  },
  {
   "cell_type": "code",
   "execution_count": null,
   "id": "310065b3",
   "metadata": {},
   "outputs": [],
   "source": [
    "s30=sm.symbols('s30')\n",
    "f_s30=  sm.exp(s30**3) + sm.sin(s30) + sm.log(s30 + 1) + sm.sqrt(s30)\n",
    "d_f_s30=sm.diff(f_s30) # 3*s30**2*cos(s30**3) + 6*s30**2*sinh(2*s30**3) + exp(s30 + 2) + 1/(s30 + 1)\n",
    "d_d_f_s30=sm.diff(d_f_s30) # -9*s30**4*sin(s30**3) + 36*s30**4*cosh(2*s30**3) + 6*s30*cos(s30**3) + 12*s30*sinh(2*s30**3) + exp(s30 + 2) - 1/(s30 + 1)**2\n",
    "print(f'Input function ,5th Block,(Middle Crest), Layer 30: {d_f_s30}')\n",
    "print(f'Output function ,5th Block, (Middle Crest), Layer 30: {d_d_f_s30}')\n"
   ]
  },
  {
   "cell_type": "code",
   "execution_count": 54,
   "metadata": {},
   "outputs": [],
   "source": [
    "import pandas as pd\n",
    "import numpy as np\n",
    "import matplotlib.pyplot as plt\n",
    "import sympy as sm\n",
    "import scipy.special as sp\n",
    "from sympy import symbols, diff \n",
    "from scipy.special import erf, erf_zeros\n"
   ]
  },
  {
   "cell_type": "code",
   "execution_count": null,
   "id": "7fe5a92c",
   "metadata": {},
   "outputs": [],
   "source": [
    "# Gelu activation function at the 5th block of the transformer Layer\n",
    "\n",
    "\n",
    "# import numpy as np\n",
    "# import pandas as pd\n",
    "# import matplotlib.pyplot as plt\n",
    "# import sympy as sm\n",
    "# import scipy.special as sp\n",
    "# from sympy import symbols, diff\n",
    "def gelu(x):\n",
    "    return 0.5 * x * (1 + np.tanh(np.sqrt(2/np.pi) * (x + 0.044715 * pow(x,3)))) # 0.5 * x * (1 + np.tanh (np.sqrt(2/np.pi(x + 0.04475 * pow(x,3)))))\n",
    "\n",
    "x_values= np.linspace(-6,6,50)\n",
    "y_values= gelu(x_values)\n",
    "print(x_values)\n",
    "\n",
    "plt.plot(x_values,y_values, label='Gelu(x) activation function in the 5th Block of the Transformer layer', color='maroon', marker='o')\n",
    "plt.xlabel('Input(x) in the transformer domain')\n",
    "plt.title('Gelu(x) function in the transformer architecture')\n",
    "plt.ylabel('Gelu(x) activation Function in the 5th Block of the transformer layer')\n",
    "plt.axhline(0, linestyle='--',color='red' )\n",
    "plt.axvline(0, linestyle='--',color='blue' )\n",
    "plt.grid(True)\n",
    "plt.legend()\n",
    "plt.show()\n",
    "\n",
    "import matplotlib.pyplot as plt\n",
    "import scipy.special as sp\n",
    "import sympy as sm\n",
    "from scipy.special import erf\n",
    "from sympy import symbols,diff\n",
    "\n",
    "def gelu(x):\n",
    "    return 0.5 * x * (1 + np.tanh(np.sqrt(2/np.pi) * (x + 0.044715 * pow(x,3)))) #sqrt(2/pi) approximation is 0.797885\n",
    "    # 0.5 * x * (1 + np.tanh(np.sqrt(2 / np.pi) * (x + 0.044715 * x**3)))\n",
    "\n",
    "x_values=np.linspace(-6,6,50)\n",
    "y_values=gelu(x_values)\n",
    "\n",
    "plt.plot(x_values,y_values,color='indigo',label=\"Gelu(x) in the preceding layers of the transformer\", marker='o')\n",
    "plt.ylabel('Output(Gelu(x)) at the layer 1 in the preceding layer')\n",
    "plt.xlabel('Input(x)')\n",
    "plt.axhline(0,color='red',linestyle='--')\n",
    "plt.legend()\n",
    "plt.grid(True)\n",
    "print(y_values)\n",
    "plt.show()\n",
    "\n",
    "def gelu(x):\n",
    "    return 0.5 * x * (1 + np.tanh(np.sqrt(2/np.pi) * (x + 0.044715 * pow(x,3)))) #sqrt(2/pi) approximation is 0.797885\n",
    "    # 0.5 * x * (1 + np.tanh(np.sqrt(2 / np.pi) * (x + 0.044715 * x**3)))\n",
    "\n",
    "x_values=np.linspace(-6,6,50)\n",
    "y_values=gelu(x_values)\n",
    "plt.figure(figsize=(8, 5))\n",
    "plt.plot(x_values,y_values,color='indigo',label=\"Gelu(x) in the preceding layers of the transformer\", marker='o')\n",
    "plt.ylabel('Output(Gelu(x)) at the layer 1 in the preceding layer')\n",
    "plt.xlabel('Input(x)')\n",
    "plt.axhline(0,color='red',linestyle='--')\n",
    "plt.axvline(0,color='red',linestyle='--')\n",
    "plt.legend()\n",
    "plt.grid(True)\n",
    "print(y_values)\n",
    "plt.show()\n",
    "\n",
    "\n",
    "\n",
    "         "
   ]
  },
  {
   "cell_type": "code",
   "execution_count": null,
   "id": "28248554",
   "metadata": {},
   "outputs": [],
   "source": [
    "import scipy.special as sp\n",
    "import sympy as sm\n",
    "import pandas as pd\n",
    "import numpy as np\n",
    "import matplotlib.pyplot as plt\n",
    "from sympy import symbols,diff\n",
    "\n",
    "r1=sm.symbols('r1')\n",
    "f_r1= sm.exp(r1 + 3) + sm.sin(2 * r1) + sm.sqrt(r1 + 1) + sm.log(r1**2 + 3)\n",
    "d_f_r1=sm.diff(f_r1) # 2*r1/(r1**2 + 3) + exp(r1 + 3) + 2*cos(2*r1) + 1/(2*sqrt(r1 + 1))\n",
    "d_d_f_r1=sm.diff(d_f_r1) # -4*r1**2/(r1**2 + 3)**2 + exp(r1 + 3) - 4*sin(2*r1) + 2/(r1**2 + 3) - 1/(4*(r1 + 1)**(3/2))\n",
    "print(f'Input function ,5th Block, (Bottom Crest), Layer 1: {d_f_r1}')\n",
    "print(f'Output function ,5th Block, (Bottom Crest), Layer 1: {d_d_f_r1}')"
   ]
  },
  {
   "cell_type": "code",
   "execution_count": null,
   "id": "9e5f67c8",
   "metadata": {},
   "outputs": [],
   "source": [
    "r2=sm.symbols('r2')\n",
    "f_r2= sm.sqrt(r2**3 + 1) + sm.exp(r2**2) + sm.log(2 * r2) + sm.tan(3 * r2)\n",
    "d_f_r2=sm.diff(f_r2) # 3*r2**2/(2*sqrt(r2**3 + 1)) + 2*r2*exp(r2**2) + 3*tan(3*r2)**2 + 3 + 1/r2\n",
    "d_d_f_r2=sm.diff(d_f_r2) # -9*r2**4/(4*(r2**3 + 1)**(3/2)) + 4*r2**2*exp(r2**2) + 3*r2/sqrt(r2**3 + 1) + 3*(6*tan(3*r2)**2 + 6)*tan(3*r2) + 2*exp(r2**2) - 1/r2**2\n",
    "print(f'Input function ,5th Block,(Bottom Crest) , Layer 2: {d_f_r2}')\n",
    "print(f'Output function ,5th Block, (Bottom Crest) , Layer 2: {d_d_f_r2}')"
   ]
  },
  {
   "cell_type": "code",
   "execution_count": null,
   "id": "8b9cc8d5",
   "metadata": {},
   "outputs": [],
   "source": [
    "r3=sm.symbols('r3')\n",
    "f_r3= sm.exp(2 * r3) + sm.log(r3 + 3) + sm.sin(r3**2) + sm.cosh(r3*3)\n",
    "d_f_r3=sm.diff(f_r3) # 2*r3*cos(r3**2) + 2*exp(2*r3) + 3*sinh(3*r3) + 1/(r3 + 3)\n",
    "d_d_f_r3=sm.diff(d_f_r3) # -4*r3**2*sin(r3**2) + 4*exp(2*r3) + 2*cos(r3**2) + 9*cosh(3*r3) - 1/(r3 + 3)**2\n",
    "print(f'Input function ,5th Block,(Bottom Crest) , Layer 3: {d_f_r3}')\n",
    "print(f'Output function ,5th Block, (Bottom Crest), Layer 3: {d_d_f_r3}')"
   ]
  },
  {
   "cell_type": "code",
   "execution_count": null,
   "id": "38c4d7d0",
   "metadata": {},
   "outputs": [],
   "source": [
    "r4=sm.symbols('r4')\n",
    "f_r4= sm.tan(r4 + 3) + sm.exp(r4**2) + sm.sqrt(3 * r4 + 1) + sm.log(2 * r4) \n",
    "d_f_r4=sm.diff(f_r4) # 2*r4*exp(r4**2) + tan(r4 + 3)**2 + 1 + 3/(2*sqrt(3*r4 + 1)) + 1/r4\n",
    "d_d_f_r4=sm.diff(d_f_r4) # 4*r4**2*exp(r4**2) + (2*tan(r4 + 3)**2 + 2)*tan(r4 + 3) + 2*exp(r4**2) - 9/(4*(3*r4 + 1)**(3/2)) - 1/r4**2\n",
    "print(f'Input function ,5th Block, (Bottom Crest) , Layer 4: {d_f_r4}')\n",
    "print(f'Output function ,5th Block, (Bottom Crest), Layer 4: {d_d_f_r4}')"
   ]
  },
  {
   "cell_type": "code",
   "execution_count": null,
   "metadata": {},
   "outputs": [],
   "source": [
    "r5=sm.symbols('r5')\n",
    "f_r5= sm.log(r5**2 + 1) + sm.cosh(3 * r5) + sm.exp(r5 + 2) + sm.sin(r5**3)\n",
    "d_f_r5=sm.diff(f_r5) # 3*r5**2*cos(r5**3) + 2*r5/(r5**2 + 1) + exp(r5 + 2) + 3*sinh(3*r5)\n",
    "d_d_f_r5=sm.diff(d_f_r5) # -9*r5**4*sin(r5**3) - 4*r5**2/(r5**2 + 1)**2 + 6*r5*cos(r5**3) + exp(r5 + 2) + 9*cosh(3*r5) + 2/(r5**2 + 1)\n",
    "print(f'Input function ,5th Block, (Bottom Crest), Layer 5: {d_f_r5}')\n",
    "print(f'Output function ,5th Block, (Bottom Crest), Layer 5: {d_d_f_r5}')"
   ]
  },
  {
   "cell_type": "code",
   "execution_count": null,
   "id": "f9043465",
   "metadata": {},
   "outputs": [],
   "source": [
    "r6=sm.symbols('r6')\n",
    "f_r6= sm.sin(r6**2) + sm.exp(3 * r6) + sm.log(2 * r6 + 1) + sm.sqrt(r6**3) \n",
    "d_f_r6=sm.diff(f_r6) # 2*r6*cos(r6**2) + 3*exp(3*r6) + 2/(2*r6 + 1) + 3*sqrt(r6**3)/(2*r6)\n",
    "d_d_f_r6=sm.diff(d_f_r6) # -4*r6**2*sin(r6**2) + 9*exp(3*r6) + 2*cos(r6**2) - 4/(2*r6 + 1)**2 + 3*sqrt(r6**3)/(4*r6**2)\n",
    "print(f'Input function ,5th Block, (Bottom Crest), Layer 6: {d_f_r6}')\n",
    "print(f'Output function ,5th Block, (Bottom Crest), Layer 6: {d_d_f_r6}')"
   ]
  },
  {
   "cell_type": "code",
   "execution_count": null,
   "id": "671b3978",
   "metadata": {},
   "outputs": [],
   "source": [
    "r7=sm.symbols('r7')\n",
    "f_r7= sm.cosh(r7**2) + sm.exp(r7**3) + sm.log(3 * r7) + sm.tan(2 * r7 + 1)\n",
    "d_f_r7=sm.diff(f_r7) # 3*r7**2*exp(r7**3) + 2*r7*sinh(r7**2) + 2*tan(2*r7 + 1)**2 + 2 + 1/r7\n",
    "d_d_f_r7=sm.diff(d_f_r7) # 9*r7**4*exp(r7**3) + 4*r7**2*cosh(r7**2) + 6*r7*exp(r7**3) + 2*(4*tan(2*r7 + 1)**2 + 4)*tan(2*r7 + 1) + 2*sinh(r7**2) - 1/r7**2\n",
    "print(f'Input function ,5th Block, (Bottom Crest),Layer 7: {d_f_r7}')\n",
    "print(f'Output function ,5th Block, (Bottom Crest), Layer 7: {d_d_f_r7}')"
   ]
  },
  {
   "cell_type": "code",
   "execution_count": null,
   "id": "4c9e3bf2",
   "metadata": {},
   "outputs": [],
   "source": [
    "r8= sm.symbols('r8')\n",
    "f_r8= sm.exp(2 * r8) + sm.sin(r8**2) + sm.sqrt(r8**3) + sm.log(3 * r8 + 1)   \n",
    "d_f_r8=sm.diff(f_r8) # 2*r8*cos(r8**2) + 2*exp(2*r8) + 3/(3*r8 + 1) + 3*sqrt(r8**3)/(2*r8)\n",
    "d_d_f_r8=sm.diff(d_f_r8) # -4*r8**2*sin(r8**2) + 4*exp(2*r8) + 2*cos(r8**2) - 9/(3*r8 + 1)**2 + 3*sqrt(r8**3)/(4*r8**2)\n",
    "print(f'Input function ,5th Block, (Bottom Crest), Layer 8: {d_f_r8}')\n",
    "print(f'Output function ,5th Block, (Bottom Crest), Layer 8: {d_d_f_r8}')"
   ]
  },
  {
   "cell_type": "code",
   "execution_count": null,
   "id": "bb875ca7",
   "metadata": {},
   "outputs": [],
   "source": [
    "r9=sm.symbols('r9')\n",
    "f_r9= sm.sqrt(2 * r9 + 1) + sm.exp(r9 + 3) + sm.log(r9**3) + sm.cosh(r9**2)\n",
    "d_f_r9=sm.diff(f_r9) # 2*r9*sinh(r9**2) + exp(r9 + 3) + 1/sqrt(2*r9 + 1) + 3/r9\n",
    "d_d_f_r9=sm.diff(d_f_r9) # 4*r9**2*cosh(r9**2) + exp(r9 + 3) + 2*sinh(r9**2) - 1/(2*r9 + 1)**(3/2) - 3/r9**2\n",
    "print(f'Input function ,5th Block, (Bottom Crest), Layer 9: {d_f_r9}')\n",
    "print(f'Output function ,5th Block, (Bottom Crest), Layer 9: {d_d_f_r9}')"
   ]
  },
  {
   "cell_type": "code",
   "execution_count": null,
   "metadata": {},
   "outputs": [],
   "source": [
    "r10=sm.symbols('r10')\n",
    "f_r10= sm.exp(r10**3) + sm.tan(r10**2) + sm.log(r10 + 1) + sm.sqrt(3 * r10)\n",
    "d_f_r10=sm.diff(f_r10) # 3*r10**2*exp(r10**3) + 2*r10*(tan(r10**2)**2 + 1) + 1/(r10 + 1) + sqrt(3)/(2*sqrt(r10))\n",
    "d_d_f_r10=sm.diff(d_f_r10) # 9*r10**4*exp(r10**3) + 8*r10**2*(tan(r10**2)**2 + 1)*tan(r10**2) + 6*r10*exp(r10**3) + 2*tan(r10**2)**2 + 2 - 1/(r10 + 1)**2 - sqrt(3)/(4*r10**(3/2))\n",
    "print(f'Input function ,5th Block, (Bottom Crest), Layer 10: {d_f_r10}')\n",
    "print(f'Output function ,5th Block, (Bottom Crest), Layer 10: {d_d_f_r10}')"
   ]
  },
  {
   "cell_type": "code",
   "execution_count": 66,
   "id": "d55b3d83",
   "metadata": {},
   "outputs": [],
   "source": [
    "import pandas as pd\n",
    "import numpy as np\n",
    "import matplotlib.pyplot as plt\n",
    "import sympy as sm\n",
    "import scipy.special as sp\n",
    "\n"
   ]
  },
  {
   "cell_type": "code",
   "execution_count": null,
   "metadata": {},
   "outputs": [],
   "source": [
    "r11=sm.symbols('r11')\n",
    "f_r11= sm.cosh(r11**2) + sm.exp(3 * r11) + sm.log(r11 + 1) + sm.sin(r11**3 + 2)\n",
    "d_f_r11=sm.diff(f_r11) # 3*r11**2*cos(r11**3 + 2) + 2*r11*sinh(r11**2) + 3*exp(3*r11) + 1/(r11 + 1)\n",
    "d_d_f_r11=sm.diff(d_f_r11) # -9*r11**4*sin(r11**3 + 2) + 4*r11**2*cosh(r11**2) + 6*r11*cos(r11**3 + 2) + 9*exp(3*r11) + 2*sinh(r11**2) - 1/(r11 + 1)**2\n",
    "print(f'Input function ,5th Block, (Bottom Crest), Layer 11: {d_f_r11}')\n",
    "print(f'Output function ,5th Block, (Bottom Crest), Layer 11: {d_d_f_r11}')"
   ]
  },
  {
   "cell_type": "code",
   "execution_count": null,
   "id": "fce0c599",
   "metadata": {},
   "outputs": [],
   "source": [
    "r12=sm.symbols('r12')\n",
    "f_r12= sm.exp(2 * r12**3) + sm.sin(r12 + 1) + sm.log(r12**2 + 1) + sm.sqrt(3 * r12)\n",
    "d_f_r12=sm.diff(f_r12) # 6*r12**2*exp(2*r12**3) + 2*r12/(r12**2 + 1) + cos(r12 + 1) + sqrt(3)/(2*sqrt(r12))\n",
    "d_d_f_r12=sm.diff(d_f_r12) # 36*r12**4*exp(2*r12**3) - 4*r12**2/(r12**2 + 1)**2 + 12*r12*exp(2*r12**3) - sin(r12 + 1) + 2/(r12**2 + 1) - sqrt(3)/(4*r12**(3/2))\n",
    "print(f'Input function ,5th Block, (Bottom Crest), Layer 12: {d_f_r12}')\n",
    "print(f'Output function ,5th Block, (Bottom Crest), Layer 12: {d_d_f_r12}')"
   ]
  },
  {
   "cell_type": "code",
   "execution_count": null,
   "metadata": {},
   "outputs": [],
   "source": [
    "r13=sm.symbols('r13')\n",
    "f_r13= sm.tan(r13**3) + sm.cosh(r13**2) + sm.exp(r13 + 2) + sm.log(r13 + 3)\n",
    "d_f_r13=sm.diff(f_r13) # 3*r13**2*(tan(r13**3)**2 + 1) + 2*r13*sinh(r13**2) + exp(r13 + 2) + 1/(r13 + 3)\n",
    "d_d_f_r13=sm.diff(d_f_r13) # 18*r13**4*(tan(r13**3)**2 + 1)*tan(r13**3) + 4*r13**2*cosh(r13**2) + 6*r13*(tan(r13**3)**2 + 1) + exp(r13 + 2) + 2*sinh(r13**2) - 1/(r13 + 3)**2\n",
    "print(f'Input function ,5th Block,(Bottom Crest), Layer 13: {d_f_r13}')\n",
    "print(f'Output function ,5th Block, (Bottom Crest), Layer 13: {d_d_f_r13}')\n"
   ]
  },
  {
   "cell_type": "code",
   "execution_count": null,
   "id": "e1773059",
   "metadata": {},
   "outputs": [],
   "source": [
    "r14=sm.symbols('r14')\n",
    "f_r14= sm.sqrt(2 * r14) + sm.exp(3 * r14**2) + sm.sin(r14**3 + 1) + sm.log(3 * r14)\n",
    "d_f_r14=sm.diff(f_r14) # 3*r14**2*cos(r14**3 + 1) + 6*r14*exp(3*r14**2) + 1/r14 + sqrt(2)/(2*sqrt(r14)\n",
    "d_d_f_r14=sm.diff(d_f_r14) # Input function ,5th Block, (Bottom Crest), Layer 14: 3*r14**2*cos(r14**3 + 1) + 6*r14*exp(3*r14**2) + 1/r14 + sqrt(2)/(2*sqrt(r14))\n",
    "print(f'Input function ,5th Block, (Bottom Crest), Layer 14: {d_f_r14}')\n",
    "print(f'Output function ,5th Block, (Bottom Crest), Layer 14: {d_d_f_r14}')"
   ]
  },
  {
   "cell_type": "code",
   "execution_count": null,
   "id": "7e2c73e5",
   "metadata": {},
   "outputs": [],
   "source": [
    "r15=sm.symbols('r15')\n",
    "f_r15= sm.exp(r15**2 + 1) + sm.tanh(2 * r15**3) + sm.log(r15**3) + sm.sqrt(r15 + 1)\n",
    "d_f_r15=sm.diff(f_r15) # 6*r15**2*(1 - tanh(2*r15**3)**2) + 2*r15*exp(r15**2 + 1) + 1/(2*sqrt(r15 + 1)) + 3/r15\n",
    "d_d_f_r15=sm.diff(d_f_r15) # -72*r15**4*(1 - tanh(2*r15**3)**2)*tanh(2*r15**3) + 4*r15**2*exp(r15**2 + 1) + 12*r15*(1 - tanh(2*r15**3)**2) + 2*exp(r15**2 + 1) - 1/(4*(r15 + 1)**(3/2)) - 3/r15**2\n",
    "print(f'Input function ,5th Block, (Bottom Crest), Layer 15: {d_f_r15}')\n",
    "print(f'Output function ,5th Block, (Bottom Crest), Layer 15: {d_d_f_r15}')"
   ]
  },
  {
   "cell_type": "code",
   "execution_count": null,
   "id": "c1411b09",
   "metadata": {},
   "outputs": [],
   "source": [
    "r16=sm.symbols('r16')\n",
    "f_r16= sm.sin(r16**3) + sm.exp(3 * r16**2) + sm.cosh(r16 + 2) + sm.log(r16 + 1)\n",
    "d_f_r16=sm.diff(f_r16) # 3*r16**2*cos(r16**3) + 6*r16*exp(3*r16**2) + sinh(r16 + 2) + 1/(r16 + 1)\n",
    "d_d_f_r16=sm.diff(d_f_r16) # -9*r16**4*sin(r16**3) + 36*r16**2*exp(3*r16**2) + 6*r16*cos(r16**3) + 6*exp(3*r16**2) + cosh(r16 + 2) - 1/(r16 + 1)**2\n",
    "print(f'Input function ,5th Block, (Bottom Crest), Layer 16: {d_f_r16}')\n",
    "print(f'Output function ,5th Block, (Bottom Crest), Layer 16: {d_d_f_r16}')"
   ]
  },
  {
   "cell_type": "code",
   "execution_count": null,
   "id": "7986b62e",
   "metadata": {},
   "outputs": [],
   "source": [
    "r17=sm.symbols('r17')\n",
    "f_r17= sm.log(2 * r17 + 3) + sm.exp(r17**3) + sm.sqrt(r17 + 2) + sm.sin(3 * r17)\n",
    "d_f_r17=sm.diff(f_r17) # 3*r17**2*exp(r17**3) + 3*cos(3*r17) + 2/(2*r17 + 3) + 1/(2*sqrt(r17 + 2))\n",
    "d_d_f_r17=sm.diff(d_f_r17) # 9*r17**4*exp(r17**3) + 6*r17*exp(r17**3) - 9*sin(3*r17) - 4/(2*r17 + 3)**2 - 1/(4*(r17 + 2)**(3/2))\n",
    "print(f'Input function ,5th Block, (Bottom Crest), Layer 17: {d_f_r17}')\n",
    "print(f'Output function ,5th Block, (Bottom Crest), Layer 17: {d_d_f_r17}')"
   ]
  },
  {
   "cell_type": "code",
   "execution_count": null,
   "id": "efa2e33a",
   "metadata": {},
   "outputs": [],
   "source": [
    "r18=sm.symbols('r18')\n",
    "f_r18= sm.cosh(2 * r18**3) + sm.exp(r18 + 2) + sm.log(r18 + 1) + sm.tan(3 * r18)\n",
    "d_f_r18=sm.diff(f_r18) # 6*r18**2*sinh(2*r18**3) + exp(r18 + 2) + 3*tan(3*r18)**2 + 3 + 1/(r18 + 1)\n",
    "d_d_f_r18=sm.diff(d_f_r18) # 36*r18**4*cosh(2*r18**3) + 12*r18*sinh(2*r18**3) + 3*(6*tan(3*r18)**2 + 6)*tan(3*r18) + exp(r18 + 2) - 1/(r18 + 1)**2\n",
    "print(f'Input function ,5th Block, (Bottom Crest), Layer 18:{d_f_r18}')\n",
    "print(f'Output function ,5th Block, (Bottom Crest), Layer 18: {d_d_f_r18}')"
   ]
  },
  {
   "cell_type": "code",
   "execution_count": null,
   "id": "25c2c121",
   "metadata": {},
   "outputs": [],
   "source": [
    "r19=sm.symbols('r19')\n",
    "f_r19=  sm.exp(3 * r19) + sm.sin(r19 + 3) + sm.sqrt(r19 + 2) + sm.log(3 * r19**2 + 1)\n",
    "d_f_r19=sm.diff(f_r19) # 6*r19/(3*r19**2 + 1) + 3*exp(3*r19) + cos(r19 + 3) + 1/(2*sqrt(r19 + 2))\n",
    "d_d_f_r19=sm.diff(d_f_r19) # -36*r19**2/(3*r19**2 + 1)**2 + 9*exp(3*r19) - sin(r19 + 3) + 6/(3*r19**2 + 1) - 1/(4*(r19 + 2)**(3/2))\n",
    "print(f'Input function ,5th Block, (Bottom Crest), Layer 19: {d_f_r19}')\n",
    "print(f'Output function ,5th Block, (Bottom Crest), Layer 19: {d_d_f_r19}')"
   ]
  },
  {
   "cell_type": "code",
   "execution_count": null,
   "id": "33e5c14e",
   "metadata": {},
   "outputs": [],
   "source": [
    "r20=sm.symbols('r20')\n",
    "f_r20= sm.tan(r20**2) + sm.exp(2 * r20**3) + sm.cosh(r20 + 1) + sm.log(r20**3)\n",
    "d_f_r20=sm.diff(f_r20) # 6*r20**2*exp(2*r20**3) + 2*r20*(tan(r20**2)**2 + 1) + sinh(r20 + 1) + 3/r20\n",
    "d_d_f_r20=sm.diff(d_f_r20) #36*r20**4*exp(2*r20**3) + 8*r20**2*(tan(r20**2)**2 + 1)*tan(r20**2) + 12*r20*exp(2*r20**3) + 2*tan(r20**2)**2 + cosh(r20 + 1) + 2 - 3/r20**2\n",
    "print(f'Input function ,5th Block, (Bottom Crest), Layer 20: {d_f_r20}')\n",
    "print(f'Output function ,5th Block, (Bottom Crest), Layer 20: {d_d_f_r20}')"
   ]
  },
  {
   "cell_type": "code",
   "execution_count": null,
   "metadata": {},
   "outputs": [],
   "source": [
    "r21=sm.symbols('r21')\n",
    "f_r21= sm.log(r21**2) + sm.exp(2 * r21 + 3) + sm.sin(r21 + 3) + sm.sqrt(3 * r21 + 1)\n",
    "d_f_r21=sm.diff(f_r21) # 2*exp(2*r21 + 3) + cos(r21 + 3) + 3/(2*sqrt(3*r21 + 1)) + 2/r21\n",
    "d_d_f_r21=sm.diff(d_f_r21) # 4*exp(2*r21 + 3) - sin(r21 + 3) - 9/(4*(3*r21 + 1)**(3/2)) - 2/r21**2\n",
    "print(f'Input function ,5th Block, (Bottom Crest), Layer 21: {d_f_r21}')\n",
    "print(f'Output function ,5th Block, (Bottom Crest), Layer 21: {d_d_f_r21}')"
   ]
  },
  {
   "cell_type": "code",
   "execution_count": null,
   "id": "8af5cb45",
   "metadata": {},
   "outputs": [],
   "source": [
    "r22=sm.symbols('r22')\n",
    "f_r22= sm.cosh(r22 + 3) + sm.exp(r22 + 2) + sm.sqrt(r22**2) + sm.log(r22 + 1)\n",
    "d_f_r22=sm.diff(f_r22) # exp(r22 + 2) + sinh(r22 + 3) + 1/(r22 + 1) + sqrt(r22**2)/r22\n",
    "d_d_f_r22=sm.diff(d_f_r22) # exp(r22 + 2) + cosh(r22 + 3) - 1/(r22 + 1)**2\n",
    "print(f'Input function ,5th Block, (Bottom Crest), Layer 22: {d_f_r22}')\n",
    "print(f'Output function ,5th Block, (Bottom Crest), Layer 22: {d_d_f_r22}')"
   ]
  },
  {
   "cell_type": "code",
   "execution_count": null,
   "metadata": {},
   "outputs": [],
   "source": [
    "r23=sm.symbols('r23')\n",
    "f_r23= sm.sin(3 * r23**2) + sm.exp(r23**3) + sm.log(r23 + 2) + sm.sqrt(2 * r23 + 1)\n",
    "d_f_r23=sm.diff(f_r23) # 3*r23**2*exp(r23**3) + 6*r23*cos(3*r23**2) + 1/sqrt(2*r23 + 1) + 1/(r23 + 2)\n",
    "d_d_f_r23=sm.diff(d_f_r23) #9*r23**4*exp(r23**3) - 36*r23**2*sin(3*r23**2) + 6*r23*exp(r23**3) + 6*cos(3*r23**2) - 1/(2*r23 + 1)**(3/2) - 1/(r23 + 2)**2\n",
    "print(f'Input function 5th Block, (Bottom Crest), Layer 23: {d_f_r23}')\n",
    "print(f'Output function ,5th Block, (Bottom Crest), Layer 23: {d_d_f_r23}')"
   ]
  },
  {
   "cell_type": "code",
   "execution_count": null,
   "id": "cc58e71e",
   "metadata": {},
   "outputs": [],
   "source": [
    "r24=sm.symbols('r24')\n",
    "f_r24= sm.exp(r24**3) + sm.cosh(2 * r24) + sm.tan(r24**2 + 1) + sm.log(3 * r24) \n",
    "d_f_r24=sm.diff(f_r24) # 3*r24**2*exp(r24**3) + 2*r24*(tan(r24**2 + 1)**2 + 1) + 2*sinh(2*r24) + 1/r24\n",
    "d_d_f_r24=sm.diff(d_f_r24) # 9*r24**4*exp(r24**3) + 8*r24**2*(tan(r24**2 + 1)**2 + 1)*tan(r24**2 + 1) + 6*r24*exp(r24**3) + 2*tan(r24**2 + 1)**2 + 4*cosh(2*r24) + 2 - 1/r24**2\n",
    "print(f'Input function ,5th Block, (Bottom Crest), Layer 24: {d_f_r24}')\n",
    "print(f'Output function ,5th Block, (Bottom Crest), Layer 24: {d_d_f_r24}')"
   ]
  },
  {
   "cell_type": "code",
   "execution_count": null,
   "metadata": {},
   "outputs": [],
   "source": [
    "r25=sm.symbols('r25')\n",
    "f_r25= sm.sqrt(r25**2) + sm.exp(2 * r25) + sm.sin(3 * r25**3) + sm.log(r25 + 1)\n",
    "d_f_r25=sm.diff(f_r25) # 9*r25**2*cos(3*r25**3) + 2*exp(2*r25) + 1/(r25 + 1) + sqrt(r25**2)/r25\n",
    "d_d_f_r25=sm.diff(d_f_r25) # -81*r25**4*sin(3*r25**3) + 18*r25*cos(3*r25**3) + 4*exp(2*r25) - 1/(r25 + 1)**2\n",
    "print(f'Input function ,5th Block, (Middle Crest), Layer 25: {d_f_r25}')\n",
    "print(f'Output function ,5th Block, (Middle Crest), Layer 25: {d_d_f_r25}')"
   ]
  },
  {
   "cell_type": "code",
   "execution_count": null,
   "id": "483810af",
   "metadata": {},
   "outputs": [],
   "source": [
    "r26=sm.symbols('r26')\n",
    "f_r26= sm.exp(3 * r26**2) + sm.cosh(r26**3) + sm.log(r26**2 + 1) + sm.sqrt(2 * r26)\n",
    "d_f_r26=sm.diff(f_r6) # 2*r6*cos(r6**2) + 3*exp(3*r6) + 2/(2*r6 + 1) + 3*sqrt(r6**3)/(2*r6)\n",
    "d_d_f_r26=sm.diff(d_f_r26) # -4*r6**2*sin(r6**2) + 9*exp(3*r6) + 2*cos(r6**2) - 4/(2*r6 + 1)**2 + 3*sqrt(r6**3)/(4*r6**2)\n",
    "print(f'Input function ,5th Block, (Middle Crest), Layer 26: {d_f_r26}')\n",
    "print(f'Output function ,5th Block, (Middle Crest), Layer 26: {d_d_f_r26}')"
   ]
  },
  {
   "cell_type": "code",
   "execution_count": null,
   "id": "60bf1e28",
   "metadata": {},
   "outputs": [],
   "source": [
    "r27=sm.symbols('r27')\n",
    "f_r27= sm.sin(r27**3 + 1) + sm.exp(r27**2) + sm.cosh(r27 + 2) + sm.log(3 * r27) \n",
    "d_f_r27=sm.diff(f_r27) # 3*r27**2*cos(r27**3 + 1) + 2*r27*exp(r27**2) + sinh(r27 + 2) + 1/r27\n",
    "d_d_f_r27=sm.diff(d_f_r27) # -9*r27**4*sin(r27**3 + 1) + 4*r27**2*exp(r27**2) + 6*r27*cos(r27**3 + 1) + 2*exp(r27**2) + cosh(r27 + 2) - 1/r27**2\n",
    "print(f'Input function ,5th Block, (Middle Crest), Layer 27: {d_f_r27}')\n",
    "print(f'Output function ,5th Block, (Middle Crest), Layer 27: {d_d_f_r27}')"
   ]
  },
  {
   "cell_type": "code",
   "execution_count": null,
   "id": "aac85d06",
   "metadata": {},
   "outputs": [],
   "source": [
    "r28=sm.symbols('r28')\n",
    "f_r28= sm.tanh(3 * r28) + sm.exp(r28**2) + sm.sqrt(r28**3 + 1) + sm.log(r28 + 1)\n",
    "d_f_r28=sm.diff(f_r28) # 3*r28**2/(2*sqrt(r28**3 + 1)) + 2*r28*exp(r28**2) - 3*tanh(3*r28)**2 + 3 + 1/(r28 + 1)\n",
    "d_d_f_r28=sm.diff(d_f_r28) # -9*r28**4/(4*(r28**3 + 1)**(3/2)) + 4*r28**2*exp(r28**2) + 3*r28/sqrt(r28**3 + 1) - 3*(6 - 6*tanh(3*r28)**2)*tanh(3*r28) + 2*exp(r28**2) - 1/(r28 + 1)**2\n",
    "print(f'Input function ,5th Block, (Middle Crest), Layer 28: {d_f_r28}')\n",
    "print(f'Output function ,5th Block, (Middle Crest), Layer 28: {d_d_f_r28}')"
   ]
  },
  {
   "cell_type": "code",
   "execution_count": null,
   "id": "76c01d0b",
   "metadata": {},
   "outputs": [],
   "source": [
    "r29=sm.symbols('r29')\n",
    "f_r29= sm.exp(2 * r29**3) + sm.cosh(r29**2) + sm.log(r29 + 2) + sm.sin(r29**3)\n",
    "d_f_r29=sm.diff(f_r29) # 6*r29**2*exp(2*r29**3) + 3*r29**2*cos(r29**3) + 2*r29*sinh(r29**2) + 1/(r29 + 2)\n",
    "d_d_f_r29=sm.diff(d_f_r29) # 36*r29**4*exp(2*r29**3) - 9*r29**4*sin(r29**3) + 4*r29**2*cosh(r29**2) + 12*r29*exp(2*r29**3) + 6*r29*cos(r29**3) + 2*sinh(r29**2) - 1/(r29 + 2)**2\n",
    "print(f'Input function ,5th Block, (Middle Crest), Layer 29: {d_f_r29}')\n",
    "print(f'Output function ,5th Block, (Middle Crest), Layer 29: {d_d_f_r29}')"
   ]
  },
  {
   "cell_type": "code",
   "execution_count": null,
   "id": "589277ae",
   "metadata": {},
   "outputs": [],
   "source": [
    "r30=sm.symbols('r30')\n",
    "f_r30= sm.sqrt(2 * r30 + 1) + sm.exp(r30**3) + sm.cosh(r30**2) + sm.log(r30 + 1)\n",
    "d_f_r30=sm.diff(f_r30) # 3*r30**2*exp(r30**3) + 2*r30*sinh(r30**2) + 1/sqrt(2*r30 + 1) + 1/(r30 + 1)\n",
    "d_d_f_r30=sm.diff(d_f_r30) # 9*r30**4*exp(r30**3) + 4*r30**2*cosh(r30**2) + 6*r30*exp(r30**3) + 2*sinh(r30**2) - 1/(2*r30 + 1)**(3/2) - 1/(r30 + 1)**2\n",
    "print(f'Input function ,5th Block,(Middle Crest), Layer 30: {d_f_r30}')\n",
    "print(f'Output function ,5th Block, (Middle Crest), Layer 30: {d_d_f_r30}')"
   ]
  },
  {
   "cell_type": "code",
   "execution_count": null,
   "metadata": {},
   "outputs": [],
   "source": [
    "# Initiating the Gaussian Error Linear Unit(GELU) in the modelled Transformer architecture\n",
    "# The GELU activation function is used in the 5th block of the transformer layer\n",
    "def gelu(x):\n",
    "    return 0.5 * x * (1 + np.tanh(np.sqrt(2/np.pi) * (x + 0.044715 * pow(x,3)))) # 0.5 * x * (1 + np.tanh (np.sqrt(2/np.pi(x + 0.04475 * pow(x,3))))\n",
    "\n",
    "#Initiating the input values for the GELU activation function\n",
    "x_values= np.linspace(-6,6,50)\n",
    "y_values=gelu(x_values)\n",
    "\n",
    "# Plotting the Gelu FUunction in the modelled transformer architecture\n",
    "plt.plot(x_values, y_values, marker='o', label='Gelu(x) activation function in the 5th Block of the Transformer layer', color='maroon')\n",
    "plt.xlabel('Input(x) in the modelled transformer architecture')\n",
    "plt.ylabel('Gelu(x) activation function in the transformer domain')\n",
    "plt.title('Gelu(x) activation function in the modelled transformer architecture')\n",
    "plt.axhline(0, linestyle='--',color='red' )\n",
    "plt.axvline(0, linestyle='--',color='blue' )\n",
    "plt.grid(True)\n",
    "plt.legend()\n",
    "plt.show()\n",
    "print(x_values)\n",
    "print(y_values)\n"
   ]
  },
  {
   "cell_type": "code",
   "execution_count": null,
   "id": "ac868665",
   "metadata": {},
   "outputs": [],
   "source": [
    "import numpy as np\n",
    "import matplotlib.pyplot as plt\n",
    "from scipy.stats import norm\n",
    "\n",
    "# Parameters for Normal distribution of the function values in the transformer domain where the activation functions are modelled\n",
    "mu, sigma= 0,0.1 # mean and standard deviation\n",
    "s=np.random.normal(mu,sigma,1000)\n",
    "mean=0 # Mean of the normal distribution\n",
    "std_dev=1 # Standard deviation in the case of normal distribution\n",
    "x=np.linspace(-6,6,1000)\n",
    "y=norm.pdf(x,mean,std_dev)\n",
    "plt.plot(x,y, color='purple',label='Normal Distribution of the funtion in the transformer Domain')\n",
    "plt.xlabel('Input values in the transformer domain')\n",
    "plt.ylabel('Normal distibution of the function in the transformer domain')\n",
    "plt.title('Normal distribution of the functions in the transformer domain')\n",
    "plt.grid(True)\n",
    "plt.legend()\n",
    "plt.show()\n",
    "\n",
    "\n",
    "\n"
   ]
  },
  {
   "cell_type": "code",
   "execution_count": null,
   "id": "1893282d",
   "metadata": {},
   "outputs": [],
   "source": [
    "# Define SELU (Scaled Error Linear Unit) activation function in the modelled transformer architecture \n",
    "# The SELU activation fucntion is used in the 5th Block of the transformer layer\n",
    "def selu(x):\n",
    "    alpha=1.6732632423543772848170429916717\n",
    "    scale=1.0507009873554804934193349852946\n",
    "    return scale * np.where(x>0, x, alpha * (np.exp(x) - 1))\n",
    "\n",
    "# Initiating the input values for the SELU activation function\n",
    "x_values= np.linspace(-6,6,50)\n",
    "y_values=selu(x_values)\n",
    "\n",
    "# Plotting the SELU activation function in the modellled transforemr architecture\n",
    "plt.plot(x_values,y_values, label='SELU(x) activation function in the 5th Block of the Transformer layer', color='green', marker='o')\n",
    "plt.xlabel('Input(x)in the modelled transformer layer')\n",
    "plt.ylabel('SELU(x) activation in the modelled transformer architecture')\n",
    "plt.grid(True)\n",
    "plt.axhline(0, linestyle='--',color='red' )\n",
    "plt.axvline(0, linestyle='--', color='Blue')\n",
    "plt.legend()\n",
    "print(x_values)\n",
    "print(y_values)\n",
    "plt.show()\n",
    "\n",
    "\n",
    "\n"
   ]
  },
  {
   "cell_type": "code",
   "execution_count": null,
   "id": "73bc81e8",
   "metadata": {},
   "outputs": [],
   "source": [
    "import numpy as np\n",
    "import matplotlib.pyplot as plt\n",
    "import scipy.special as sp\n",
    "import sympy as sm\n",
    "from scipy.special import erf   \n",
    "from sympy import symbols,diff\n",
    "\n",
    "# Defining the SWISH activation function in the modelled transformer architecture\n",
    "# The SWISH activation function is used in the 5th block of the transformer layer\n",
    "def swish(x):\n",
    "    return x/(1 + np.exp(-x))\n",
    "\n",
    "# Initiating the input values for the swish activation function in the modelled transformer architecture\n",
    "x_values=np.linspace(-6,6,50)\n",
    "y_values=swish(x_values)\n",
    "\n",
    "# Plotting the Swish activation function in the higher dimensional space\n",
    "plt.plot(x_values,y_values,color='blue',label=\"Swish(x) activation function in the 5th Block of the Transformer layer\", marker='o')\n",
    "plt.xlabel('Input(x) in the modelled transformer architecture')\n",
    "plt.ylabel('Swish(x) activation function the modelled transformer architecture')\n",
    "plt.axhline(0,color='red',linestyle='--')\n",
    "plt.axvline(0,color='red',linestyle='--')\n",
    "plt.legend()\n",
    "plt.grid(True)\n",
    "print(x_values)\n",
    "print(y_values)\n",
    "plt.show()"
   ]
  },
  {
   "cell_type": "code",
   "execution_count": null,
   "id": "24ccabed",
   "metadata": {},
   "outputs": [],
   "source": [
    "r28=sm.symbols('r28')\n",
    "f_r28= sm.tanh(3 * r28) + sm.exp(r28**2) + sm.sqrt(r28**3 + 1) + sm.log(r28 + 1)\n",
    "d_f_r28 = sm.diff(f_r28) # 3*r28**2/(2*sqrt(r28**3 + 1)) + 2*r28*exp(r28**2) - 3*tanh(3*r28)**2 + 3 + 1/(r28 + 1)\n",
    "d_d_f_r28= sm.diff(d_f_r28) # -9*r28**4/(4*(r28**3 + 1)**(3/2)) + 4*r28**2*exp(r28**2) + 3*r28/sqrt(r28**3 + 1) - 3*(6 - 6*tanh(3*r28)**2)*tanh(3*r28) + 2*exp(r28**2) - 1/(r28 + 1)**2\n",
    "print(f'Input function ,5th Block, (Middle Crest), Layer 28: {d_f_r28}')\n",
    "print(f'Output function ,5th Block, (Middle Crest), Layer 28: {d_d_f_r28}')"
   ]
  },
  {
   "cell_type": "code",
   "execution_count": null,
   "id": "c3fae18c",
   "metadata": {},
   "outputs": [],
   "source": [
    "# Defining Relu activation function in the modelled transformer architecture\n",
    "# The Relu(Rectified Linear Unit) activation function is used in the 5th block of the transformer layer\n",
    "\n",
    "def relu(x):\n",
    "    return np.maximum(0,x)  # The maximum value between 0 and x is returned\n",
    "\n",
    "x_values=np.linspace(-6,6,50)\n",
    "y_values=relu(x_values)\n",
    "\n",
    "# Plotting the Relu activation function in the modelled transformer architecure\n",
    "plt.plot(x_values,y_values, color='purple', label='Relu(x) activation function in the 5th Block of the Transformer layer', marker='o')  \n",
    "plt.xlabel('Input(x) in the modelled transformer architecture')\n",
    "plt.ylabel('Relu(x) activation function in the modelled transformer architecture')\n",
    "plt.grid(True)\n",
    "plt.legend()\n",
    "print(x_values)\n",
    "print(y_values)\n",
    "plt.show()"
   ]
  },
  {
   "cell_type": "code",
   "execution_count": 2,
   "id": "6938011a",
   "metadata": {},
   "outputs": [],
   "source": [
    "import pandas as pd\n",
    "import numpy as np\n",
    "import matplotlib.pyplot as plt\n",
    "import sympy as sm\n",
    "import scipy.special as sp\n",
    "from sympy import symbols,diff\n",
    "#from scipy.special import erf"
   ]
  },
  {
   "cell_type": "code",
   "execution_count": null,
   "id": "92fb664f",
   "metadata": {},
   "outputs": [
    {
     "name": "stdout",
     "output_type": "stream",
     "text": [
      "Input function ,4th Block, (Upper Crest), Layer 1: exp(t1**4) + log(t1**2 + 1) + sin(3*t1) + tanh(t1 + 2)\n",
      "Output function ,4th Block, (Upper Crest), Layer 1: 4*t1**3*exp(t1**4) + 2*t1/(t1**2 + 1) + 3*cos(3*t1) - tanh(t1 + 2)**2 + 1\n"
     ]
    }
   ],
   "source": [
    "t1=sm.symbols('t1')\n",
    "f_t1= sm.exp(t1**4) + sm.log(t1**2 + 1) + sm.sin(3 * t1) + sm.tanh(t1 + 2) \n",
    "d_f_t1=sm.diff(f_t1) # exp(t1**4) + log(t1**2 + 1) + sin(3*t1) + tanh(t1 + 2)\n",
    "d_f_f_t1=sm.diff(d_f_t1) # 4*t1**+3*exp(t1**4) + 2*t1/(t1**2 + 1) + 3*cos(3*t1) - tanh(t1 + 2)**2 + 1\n",
    "print(f'Input function ,4th Block, (Upper Crest), Layer 1: {f_t1}')\n",
    "print(f'Output function ,4th Block, (Upper Crest), Layer 1: {d_f_t1}')"
   ]
  },
  {
   "cell_type": "code",
   "execution_count": null,
   "id": "57eb20c9",
   "metadata": {},
   "outputs": [
    {
     "name": "stdout",
     "output_type": "stream",
     "text": [
      "Input function ,4th Block, (Upper Crest), Layer 2: sqrt(t2**5 + 1) + exp(2*t2) + log(3*t2 + 1) + cosh(t2 + 2)\n",
      "Output function ,4th Block, (Upper Crest), Layer 2: 5*t2**4/(2*sqrt(t2**5 + 1)) + 2*exp(2*t2) + sinh(t2 + 2) + 3/(3*t2 + 1)\n"
     ]
    }
   ],
   "source": [
    "t2=sm.symbols('t2')\n",
    "f_t2= sm.sqrt(t2**5 + 1) + sm.exp(2 * t2) + sm.log(3 * t2 + 1) + sm.cosh(t2 + 2)\n",
    "d_f_t2=sm.diff(f_t2) # sqrt(t2**5 + 1) + exp(2*t2) + log(3*t2 + 1) + cosh(t2 + 2)\n",
    "d_d_f_t2=sm.diff(d_f_t2) # 5*t2**4/(2*sqrt(t2**5 + 1)) + 2*exp(2*t2) + sinh(t2 + 2) + 3/(3*t2 + 1)\n",
    "print(f'Input function ,4th Block, (Upper Crest), Layer 2: {f_t2}')\n",
    "print(f'Output function ,4th Block, (Upper Crest), Layer 2: {d_f_t2}')"
   ]
  },
  {
   "cell_type": "code",
   "execution_count": null,
   "metadata": {},
   "outputs": [
    {
     "name": "stdout",
     "output_type": "stream",
     "text": [
      "Input function ,4th Block, (Upper Crest), Layer 3: sqrt(t3 + 4) + exp(2*t3) + log(2*t3 + 3) + tan(t3**3)\n",
      "Output function ,4th Block, (Upper Crest), Layer 3: 3*t3**2*(tan(t3**3)**2 + 1) + 2*exp(2*t3) + 2/(2*t3 + 3) + 1/(2*sqrt(t3 + 4))\n"
     ]
    }
   ],
   "source": [
    "t3=sm.symbols('t3')\n",
    "f_t3= sm.exp(2 * t3) + sm.tan(t3**3) + sm.log(2 * t3 + 3) + sm.sqrt(t3 + 4)\n",
    "d_f_t3=sm.diff(f_t3) # sqrt(t3 + 4) + exp(2*t3) + log(2*t3 + 3) + tan(t3**3)\n",
    "d_d_f_t3=sm.diff(d_f_t3) # 3*t3**2*(tan(t3**3)**2 + 1) + 2*exp(2*t3) + 2/(2*t3 + 3) + 1/(2*sqrt(t3 + 4))\n",
    "print(f'Input function ,4th Block, (Upper Crest), Layer 3: {f_t3}')\n",
    "print(f'Output function ,4th Block, (Upper Crest), Layer 3: {d_f_t3}')"
   ]
  },
  {
   "cell_type": "code",
   "execution_count": null,
   "metadata": {},
   "outputs": [
    {
     "name": "stdout",
     "output_type": "stream",
     "text": [
      "Input function ,4th Block, (Upper Crest), Layer 4: 2*sqrt(t4) + exp(t4 + 5) + log(t4 + 1) + tanh(t4**3)\n",
      "Output function ,4th Block, (Upper Crest), Layer 4: 3*t4**2*(1 - tanh(t4**3)**2) + exp(t4 + 5) + 1/(t4 + 1) + 1/sqrt(t4)\n"
     ]
    }
   ],
   "source": [
    "t4=sm.symbols('t4')\n",
    "f_t4= sm.tanh(t4**3) + sm.exp(t4 + 5) + sm.sqrt(4 * t4) + sm.log(t4 + 1)\n",
    "d_f_t4=sm.diff(f_t4) # 2*sqrt(t4) + exp(t4 + 5) + log(t4 + 1) + tanh(t4**3)\n",
    "d_d_f_t4=sm.diff(d_f_t4) # 3*t4**2*(1 - tanh(t4**3)**2) + exp(t4 + 5) + 1/(t4 + 1) + 1/sqrt(t4)\n",
    "print(f'Input function ,4th Block, (Upper Crest), Layer 4: {f_t4}')\n",
    "print(f'Output function ,4th Block, (Upper Crest), Layer 4: {d_f_t4}')"
   ]
  },
  {
   "cell_type": "code",
   "execution_count": null,
   "id": "7eab1a7e",
   "metadata": {},
   "outputs": [
    {
     "name": "stdout",
     "output_type": "stream",
     "text": [
      "Input function ,4th Block, (Upper Crest), Layer 5: exp(2*t5 + 1) + log(t5**3 + 2) + sin(t5 + 4) + cosh(3*t5)\n",
      "Output function ,4th Block, (Upper Crest), Layer 5: 3*t5**2/(t5**3 + 2) + 2*exp(2*t5 + 1) + cos(t5 + 4) + 3*sinh(3*t5)\n"
     ]
    }
   ],
   "source": [
    "t5=sm.symbols('t5')\n",
    "f_t5= sm.log(t5**3 + 2) + sm.cosh(3 * t5) + sm.exp(2 * t5 + 1) + sm.sin(t5 + 4)\n",
    "d_f_t5=sm.diff(f_t5) # exp(2*t5 + 1) + log(t5**3 + 2) + sin(t5 + 4) + cosh(3*t5)\n",
    "d_d_f_t5=sm.diff(d_f_t5) # 3*t5**2/(t5**3 + 2) + 2*exp(2*t5 + 1) + cos(t5 + 4) + 3*sinh(3*t5)\n",
    "print(f'Input function ,4th Block, (Upper Crest), Layer 5: {f_t5}')\n",
    "print(f'Output function ,4th Block, (Upper Crest), Layer 5: {d_f_t5}')"
   ]
  },
  {
   "cell_type": "code",
   "execution_count": null,
   "id": "c7ae979f",
   "metadata": {},
   "outputs": [
    {
     "name": "stdout",
     "output_type": "stream",
     "text": [
      "Input function ,4th Block, (Upper Crest), Layer 6: sqrt(t6**5) + exp(4*t6) + log(2*t6 + 1) + tan(t6**2)\n",
      "Output function ,4th Block, (Upper Crest), Layer 6: 2*t6*(tan(t6**2)**2 + 1) + 4*exp(4*t6) + 2/(2*t6 + 1) + 5*sqrt(t6**5)/(2*t6)\n"
     ]
    }
   ],
   "source": [
    "t6=sm.symbols('t6')\n",
    "f_t6= sm.sqrt(t6**5) + sm.exp(4 * t6) + sm.log(2 * t6 + 1) + sm.tan(t6**2)\n",
    "d_f_t6=sm.diff(f_t6) # sqrt(t6**5) + exp(4*t6) + log(2*t6 + 1) + tan(t6**2)\n",
    "d_d_f_t6=sm.diff(d_f_t6) # 2*t6*(tan(t6**2)**2 + 1) + 4*exp(4*t6) + 2/(2*t6 + 1) + 5*sqrt(t6**5)/(2*t6)\n",
    "print(f'Input function ,4th Block, (Upper Crest), Layer 6: {f_t6}')\n",
    "print(f'Output function ,4th Block, (Upper Crest), Layer 6: {d_f_t6}')"
   ]
  },
  {
   "cell_type": "code",
   "execution_count": null,
   "id": "0c3c4e40",
   "metadata": {},
   "outputs": [
    {
     "name": "stdout",
     "output_type": "stream",
     "text": [
      "Input function ,4th Block, (Upper Crest), Layer 7: exp(t7**5) + log(4*t7) + sin(3*t7**3) + cosh(t7 + 4)\n",
      "Output function ,4th Block, (Upper Crest), Layer 7: 5*t7**4*exp(t7**5) + 9*t7**2*cos(3*t7**3) + sinh(t7 + 4) + 1/t7\n"
     ]
    }
   ],
   "source": [
    "t7=sm.symbols('t7')\n",
    "f_t7= sm.cosh(t7 + 4) + sm.exp(t7**5) + sm.log(4 * t7) + sm.sin(3 * t7**3)\n",
    "d_f_t7=sm.diff(f_t7) # exp(t7**5) + log(4*t7) + sin(3*t7**3) + cosh(t7 + 4)\n",
    "d_d_f_t7=sm.diff(d_f_t7) # 5*t7**4*exp(t7**5) + 9*t7**2*cos(3*t7**3) + sinh(t7 + 4) + 1/t7\n",
    "print(f'Input function ,4th Block, (Upper Crest), Layer 7: {f_t7}')\n",
    "print(f'Output function ,4th Block, (Upper Crest), Layer 7: {d_f_t7}')"
   ]
  },
  {
   "cell_type": "code",
   "execution_count": null,
   "id": "4170eff2",
   "metadata": {},
   "outputs": [
    {
     "name": "stdout",
     "output_type": "stream",
     "text": [
      "Input function ,4th Block, (Upper Crest), Layer 8: 2*sqrt(t8**5) + exp(3*t8) + log(2*t8 + 1) + tanh(t8**2)\n",
      "Output function ,4th Block, (Upper Crest), Layer 8: 2*t8*(1 - tanh(t8**2)**2) + 3*exp(3*t8) + 2/(2*t8 + 1) + 5*sqrt(t8**5)/t8\n"
     ]
    }
   ],
   "source": [
    "t8=sm.symbols('t8')\n",
    "f_t8= sm.exp(3 * t8) + sm.tanh(t8**2) + sm.sqrt(4 * t8**5) + sm.log(2 * t8 + 1)\n",
    "d_f_t8=sm.diff(f_t8) # 2*sqrt(t8**5) + exp(3*t8) + log(2*t8 + 1) + tanh(t8**2)\n",
    "d_d_ft8=sm.diff(d_f_t8) # 2*t8*(1 - tanh(t8**2)**2) + 3*exp(3*t8) + 2/(2*t8 + 1) + 5*sqrt(t8**5)/t8\n",
    "print(f'Input function ,4th Block, (Upper Crest), Layer 8: {f_t8}')\n",
    "print(f'Output function ,4th Block, (Upper Crest), Layer 8: {d_f_t8}')"
   ]
  },
  {
   "cell_type": "code",
   "execution_count": null,
   "id": "b0b47b9a",
   "metadata": {},
   "outputs": [
    {
     "name": "stdout",
     "output_type": "stream",
     "text": [
      "Input function ,4th Block, (Upper Crest), Layer 9: sqrt(3*t9 + 1) + exp(t9 + 4) + log(t9**5 + 1) + cosh(t9**3)\n",
      "Output function ,4th Block, (Upper Crest), Layer 9: 5*t9**4/(t9**5 + 1) + 3*t9**2*sinh(t9**3) + exp(t9 + 4) + 3/(2*sqrt(3*t9 + 1))\n"
     ]
    }
   ],
   "source": [
    "t9=sm.symbols('t9')\n",
    "f_t9= sm.sqrt(3 * t9 + 1) + sm.exp(t9 + 4) + sm.log(t9**5 + 1) + sm.cosh(t9**3)\n",
    "d_f_t9=sm.diff(f_t9) # sqrt(3*t9 + 1) + exp(t9 + 4) + log(t9**5 + 1) + cosh(t9**3)\n",
    "d_d_f_t9=sm.diff(d_f_t9) # 5*t9**4/(t9**5 + 1) + 3*t9**2*sinh(t9**3) + exp(t9 + 4) + 3/(2*sqrt(3*t9 + 1))\n",
    "print(f'Input function ,4th Block, (Upper Crest), Layer 9: {f_t9}')\n",
    "print(f'Output function ,4th Block, (Upper Crest), Layer 9: {d_f_t9}')"
   ]
  },
  {
   "cell_type": "code",
   "execution_count": null,
   "id": "ebf0da07",
   "metadata": {},
   "outputs": [
    {
     "name": "stdout",
     "output_type": "stream",
     "text": [
      "Input function ,4th Block, (Upper Crest), Layer 10: sqrt(2)*sqrt(t10**2) + exp(t10 + 5) + log(t10 + 4) + tan(3*t10)\n",
      "Output function ,4th Block, (Upper Crest), Layer 10: exp(t10 + 5) + 3*tan(3*t10)**2 + 3 + 1/(t10 + 4) + sqrt(2)*sqrt(t10**2)/t10\n"
     ]
    }
   ],
   "source": [
    "t10=sm.symbols('t10')\n",
    "f_t10= sm.exp(t10 + 5) + sm.tan(3 * t10) + sm.log(t10 + 3 + 1) + sm.sqrt(2 * t10**2)\n",
    "d_f_t10=sm.diff(f_t10) # sqrt(2)*sqrt(t10**2) + exp(t10 + 5) + log(t10 + 4) + tan(3*t10)\n",
    "d_d_f_t10=sm.diff(d_f_t10) # exp(t10 + 5) + 3*tan(3*t10)**2 + 3 + 1/(t10 + 4) + sqrt(2)*sqrt(t10**2)/t10\n",
    "print(f'Input function ,4th Block, (Upper Crest), Layer 10: {f_t10}')\n",
    "print(f'Output function ,4th Block, (Upper Crest), Layer 10: {d_f_t10}')"
   ]
  },
  {
   "cell_type": "code",
   "execution_count": null,
   "id": "16b79e6b",
   "metadata": {},
   "outputs": [
    {
     "name": "stdout",
     "output_type": "stream",
     "text": [
      "Input function ,4th Block, (Upper Crest), Layer 11: 4*exp(4*t11) + cos(t11 + 5) + sinh(t11 + 3) + 1/(t11 + 2)\n",
      "Output function ,4th Block, (Upper Crest), Layer 11: 16*exp(4*t11) - sin(t11 + 5) + cosh(t11 + 3) - 1/(t11 + 2)**2\n"
     ]
    }
   ],
   "source": [
    "t11=sm.symbols('t11')\n",
    "f_t11= sm.cosh(t11 + 3) + sm.exp(4 * t11) + sm.log(t11 + 2) + sm.sin(t11 + 5)\n",
    "d_f_t11=sm.diff(f_t11) # 4*exp(4*t11) + cos(t11 + 5) + sinh(t11 + 3) + 1/(t11 + 2)\n",
    "d_d_f_t11=sm.diff(d_f_t11) # 16*exp(4*t11) - sin(t11 + 5) + cosh(t11 + 3) - 1/(t11 + 2)**2\n",
    "print(f'Input function ,4th Block, (Upper Crest), Layer 11: {d_f_t11}')\n",
    "print(f'Output function ,4th Block, (Upper Crest), Layer 11: {d_d_f_t11}')"
   ]
  },
  {
   "cell_type": "code",
   "execution_count": null,
   "id": "db60eda1",
   "metadata": {},
   "outputs": [
    {
     "name": "stdout",
     "output_type": "stream",
     "text": [
      "Input function ,4th Block, (Upper Crest), Layer 12: 12*t12**3*exp(3*t12**4) + 3*t12**2*cos(t12**3) + 1/(t12 + 1) + 1/sqrt(t12)\n",
      "Output function ,4th Block, (Upper Crest), Layer 12: 144*t12**6*exp(3*t12**4) - 9*t12**4*sin(t12**3) + 36*t12**2*exp(3*t12**4) + 6*t12*cos(t12**3) - 1/(t12 + 1)**2 - 1/(2*t12**(3/2))\n"
     ]
    }
   ],
   "source": [
    "t12=sm.symbols('t12')\n",
    "f_t12= sm.exp(3 * t12**4) + sm.sin(t12**3) + sm.log(t12 + 1) + sm.sqrt(4 * t12)\n",
    "d_f_t12=sm.diff(f_t12) # 12*t12**3*exp(3*t12**4) + 3*t12**2*cos(t12**3) + 1/(t12 + 1) + 1/sqrt(t12)\n",
    "d_d_f_t12=sm.diff(d_f_t12) # 144*t12**6*exp(3*t12**4) - 9*t12**4*sin(t12**3) + 36*t12**2*exp(3*t12**4) + 6*t12*cos(t12**3) - 1/(t12 + 1)**2 - 1/(2*t12**(3/2))\n",
    "print(f'Input function ,4th Block, (Upper Crest), Layer 12: {d_f_t12}')\n",
    "print(f'Output function ,4th Block, (Upper Crest), Layer 12: {d_d_f_t12}')\n"
   ]
  },
  {
   "cell_type": "code",
   "execution_count": null,
   "id": "70ad4c03",
   "metadata": {},
   "outputs": [
    {
     "name": "stdout",
     "output_type": "stream",
     "text": [
      "Input function ,4th Block, (Upper Crest), Layer 13: 4*t13**3*sinh(t13**4) + 2*exp(2*t13 + 1) + tan(t13 + 5)**2 + 1 + 1/(t13 + 3)\n",
      "Output function ,4th Block, (Upper Crest), Layer 13: 16*t13**6*cosh(t13**4) + 12*t13**2*sinh(t13**4) + (2*tan(t13 + 5)**2 + 2)*tan(t13 + 5) + 4*exp(2*t13 + 1) - 1/(t13 + 3)**2\n"
     ]
    }
   ],
   "source": [
    "t13=sm.symbols('t13')\n",
    "f_t13= sm.tan(t13 + 5) + sm.cosh(t13**4) + sm.exp(2 * t13 + 1) + sm.log(t13 + 3)\n",
    "d_f_t13=sm.diff(f_t13) # 4*t13**3*sinh(t13**4) + 2*exp(2*t13 + 1) + tan(t13 + 5)**2 + 1 + 1/(t13 + 3)\n",
    "d_d_f_t13=sm.diff(d_f_t13) # 16*t13**6*cosh(t13**4) + 12*t13**2*sinh(t13**4) + (2*tan(t13 + 5)**2 + 2)*tan(t13 + 5) + 4*exp(2*t13 + 1) - 1/(t13 + 3)**2\n",
    "print(f'Input function ,4th Block, (Upper Crest), Layer 13: {d_f_t13}')\n",
    "print(f'Output function ,4th Block, (Upper Crest), Layer 13: {d_d_f_t13}')"
   ]
  },
  {
   "cell_type": "code",
   "execution_count": null,
   "id": "6e02bbd0",
   "metadata": {},
   "outputs": [
    {
     "name": "stdout",
     "output_type": "stream",
     "text": [
      "Input function ,4th Block, (Upper Crest), Layer 14: 5*t14**4*(tan(t14**5)**2 + 1) + 12*t14**3/(3*t14**4 + 1) + 6*t14*exp(3*t14**2) + 1/sqrt(t14)\n",
      "Output function ,4th Block, (Upper Crest), Layer 14: 50*t14**8*(tan(t14**5)**2 + 1)*tan(t14**5) - 144*t14**6/(3*t14**4 + 1)**2 + 20*t14**3*(tan(t14**5)**2 + 1) + 36*t14**2*exp(3*t14**2) + 36*t14**2/(3*t14**4 + 1) + 6*exp(3*t14**2) - 1/(2*t14**(3/2))\n"
     ]
    }
   ],
   "source": [
    "t14=sm.symbols('t14')\n",
    "f_t14= sm.sqrt(4 * t14) + sm.exp(3 * t14**2) + sm.tan(t14**5) + sm.log(3 * t14**4 + 1) \n",
    "d_f_t14=sm.diff(f_t14) # 5*t14**4*(tan(t14**5)**2 + 1) + 12*t14**3/(3*t14**4 + 1) + 6*t14*exp(3*t14**2) + 1/sqrt(t14)\n",
    "d_d_f_t14=sm.diff(d_f_t14) # 50*t14**8*(tan(t14**5)**2 + 1)*tan(t14**5) - 144*t14**6/(3*t14**4 + 1)**2 + 20*t14**3*(tan(t14**5)**2 + 1) + 36*t14**2*exp(3*t14**2) + 36*t14**2/(3*t14**4 + 1) + 6*exp(3*t14**2) - 1/(2*t14**(3/2))\n",
    "print(f'Input function ,4th Block, (Upper Crest), Layer 14: {d_f_t14}')\n",
    "print(f'Output function ,4th Block, (Upper Crest), Layer 14: {d_d_f_t14}') "
   ]
  },
  {
   "cell_type": "code",
   "execution_count": null,
   "id": "a8ca9057",
   "metadata": {},
   "outputs": [
    {
     "name": "stdout",
     "output_type": "stream",
     "text": [
      "Input function ,4th Block, (Upper Crest), Layer 15: 10*t15**4*(1 - tanh(2*t15**5)**2) + 3*t15**2*exp(t15**3 + 1) + 1/(2*sqrt(t15 + 1)) + 4/t15\n",
      "Output function ,4th Block, (Upper Crest), Layer 15: -200*t15**8*(1 - tanh(2*t15**5)**2)*tanh(2*t15**5) + 9*t15**4*exp(t15**3 + 1) + 40*t15**3*(1 - tanh(2*t15**5)**2) + 6*t15*exp(t15**3 + 1) - 1/(4*(t15 + 1)**(3/2)) - 4/t15**2\n"
     ]
    }
   ],
   "source": [
    "t15=sm.symbols('t15')\n",
    "f_t15= sm.exp(t15**3 + 1) + sm.tanh(2 * t15**5) + sm.log(t15**4) + sm.sqrt(t15 + 1)\n",
    "d_f_t15=sm.diff(f_t15) # 10*t15**4*(1 - tanh(2*t15**5)**2) + 3*t15**2*exp(t15**3 + 1) + 1/(2*sqrt(t15 + 1)) + 4/t15\n",
    "d_d_f_t15=sm.diff(d_f_t15) # -200*t15**8*(1 - tanh(2*t15**5)**2)*tanh(2*t15**5) + 9*t15**4*exp(t15**3 + 1) + 40*t15**3*(1 - tanh(2*t15**5)**2) + 6*t15*exp(t15**3 + 1) - 1/(4*(t15 + 1)**(3/2)) - 4/t15**2\n",
    "print(f'Input function ,4th Block, (Upper Crest), Layer 15: {d_f_t15}')\n",
    "print(f'Output function ,4th Block, (Upper Crest), Layer 15: {d_d_f_t15}')"
   ]
  },
  {
   "cell_type": "code",
   "execution_count": null,
   "id": "6e83dc0a",
   "metadata": {},
   "outputs": [
    {
     "name": "stdout",
     "output_type": "stream",
     "text": [
      "Input function ,4th Block, (Upper Crest), Layer 16: 5*t16**4*cos(t16**5) + 4*t16**3/(t16**4 + 1) + 4*exp(4*t16 + 3) + sinh(t16 + 2)\n",
      "Output function ,4th Block, (Upper Crest), Layer 16: -25*t16**8*sin(t16**5) - 16*t16**6/(t16**4 + 1)**2 + 20*t16**3*cos(t16**5) + 12*t16**2/(t16**4 + 1) + 16*exp(4*t16 + 3) + cosh(t16 + 2)\n"
     ]
    }
   ],
   "source": [
    "t16=sm.symbols('t16')\n",
    "f_t16= sm.sin(t16**5) + sm.exp(4 * t16 + 3) + sm.cosh(t16 + 2) + sm.log(t16**4 + 1)\n",
    "d_f_t16=sm.diff(f_t16) # 5*t16**4*cos(t16**5) + 4*t16**3/(t16**4 + 1) + 4*exp(4*t16 + 3) + sinh(t16 + 2)\n",
    "d_d_f_t16=sm.diff(d_f_t16) # -25*t16**8*sin(t16**5) - 16*t16**6/(t16**4 + 1)**2 + 20*t16**3*cos(t16**5) + 12*t16**2/(t16**4 + 1) + 16*exp(4*t16 + 3) + cosh(t16 + 2)\n",
    "print(f'Input function ,4th Block, (Upper Crest), Layer 16: {d_f_t16}')\n",
    "print(f'Output function ,4th Block, (Upper Crest), Layer 16: {d_d_f_t16}')"
   ]
  },
  {
   "cell_type": "code",
   "execution_count": null,
   "id": "948a129c",
   "metadata": {},
   "outputs": [
    {
     "name": "stdout",
     "output_type": "stream",
     "text": [
      "Input function ,4th Block, (Upper Crest), Layer 17: 5*t17**4*exp(t17**5) + 9*t17**2*cos(3*t17**3) + 4/(4*t17 + 3) + 1/(2*sqrt(t17 + 4))\n",
      "Output function ,4th Block, (Upper Crest), Layer 17: 25*t17**8*exp(t17**5) - 81*t17**4*sin(3*t17**3) + 20*t17**3*exp(t17**5) + 18*t17*cos(3*t17**3) - 16/(4*t17 + 3)**2 - 1/(4*(t17 + 4)**(3/2))\n"
     ]
    }
   ],
   "source": [
    "t17=sm.symbols('t17')\n",
    "f_t17= sm.log(4 * t17 + 3) + sm.exp(t17**5) + sm.sqrt(t17 + 4) + sm.sin(3 * t17**3)\n",
    "d_f_t17=sm.diff(f_t17) # 5*t17**4*exp(t17**5) + 9*t17**2*cos(3*t17**3) + 4/(4*t17 + 3) + 1/(2*sqrt(t17 + 4))\n",
    "d_d_f_t17=sm.diff(d_f_t17) # 25*t17**8*exp(t17**5) - 81*t17**4*sin(3*t17**3) + 20*t17**3*exp(t17**5) + 18*t17*cos(3*t17**3) - 16/(4*t17 + 3)**2 - 1/(4*(t17 + 4)**(3/2))\n",
    "print(f'Input function ,4th Block, (Upper Crest), Layer 17: {d_f_t17}')\n",
    "print(f'Output function ,4th Block, (Upper Crest), Layer 17: {d_d_f_t17}')"
   ]
  },
  {
   "cell_type": "code",
   "execution_count": null,
   "id": "f7a2b660",
   "metadata": {},
   "outputs": [
    {
     "name": "stdout",
     "output_type": "stream",
     "text": [
      "Input function ,4th Block, (Upper Crest), Layer 18: 10*t18**4*sinh(2*t18**5) + 16*t18**3*(tan(4*t18**4)**2 + 1) + exp(t18 + 3) + 1/(t18 + 1)\n",
      "Output function ,4th Block, (Upper Crest), Layer 18: 100*t18**8*cosh(2*t18**5) + 512*t18**6*(tan(4*t18**4)**2 + 1)*tan(4*t18**4) + 40*t18**3*sinh(2*t18**5) + 48*t18**2*(tan(4*t18**4)**2 + 1) + exp(t18 + 3) - 1/(t18 + 1)**2\n"
     ]
    }
   ],
   "source": [
    "t18=sm.symbols('t18')\n",
    "f_t18= sm.cosh(2 * t18**5) + sm.exp(t18 + 3) + sm.log(t18 + 1) + sm.tan(4 * t18**4)\n",
    "d_f_t18=sm.diff(f_t18) # 10*t18**4*sinh(2*t18**5) + 16*t18**3*(tan(4*t18**4)**2 + 1) + exp(t18 + 3) + 1/(t18 + 1)\n",
    "d_d_f_t18=sm.diff(d_f_t18) # 100*t18**8*cosh(2*t18**5) + 512*t18**6*(tan(4*t18**4)**2 + 1)*tan(4*t18**4) + 40*t18**3*sinh(2*t18**5) + 48*t18**2*(tan(4*t18**4)**2 + 1) + exp(t18 + 3) - 1/(t18 + 1)**2\n",
    "print(f'Input function ,4th Block, (Upper Crest), Layer 18: {d_f_t18}')\n",
    "print(f'Output function ,4th Block, (Upper Crest), Layer 18: {d_d_f_t18}')"
   ]
  },
  {
   "cell_type": "code",
   "execution_count": null,
   "id": "5f661114",
   "metadata": {},
   "outputs": [
    {
     "name": "stdout",
     "output_type": "stream",
     "text": [
      "Input function ,4th Block, (Upper Crest), Layer 19: 5*t19**4*cos(t19**5) + 3*t19**2/(t19**3 + 2) + 3*exp(3*t19 + 4) + 1/(2*sqrt(t19 + 3))\n",
      "Output function ,4th Block, (Upper Crest), Layer 19: -25*t19**8*sin(t19**5) - 9*t19**4/(t19**3 + 2)**2 + 20*t19**3*cos(t19**5) + 6*t19/(t19**3 + 2) + 9*exp(3*t19 + 4) - 1/(4*(t19 + 3)**(3/2))\n"
     ]
    }
   ],
   "source": [
    "t19=sm.symbols('t19')\n",
    "f_t19= sm.exp(3 * t19 + 4) + sm.sin(t19**5) + sm.sqrt(t19 + 3) + sm.log(t19**3 + 2)\n",
    "d_f_t19=sm.diff(f_t19) # 5*t19**4*cos(t19**5) + 3*t19**2/(t19**3 + 2) + 3*exp(3*t19 + 4) + 1/(2*sqrt(t19 + 3))\n",
    "d_d_f_t19=sm.diff(d_f_t19) # -25*t19**8*sin(t19**5) - 9*t19**4/(t19**3 + 2)**2 + 20*t19**3*cos(t19**5) + 6*t19/(t19**3 + 2) + 9*exp(3*t19 + 4) - 1/(4*(t19 + 3)**(3/2))\n",
    "print(f'Input function ,4th Block, (Upper Crest), Layer 19: {d_f_t19}')\n",
    "print(f'Output function ,4th Block, (Upper Crest), Layer 19: {d_d_f_t19}')"
   ]
  },
  {
   "cell_type": "code",
   "execution_count": null,
   "id": "57a36dff",
   "metadata": {},
   "outputs": [
    {
     "name": "stdout",
     "output_type": "stream",
     "text": [
      "Input function ,4th Block, (Upper Crest), Layer 20: 4*t20**3*(tan(t20**4)**2 + 1) + 2*exp(2*t20 + 5) + sinh(t20 + 1) + 3/t20\n",
      "Output function ,4th Block, (Upper Crest), Layer 20: 32*t20**6*(tan(t20**4)**2 + 1)*tan(t20**4) + 12*t20**2*(tan(t20**4)**2 + 1) + 4*exp(2*t20 + 5) + cosh(t20 + 1) - 3/t20**2\n"
     ]
    }
   ],
   "source": [
    "t20=sm.symbols('t20')\n",
    "f_t20= sm.tan(t20**4) + sm.exp(2 * t20 + 5) + sm.cosh(t20 + 1) + sm.log(t20**3) \t\n",
    "d_f_t20=sm.diff(f_t20) # 4*t20**3*(tan(t20**4)**2 + 1) + 2*exp(2*t20 + 5) + sinh(t20 + 1) + 3/t20\n",
    "d_d_f_t20=sm.diff(d_f_t20) # 32*t20**6*(tan(t20**4)**2 + 1)*tan(t20**4) + 12*t20**2*(tan(t20**4)**2 + 1) + 4*exp(2*t20 + 5) + cosh(t20 + 1) - 3/t20**2\n",
    "print(f'Input function ,4th Block, (Upper Crest), Layer 20: {d_f_t20}')\n",
    "print(f'Output function ,4th Block, (Upper Crest), Layer 20: {d_d_f_t20}')"
   ]
  },
  {
   "cell_type": "code",
   "execution_count": null,
   "id": "e7a9699c",
   "metadata": {},
   "outputs": [
    {
     "name": "stdout",
     "output_type": "stream",
     "text": [
      "Input function ,4th Block, (Upper Crest), Layer 21: 3*t21**2/sqrt(2*t21**3 + 1) + 3*exp(3*t21 + 4) + cos(t21 + 5) + 4/t21\n",
      "Output function ,4th Block, (Upper Crest), Layer 21: -9*t21**4/(2*t21**3 + 1)**(3/2) + 6*t21/sqrt(2*t21**3 + 1) + 9*exp(3*t21 + 4) - sin(t21 + 5) - 4/t21**2\n"
     ]
    }
   ],
   "source": [
    "t21=sm.symbols('t21')   \n",
    "f_t21= sm.log(t21**4) + sm.exp(3 * t21 + 4) + sm.sin(t21 + 5) + sm.sqrt(2 * t21**3 + 1)\n",
    "d_f_t21=sm.diff(f_t21) # 3*t21**2/sqrt(2*t21**3 + 1) + 3*exp(3*t21 + 4) + cos(t21 + 5) + 4/t21\n",
    "d_d_f_t21=sm.diff(d_f_t21) # -9*t21**4/(2*t21**3 + 1)**(3/2) + 6*t21/sqrt(2*t21**3 + 1) + 9*exp(3*t21 + 4) - sin(t21 + 5) - 4/t21**2\n",
    "print(f'Input function ,4th Block, (Upper Crest), Layer 21: {d_f_t21}')\n",
    "print(f'Output function ,4th Block, (Upper Crest), Layer 21: {d_d_f_t21}')\n"
   ]
  },
  {
   "cell_type": "code",
   "execution_count": null,
   "id": "e1f8e0f5",
   "metadata": {},
   "outputs": [
    {
     "name": "stdout",
     "output_type": "stream",
     "text": [
      "Input function ,4th Block, (Upper Crest), Layer 22: 5*t22**4*sinh(t22**5) + exp(t22 + 2) + 3/(3*t22 + 1) + 2*sqrt(t22**4)/t22\n",
      "Output function ,4th Block, (Upper Crest), Layer 22: 25*t22**8*cosh(t22**5) + 20*t22**3*sinh(t22**5) + exp(t22 + 2) - 9/(3*t22 + 1)**2 + 2*sqrt(t22**4)/t22**2\n"
     ]
    }
   ],
   "source": [
    "t22=sm.symbols('t22')\n",
    "f_t22= sm.cosh(t22**5) + sm.exp(t22 + 2) + sm.sqrt(t22**4) + sm.log(3 * t22 + 1) \n",
    "d_f_t22=sm.diff(f_t22) # 5*t22**4*sinh(t22**5) + exp(t22 + 2) + 3/(3*t22 + 1) + 2*sqrt(t22**4)/t22\n",
    "d_d_f_t22=sm.diff(d_f_t22) # 25*t22**8*cosh(t22**5) + 20*t22**3*sinh(t22**5) + exp(t22 + 2) - 9/(3*t22 + 1)**2 + 2*sqrt(t22**4)/t22**2\n",
    "print(f'Input function ,4th Block, (Upper Crest), Layer 22: {d_f_t22}')\n",
    "print(f'Output function ,47th Block, (Upper Crest), Layer 22: {d_d_f_t22}')"
   ]
  },
  {
   "cell_type": "code",
   "execution_count": null,
   "id": "9eaa4c2a",
   "metadata": {},
   "outputs": [
    {
     "name": "stdout",
     "output_type": "stream",
     "text": [
      "Input function ,4th Block, (Upper Crest), Layer 23: 16*t23**3*cos(4*t23**4) + exp(t23 + 5) + 1/(t23 + 2) + 3*sqrt(2)*sqrt(t23**3)/(2*t23)\n",
      "Output function ,4th Block, (Upper Crest), Layer 23: -256*t23**6*sin(4*t23**4) + 48*t23**2*cos(4*t23**4) + exp(t23 + 5) - 1/(t23 + 2)**2 + 3*sqrt(2)*sqrt(t23**3)/(4*t23**2)\n"
     ]
    }
   ],
   "source": [
    "t23=sm.symbols('t23')\n",
    "f_t23= sm.sin(4 * t23**4) + sm.exp(t23 + 5) + sm.log(t23 + 2) + sm.sqrt(2 * t23**3)\n",
    "d_f_t23=sm.diff(f_t23) # 16*t23**3*cos(4*t23**4) + exp(t23 + 5) + 1/(t23 + 2) + 3*sqrt(2)*sqrt(t23**3)/(2*t23)\n",
    "d_d_f_t23=sm.diff(d_f_t23) # -256*t23**6*sin(4*t23**4) + 48*t23**2*cos(4*t23**4) + exp(t23 + 5) - 1/(t23 + 2)**2 + 3*sqrt(2)*sqrt(t23**3)/(4*t23**2) \n",
    "print(f'Input function ,4th Block, (Upper Crest), Layer 23: {d_f_t23}')\n",
    "print(f'Output function ,4th Block, (Upper Crest), Layer 23: {d_d_f_t23}')\n"
   ]
  },
  {
   "cell_type": "code",
   "execution_count": null,
   "metadata": {},
   "outputs": [
    {
     "name": "stdout",
     "output_type": "stream",
     "text": [
      "Input function ,4th Block, (Upper Crest), Layer 24: 5*t24**4*exp(t24**5) + 3*t24**2*(tan(t24**3 + 1)**2 + 1) + 3*sinh(3*t24) + 4/t24\n",
      "Output function ,4th Block, (Upper Crest), Layer 24: 25*t24**8*exp(t24**5) + 18*t24**4*(tan(t24**3 + 1)**2 + 1)*tan(t24**3 + 1) + 20*t24**3*exp(t24**5) + 6*t24*(tan(t24**3 + 1)**2 + 1) + 9*cosh(3*t24) - 4/t24**2\n"
     ]
    }
   ],
   "source": [
    "t24=sm.symbols('t24')\n",
    "f_t24= sm.exp(t24**5) + sm.cosh(3 * t24) + sm.tan(t24**3 + 1) + sm.log(4 * t24**4)\n",
    "d_f_t24=sm.diff(f_t24) # 5*t24**4*exp(t24**5) + 3*t24**2*(tan(t24**3 + 1)**2 + 1) + 3*sinh(3*t24) + 4/t24\n",
    "d_d_f_t24=sm.diff(d_f_t24) # 25*t24**8*exp(t24**5) + 18*t24**4*(tan(t24**3 + 1)**2 + 1)*tan(t24**3 + 1) + 20*t24**3*exp(t24**5) + 6*t24*(tan(t24**3 + 1)**2 + 1) + 9*cosh(3*t24) - 4/t24**2\n",
    "print(f'Input function ,4th Block, (Upper Crest), Layer 24: {d_f_t24}')\n",
    "print(f'Output function ,4th Block, (Upper Crest), Layer 24: {d_d_f_t24}')"
   ]
  },
  {
   "cell_type": "code",
   "execution_count": null,
   "id": "ca18ee5a",
   "metadata": {},
   "outputs": [
    {
     "name": "stdout",
     "output_type": "stream",
     "text": [
      "Input function ,4th Block, (Upper Crest), Layer 25: 20*t25**4*cos(4*t25**5) + 6*t25*exp(3*t25**2) + 1/(t25 + 3) + 2*sqrt(t25**4)/t25\n",
      "Output function ,4th Block, (Upper Crest), Layer 25: -400*t25**8*sin(4*t25**5) + 80*t25**3*cos(4*t25**5) + 36*t25**2*exp(3*t25**2) + 6*exp(3*t25**2) - 1/(t25 + 3)**2 + 2*sqrt(t25**4)/t25**2\n"
     ]
    }
   ],
   "source": [
    "t25=sm.symbols('t25')\n",
    "f_t25= sm.sqrt(t25**4) + sm.exp(3 * t25**2) + sm.sin(4 * t25**5) + sm.log(t25 + 3)\n",
    "d_f_t25=sm.diff(f_t25) # 20*t25**4*cos(4*t25**5) + 6*t25*exp(3*t25**2) + 1/(t25 + 3) + 2*sqrt(t25**4)/t25\n",
    "d_d_f_t25=sm.diff(d_f_t25) # -400*t25**8*sin(4*t25**5) + 80*t25**3*cos(4*t25**5) + 36*t25**2*exp(3*t25**2) + 6*exp(3*t25**2) - 1/(t25 + 3)**2 + 2*sqrt(t25**4)/t25**2\n",
    "print(f'Input function ,4th Block, (Upper Crest), Layer 25: {d_f_t25}')\n",
    "print(f'Output function ,4th Block, (Upper Crest), Layer 25: {d_d_f_t25}')"
   ]
  },
  {
   "cell_type": "code",
   "execution_count": null,
   "metadata": {},
   "outputs": [
    {
     "name": "stdout",
     "output_type": "stream",
     "text": [
      "Input function ,4th Block, (Upper Crest), Layer 26: 4*t26**3/(t26**4 + 1) + 12*t26**2*exp(4*t26**3) + sinh(t26 + 5) + sqrt(3)/(2*sqrt(t26))\n",
      "Output function ,4th Block, (Upper Crest), Layer 26: -16*t26**6/(t26**4 + 1)**2 + 144*t26**4*exp(4*t26**3) + 12*t26**2/(t26**4 + 1) + 24*t26*exp(4*t26**3) + cosh(t26 + 5) - sqrt(3)/(4*t26**(3/2))\n"
     ]
    }
   ],
   "source": [
    "t26=sm.symbols('t26')\n",
    "f_t26= sm.exp(4 * t26**3) + sm.cosh(t26 + 5) + sm.log(t26**4 + 1) + sm.sqrt(3 * t26)\n",
    "d_f_t26=sm.diff(f_t26) # 4*t26**3/(t26**4 + 1) + 12*t26**2*exp(4*t26**3) + sinh(t26 + 5) + sqrt(3)/(2*sqrt(t26))\n",
    "d_d_f_t26=sm.diff(d_f_t26) # -16*t26**6/(t26**4 + 1)**2 + 144*t26**4*exp(4*t26**3) + 12*t26**2/(t26**4 + 1) + 24*t26*exp(4*t26**3) + cosh(t26 + 5) - sqrt(3)/(4*t26**(3/2))\n",
    "print(f'Input function ,4th Block, (Upper Crest), Layer 26: {d_f_t26}')\n",
    "print(f'Output function ,4th Block, (Upper Crest), Layer 26: {d_d_f_t26}')"
   ]
  },
  {
   "cell_type": "code",
   "execution_count": null,
   "id": "e7c46d84",
   "metadata": {},
   "outputs": [
    {
     "name": "stdout",
     "output_type": "stream",
     "text": [
      "Input function ,4th Block, (Upper Crest), Layer 27: 5*t27**4*cos(t27**5 + 2) + 8*t27/(4*t27**2 + 1) + exp(t27 + 3) + sinh(t27 + 4)\n",
      "Output function ,4th Block, (Upper Crest), Layer 27: -25*t27**8*sin(t27**5 + 2) + 20*t27**3*cos(t27**5 + 2) - 64*t27**2/(4*t27**2 + 1)**2 + exp(t27 + 3) + cosh(t27 + 4) + 8/(4*t27**2 + 1)\n"
     ]
    }
   ],
   "source": [
    "t27=sm.symbols('t27')   \n",
    "f_t27= sm.sin(t27**5 + 2) + sm.exp(t27 + 3) + sm.cosh(t27 + 4) + sm.log(4 * t27**2 + 1)\n",
    "d_f_t27=sm.diff(f_t27) # 5*t27**4*cos(t27**5 + 2) + 8*t27/(4*t27**2 + 1) + exp(t27 + 3) + sinh(t27 + 4)\n",
    "d_d_f_t27=sm.diff(d_f_t27) #-25*t27**8*sin(t27**5 + 2) + 20*t27**3*cos(t27**5 + 2) - 64*t27**2/(4*t27**2 + 1)**2 + exp(t27 + 3) + cosh(t27 + 4) + 8/(4*t27**2 + 1)\n",
    "print(f'Input function ,4th Block, (Upper Crest), Layer 27: {d_f_t27}')\n",
    "print(f'Output function ,4th Block, (Upper Crest), Layer 27: {d_d_f_t27}')"
   ]
  },
  {
   "cell_type": "code",
   "execution_count": null,
   "metadata": {},
   "outputs": [
    {
     "name": "stdout",
     "output_type": "stream",
     "text": [
      "Input function ,4th Block, (Upper Crest), Layer 28: 5*t28**4/(2*sqrt(t28**5 + 1)) + 4*t28**3/(t28**4 + 2) + exp(t28 + 3) - 4*tanh(4*t28)**2 + 4\n",
      "Output function ,4th Block, (Upper Crest), Layer 28: -25*t28**8/(4*(t28**5 + 1)**(3/2)) - 16*t28**6/(t28**4 + 2)**2 + 10*t28**3/sqrt(t28**5 + 1) + 12*t28**2/(t28**4 + 2) - 4*(8 - 8*tanh(4*t28)**2)*tanh(4*t28) + exp(t28 + 3)\n"
     ]
    }
   ],
   "source": [
    "t28=sm.symbols('t28')\n",
    "f_t28= sm.tanh(4 * t28) + sm.exp(t28 + 3) + sm.sqrt(t28**5 + 1) + sm.log(t28**4 + 2) \n",
    "d_f_t28=sm.diff(f_t28) # 5*t28**4/(2*sqrt(t28**5 + 1)) + 4*t28**3/(t28**4 + 2) + exp(t28 + 3) - 4*tanh(4*t28)**2 + 4\n",
    "d_d_f_t28=sm.diff(d_f_t28) # -25*t28**8/(4*(t28**5 + 1)**(3/2)) - 16*t28**6/(t28**4 + 2)**2 + 10*t28**3/sqrt(t28**5 + 1) + 12*t28**2/(t28**4 + 2) - 4*(8 - 8*tanh(4*t28)**2)*tanh(4*t28) + exp(t28 + 3)\n",
    "print(f'Input function ,4th Block, (Upper Crest), Layer 28: {d_f_t28}')\n",
    "print(f'Output function ,4th Block, (Upper Crest), Layer 28: {d_d_f_t28}')"
   ]
  },
  {
   "cell_type": "code",
   "execution_count": null,
   "id": "8c6a3c54",
   "metadata": {},
   "outputs": [
    {
     "name": "stdout",
     "output_type": "stream",
     "text": [
      "Input function ,4th Block, (Upper Crest), Layer 29: 15*t29**4*exp(3*t29**5) + 12*t29**2*cos(4*t29**3) + 2*t29/(t29**2 + 3) + sinh(t29 + 4)\n",
      "Output function ,4th Block, (Upper Crest), Layer 29: 225*t29**8*exp(3*t29**5) - 144*t29**4*sin(4*t29**3) + 60*t29**3*exp(3*t29**5) - 4*t29**2/(t29**2 + 3)**2 + 24*t29*cos(4*t29**3) + cosh(t29 + 4) + 2/(t29**2 + 3)\n"
     ]
    }
   ],
   "source": [
    "t29=sm.symbols('t29')\n",
    "f_t29= sm.exp(3 * t29**5) + sm.cosh(t29 + 4) + sm.log(t29**2 + 3) + sm.sin(4 * t29**3)\n",
    "d_f_t29=sm.diff(f_t29) # 15*t29**4*exp(3*t29**5) + 12*t29**2*cos(4*t29**3) + 2*t29/(t29**2 + 3) + sinh(t29 + 4)\n",
    "d_d_f_t29=sm.diff(d_f_t29) # 225*t29**8*exp(3*t29**5) - 144*t29**4*sin(4*t29**3) + 60*t29**3*exp(3*t29**5) - 4*t29**2/(t29**2 + 3)**2 + 24*t29*cos(4*t29**3) + cosh(t29 + 4) + 2/(t29**2 + 3)\n",
    "print(f'Input function ,4th Block, (Upper Crest), Layer 29: {d_f_t29}')\n",
    "print(f'Output function ,4th Block, (Upper Crest), Layer 29: {d_d_f_t29}')"
   ]
  },
  {
   "cell_type": "code",
   "execution_count": null,
   "metadata": {},
   "outputs": [
    {
     "name": "stdout",
     "output_type": "stream",
     "text": [
      "Input function ,4th Block, (Upper Crest), Layer 30: 4*t30**3*sinh(t30**4) + exp(t30 + 5) + 4/(4*t30 + 2) + 3/(2*sqrt(3*t30 + 1))\n",
      "Output function ,4th Block, (Upper Crest), Layer 30: 16*t30**6*cosh(t30**4) + 12*t30**2*sinh(t30**4) + exp(t30 + 5) - 16/(4*t30 + 2)**2 - 9/(4*(3*t30 + 1)**(3/2))\n"
     ]
    }
   ],
   "source": [
    "t30=sm.symbols('t30')\n",
    "f_t30= sm.sqrt(3 * t30 + 1) + sm.exp(t30 + 5) + sm.cosh(t30**4) + sm.log(4 * t30 + 2)\n",
    "d_f_t30=sm.diff(f_t30) # 4*t30**3*sinh(t30**4) + exp(t30 + 5) + 4/(4*t30 + 2) + 3/(2*sqrt(3*t30 + 1))\n",
    "d_d_f_t30=sm.diff(d_f_t30) # 16*t30**6*cosh(t30**4) + 12*t30**2*sinh(t30**4) + exp(t30 + 5) - 16/(4*t30 + 2)**2 - 9/(4*(3*t30 + 1)**(3/2))\n",
    "print(f'Input function ,4th Block, (Upper Crest), Layer 30: {d_f_t30}')\n",
    "print(f'Output function ,4th Block, (Upper Crest), Layer 30: {d_d_f_t30}')"
   ]
  },
  {
   "cell_type": "code",
   "execution_count": null,
   "metadata": {},
   "outputs": [],
   "source": []
  },
  {
   "cell_type": "code",
   "execution_count": null,
   "id": "3421c5db",
   "metadata": {},
   "outputs": [],
   "source": []
  }
 ],
 "metadata": {
  "kernelspec": {
   "display_name": "Python 3",
   "language": "python",
   "name": "python3"
  },
  "language_info": {
   "codemirror_mode": {
    "name": "ipython",
    "version": 3
   },
   "file_extension": ".py",
   "mimetype": "text/x-python",
   "name": "python",
   "nbconvert_exporter": "python",
   "pygments_lexer": "ipython3",
   "version": "3.11.9"
  }
 },
 "nbformat": 4,
 "nbformat_minor": 5
}
